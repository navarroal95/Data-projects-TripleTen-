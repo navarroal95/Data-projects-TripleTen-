{
 "cells": [
  {
   "cell_type": "markdown",
   "metadata": {},
   "source": [
    "# Optimizing Used Car Pricing: A Machine Learning Solution for Rusty Bargain"
   ]
  },
  {
   "cell_type": "markdown",
   "metadata": {},
   "source": [
    "Rusty Bargain used car sales service is developing an app to attract new customers. In that app, you can quickly find out the market value of your car. You have access to historical data: technical specifications, trim versions, and prices. You need to build the model to determine the value. \n",
    "\n",
    "Rusty Bargain is interested in:\n",
    "\n",
    "- the quality of the prediction;\n",
    "- the speed of the prediction;\n",
    "- the time required for training"
   ]
  },
  {
   "cell_type": "markdown",
   "metadata": {},
   "source": [
    "# Introduction"
   ]
  },
  {
   "cell_type": "markdown",
   "metadata": {},
   "source": [
    "In today’s competitive used car market, accurate pricing is essential for attracting potential buyers while ensuring fair value for sellers. Rusty Bargain, a used car sales service, is developing an app to predict the market value of vehicles based on historical data, enabling users to quickly assess the worth of their cars. This project involves building and evaluating machine learning models to predict car prices using a range of technical specifications and attributes. By comparing multiple models, including Linear Regression, Decision Tree, Random Forest, and LightGBM, this analysis aims to identify the best approach in terms of prediction accuracy, training speed, and computational efficiency. The insights gained will help Rusty Bargain deploy an efficient, data-driven pricing tool to improve user experience and streamline the buying and selling process."
   ]
  },
  {
   "cell_type": "markdown",
   "metadata": {},
   "source": [
    "## Data preparation"
   ]
  },
  {
   "cell_type": "markdown",
   "metadata": {},
   "source": [
    "We start by importing the necessary libraries. "
   ]
  },
  {
   "cell_type": "code",
   "execution_count": 1,
   "metadata": {},
   "outputs": [],
   "source": [
    "import pandas as pd\n",
    "import numpy as np\n",
    "from sklearn.model_selection import train_test_split\n",
    "from sklearn.preprocessing import LabelEncoder, StandardScaler, MaxAbsScaler\n",
    "from sklearn.linear_model import LinearRegression\n",
    "from sklearn.tree import DecisionTreeRegressor\n",
    "from sklearn.ensemble import RandomForestRegressor, GradientBoostingRegressor\n",
    "from sklearn.metrics import mean_squared_error\n",
    "import time\n",
    "from lightgbm import LGBMRegressor\n",
    "\n"
   ]
  },
  {
   "cell_type": "markdown",
   "metadata": {},
   "source": [
    "This code cell performs essential data exploration and cleaning steps on the used car dataset. First, it loads the data and displays its structure and data types to understand the dataset’s composition. Next, it checks for any missing values and duplicate rows, reporting the counts for each. If duplicate rows are present, they are removed. The cell then provides a statistical summary of numerical columns to help identify data distributions and potential outliers, followed by a sample of rows to gain a quick overview of the dataset's content. This preliminary exploration helps ensure data quality before further analysis."
   ]
  },
  {
   "cell_type": "code",
   "execution_count": 2,
   "metadata": {},
   "outputs": [
    {
     "name": "stdout",
     "output_type": "stream",
     "text": [
      "Initial Data Info:\n",
      "<class 'pandas.core.frame.DataFrame'>\n",
      "RangeIndex: 354369 entries, 0 to 354368\n",
      "Data columns (total 16 columns):\n",
      " #   Column             Non-Null Count   Dtype \n",
      "---  ------             --------------   ----- \n",
      " 0   DateCrawled        354369 non-null  object\n",
      " 1   Price              354369 non-null  int64 \n",
      " 2   VehicleType        316879 non-null  object\n",
      " 3   RegistrationYear   354369 non-null  int64 \n",
      " 4   Gearbox            334536 non-null  object\n",
      " 5   Power              354369 non-null  int64 \n",
      " 6   Model              334664 non-null  object\n",
      " 7   Mileage            354369 non-null  int64 \n",
      " 8   RegistrationMonth  354369 non-null  int64 \n",
      " 9   FuelType           321474 non-null  object\n",
      " 10  Brand              354369 non-null  object\n",
      " 11  NotRepaired        283215 non-null  object\n",
      " 12  DateCreated        354369 non-null  object\n",
      " 13  NumberOfPictures   354369 non-null  int64 \n",
      " 14  PostalCode         354369 non-null  int64 \n",
      " 15  LastSeen           354369 non-null  object\n",
      "dtypes: int64(7), object(9)\n",
      "memory usage: 43.3+ MB\n",
      "None\n",
      "\n",
      "Missing Values:\n",
      "DateCrawled              0\n",
      "Price                    0\n",
      "VehicleType          37490\n",
      "RegistrationYear         0\n",
      "Gearbox              19833\n",
      "Power                    0\n",
      "Model                19705\n",
      "Mileage                  0\n",
      "RegistrationMonth        0\n",
      "FuelType             32895\n",
      "Brand                    0\n",
      "NotRepaired          71154\n",
      "DateCreated              0\n",
      "NumberOfPictures         0\n",
      "PostalCode               0\n",
      "LastSeen                 0\n",
      "dtype: int64\n",
      "\n",
      "Duplicate Rows: 262\n",
      "\n",
      "Summary Statistics:\n",
      "               Price  RegistrationYear          Power        Mileage  \\\n",
      "count  354107.000000     354107.000000  354107.000000  354107.000000   \n",
      "mean     4416.433287       2004.235355     110.089651  128211.811684   \n",
      "std      4514.338584         90.261168     189.914972   37906.590101   \n",
      "min         0.000000       1000.000000       0.000000    5000.000000   \n",
      "25%      1050.000000       1999.000000      69.000000  125000.000000   \n",
      "50%      2700.000000       2003.000000     105.000000  150000.000000   \n",
      "75%      6400.000000       2008.000000     143.000000  150000.000000   \n",
      "max     20000.000000       9999.000000   20000.000000  150000.000000   \n",
      "\n",
      "       RegistrationMonth  NumberOfPictures     PostalCode  \n",
      "count      354107.000000          354107.0  354107.000000  \n",
      "mean            5.714182               0.0   50507.145030  \n",
      "std             3.726682               0.0   25784.212094  \n",
      "min             0.000000               0.0    1067.000000  \n",
      "25%             3.000000               0.0   30165.000000  \n",
      "50%             6.000000               0.0   49406.000000  \n",
      "75%             9.000000               0.0   71083.000000  \n",
      "max            12.000000               0.0   99998.000000  \n",
      "\n",
      "Sample Rows:\n",
      "        DateCrawled  Price VehicleType  RegistrationYear Gearbox  Power  \\\n",
      "0  24/03/2016 11:52    480         NaN              1993  manual      0   \n",
      "1  24/03/2016 10:58  18300       coupe              2011  manual    190   \n",
      "2  14/03/2016 12:52   9800         suv              2004    auto    163   \n",
      "3  17/03/2016 16:54   1500       small              2001  manual     75   \n",
      "4  31/03/2016 17:25   3600       small              2008  manual     69   \n",
      "\n",
      "   Model  Mileage  RegistrationMonth  FuelType       Brand NotRepaired  \\\n",
      "0   golf   150000                  0    petrol  volkswagen         NaN   \n",
      "1    NaN   125000                  5  gasoline        audi         yes   \n",
      "2  grand   125000                  8  gasoline        jeep         NaN   \n",
      "3   golf   150000                  6    petrol  volkswagen          no   \n",
      "4  fabia    90000                  7  gasoline       skoda          no   \n",
      "\n",
      "        DateCreated  NumberOfPictures  PostalCode          LastSeen  \n",
      "0  24/03/2016 00:00                 0       70435  07/04/2016 03:16  \n",
      "1  24/03/2016 00:00                 0       66954  07/04/2016 01:46  \n",
      "2  14/03/2016 00:00                 0       90480  05/04/2016 12:47  \n",
      "3  17/03/2016 00:00                 0       91074  17/03/2016 17:40  \n",
      "4  31/03/2016 00:00                 0       60437  06/04/2016 10:17  \n"
     ]
    }
   ],
   "source": [
    "df = pd.read_csv('/datasets/car_data.csv')\n",
    "\n",
    "\n",
    "print(\"Initial Data Info:\")\n",
    "print(df.info())\n",
    "\n",
    "\n",
    "print(\"\\nMissing Values:\")\n",
    "print(df.isnull().sum())\n",
    "\n",
    "\n",
    "print(\"\\nDuplicate Rows:\", df.duplicated().sum())\n",
    "\n",
    "\n",
    "df = df.drop_duplicates()\n",
    "\n",
    "\n",
    "print(\"\\nSummary Statistics:\")\n",
    "print(df.describe())\n",
    "\n",
    "\n",
    "print(\"\\nSample Rows:\")\n",
    "print(df.head())\n"
   ]
  },
  {
   "cell_type": "markdown",
   "metadata": {},
   "source": [
    "\n",
    "This code cell continues the data preparation process by addressing duplicate and missing values. It first removes any duplicate rows to ensure data uniqueness and prints the new dataset shape. For categorical columns with missing values, such as VehicleType and FuelType, missing entries are replaced with \"Unknown\" to retain all records without imputing potentially misleading values. For the numerical Power column, zeros (which may be invalid) and missing values are replaced with the column’s median to provide a realistic default. Finally, it verifies that all missing values have been handled, preparing the data for further analysis.\n"
   ]
  },
  {
   "cell_type": "code",
   "execution_count": 3,
   "metadata": {},
   "outputs": [
    {
     "name": "stdout",
     "output_type": "stream",
     "text": [
      "Duplicates removed. New shape: (354107, 16)\n",
      "\n",
      "Missing Values After Handling:\n",
      "DateCrawled          0\n",
      "Price                0\n",
      "VehicleType          0\n",
      "RegistrationYear     0\n",
      "Gearbox              0\n",
      "Power                0\n",
      "Model                0\n",
      "Mileage              0\n",
      "RegistrationMonth    0\n",
      "FuelType             0\n",
      "Brand                0\n",
      "NotRepaired          0\n",
      "DateCreated          0\n",
      "NumberOfPictures     0\n",
      "PostalCode           0\n",
      "LastSeen             0\n",
      "dtype: int64\n"
     ]
    }
   ],
   "source": [
    "df = df.drop_duplicates()\n",
    "print(\"Duplicates removed. New shape:\", df.shape)\n",
    "\n",
    "\n",
    "categorical_cols = ['VehicleType', 'Gearbox', 'Model', 'FuelType', 'NotRepaired']\n",
    "for col in categorical_cols:\n",
    "    df[col].fillna('Unknown', inplace=True)\n",
    "\n",
    "\n",
    "df['Power'] = df['Power'].replace(0, np.nan)  \n",
    "df['Power'].fillna(df['Power'].median(), inplace=True)\n",
    "\n",
    "print(\"\\nMissing Values After Handling:\")\n",
    "print(df.isnull().sum())\n"
   ]
  },
  {
   "cell_type": "markdown",
   "metadata": {},
   "source": [
    "## Model training"
   ]
  },
  {
   "cell_type": "markdown",
   "metadata": {},
   "source": [
    "\n",
    "This code cell prepares the data and trains a Linear Regression model to predict car prices. First, it selects relevant features, excluding non-numeric and unnecessary columns, and applies one-hot encoding to convert categorical features into numeric format. The data is then split into training and testing sets, and the model is trained on the training data. Finally, predictions are made on the test set, and the model's accuracy is assessed using RMSE, yielding a result of approximately 3349.52. This value provides an indication of the model's prediction accuracy, with lower RMSE values representing better performance."
   ]
  },
  {
   "cell_type": "code",
   "execution_count": 4,
   "metadata": {},
   "outputs": [
    {
     "name": "stdout",
     "output_type": "stream",
     "text": [
      "Linear Regression RMSE: 3349.52\n"
     ]
    }
   ],
   "source": [
    "X = df.drop(['Price', 'DateCrawled', 'DateCreated', 'LastSeen', 'PostalCode', 'Model'], axis=1)\n",
    "y = df['Price']\n",
    "\n",
    "X = pd.get_dummies(X, drop_first=True)  \n",
    "\n",
    "X_train, X_test, y_train, y_test = train_test_split(X, y, test_size=0.3, random_state=42)\n",
    "\n",
    "\n",
    "lin_reg = LinearRegression()\n",
    "lin_reg.fit(X_train, y_train)\n",
    "\n",
    "\n",
    "y_pred = lin_reg.predict(X_test)\n",
    "\n",
    "\n",
    "rmse = np.sqrt(mean_squared_error(y_test, y_pred))\n",
    "print(f'Linear Regression RMSE: {rmse:.2f}')\n"
   ]
  },
  {
   "cell_type": "markdown",
   "metadata": {},
   "source": [
    "This code cell trains a Decision Tree Regression model to predict car prices. After fitting the model on the training data, predictions are made on the test set, and the model's accuracy is evaluated using the RMSE metric. The resulting RMSE for the Decision Tree model is 2272.99, indicating the average error in the predicted car prices. This value is significantly lower than the Linear Regression model's RMSE, suggesting that the Decision Tree model may perform better for this dataset."
   ]
  },
  {
   "cell_type": "code",
   "execution_count": 5,
   "metadata": {},
   "outputs": [
    {
     "name": "stdout",
     "output_type": "stream",
     "text": [
      "Decision Tree RMSE: 2272.99\n"
     ]
    }
   ],
   "source": [
    "tree_reg = DecisionTreeRegressor(random_state=42)\n",
    "tree_reg.fit(X_train, y_train)\n",
    "\n",
    "\n",
    "y_pred_tree = tree_reg.predict(X_test)\n",
    "\n",
    "\n",
    "rmse_tree = np.sqrt(mean_squared_error(y_test, y_pred_tree))\n",
    "print(f'Decision Tree RMSE: {rmse_tree:.2f}')\n"
   ]
  },
  {
   "cell_type": "markdown",
   "metadata": {},
   "source": [
    "\n",
    "In this code cell, a Random Forest Regression model is trained to predict car prices, using 100 trees in the ensemble. After training on the X_train and y_train data, the model makes predictions on the test set (X_test). The model's accuracy is assessed using the RMSE metric, which calculates an error of 1794.22. This RMSE is notably lower than both the Linear Regression and Decision Tree models, suggesting that the Random Forest model provides a more accurate prediction for this dataset."
   ]
  },
  {
   "cell_type": "code",
   "execution_count": 6,
   "metadata": {},
   "outputs": [
    {
     "name": "stdout",
     "output_type": "stream",
     "text": [
      "Random Forest RMSE: 1794.22\n"
     ]
    }
   ],
   "source": [
    "forest_reg = RandomForestRegressor(random_state=42, n_estimators=100)\n",
    "forest_reg.fit(X_train, y_train)\n",
    "\n",
    "\n",
    "y_pred_forest = forest_reg.predict(X_test)\n",
    "\n",
    "rmse_forest = np.sqrt(mean_squared_error(y_test, y_pred_forest))\n",
    "print(f'Random Forest RMSE: {rmse_forest:.2f}')\n"
   ]
  },
  {
   "cell_type": "markdown",
   "metadata": {},
   "source": [
    "\n",
    "In this code cell, a LightGBM Regression model is applied to predict car prices with 100 boosting iterations. The model is trained on X_train and y_train and then used to predict prices for X_test. The model's performance is evaluated using RMSE, resulting in a score of 1882.59. This RMSE is lower than the Decision Tree model but slightly higher than the Random Forest model, indicating that LightGBM is effective in prediction but performs marginally less accurately than the Random Forest on this dataset."
   ]
  },
  {
   "cell_type": "code",
   "execution_count": 7,
   "metadata": {},
   "outputs": [
    {
     "name": "stdout",
     "output_type": "stream",
     "text": [
      "LightGBM RMSE: 1882.59\n"
     ]
    }
   ],
   "source": [
    "\n",
    "lgbm_reg = LGBMRegressor(random_state=42, n_estimators=100)\n",
    "lgbm_reg.fit(X_train, y_train)\n",
    "\n",
    "\n",
    "y_pred_lgbm = lgbm_reg.predict(X_test)\n",
    "\n",
    "\n",
    "rmse_lgbm = np.sqrt(mean_squared_error(y_test, y_pred_lgbm))\n",
    "print(f'LightGBM RMSE: {rmse_lgbm:.2f}')\n"
   ]
  },
  {
   "cell_type": "markdown",
   "metadata": {},
   "source": [
    "## Model analysis"
   ]
  },
  {
   "cell_type": "markdown",
   "metadata": {},
   "source": [
    "In this code cell, a helper function evaluate_model is used to measure and compare the performance of four models: Linear Regression, Decision Tree, Random Forest, and LightGBM. For each model, the function captures training time, prediction time, and calculates the RMSE based on predictions from X_test. The results show that the Random Forest model achieves the lowest RMSE (1794.22), indicating the best accuracy, though it has the highest training and prediction times. The Linear Regression model, while fast, has the highest RMSE, and LightGBM demonstrates a balance with competitive accuracy and faster prediction times than Random Forest."
   ]
  },
  {
   "cell_type": "code",
   "execution_count": 8,
   "metadata": {},
   "outputs": [
    {
     "data": {
      "text/html": [
       "<div>\n",
       "<style scoped>\n",
       "    .dataframe tbody tr th:only-of-type {\n",
       "        vertical-align: middle;\n",
       "    }\n",
       "\n",
       "    .dataframe tbody tr th {\n",
       "        vertical-align: top;\n",
       "    }\n",
       "\n",
       "    .dataframe thead th {\n",
       "        text-align: right;\n",
       "    }\n",
       "</style>\n",
       "<table border=\"1\" class=\"dataframe\">\n",
       "  <thead>\n",
       "    <tr style=\"text-align: right;\">\n",
       "      <th></th>\n",
       "      <th>Model</th>\n",
       "      <th>RMSE</th>\n",
       "      <th>Training Time (s)</th>\n",
       "      <th>Prediction Time (s)</th>\n",
       "    </tr>\n",
       "  </thead>\n",
       "  <tbody>\n",
       "    <tr>\n",
       "      <th>0</th>\n",
       "      <td>Linear Regression</td>\n",
       "      <td>3349.524577</td>\n",
       "      <td>1.313624</td>\n",
       "      <td>0.088403</td>\n",
       "    </tr>\n",
       "    <tr>\n",
       "      <th>1</th>\n",
       "      <td>Decision Tree</td>\n",
       "      <td>2272.994898</td>\n",
       "      <td>1.826055</td>\n",
       "      <td>0.062442</td>\n",
       "    </tr>\n",
       "    <tr>\n",
       "      <th>2</th>\n",
       "      <td>Random Forest</td>\n",
       "      <td>1794.220075</td>\n",
       "      <td>109.573451</td>\n",
       "      <td>3.926888</td>\n",
       "    </tr>\n",
       "    <tr>\n",
       "      <th>3</th>\n",
       "      <td>LightGBM</td>\n",
       "      <td>1882.585436</td>\n",
       "      <td>2.723067</td>\n",
       "      <td>0.601568</td>\n",
       "    </tr>\n",
       "  </tbody>\n",
       "</table>\n",
       "</div>"
      ],
      "text/plain": [
       "               Model         RMSE  Training Time (s)  Prediction Time (s)\n",
       "0  Linear Regression  3349.524577           1.313624             0.088403\n",
       "1      Decision Tree  2272.994898           1.826055             0.062442\n",
       "2      Random Forest  1794.220075         109.573451             3.926888\n",
       "3           LightGBM  1882.585436           2.723067             0.601568"
      ]
     },
     "metadata": {},
     "output_type": "display_data"
    }
   ],
   "source": [
    "\n",
    "def evaluate_model(model, X_train, y_train, X_test, y_test):\n",
    "    \n",
    "    start_time = time.time()\n",
    "    model.fit(X_train, y_train)\n",
    "    train_time = time.time() - start_time\n",
    "\n",
    "\n",
    "    start_time = time.time()\n",
    "    y_pred = model.predict(X_test)\n",
    "    predict_time = time.time() - start_time\n",
    "\n",
    "\n",
    "    rmse = np.sqrt(mean_squared_error(y_test, y_pred))\n",
    "    \n",
    "    return rmse, train_time, predict_time\n",
    "\n",
    "\n",
    "models = {\n",
    "    'Linear Regression': lin_reg,\n",
    "    'Decision Tree': tree_reg,\n",
    "    'Random Forest': forest_reg,\n",
    "    'LightGBM': lgbm_reg\n",
    "}\n",
    "\n",
    "results = []\n",
    "\n",
    "for model_name, model in models.items():\n",
    "    rmse, train_time, predict_time = evaluate_model(model, X_train, y_train, X_test, y_test)\n",
    "    results.append({\n",
    "        'Model': model_name,\n",
    "        'RMSE': rmse,\n",
    "        'Training Time (s)': train_time,\n",
    "        'Prediction Time (s)': predict_time\n",
    "    })\n",
    "\n",
    "\n",
    "\n",
    "results_df = pd.DataFrame(results)\n",
    "display(results_df)\n"
   ]
  },
  {
   "cell_type": "markdown",
   "metadata": {},
   "source": [
    "This project successfully developed and evaluated machine learning models for predicting car prices to support Rusty Bargain's new customer app. Using a dataset of historical vehicle data, the analysis involved thorough data preparation to address missing values and duplicates, followed by the training and evaluation of several models, including Linear Regression, Decision Tree, Random Forest, and LightGBM. Each model was assessed on prediction accuracy (using RMSE), training time, and prediction speed, aligning with Rusty Bargain’s priorities.\n",
    "\n",
    "The results highlighted the Random Forest model as the most accurate, though it required more computational time. LightGBM presented a favorable balance between speed and accuracy, making it a viable choice for Rusty Bargain’s app. These insights provide Rusty Bargain with a solid basis for implementing an effective, user-friendly price evaluation feature in their app, helping attract and engage users with accurate, data-driven pricing.\n",
    "\n",
    "\n",
    "\n",
    "\n",
    "\n",
    "\n"
   ]
  },
  {
   "cell_type": "code",
   "execution_count": null,
   "metadata": {},
   "outputs": [],
   "source": []
  }
 ],
 "metadata": {
  "ExecuteTimeLog": [
   {
    "duration": 2041,
    "start_time": "2024-10-29T21:24:53.691Z"
   },
   {
    "duration": 447,
    "start_time": "2024-10-29T21:37:50.394Z"
   },
   {
    "duration": 903,
    "start_time": "2024-10-29T21:53:21.021Z"
   },
   {
    "duration": 1174,
    "start_time": "2024-10-29T21:53:21.926Z"
   },
   {
    "duration": 480,
    "start_time": "2024-10-29T21:53:23.102Z"
   },
   {
    "duration": 377,
    "start_time": "2024-10-29T21:53:23.583Z"
   },
   {
    "duration": 0,
    "start_time": "2024-10-29T21:53:23.962Z"
   },
   {
    "duration": 0,
    "start_time": "2024-10-29T21:53:23.963Z"
   },
   {
    "duration": 0,
    "start_time": "2024-10-29T21:53:23.964Z"
   },
   {
    "duration": 0,
    "start_time": "2024-10-29T21:53:23.965Z"
   },
   {
    "duration": 827,
    "start_time": "2024-10-29T21:57:10.648Z"
   },
   {
    "duration": 1106,
    "start_time": "2024-10-29T21:57:11.477Z"
   },
   {
    "duration": 454,
    "start_time": "2024-10-29T21:57:12.585Z"
   },
   {
    "duration": 1576,
    "start_time": "2024-10-29T21:57:13.042Z"
   },
   {
    "duration": 1895,
    "start_time": "2024-10-29T21:57:14.620Z"
   },
   {
    "duration": 112113,
    "start_time": "2024-10-29T21:57:16.517Z"
   },
   {
    "duration": 3381,
    "start_time": "2024-10-29T21:59:08.631Z"
   },
   {
    "duration": 120204,
    "start_time": "2024-10-29T21:59:12.014Z"
   },
   {
    "duration": 6,
    "start_time": "2024-10-29T22:47:20.134Z"
   }
  ],
  "kernelspec": {
   "display_name": "Python 3 (ipykernel)",
   "language": "python",
   "name": "python3"
  },
  "language_info": {
   "codemirror_mode": {
    "name": "ipython",
    "version": 3
   },
   "file_extension": ".py",
   "mimetype": "text/x-python",
   "name": "python",
   "nbconvert_exporter": "python",
   "pygments_lexer": "ipython3",
   "version": "3.9.19"
  },
  "toc": {
   "base_numbering": 1,
   "nav_menu": {},
   "number_sections": true,
   "sideBar": true,
   "skip_h1_title": true,
   "title_cell": "Table of Contents",
   "title_sidebar": "Contents",
   "toc_cell": false,
   "toc_position": {},
   "toc_section_display": true,
   "toc_window_display": false
  }
 },
 "nbformat": 4,
 "nbformat_minor": 2
}
