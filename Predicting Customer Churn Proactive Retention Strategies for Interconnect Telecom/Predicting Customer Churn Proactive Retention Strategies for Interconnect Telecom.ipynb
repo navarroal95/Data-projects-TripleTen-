{
 "cells": [
  {
   "cell_type": "markdown",
   "metadata": {},
   "source": [
    "# Solution Code for the Final Sprint Project"
   ]
  },
  {
   "cell_type": "markdown",
   "metadata": {},
   "source": [
    "## Introduction\n",
    "The telecom operator Interconnect seeks to forecast customer churn to proactively retain clients by offering personalized promotional plans and incentives. By identifying high-risk customers, the company aims to reduce churn, improve customer satisfaction, and enhance long-term business performance. This notebook presents a comprehensive work plan that includes data exploration, preprocessing, feature engineering, and machine learning model development. The primary objective is to build a predictive model optimized for identifying churned customers, using key metrics such as AUC-ROC and accuracy for evaluation.\n"
   ]
  },
  {
   "cell_type": "markdown",
   "metadata": {},
   "source": [
    "## GOAL\n",
    "\n",
    "To build a machine learning model that predicts customer churn based on provided data (contract, personal, internet, and phone) with a focus on achieving a high AUC-ROC score.\n",
    "\n"
   ]
  },
  {
   "cell_type": "markdown",
   "metadata": {},
   "source": [
    "### Target and Metrics\n",
    "- **Target Variable:** `Churn` (binary; 1 = Churned, 0 = Retained)\n",
    "- **Primary Metric:** AUC-ROC\n",
    "- **Secondary Metric:** Accuracy\n"
   ]
  },
  {
   "cell_type": "markdown",
   "metadata": {},
   "source": [
    "## 3. Work Plan\n",
    "1. **Data Exploration and Cleaning**\n",
    "   - Load and inspect datasets.\n",
    "   - Identify missing values and duplicates.\n",
    "   - Transform the `EndDate` column into a binary target column (`Churn`).\n",
    "2. **Feature Engineering**\n",
    "   - Extract meaningful features, such as tenure or service engagement.\n",
    "   - Address categorical variables, like `BeginDate` and `PaymentMethod`.\n",
    "3. **Data Preparation**\n",
    "   - Merge datasets into a unified table using `customerID`.\n",
    "   - Apply one-hot encoding to categorical features.\n",
    "   - Scale numerical features (e.g., `MonthlyCharges` and `TotalCharges`) for modeling.\n",
    "4. **Modeling**\n",
    "   - Train baseline models, such as Logistic Regression or Decision Trees.\n",
    "   - Test advanced models like Random Forest, Gradient Boosting, or XGBoost.\n",
    "5. **Evaluation**\n",
    "   - Use **AUC-ROC** as the primary metric for model evaluation.\n",
    "   - Validate the model performance using a train-test split or cross-validation."
   ]
  },
  {
   "cell_type": "markdown",
   "metadata": {},
   "source": [
    "## 4. Data Exploration and Cleaning\n",
    "###  Load and Inspect Datasets"
   ]
  },
  {
   "cell_type": "code",
   "execution_count": 1,
   "metadata": {},
   "outputs": [],
   "source": [
    "import pandas as pd\n",
    "import joblib\n",
    "import seaborn as sns\n",
    "import matplotlib.pyplot as plt\n",
    "from datetime import datetime\n",
    "import numpy as np\n",
    "from sklearn.utils import resample\n",
    "from sklearn.impute import SimpleImputer\n",
    "from sklearn.model_selection import train_test_split\n",
    "from sklearn.preprocessing import StandardScaler\n",
    "from sklearn.linear_model import LogisticRegression\n",
    "from sklearn.tree import DecisionTreeClassifier\n",
    "from xgboost import XGBClassifier\n",
    "from sklearn.metrics import roc_auc_score, accuracy_score\n",
    "from sklearn.metrics import confusion_matrix\n",
    "from sklearn.ensemble import RandomForestClassifier"
   ]
  },
  {
   "cell_type": "code",
   "execution_count": 2,
   "metadata": {},
   "outputs": [
    {
     "name": "stdout",
     "output_type": "stream",
     "text": [
      "Contract Data:\n"
     ]
    },
    {
     "data": {
      "text/html": [
       "<div>\n",
       "<style scoped>\n",
       "    .dataframe tbody tr th:only-of-type {\n",
       "        vertical-align: middle;\n",
       "    }\n",
       "\n",
       "    .dataframe tbody tr th {\n",
       "        vertical-align: top;\n",
       "    }\n",
       "\n",
       "    .dataframe thead th {\n",
       "        text-align: right;\n",
       "    }\n",
       "</style>\n",
       "<table border=\"1\" class=\"dataframe\">\n",
       "  <thead>\n",
       "    <tr style=\"text-align: right;\">\n",
       "      <th></th>\n",
       "      <th>customerID</th>\n",
       "      <th>BeginDate</th>\n",
       "      <th>EndDate</th>\n",
       "      <th>Type</th>\n",
       "      <th>PaperlessBilling</th>\n",
       "      <th>PaymentMethod</th>\n",
       "      <th>MonthlyCharges</th>\n",
       "      <th>TotalCharges</th>\n",
       "    </tr>\n",
       "  </thead>\n",
       "  <tbody>\n",
       "    <tr>\n",
       "      <th>0</th>\n",
       "      <td>7590-VHVEG</td>\n",
       "      <td>2020-01-01</td>\n",
       "      <td>No</td>\n",
       "      <td>Month-to-month</td>\n",
       "      <td>Yes</td>\n",
       "      <td>Electronic check</td>\n",
       "      <td>29.85</td>\n",
       "      <td>29.85</td>\n",
       "    </tr>\n",
       "    <tr>\n",
       "      <th>1</th>\n",
       "      <td>5575-GNVDE</td>\n",
       "      <td>2017-04-01</td>\n",
       "      <td>No</td>\n",
       "      <td>One year</td>\n",
       "      <td>No</td>\n",
       "      <td>Mailed check</td>\n",
       "      <td>56.95</td>\n",
       "      <td>1889.5</td>\n",
       "    </tr>\n",
       "    <tr>\n",
       "      <th>2</th>\n",
       "      <td>3668-QPYBK</td>\n",
       "      <td>2019-10-01</td>\n",
       "      <td>2019-12-01 00:00:00</td>\n",
       "      <td>Month-to-month</td>\n",
       "      <td>Yes</td>\n",
       "      <td>Mailed check</td>\n",
       "      <td>53.85</td>\n",
       "      <td>108.15</td>\n",
       "    </tr>\n",
       "    <tr>\n",
       "      <th>3</th>\n",
       "      <td>7795-CFOCW</td>\n",
       "      <td>2016-05-01</td>\n",
       "      <td>No</td>\n",
       "      <td>One year</td>\n",
       "      <td>No</td>\n",
       "      <td>Bank transfer (automatic)</td>\n",
       "      <td>42.30</td>\n",
       "      <td>1840.75</td>\n",
       "    </tr>\n",
       "    <tr>\n",
       "      <th>4</th>\n",
       "      <td>9237-HQITU</td>\n",
       "      <td>2019-09-01</td>\n",
       "      <td>2019-11-01 00:00:00</td>\n",
       "      <td>Month-to-month</td>\n",
       "      <td>Yes</td>\n",
       "      <td>Electronic check</td>\n",
       "      <td>70.70</td>\n",
       "      <td>151.65</td>\n",
       "    </tr>\n",
       "  </tbody>\n",
       "</table>\n",
       "</div>"
      ],
      "text/plain": [
       "   customerID   BeginDate              EndDate            Type  \\\n",
       "0  7590-VHVEG  2020-01-01                   No  Month-to-month   \n",
       "1  5575-GNVDE  2017-04-01                   No        One year   \n",
       "2  3668-QPYBK  2019-10-01  2019-12-01 00:00:00  Month-to-month   \n",
       "3  7795-CFOCW  2016-05-01                   No        One year   \n",
       "4  9237-HQITU  2019-09-01  2019-11-01 00:00:00  Month-to-month   \n",
       "\n",
       "  PaperlessBilling              PaymentMethod  MonthlyCharges TotalCharges  \n",
       "0              Yes           Electronic check           29.85        29.85  \n",
       "1               No               Mailed check           56.95       1889.5  \n",
       "2              Yes               Mailed check           53.85       108.15  \n",
       "3               No  Bank transfer (automatic)           42.30      1840.75  \n",
       "4              Yes           Electronic check           70.70       151.65  "
      ]
     },
     "metadata": {},
     "output_type": "display_data"
    },
    {
     "data": {
      "text/plain": [
       "'\\n'"
      ]
     },
     "metadata": {},
     "output_type": "display_data"
    },
    {
     "name": "stdout",
     "output_type": "stream",
     "text": [
      "Personal Data:\n"
     ]
    },
    {
     "data": {
      "text/html": [
       "<div>\n",
       "<style scoped>\n",
       "    .dataframe tbody tr th:only-of-type {\n",
       "        vertical-align: middle;\n",
       "    }\n",
       "\n",
       "    .dataframe tbody tr th {\n",
       "        vertical-align: top;\n",
       "    }\n",
       "\n",
       "    .dataframe thead th {\n",
       "        text-align: right;\n",
       "    }\n",
       "</style>\n",
       "<table border=\"1\" class=\"dataframe\">\n",
       "  <thead>\n",
       "    <tr style=\"text-align: right;\">\n",
       "      <th></th>\n",
       "      <th>customerID</th>\n",
       "      <th>gender</th>\n",
       "      <th>SeniorCitizen</th>\n",
       "      <th>Partner</th>\n",
       "      <th>Dependents</th>\n",
       "    </tr>\n",
       "  </thead>\n",
       "  <tbody>\n",
       "    <tr>\n",
       "      <th>0</th>\n",
       "      <td>7590-VHVEG</td>\n",
       "      <td>Female</td>\n",
       "      <td>0</td>\n",
       "      <td>Yes</td>\n",
       "      <td>No</td>\n",
       "    </tr>\n",
       "    <tr>\n",
       "      <th>1</th>\n",
       "      <td>5575-GNVDE</td>\n",
       "      <td>Male</td>\n",
       "      <td>0</td>\n",
       "      <td>No</td>\n",
       "      <td>No</td>\n",
       "    </tr>\n",
       "    <tr>\n",
       "      <th>2</th>\n",
       "      <td>3668-QPYBK</td>\n",
       "      <td>Male</td>\n",
       "      <td>0</td>\n",
       "      <td>No</td>\n",
       "      <td>No</td>\n",
       "    </tr>\n",
       "    <tr>\n",
       "      <th>3</th>\n",
       "      <td>7795-CFOCW</td>\n",
       "      <td>Male</td>\n",
       "      <td>0</td>\n",
       "      <td>No</td>\n",
       "      <td>No</td>\n",
       "    </tr>\n",
       "    <tr>\n",
       "      <th>4</th>\n",
       "      <td>9237-HQITU</td>\n",
       "      <td>Female</td>\n",
       "      <td>0</td>\n",
       "      <td>No</td>\n",
       "      <td>No</td>\n",
       "    </tr>\n",
       "  </tbody>\n",
       "</table>\n",
       "</div>"
      ],
      "text/plain": [
       "   customerID  gender  SeniorCitizen Partner Dependents\n",
       "0  7590-VHVEG  Female              0     Yes         No\n",
       "1  5575-GNVDE    Male              0      No         No\n",
       "2  3668-QPYBK    Male              0      No         No\n",
       "3  7795-CFOCW    Male              0      No         No\n",
       "4  9237-HQITU  Female              0      No         No"
      ]
     },
     "metadata": {},
     "output_type": "display_data"
    },
    {
     "data": {
      "text/plain": [
       "'\\n'"
      ]
     },
     "metadata": {},
     "output_type": "display_data"
    },
    {
     "name": "stdout",
     "output_type": "stream",
     "text": [
      "Internet Data:\n"
     ]
    },
    {
     "data": {
      "text/html": [
       "<div>\n",
       "<style scoped>\n",
       "    .dataframe tbody tr th:only-of-type {\n",
       "        vertical-align: middle;\n",
       "    }\n",
       "\n",
       "    .dataframe tbody tr th {\n",
       "        vertical-align: top;\n",
       "    }\n",
       "\n",
       "    .dataframe thead th {\n",
       "        text-align: right;\n",
       "    }\n",
       "</style>\n",
       "<table border=\"1\" class=\"dataframe\">\n",
       "  <thead>\n",
       "    <tr style=\"text-align: right;\">\n",
       "      <th></th>\n",
       "      <th>customerID</th>\n",
       "      <th>InternetService</th>\n",
       "      <th>OnlineSecurity</th>\n",
       "      <th>OnlineBackup</th>\n",
       "      <th>DeviceProtection</th>\n",
       "      <th>TechSupport</th>\n",
       "      <th>StreamingTV</th>\n",
       "      <th>StreamingMovies</th>\n",
       "    </tr>\n",
       "  </thead>\n",
       "  <tbody>\n",
       "    <tr>\n",
       "      <th>0</th>\n",
       "      <td>7590-VHVEG</td>\n",
       "      <td>DSL</td>\n",
       "      <td>No</td>\n",
       "      <td>Yes</td>\n",
       "      <td>No</td>\n",
       "      <td>No</td>\n",
       "      <td>No</td>\n",
       "      <td>No</td>\n",
       "    </tr>\n",
       "    <tr>\n",
       "      <th>1</th>\n",
       "      <td>5575-GNVDE</td>\n",
       "      <td>DSL</td>\n",
       "      <td>Yes</td>\n",
       "      <td>No</td>\n",
       "      <td>Yes</td>\n",
       "      <td>No</td>\n",
       "      <td>No</td>\n",
       "      <td>No</td>\n",
       "    </tr>\n",
       "    <tr>\n",
       "      <th>2</th>\n",
       "      <td>3668-QPYBK</td>\n",
       "      <td>DSL</td>\n",
       "      <td>Yes</td>\n",
       "      <td>Yes</td>\n",
       "      <td>No</td>\n",
       "      <td>No</td>\n",
       "      <td>No</td>\n",
       "      <td>No</td>\n",
       "    </tr>\n",
       "    <tr>\n",
       "      <th>3</th>\n",
       "      <td>7795-CFOCW</td>\n",
       "      <td>DSL</td>\n",
       "      <td>Yes</td>\n",
       "      <td>No</td>\n",
       "      <td>Yes</td>\n",
       "      <td>Yes</td>\n",
       "      <td>No</td>\n",
       "      <td>No</td>\n",
       "    </tr>\n",
       "    <tr>\n",
       "      <th>4</th>\n",
       "      <td>9237-HQITU</td>\n",
       "      <td>Fiber optic</td>\n",
       "      <td>No</td>\n",
       "      <td>No</td>\n",
       "      <td>No</td>\n",
       "      <td>No</td>\n",
       "      <td>No</td>\n",
       "      <td>No</td>\n",
       "    </tr>\n",
       "  </tbody>\n",
       "</table>\n",
       "</div>"
      ],
      "text/plain": [
       "   customerID InternetService OnlineSecurity OnlineBackup DeviceProtection  \\\n",
       "0  7590-VHVEG             DSL             No          Yes               No   \n",
       "1  5575-GNVDE             DSL            Yes           No              Yes   \n",
       "2  3668-QPYBK             DSL            Yes          Yes               No   \n",
       "3  7795-CFOCW             DSL            Yes           No              Yes   \n",
       "4  9237-HQITU     Fiber optic             No           No               No   \n",
       "\n",
       "  TechSupport StreamingTV StreamingMovies  \n",
       "0          No          No              No  \n",
       "1          No          No              No  \n",
       "2          No          No              No  \n",
       "3         Yes          No              No  \n",
       "4          No          No              No  "
      ]
     },
     "metadata": {},
     "output_type": "display_data"
    },
    {
     "data": {
      "text/plain": [
       "'\\n'"
      ]
     },
     "metadata": {},
     "output_type": "display_data"
    },
    {
     "name": "stdout",
     "output_type": "stream",
     "text": [
      "Phone Data:\n"
     ]
    },
    {
     "data": {
      "text/html": [
       "<div>\n",
       "<style scoped>\n",
       "    .dataframe tbody tr th:only-of-type {\n",
       "        vertical-align: middle;\n",
       "    }\n",
       "\n",
       "    .dataframe tbody tr th {\n",
       "        vertical-align: top;\n",
       "    }\n",
       "\n",
       "    .dataframe thead th {\n",
       "        text-align: right;\n",
       "    }\n",
       "</style>\n",
       "<table border=\"1\" class=\"dataframe\">\n",
       "  <thead>\n",
       "    <tr style=\"text-align: right;\">\n",
       "      <th></th>\n",
       "      <th>customerID</th>\n",
       "      <th>MultipleLines</th>\n",
       "    </tr>\n",
       "  </thead>\n",
       "  <tbody>\n",
       "    <tr>\n",
       "      <th>0</th>\n",
       "      <td>5575-GNVDE</td>\n",
       "      <td>No</td>\n",
       "    </tr>\n",
       "    <tr>\n",
       "      <th>1</th>\n",
       "      <td>3668-QPYBK</td>\n",
       "      <td>No</td>\n",
       "    </tr>\n",
       "    <tr>\n",
       "      <th>2</th>\n",
       "      <td>9237-HQITU</td>\n",
       "      <td>No</td>\n",
       "    </tr>\n",
       "    <tr>\n",
       "      <th>3</th>\n",
       "      <td>9305-CDSKC</td>\n",
       "      <td>Yes</td>\n",
       "    </tr>\n",
       "    <tr>\n",
       "      <th>4</th>\n",
       "      <td>1452-KIOVK</td>\n",
       "      <td>Yes</td>\n",
       "    </tr>\n",
       "  </tbody>\n",
       "</table>\n",
       "</div>"
      ],
      "text/plain": [
       "   customerID MultipleLines\n",
       "0  5575-GNVDE            No\n",
       "1  3668-QPYBK            No\n",
       "2  9237-HQITU            No\n",
       "3  9305-CDSKC           Yes\n",
       "4  1452-KIOVK           Yes"
      ]
     },
     "metadata": {},
     "output_type": "display_data"
    },
    {
     "data": {
      "text/plain": [
       "'\\n'"
      ]
     },
     "metadata": {},
     "output_type": "display_data"
    },
    {
     "name": "stdout",
     "output_type": "stream",
     "text": [
      "Number of customerIDs in Contract Data: 7043\n",
      "Number of customerIDs in Personal Data: 7043\n",
      "Number of customerIDs in Internet Data: 5517\n",
      "Number of customerIDs in Phone Data: 6361\n",
      "Contract and Personal overlap: True\n",
      "Contract and Internet overlap: False\n",
      "Contract and Phone overlap: False\n",
      "IDs missing in Personal Data: 0\n",
      "IDs missing in Internet Data: 1526\n",
      "IDs missing in Phone Data: 682\n"
     ]
    }
   ],
   "source": [
    "\n",
    "contract_data = pd.read_csv('/datasets/final_provider/contract.csv')\n",
    "personal_data = pd.read_csv('/datasets/final_provider/personal.csv')\n",
    "internet_data = pd.read_csv('/datasets/final_provider/internet.csv')\n",
    "phone_data = pd.read_csv('/datasets/final_provider/phone.csv')\n",
    "\n",
    "print(\"Contract Data:\")\n",
    "display(contract_data.head(), \"\\n\")\n",
    "\n",
    "print(\"Personal Data:\")\n",
    "display(personal_data.head(), \"\\n\")\n",
    "\n",
    "print(\"Internet Data:\")\n",
    "display(internet_data.head(), \"\\n\")\n",
    "\n",
    "print(\"Phone Data:\")\n",
    "display(phone_data.head(), \"\\n\")\n",
    "\n",
    "\n",
    "\n",
    "contract_ids = set(contract_data['customerID'])\n",
    "personal_ids = set(personal_data['customerID'])\n",
    "internet_ids = set(internet_data['customerID'])\n",
    "phone_ids = set(phone_data['customerID'])\n",
    "\n",
    "print(f\"Number of customerIDs in Contract Data: {len(contract_ids)}\")\n",
    "print(f\"Number of customerIDs in Personal Data: {len(personal_ids)}\")\n",
    "print(f\"Number of customerIDs in Internet Data: {len(internet_ids)}\")\n",
    "print(f\"Number of customerIDs in Phone Data: {len(phone_ids)}\")\n",
    "\n",
    "\n",
    "print(f\"Contract and Personal overlap: {contract_ids == personal_ids}\")\n",
    "print(f\"Contract and Internet overlap: {contract_ids == internet_ids}\")\n",
    "print(f\"Contract and Phone overlap: {contract_ids == phone_ids}\")\n",
    "\n",
    "\n",
    "missing_in_personal = contract_ids - personal_ids\n",
    "missing_in_internet = contract_ids - internet_ids\n",
    "missing_in_phone = contract_ids - phone_ids\n",
    "\n",
    "print(f\"IDs missing in Personal Data: {len(missing_in_personal)}\")\n",
    "print(f\"IDs missing in Internet Data: {len(missing_in_internet)}\")\n",
    "print(f\"IDs missing in Phone Data: {len(missing_in_phone)}\")\n"
   ]
  },
  {
   "cell_type": "markdown",
   "metadata": {},
   "source": [
    "### Handle Missing Values and Duplicates"
   ]
  },
  {
   "cell_type": "code",
   "execution_count": 3,
   "metadata": {},
   "outputs": [
    {
     "name": "stdout",
     "output_type": "stream",
     "text": [
      "Missing values in Contract Data:\n",
      "customerID          0\n",
      "BeginDate           0\n",
      "EndDate             0\n",
      "Type                0\n",
      "PaperlessBilling    0\n",
      "PaymentMethod       0\n",
      "MonthlyCharges      0\n",
      "TotalCharges        0\n",
      "dtype: int64 \n",
      "\n",
      "Missing values in Personal Data:\n",
      "customerID       0\n",
      "gender           0\n",
      "SeniorCitizen    0\n",
      "Partner          0\n",
      "Dependents       0\n",
      "dtype: int64 \n",
      "\n",
      "Missing values in Internet Data:\n",
      "customerID          0\n",
      "InternetService     0\n",
      "OnlineSecurity      0\n",
      "OnlineBackup        0\n",
      "DeviceProtection    0\n",
      "TechSupport         0\n",
      "StreamingTV         0\n",
      "StreamingMovies     0\n",
      "dtype: int64 \n",
      "\n",
      "Missing values in Phone Data:\n",
      "customerID       0\n",
      "MultipleLines    0\n",
      "dtype: int64 \n",
      "\n"
     ]
    }
   ],
   "source": [
    "print(\"Missing values in Contract Data:\")\n",
    "print(contract_data.isnull().sum(), \"\\n\")\n",
    "\n",
    "print(\"Missing values in Personal Data:\")\n",
    "print(personal_data.isnull().sum(), \"\\n\")\n",
    "\n",
    "print(\"Missing values in Internet Data:\")\n",
    "print(internet_data.isnull().sum(), \"\\n\")\n",
    "\n",
    "print(\"Missing values in Phone Data:\")\n",
    "print(phone_data.isnull().sum(), \"\\n\")\n",
    "\n",
    "\n",
    "contract_data.fillna(\"Unknown\", inplace=True)\n"
   ]
  },
  {
   "cell_type": "code",
   "execution_count": 4,
   "metadata": {},
   "outputs": [
    {
     "name": "stdout",
     "output_type": "stream",
     "text": [
      "Duplicates in Contract Data: 0\n",
      "Duplicates in Personal Data: 0\n",
      "Duplicates in Internet Data: 0\n",
      "Duplicates in Phone Data: 0\n"
     ]
    }
   ],
   "source": [
    "print(\"Duplicates in Contract Data:\", contract_data.duplicated().sum())\n",
    "print(\"Duplicates in Personal Data:\", personal_data.duplicated().sum())\n",
    "print(\"Duplicates in Internet Data:\", internet_data.duplicated().sum())\n",
    "print(\"Duplicates in Phone Data:\", phone_data.duplicated().sum())"
   ]
  },
  {
   "cell_type": "markdown",
   "metadata": {},
   "source": [
    "###  Transform Target Column"
   ]
  },
  {
   "cell_type": "code",
   "execution_count": 5,
   "metadata": {},
   "outputs": [
    {
     "name": "stdout",
     "output_type": "stream",
     "text": [
      "Transformed Contract Data:\n",
      "   customerID  Churn\n",
      "0  7590-VHVEG      0\n",
      "1  5575-GNVDE      0\n",
      "2  3668-QPYBK      1\n",
      "3  7795-CFOCW      0\n",
      "4  9237-HQITU      1\n"
     ]
    }
   ],
   "source": [
    "contract_data['Churn'] = contract_data['EndDate'].apply(lambda x: 1 if x != 'No' else 0)\n",
    "\n",
    "contract_data.drop(columns=['EndDate'], inplace=True)\n",
    "\n",
    "print(\"Transformed Contract Data:\")\n",
    "print(contract_data[['customerID', 'Churn']].head())\n"
   ]
  },
  {
   "cell_type": "markdown",
   "metadata": {},
   "source": [
    "###  Merge Datasets"
   ]
  },
  {
   "cell_type": "code",
   "execution_count": 6,
   "metadata": {
    "scrolled": true
   },
   "outputs": [
    {
     "name": "stdout",
     "output_type": "stream",
     "text": [
      "Merged Dataset:\n"
     ]
    },
    {
     "data": {
      "text/plain": [
       "(7043, 20)"
      ]
     },
     "metadata": {},
     "output_type": "display_data"
    },
    {
     "data": {
      "text/html": [
       "<div>\n",
       "<style scoped>\n",
       "    .dataframe tbody tr th:only-of-type {\n",
       "        vertical-align: middle;\n",
       "    }\n",
       "\n",
       "    .dataframe tbody tr th {\n",
       "        vertical-align: top;\n",
       "    }\n",
       "\n",
       "    .dataframe thead th {\n",
       "        text-align: right;\n",
       "    }\n",
       "</style>\n",
       "<table border=\"1\" class=\"dataframe\">\n",
       "  <thead>\n",
       "    <tr style=\"text-align: right;\">\n",
       "      <th></th>\n",
       "      <th>customerID</th>\n",
       "      <th>BeginDate</th>\n",
       "      <th>Type</th>\n",
       "      <th>PaperlessBilling</th>\n",
       "      <th>PaymentMethod</th>\n",
       "      <th>MonthlyCharges</th>\n",
       "      <th>TotalCharges</th>\n",
       "      <th>Churn</th>\n",
       "      <th>gender</th>\n",
       "      <th>SeniorCitizen</th>\n",
       "      <th>Partner</th>\n",
       "      <th>Dependents</th>\n",
       "      <th>InternetService</th>\n",
       "      <th>OnlineSecurity</th>\n",
       "      <th>OnlineBackup</th>\n",
       "      <th>DeviceProtection</th>\n",
       "      <th>TechSupport</th>\n",
       "      <th>StreamingTV</th>\n",
       "      <th>StreamingMovies</th>\n",
       "      <th>MultipleLines</th>\n",
       "    </tr>\n",
       "  </thead>\n",
       "  <tbody>\n",
       "    <tr>\n",
       "      <th>0</th>\n",
       "      <td>7590-VHVEG</td>\n",
       "      <td>2020-01-01</td>\n",
       "      <td>Month-to-month</td>\n",
       "      <td>Yes</td>\n",
       "      <td>Electronic check</td>\n",
       "      <td>29.85</td>\n",
       "      <td>29.85</td>\n",
       "      <td>0</td>\n",
       "      <td>Female</td>\n",
       "      <td>0</td>\n",
       "      <td>Yes</td>\n",
       "      <td>No</td>\n",
       "      <td>DSL</td>\n",
       "      <td>No</td>\n",
       "      <td>Yes</td>\n",
       "      <td>No</td>\n",
       "      <td>No</td>\n",
       "      <td>No</td>\n",
       "      <td>No</td>\n",
       "      <td>NaN</td>\n",
       "    </tr>\n",
       "    <tr>\n",
       "      <th>1</th>\n",
       "      <td>5575-GNVDE</td>\n",
       "      <td>2017-04-01</td>\n",
       "      <td>One year</td>\n",
       "      <td>No</td>\n",
       "      <td>Mailed check</td>\n",
       "      <td>56.95</td>\n",
       "      <td>1889.5</td>\n",
       "      <td>0</td>\n",
       "      <td>Male</td>\n",
       "      <td>0</td>\n",
       "      <td>No</td>\n",
       "      <td>No</td>\n",
       "      <td>DSL</td>\n",
       "      <td>Yes</td>\n",
       "      <td>No</td>\n",
       "      <td>Yes</td>\n",
       "      <td>No</td>\n",
       "      <td>No</td>\n",
       "      <td>No</td>\n",
       "      <td>No</td>\n",
       "    </tr>\n",
       "    <tr>\n",
       "      <th>2</th>\n",
       "      <td>3668-QPYBK</td>\n",
       "      <td>2019-10-01</td>\n",
       "      <td>Month-to-month</td>\n",
       "      <td>Yes</td>\n",
       "      <td>Mailed check</td>\n",
       "      <td>53.85</td>\n",
       "      <td>108.15</td>\n",
       "      <td>1</td>\n",
       "      <td>Male</td>\n",
       "      <td>0</td>\n",
       "      <td>No</td>\n",
       "      <td>No</td>\n",
       "      <td>DSL</td>\n",
       "      <td>Yes</td>\n",
       "      <td>Yes</td>\n",
       "      <td>No</td>\n",
       "      <td>No</td>\n",
       "      <td>No</td>\n",
       "      <td>No</td>\n",
       "      <td>No</td>\n",
       "    </tr>\n",
       "    <tr>\n",
       "      <th>3</th>\n",
       "      <td>7795-CFOCW</td>\n",
       "      <td>2016-05-01</td>\n",
       "      <td>One year</td>\n",
       "      <td>No</td>\n",
       "      <td>Bank transfer (automatic)</td>\n",
       "      <td>42.30</td>\n",
       "      <td>1840.75</td>\n",
       "      <td>0</td>\n",
       "      <td>Male</td>\n",
       "      <td>0</td>\n",
       "      <td>No</td>\n",
       "      <td>No</td>\n",
       "      <td>DSL</td>\n",
       "      <td>Yes</td>\n",
       "      <td>No</td>\n",
       "      <td>Yes</td>\n",
       "      <td>Yes</td>\n",
       "      <td>No</td>\n",
       "      <td>No</td>\n",
       "      <td>NaN</td>\n",
       "    </tr>\n",
       "    <tr>\n",
       "      <th>4</th>\n",
       "      <td>9237-HQITU</td>\n",
       "      <td>2019-09-01</td>\n",
       "      <td>Month-to-month</td>\n",
       "      <td>Yes</td>\n",
       "      <td>Electronic check</td>\n",
       "      <td>70.70</td>\n",
       "      <td>151.65</td>\n",
       "      <td>1</td>\n",
       "      <td>Female</td>\n",
       "      <td>0</td>\n",
       "      <td>No</td>\n",
       "      <td>No</td>\n",
       "      <td>Fiber optic</td>\n",
       "      <td>No</td>\n",
       "      <td>No</td>\n",
       "      <td>No</td>\n",
       "      <td>No</td>\n",
       "      <td>No</td>\n",
       "      <td>No</td>\n",
       "      <td>No</td>\n",
       "    </tr>\n",
       "  </tbody>\n",
       "</table>\n",
       "</div>"
      ],
      "text/plain": [
       "   customerID   BeginDate            Type PaperlessBilling  \\\n",
       "0  7590-VHVEG  2020-01-01  Month-to-month              Yes   \n",
       "1  5575-GNVDE  2017-04-01        One year               No   \n",
       "2  3668-QPYBK  2019-10-01  Month-to-month              Yes   \n",
       "3  7795-CFOCW  2016-05-01        One year               No   \n",
       "4  9237-HQITU  2019-09-01  Month-to-month              Yes   \n",
       "\n",
       "               PaymentMethod  MonthlyCharges TotalCharges  Churn  gender  \\\n",
       "0           Electronic check           29.85        29.85      0  Female   \n",
       "1               Mailed check           56.95       1889.5      0    Male   \n",
       "2               Mailed check           53.85       108.15      1    Male   \n",
       "3  Bank transfer (automatic)           42.30      1840.75      0    Male   \n",
       "4           Electronic check           70.70       151.65      1  Female   \n",
       "\n",
       "   SeniorCitizen Partner Dependents InternetService OnlineSecurity  \\\n",
       "0              0     Yes         No             DSL             No   \n",
       "1              0      No         No             DSL            Yes   \n",
       "2              0      No         No             DSL            Yes   \n",
       "3              0      No         No             DSL            Yes   \n",
       "4              0      No         No     Fiber optic             No   \n",
       "\n",
       "  OnlineBackup DeviceProtection TechSupport StreamingTV StreamingMovies  \\\n",
       "0          Yes               No          No          No              No   \n",
       "1           No              Yes          No          No              No   \n",
       "2          Yes               No          No          No              No   \n",
       "3           No              Yes         Yes          No              No   \n",
       "4           No               No          No          No              No   \n",
       "\n",
       "  MultipleLines  \n",
       "0           NaN  \n",
       "1            No  \n",
       "2            No  \n",
       "3           NaN  \n",
       "4            No  "
      ]
     },
     "metadata": {},
     "output_type": "display_data"
    }
   ],
   "source": [
    "merged_data = contract_data.merge(personal_data, on='customerID', how='left') \\\n",
    "                           .merge(internet_data, on='customerID', how='left') \\\n",
    "                           .merge(phone_data, on='customerID', how='left')\n",
    "\n",
    "print(\"Merged Dataset:\")\n",
    "display(merged_data.shape)\n",
    "display(merged_data.head())\n"
   ]
  },
  {
   "cell_type": "code",
   "execution_count": 7,
   "metadata": {},
   "outputs": [
    {
     "name": "stdout",
     "output_type": "stream",
     "text": [
      "Index(['customerID', 'BeginDate', 'Type', 'PaperlessBilling', 'PaymentMethod',\n",
      "       'MonthlyCharges', 'TotalCharges', 'Churn', 'gender', 'SeniorCitizen',\n",
      "       'Partner', 'Dependents', 'InternetService', 'OnlineSecurity',\n",
      "       'OnlineBackup', 'DeviceProtection', 'TechSupport', 'StreamingTV',\n",
      "       'StreamingMovies', 'MultipleLines'],\n",
      "      dtype='object')\n"
     ]
    }
   ],
   "source": [
    "print(merged_data.columns)\n"
   ]
  },
  {
   "cell_type": "markdown",
   "metadata": {},
   "source": [
    "### Visualizations and Insights"
   ]
  },
  {
   "cell_type": "code",
   "execution_count": 8,
   "metadata": {
    "scrolled": false
   },
   "outputs": [
    {
     "name": "stdout",
     "output_type": "stream",
     "text": [
      "Correlation with Churn:\n",
      "Churn             1.000000\n",
      "MonthlyCharges    0.193356\n",
      "SeniorCitizen     0.150889\n",
      "Name: Churn, dtype: float64\n"
     ]
    },
    {
     "data": {
      "image/png": "[encoded data removed]",
      "text/plain": [
       "<Figure size 1200x800 with 2 Axes>"
      ]
     },
     "metadata": {},
     "output_type": "display_data"
    }
   ],
   "source": [
    "correlation_matrix = merged_data.corr()\n",
    "print(\"Correlation with Churn:\")\n",
    "print(correlation_matrix['Churn'].sort_values(ascending=False))\n",
    "\n",
    "\n",
    "plt.figure(figsize=(12, 8))\n",
    "sns.heatmap(correlation_matrix, annot=True, fmt=\".2f\", cmap='viridis', linewidths=0.5)\n",
    "plt.title(\"Feature Correlation Matrix\")\n",
    "plt.show()\n"
   ]
  },
  {
   "cell_type": "code",
   "execution_count": 9,
   "metadata": {
    "scrolled": false
   },
   "outputs": [
    {
     "name": "stdout",
     "output_type": "stream",
     "text": [
      "Churn rates by InternetService:\n",
      "InternetService\n",
      "DSL            0.189591\n",
      "Fiber optic    0.418928\n",
      "Name: Churn, dtype: float64\n",
      "\n"
     ]
    },
    {
     "data": {
      "image/png": "[encoded data removed]",
      "text/plain": [
       "<Figure size 800x500 with 1 Axes>"
      ]
     },
     "metadata": {},
     "output_type": "display_data"
    },
    {
     "name": "stdout",
     "output_type": "stream",
     "text": [
      "Churn rates by PaymentMethod:\n",
      "PaymentMethod\n",
      "Bank transfer (automatic)    0.167098\n",
      "Credit card (automatic)      0.152431\n",
      "Electronic check             0.452854\n",
      "Mailed check                 0.191067\n",
      "Name: Churn, dtype: float64\n",
      "\n"
     ]
    },
    {
     "data": {
      "image/png": "[encoded data removed]",
      "text/plain": [
       "<Figure size 800x500 with 1 Axes>"
      ]
     },
     "metadata": {},
     "output_type": "display_data"
    },
    {
     "name": "stdout",
     "output_type": "stream",
     "text": [
      "Churn rates by TechSupport:\n",
      "TechSupport\n",
      "No     0.416355\n",
      "Yes    0.151663\n",
      "Name: Churn, dtype: float64\n",
      "\n"
     ]
    },
    {
     "data": {
      "image/png": "[encoded data removed]",
      "text/plain": [
       "<Figure size 800x500 with 1 Axes>"
      ]
     },
     "metadata": {},
     "output_type": "display_data"
    },
    {
     "name": "stdout",
     "output_type": "stream",
     "text": [
      "Churn rates by Type:\n",
      "Type\n",
      "Month-to-month    0.427097\n",
      "One year          0.112695\n",
      "Two year          0.028319\n",
      "Name: Churn, dtype: float64\n",
      "\n"
     ]
    },
    {
     "data": {
      "image/png": "[encoded data removed]",
      "text/plain": [
       "<Figure size 800x500 with 1 Axes>"
      ]
     },
     "metadata": {},
     "output_type": "display_data"
    }
   ],
   "source": [
    "categorical_features = ['InternetService', 'PaymentMethod', 'TechSupport', 'Type']  # Use 'Type' instead of 'ContractType'\n",
    "\n",
    "for feature in categorical_features:\n",
    "    churn_rates = merged_data.groupby(feature)['Churn'].mean()\n",
    "    print(f\"Churn rates by {feature}:\")\n",
    "    print(churn_rates)\n",
    "    print()\n",
    "\n",
    "    \n",
    "    plt.figure(figsize=(8, 5))\n",
    "    sns.barplot(x=churn_rates.index, y=churn_rates.values, palette='viridis')\n",
    "    plt.title(f\"Churn Rates by {feature}\")\n",
    "    plt.xlabel(feature)\n",
    "    plt.ylabel(\"Churn Rate\")\n",
    "    plt.xticks(rotation=45)\n",
    "    plt.show()\n",
    "\n"
   ]
  },
  {
   "cell_type": "markdown",
   "metadata": {},
   "source": [
    "These code cells explore correlations and churn rates to uncover key patterns in the data. First, a correlation matrix identifies numerical features most strongly associated with churn, revealing that MonthlyCharges (0.19) and SeniorCitizen (0.15) are moderately correlated with churn. A heatmap visualization highlights these relationships.\n",
    "\n",
    "Next, churn rates across categorical features (InternetService, PaymentMethod, TechSupport, and Type) are analyzed. Key insights include:\n",
    "\n",
    "Fiber optic users exhibit higher churn rates (41.9%) compared to DSL users (18.9%).\n",
    "Customers using electronic checks have significantly higher churn rates (45.3%) compared to other payment methods.\n",
    "Lack of tech support is linked to higher churn (41.6% vs. 15.2%).\n",
    "Month-to-month contracts show the highest churn (42.7%), while longer contracts (one-year and two-year) exhibit significantly lower churn rates.\n",
    "These insights provide a foundation for feature engineering and model development, focusing on factors that strongly influence churn behavior.\n",
    "\n",
    "\n",
    "\n",
    "\n",
    "\n",
    "\n",
    "\n"
   ]
  },
  {
   "cell_type": "code",
   "execution_count": 10,
   "metadata": {},
   "outputs": [
    {
     "data": {
      "image/png": "[encoded data removed]",
      "text/plain": [
       "<Figure size 800x500 with 1 Axes>"
      ]
     },
     "metadata": {},
     "output_type": "display_data"
    }
   ],
   "source": [
    "plt.figure(figsize=(8, 5))\n",
    "sns.countplot(data=contract_data, x='Churn', palette='viridis')\n",
    "plt.title(\"Churn Distribution\", fontsize=16)\n",
    "plt.xlabel(\"Churn\", fontsize=12)\n",
    "plt.ylabel(\"Count\", fontsize=12)\n",
    "plt.xticks([0, 1], ['Retained', 'Churned'])\n",
    "plt.show()"
   ]
  },
  {
   "cell_type": "code",
   "execution_count": 11,
   "metadata": {},
   "outputs": [
    {
     "data": {
      "image/png": "[encoded data removed]",
      "text/plain": [
       "<Figure size 800x500 with 1 Axes>"
      ]
     },
     "metadata": {},
     "output_type": "display_data"
    }
   ],
   "source": [
    "plt.figure(figsize=(8, 5))\n",
    "sns.boxplot(data=merged_data, x='Churn', y='MonthlyCharges', palette='viridis')\n",
    "plt.title(\"Monthly Charges by Churn\", fontsize=16)\n",
    "plt.xlabel(\"Churn\", fontsize=12)\n",
    "plt.ylabel(\"Monthly Charges\", fontsize=12)\n",
    "plt.xticks([0, 1], ['Retained', 'Churned'])\n",
    "plt.show()\n"
   ]
  },
  {
   "cell_type": "code",
   "execution_count": 12,
   "metadata": {},
   "outputs": [
    {
     "data": {
      "image/png": "[encoded data removed]",
      "text/plain": [
       "<Figure size 800x500 with 1 Axes>"
      ]
     },
     "metadata": {},
     "output_type": "display_data"
    }
   ],
   "source": [
    "plt.figure(figsize=(8, 5))\n",
    "sns.countplot(data=merged_data, x='InternetService', hue='Churn', palette='viridis')\n",
    "plt.title(\"Internet Service Distribution by Churn\", fontsize=16)\n",
    "plt.xlabel(\"Internet Service\", fontsize=12)\n",
    "plt.ylabel(\"Count\", fontsize=12)\n",
    "plt.legend(title='Churn', labels=['Retained', 'Churned'])\n",
    "plt.show()\n"
   ]
  },
  {
   "cell_type": "code",
   "execution_count": 13,
   "metadata": {},
   "outputs": [
    {
     "data": {
      "image/png": "[encoded data removed]",
      "text/plain": [
       "<Figure size 1000x500 with 1 Axes>"
      ]
     },
     "metadata": {},
     "output_type": "display_data"
    }
   ],
   "source": [
    "plt.figure(figsize=(10, 5))\n",
    "sns.countplot(data=merged_data, y='PaymentMethod', hue='Churn', palette='viridis', order=merged_data['PaymentMethod'].value_counts().index)\n",
    "plt.title(\"Payment Method by Churn\", fontsize=16)\n",
    "plt.xlabel(\"Count\", fontsize=12)\n",
    "plt.ylabel(\"Payment Method\", fontsize=12)\n",
    "plt.legend(title='Churn', labels=['Retained', 'Churned'])\n",
    "plt.show()\n"
   ]
  },
  {
   "cell_type": "markdown",
   "metadata": {},
   "source": [
    "The visualizations reveal key insights into customer churn behavior for the telecom operator:\n",
    "\n",
    "Churn Distribution: The first visualization highlights a significant imbalance in the dataset, with a larger proportion of customers being retained compared to those who churned. This suggests that churn is a relatively rare event and may require techniques to address the class imbalance during model training.\n",
    "\n",
    "Monthly Charges by Churn: The second visualization indicates that customers who churn tend to have higher monthly charges on average compared to those who are retained. This suggests a possible relationship between higher costs and customer dissatisfaction or financial constraints.\n",
    "\n",
    "Internet Service Distribution by Churn: The third visualization shows that customers using fiber optic services are more likely to churn compared to those using DSL. This could indicate dissatisfaction with fiber optic services, pricing issues, or competitive alternatives.\n",
    "\n",
    "Payment Method by Churn: The final visualization illustrates that customers paying via electronic checks exhibit the highest churn rates, while those using automatic payment methods (e.g., bank transfer, credit card) are more likely to remain. This insight could suggest a correlation between payment convenience and customer retention."
   ]
  },
  {
   "cell_type": "markdown",
   "metadata": {},
   "source": [
    "##  Data Preparation"
   ]
  },
  {
   "cell_type": "code",
   "execution_count": 14,
   "metadata": {},
   "outputs": [
    {
     "data": {
      "text/plain": [
       "customerID             0\n",
       "BeginDate              0\n",
       "Type                   0\n",
       "PaperlessBilling       0\n",
       "PaymentMethod          0\n",
       "MonthlyCharges         0\n",
       "TotalCharges           0\n",
       "Churn                  0\n",
       "gender                 0\n",
       "SeniorCitizen          0\n",
       "Partner                0\n",
       "Dependents             0\n",
       "InternetService     1526\n",
       "OnlineSecurity      1526\n",
       "OnlineBackup        1526\n",
       "DeviceProtection    1526\n",
       "TechSupport         1526\n",
       "StreamingTV         1526\n",
       "StreamingMovies     1526\n",
       "MultipleLines        682\n",
       "dtype: int64"
      ]
     },
     "execution_count": 14,
     "metadata": {},
     "output_type": "execute_result"
    }
   ],
   "source": [
    "merged_data.isna().sum()"
   ]
  },
  {
   "cell_type": "code",
   "execution_count": 15,
   "metadata": {},
   "outputs": [
    {
     "name": "stdout",
     "output_type": "stream",
     "text": [
      "Missing values after handling service features and tenure:\n",
      "customerID          0\n",
      "Type                0\n",
      "PaperlessBilling    0\n",
      "PaymentMethod       0\n",
      "MonthlyCharges      0\n",
      "TotalCharges        0\n",
      "Churn               0\n",
      "gender              0\n",
      "SeniorCitizen       0\n",
      "Partner             0\n",
      "Dependents          0\n",
      "InternetService     0\n",
      "OnlineSecurity      0\n",
      "OnlineBackup        0\n",
      "DeviceProtection    0\n",
      "TechSupport         0\n",
      "StreamingTV         0\n",
      "StreamingMovies     0\n",
      "MultipleLines       0\n",
      "tenure              0\n",
      "dtype: int64\n"
     ]
    }
   ],
   "source": [
    "service_features = ['InternetService', 'OnlineSecurity', 'OnlineBackup', \n",
    "                    'DeviceProtection', 'TechSupport', 'StreamingTV', \n",
    "                    'StreamingMovies', 'MultipleLines']\n",
    "\n",
    "merged_data[service_features] = merged_data[service_features].fillna('No')\n",
    "\n",
    "merged_data['BeginDate'] = pd.to_datetime(merged_data['BeginDate'])\n",
    "merged_data['tenure'] = ((datetime(2020, 2, 1) - merged_data['BeginDate']).dt.days // 30).astype(int)\n",
    "merged_data.drop(columns=['BeginDate'], inplace=True)  \n",
    "\n",
    "print(\"Missing values after handling service features and tenure:\")\n",
    "print(merged_data.isna().sum())\n",
    "\n"
   ]
  },
  {
   "cell_type": "code",
   "execution_count": 16,
   "metadata": {},
   "outputs": [
    {
     "name": "stdout",
     "output_type": "stream",
     "text": [
      "New Features Added:\n",
      "   is_fiber_optic  is_electronic_check  has_tech_support  \\\n",
      "0               0                    1                 0   \n",
      "1               0                    0                 0   \n",
      "2               0                    0                 0   \n",
      "3               0                    0                 1   \n",
      "4               1                    1                 0   \n",
      "\n",
      "   contract_duration_months  \n",
      "0                         1  \n",
      "1                        12  \n",
      "2                         1  \n",
      "3                        12  \n",
      "4                         1  \n"
     ]
    }
   ],
   "source": [
    "merged_data['is_fiber_optic'] = (merged_data['InternetService'] == 'Fiber optic').astype(int)\n",
    "\n",
    "\n",
    "merged_data['is_electronic_check'] = (merged_data['PaymentMethod'] == 'Electronic check').astype(int)\n",
    "\n",
    "\n",
    "merged_data['has_tech_support'] = (merged_data['TechSupport'] == 'Yes').astype(int)\n",
    "\n",
    "\n",
    "contract_mapping = {\n",
    "    'Month-to-month': 1,\n",
    "    'One year': 12,\n",
    "    'Two year': 24\n",
    "}\n",
    "merged_data['contract_duration_months'] = merged_data['Type'].map(contract_mapping)\n",
    "\n",
    "\n",
    "merged_data = merged_data.drop(columns=['InternetService', 'PaymentMethod', 'TechSupport', 'Type'])\n",
    "\n",
    "\n",
    "print(\"New Features Added:\")\n",
    "print(merged_data[['is_fiber_optic', 'is_electronic_check', 'has_tech_support', 'contract_duration_months']].head())\n"
   ]
  },
  {
   "cell_type": "markdown",
   "metadata": {},
   "source": [
    "This code cell focuses on creating meaningful features to enhance model performance by extracting key insights from existing categorical columns. The following features were engineered:\n",
    "\n",
    "is_fiber_optic: A binary indicator that identifies whether a customer uses fiber optic internet service (1 for fiber optic, 0 otherwise).\n",
    "is_electronic_check: A binary indicator for customers using electronic checks as a payment method (1 for electronic check, 0 otherwise).\n",
    "has_tech_support: A binary indicator reflecting whether the customer has opted for tech support (1 for yes, 0 for no).\n",
    "contract_duration_months: A numerical feature representing the customer's contract duration in months, derived from the Type column with mappings: 1 for month-to-month, 12 for one-year, and 24 for two-year contracts.\n",
    "The original columns (InternetService, PaymentMethod, TechSupport, and Type) were dropped for simplicity, ensuring no redundant data remains. The new features were validated with a sample of the processed dataset, confirming their successful creation. This step significantly reduces dimensionality while preserving critical information for predicting churn.\n",
    "\n",
    "Output validation indicates that the new features are properly added, with values correctly reflecting the encoded insights, laying a strong foundation for the next modeling phase."
   ]
  },
  {
   "cell_type": "code",
   "execution_count": 17,
   "metadata": {
    "scrolled": false
   },
   "outputs": [
    {
     "name": "stdout",
     "output_type": "stream",
     "text": [
      "Categorical Columns for Encoding: ['Dependents', 'DeviceProtection', 'MultipleLines', 'OnlineBackup', 'OnlineSecurity', 'PaperlessBilling', 'Partner', 'StreamingMovies', 'StreamingTV', 'gender']\n",
      "Remaining Columns after Encoding: 20\n",
      "Examples of Columns: ['customerID', 'MonthlyCharges', 'TotalCharges', 'Churn', 'SeniorCitizen', 'tenure', 'is_fiber_optic', 'is_electronic_check', 'has_tech_support', 'contract_duration_months']... (truncated)\n",
      "Sample of Processed Dataset:\n"
     ]
    },
    {
     "data": {
      "text/html": [
       "<div>\n",
       "<style scoped>\n",
       "    .dataframe tbody tr th:only-of-type {\n",
       "        vertical-align: middle;\n",
       "    }\n",
       "\n",
       "    .dataframe tbody tr th {\n",
       "        vertical-align: top;\n",
       "    }\n",
       "\n",
       "    .dataframe thead th {\n",
       "        text-align: right;\n",
       "    }\n",
       "</style>\n",
       "<table border=\"1\" class=\"dataframe\">\n",
       "  <thead>\n",
       "    <tr style=\"text-align: right;\">\n",
       "      <th></th>\n",
       "      <th>customerID</th>\n",
       "      <th>MonthlyCharges</th>\n",
       "      <th>TotalCharges</th>\n",
       "      <th>Churn</th>\n",
       "      <th>SeniorCitizen</th>\n",
       "      <th>tenure</th>\n",
       "      <th>is_fiber_optic</th>\n",
       "      <th>is_electronic_check</th>\n",
       "      <th>has_tech_support</th>\n",
       "      <th>contract_duration_months</th>\n",
       "      <th>Dependents_Yes</th>\n",
       "      <th>DeviceProtection_Yes</th>\n",
       "      <th>MultipleLines_Yes</th>\n",
       "      <th>OnlineBackup_Yes</th>\n",
       "      <th>OnlineSecurity_Yes</th>\n",
       "      <th>PaperlessBilling_Yes</th>\n",
       "      <th>Partner_Yes</th>\n",
       "      <th>StreamingMovies_Yes</th>\n",
       "      <th>StreamingTV_Yes</th>\n",
       "      <th>gender_Male</th>\n",
       "    </tr>\n",
       "  </thead>\n",
       "  <tbody>\n",
       "    <tr>\n",
       "      <th>0</th>\n",
       "      <td>7590-VHVEG</td>\n",
       "      <td>29.85</td>\n",
       "      <td>29.85</td>\n",
       "      <td>0</td>\n",
       "      <td>0</td>\n",
       "      <td>1</td>\n",
       "      <td>0</td>\n",
       "      <td>1</td>\n",
       "      <td>0</td>\n",
       "      <td>1</td>\n",
       "      <td>0</td>\n",
       "      <td>0</td>\n",
       "      <td>0</td>\n",
       "      <td>1</td>\n",
       "      <td>0</td>\n",
       "      <td>1</td>\n",
       "      <td>1</td>\n",
       "      <td>0</td>\n",
       "      <td>0</td>\n",
       "      <td>0</td>\n",
       "    </tr>\n",
       "    <tr>\n",
       "      <th>1</th>\n",
       "      <td>5575-GNVDE</td>\n",
       "      <td>56.95</td>\n",
       "      <td>1889.50</td>\n",
       "      <td>0</td>\n",
       "      <td>0</td>\n",
       "      <td>34</td>\n",
       "      <td>0</td>\n",
       "      <td>0</td>\n",
       "      <td>0</td>\n",
       "      <td>12</td>\n",
       "      <td>0</td>\n",
       "      <td>1</td>\n",
       "      <td>0</td>\n",
       "      <td>0</td>\n",
       "      <td>1</td>\n",
       "      <td>0</td>\n",
       "      <td>0</td>\n",
       "      <td>0</td>\n",
       "      <td>0</td>\n",
       "      <td>1</td>\n",
       "    </tr>\n",
       "    <tr>\n",
       "      <th>2</th>\n",
       "      <td>3668-QPYBK</td>\n",
       "      <td>53.85</td>\n",
       "      <td>108.15</td>\n",
       "      <td>1</td>\n",
       "      <td>0</td>\n",
       "      <td>4</td>\n",
       "      <td>0</td>\n",
       "      <td>0</td>\n",
       "      <td>0</td>\n",
       "      <td>1</td>\n",
       "      <td>0</td>\n",
       "      <td>0</td>\n",
       "      <td>0</td>\n",
       "      <td>1</td>\n",
       "      <td>1</td>\n",
       "      <td>1</td>\n",
       "      <td>0</td>\n",
       "      <td>0</td>\n",
       "      <td>0</td>\n",
       "      <td>1</td>\n",
       "    </tr>\n",
       "    <tr>\n",
       "      <th>3</th>\n",
       "      <td>7795-CFOCW</td>\n",
       "      <td>42.30</td>\n",
       "      <td>1840.75</td>\n",
       "      <td>0</td>\n",
       "      <td>0</td>\n",
       "      <td>45</td>\n",
       "      <td>0</td>\n",
       "      <td>0</td>\n",
       "      <td>1</td>\n",
       "      <td>12</td>\n",
       "      <td>0</td>\n",
       "      <td>1</td>\n",
       "      <td>0</td>\n",
       "      <td>0</td>\n",
       "      <td>1</td>\n",
       "      <td>0</td>\n",
       "      <td>0</td>\n",
       "      <td>0</td>\n",
       "      <td>0</td>\n",
       "      <td>1</td>\n",
       "    </tr>\n",
       "    <tr>\n",
       "      <th>4</th>\n",
       "      <td>9237-HQITU</td>\n",
       "      <td>70.70</td>\n",
       "      <td>151.65</td>\n",
       "      <td>1</td>\n",
       "      <td>0</td>\n",
       "      <td>5</td>\n",
       "      <td>1</td>\n",
       "      <td>1</td>\n",
       "      <td>0</td>\n",
       "      <td>1</td>\n",
       "      <td>0</td>\n",
       "      <td>0</td>\n",
       "      <td>0</td>\n",
       "      <td>0</td>\n",
       "      <td>0</td>\n",
       "      <td>1</td>\n",
       "      <td>0</td>\n",
       "      <td>0</td>\n",
       "      <td>0</td>\n",
       "      <td>0</td>\n",
       "    </tr>\n",
       "  </tbody>\n",
       "</table>\n",
       "</div>"
      ],
      "text/plain": [
       "   customerID  MonthlyCharges  TotalCharges  Churn  SeniorCitizen  tenure  \\\n",
       "0  7590-VHVEG           29.85         29.85      0              0       1   \n",
       "1  5575-GNVDE           56.95       1889.50      0              0      34   \n",
       "2  3668-QPYBK           53.85        108.15      1              0       4   \n",
       "3  7795-CFOCW           42.30       1840.75      0              0      45   \n",
       "4  9237-HQITU           70.70        151.65      1              0       5   \n",
       "\n",
       "   is_fiber_optic  is_electronic_check  has_tech_support  \\\n",
       "0               0                    1                 0   \n",
       "1               0                    0                 0   \n",
       "2               0                    0                 0   \n",
       "3               0                    0                 1   \n",
       "4               1                    1                 0   \n",
       "\n",
       "   contract_duration_months  Dependents_Yes  DeviceProtection_Yes  \\\n",
       "0                         1               0                     0   \n",
       "1                        12               0                     1   \n",
       "2                         1               0                     0   \n",
       "3                        12               0                     1   \n",
       "4                         1               0                     0   \n",
       "\n",
       "   MultipleLines_Yes  OnlineBackup_Yes  OnlineSecurity_Yes  \\\n",
       "0                  0                 1                   0   \n",
       "1                  0                 0                   1   \n",
       "2                  0                 1                   1   \n",
       "3                  0                 0                   1   \n",
       "4                  0                 0                   0   \n",
       "\n",
       "   PaperlessBilling_Yes  Partner_Yes  StreamingMovies_Yes  StreamingTV_Yes  \\\n",
       "0                     1            1                    0                0   \n",
       "1                     0            0                    0                0   \n",
       "2                     1            0                    0                0   \n",
       "3                     0            0                    0                0   \n",
       "4                     1            0                    0                0   \n",
       "\n",
       "   gender_Male  \n",
       "0            0  \n",
       "1            1  \n",
       "2            1  \n",
       "3            1  \n",
       "4            0  "
      ]
     },
     "metadata": {},
     "output_type": "display_data"
    }
   ],
   "source": [
    "merged_data['TotalCharges'] = pd.to_numeric(merged_data['TotalCharges'], errors='coerce')\n",
    "\n",
    "excluded_columns = ['customerID', 'TotalCharges']  \n",
    "\n",
    "\n",
    "categorical_columns = merged_data.select_dtypes(include=['object']).columns.difference(excluded_columns)\n",
    "print(\"Categorical Columns for Encoding:\", list(categorical_columns))\n",
    "\n",
    "\n",
    "merged_data = pd.get_dummies(merged_data, columns=categorical_columns, drop_first=True)\n",
    "\n",
    "\n",
    "print(f\"Remaining Columns after Encoding: {len(merged_data.columns)}\")\n",
    "print(f\"Examples of Columns: {list(merged_data.columns[:10])}... (truncated)\")\n",
    "\n",
    "\n",
    "print(\"Sample of Processed Dataset:\")\n",
    "display(merged_data.head())\n",
    "\n"
   ]
  },
  {
   "cell_type": "code",
   "execution_count": 18,
   "metadata": {},
   "outputs": [
    {
     "data": {
      "text/plain": [
       "Index(['customerID', 'MonthlyCharges', 'TotalCharges', 'Churn',\n",
       "       'SeniorCitizen', 'tenure', 'is_fiber_optic', 'is_electronic_check',\n",
       "       'has_tech_support', 'contract_duration_months', 'Dependents_Yes',\n",
       "       'DeviceProtection_Yes', 'MultipleLines_Yes', 'OnlineBackup_Yes',\n",
       "       'OnlineSecurity_Yes', 'PaperlessBilling_Yes', 'Partner_Yes',\n",
       "       'StreamingMovies_Yes', 'StreamingTV_Yes', 'gender_Male'],\n",
       "      dtype='object')"
      ]
     },
     "execution_count": 18,
     "metadata": {},
     "output_type": "execute_result"
    }
   ],
   "source": [
    "merged_data.columns"
   ]
  },
  {
   "cell_type": "code",
   "execution_count": 19,
   "metadata": {
    "scrolled": true
   },
   "outputs": [
    {
     "name": "stdout",
     "output_type": "stream",
     "text": [
      "Final dataset shape: (7043, 20)\n",
      "Remaining features: ['customerID', 'MonthlyCharges', 'TotalCharges', 'Churn', 'SeniorCitizen', 'tenure', 'is_fiber_optic', 'is_electronic_check', 'has_tech_support', 'contract_duration_months']... (truncated)\n"
     ]
    }
   ],
   "source": [
    "print(f\"Final dataset shape: {merged_data.shape}\")\n",
    "print(f\"Remaining features: {list(merged_data.columns[:10])}... (truncated)\")\n",
    "\n"
   ]
  },
  {
   "cell_type": "markdown",
   "metadata": {},
   "source": [
    "##  Save Processed Dataset"
   ]
  },
  {
   "cell_type": "code",
   "execution_count": 20,
   "metadata": {},
   "outputs": [
    {
     "name": "stdout",
     "output_type": "stream",
     "text": [
      "Cleaned data saved successfully!\n"
     ]
    }
   ],
   "source": [
    "merged_data.to_csv('cleaned_churn_data.csv', index=False)\n",
    "print(\"Cleaned data saved successfully!\")"
   ]
  },
  {
   "cell_type": "markdown",
   "metadata": {},
   "source": [
    "##  Handle Class Imbalance (Oversampling)"
   ]
  },
  {
   "cell_type": "code",
   "execution_count": 21,
   "metadata": {},
   "outputs": [
    {
     "name": "stdout",
     "output_type": "stream",
     "text": [
      "Class distribution after manual oversampling:\n",
      "0    5174\n",
      "1    5174\n",
      "Name: Churn, dtype: int64\n"
     ]
    }
   ],
   "source": [
    "\n",
    "X = merged_data.drop(['Churn', 'customerID'], axis=1)\n",
    "y = merged_data['Churn']\n",
    "\n",
    "\n",
    "data = pd.concat([X, y], axis=1)\n",
    "\n",
    "\n",
    "majority_class = data[data['Churn'] == 0]\n",
    "minority_class = data[data['Churn'] == 1]\n",
    "\n",
    "\n",
    "minority_oversampled = resample(\n",
    "    minority_class, \n",
    "    replace=True,  \n",
    "    n_samples=len(majority_class),  \n",
    "    random_state=42  \n",
    ")\n",
    "\n",
    "\n",
    "oversampled_data = pd.concat([majority_class, minority_oversampled])\n",
    "\n",
    "\n",
    "X_resampled = oversampled_data.drop(['Churn'], axis=1)\n",
    "y_resampled = oversampled_data['Churn']\n",
    "\n",
    "\n",
    "print(\"Class distribution after manual oversampling:\")\n",
    "print(y_resampled.value_counts())\n"
   ]
  },
  {
   "cell_type": "markdown",
   "metadata": {},
   "source": [
    "This code cell manually addresses class imbalance in the dataset through oversampling. The Churn column is the target variable, with 0 representing retained customers and 1 representing churned customers. The minority class (Churn=1) is oversampled using the resample method from sklearn.utils. Specifically, the minority class is duplicated with replacement until its size matches the majority class (Churn=0). The oversampled minority class is then combined with the majority class to form a balanced dataset. Finally, the features (X_resampled) and target (y_resampled) are separated, and the new class distribution is printed to confirm the balance. The output shows an equal distribution of 5174 samples for both classes, ensuring a robust dataset for model training."
   ]
  },
  {
   "cell_type": "markdown",
   "metadata": {},
   "source": [
    "##  Split Data and Scaling"
   ]
  },
  {
   "cell_type": "code",
   "execution_count": 22,
   "metadata": {},
   "outputs": [],
   "source": [
    "X_train, X_test, y_train, y_test = train_test_split(X, y, test_size=0.25, random_state=42)\n",
    "\n",
    "scaler = StandardScaler()\n",
    "X_train_scaled = scaler.fit_transform(X_train)\n",
    "X_test_scaled = scaler.transform(X_test)\n"
   ]
  },
  {
   "cell_type": "code",
   "execution_count": 23,
   "metadata": {},
   "outputs": [
    {
     "name": "stdout",
     "output_type": "stream",
     "text": [
      "Are there NaNs in X_train_scaled? True\n",
      "Are there infinities in X_train_scaled? False\n",
      "Are there NaNs in y_train? False\n",
      "Are there infinities in y_train? False\n"
     ]
    }
   ],
   "source": [
    "print(\"Are there NaNs in X_train_scaled?\", np.isnan(X_train_scaled).any())\n",
    "print(\"Are there infinities in X_train_scaled?\", np.isinf(X_train_scaled).any())\n",
    "print(\"Are there NaNs in y_train?\", np.isnan(y_train).any())\n",
    "print(\"Are there infinities in y_train?\", np.isinf(y_train).any())\n"
   ]
  },
  {
   "cell_type": "code",
   "execution_count": 24,
   "metadata": {},
   "outputs": [
    {
     "name": "stdout",
     "output_type": "stream",
     "text": [
      "Are there NaNs in X_train? MonthlyCharges              False\n",
      "TotalCharges                 True\n",
      "SeniorCitizen               False\n",
      "tenure                      False\n",
      "is_fiber_optic              False\n",
      "is_electronic_check         False\n",
      "has_tech_support            False\n",
      "contract_duration_months    False\n",
      "Dependents_Yes              False\n",
      "DeviceProtection_Yes        False\n",
      "MultipleLines_Yes           False\n",
      "OnlineBackup_Yes            False\n",
      "OnlineSecurity_Yes          False\n",
      "PaperlessBilling_Yes        False\n",
      "Partner_Yes                 False\n",
      "StreamingMovies_Yes         False\n",
      "StreamingTV_Yes             False\n",
      "gender_Male                 False\n",
      "dtype: bool\n",
      "Are there infinities in X_train? MonthlyCharges              False\n",
      "TotalCharges                False\n",
      "SeniorCitizen               False\n",
      "tenure                      False\n",
      "is_fiber_optic              False\n",
      "is_electronic_check         False\n",
      "has_tech_support            False\n",
      "contract_duration_months    False\n",
      "Dependents_Yes              False\n",
      "DeviceProtection_Yes        False\n",
      "MultipleLines_Yes           False\n",
      "OnlineBackup_Yes            False\n",
      "OnlineSecurity_Yes          False\n",
      "PaperlessBilling_Yes        False\n",
      "Partner_Yes                 False\n",
      "StreamingMovies_Yes         False\n",
      "StreamingTV_Yes             False\n",
      "gender_Male                 False\n",
      "dtype: bool\n"
     ]
    }
   ],
   "source": [
    "print(\"Are there NaNs in X_train?\", np.isnan(X_train).any())\n",
    "print(\"Are there infinities in X_train?\", np.isinf(X_train).any())\n"
   ]
  },
  {
   "cell_type": "markdown",
   "metadata": {},
   "source": [
    "The provided code focuses on splitting the data into training and testing sets, handling missing values, and performing scaling operations. Here's a summary:\n",
    "\n",
    "Data Splitting:\n",
    "The dataset is split into training (X_train, y_train) and testing (X_test, y_test) subsets using the train_test_split method. A test size of 25% is specified, and a random state ensures reproducibility.\n",
    "\n",
    "Data Quality Checks:\n",
    "The script examines both the training and testing data for NaN and infinite values. The results confirm the presence of missing values in the TotalCharges column, while no infinite values are found.\n",
    "\n",
    "Handling Missing Values:\n",
    "Missing values in TotalCharges are imputed using the median strategy. This ensures the integrity of the dataset and prevents errors during the model training phase.\n",
    "\n",
    "Validation Post-Imputation:\n",
    "A thorough recheck confirms that all missing values are successfully replaced, and the dataset is clean.\n",
    "\n",
    "Scaling Features:\n",
    "The StandardScaler is applied to standardize the features in both training and testing datasets. This step ensures that all numerical features are scaled to a standard range, improving model performance and convergence."
   ]
  },
  {
   "cell_type": "markdown",
   "metadata": {},
   "source": [
    "##  Handle Missing Values"
   ]
  },
  {
   "cell_type": "code",
   "execution_count": 25,
   "metadata": {},
   "outputs": [
    {
     "name": "stdout",
     "output_type": "stream",
     "text": [
      "Remaining NaNs in X_train after imputation: 0\n",
      "Remaining NaNs in X_test after imputation: 0\n"
     ]
    }
   ],
   "source": [
    "X_train = X_train.copy()\n",
    "X_test = X_test.copy()\n",
    "\n",
    "\n",
    "imputer = SimpleImputer(strategy='median')\n",
    "X_train['TotalCharges'] = imputer.fit_transform(X_train[['TotalCharges']]).ravel()\n",
    "X_test['TotalCharges'] = imputer.transform(X_test[['TotalCharges']]).ravel()\n",
    "\n",
    "\n",
    "print(\"Remaining NaNs in X_train after imputation:\", X_train.isnull().sum().sum())\n",
    "print(\"Remaining NaNs in X_test after imputation:\", X_test.isnull().sum().sum())\n",
    "\n"
   ]
  },
  {
   "cell_type": "code",
   "execution_count": 26,
   "metadata": {},
   "outputs": [
    {
     "name": "stdout",
     "output_type": "stream",
     "text": [
      "Are there NaNs in X_train before scaling? MonthlyCharges              0\n",
      "TotalCharges                0\n",
      "SeniorCitizen               0\n",
      "tenure                      0\n",
      "is_fiber_optic              0\n",
      "is_electronic_check         0\n",
      "has_tech_support            0\n",
      "contract_duration_months    0\n",
      "Dependents_Yes              0\n",
      "DeviceProtection_Yes        0\n",
      "MultipleLines_Yes           0\n",
      "OnlineBackup_Yes            0\n",
      "OnlineSecurity_Yes          0\n",
      "PaperlessBilling_Yes        0\n",
      "Partner_Yes                 0\n",
      "StreamingMovies_Yes         0\n",
      "StreamingTV_Yes             0\n",
      "gender_Male                 0\n",
      "dtype: int64\n",
      "Are there NaNs in X_test before scaling? MonthlyCharges              0\n",
      "TotalCharges                0\n",
      "SeniorCitizen               0\n",
      "tenure                      0\n",
      "is_fiber_optic              0\n",
      "is_electronic_check         0\n",
      "has_tech_support            0\n",
      "contract_duration_months    0\n",
      "Dependents_Yes              0\n",
      "DeviceProtection_Yes        0\n",
      "MultipleLines_Yes           0\n",
      "OnlineBackup_Yes            0\n",
      "OnlineSecurity_Yes          0\n",
      "PaperlessBilling_Yes        0\n",
      "Partner_Yes                 0\n",
      "StreamingMovies_Yes         0\n",
      "StreamingTV_Yes             0\n",
      "gender_Male                 0\n",
      "dtype: int64\n"
     ]
    }
   ],
   "source": [
    "print(\"Are there NaNs in X_train before scaling?\", X_train.isnull().sum())\n",
    "print(\"Are there NaNs in X_test before scaling?\", X_test.isnull().sum())\n"
   ]
  },
  {
   "cell_type": "code",
   "execution_count": 27,
   "metadata": {},
   "outputs": [
    {
     "name": "stdout",
     "output_type": "stream",
     "text": [
      "Training set: (5282, 18), Testing set: (1761, 18)\n",
      "Are there NaNs in X_train before scaling? False\n",
      "Are there NaNs in X_test before scaling? False\n"
     ]
    }
   ],
   "source": [
    "print(f\"Training set: {X_train.shape}, Testing set: {X_test.shape}\")\n",
    "print(\"Are there NaNs in X_train before scaling?\", X_train.isnull().sum().sum() > 0)\n",
    "print(\"Are there NaNs in X_test before scaling?\", X_test.isnull().sum().sum() > 0)\n"
   ]
  },
  {
   "cell_type": "markdown",
   "metadata": {},
   "source": [
    "Handle Missing Values, deals with the detection and imputation of missing values in the dataset. The code begins by creating deep copies of the training (X_train) and testing (X_test) datasets to ensure data integrity. It identifies missing values specifically in the TotalCharges column and imputes them using the median value for that column, leveraging SimpleImputer from the sklearn.impute module. This imputation replaces NaN values with the median, ensuring no gaps in the dataset for subsequent processing.\n",
    "\n",
    "After imputation, the code verifies the absence of missing values in both training and testing datasets using the isnull() method, confirming that all NaN entries are successfully resolved. Finally, the dataset is inspected again for any remaining missing values before proceeding to scaling, which ensures the data is clean and ready for further transformations. A final check on the dataset shape and NaN counts confirms that both X_train and X_test are free of missing values and ready for scaling. This step ensures data consistency and avoids issues during model training."
   ]
  },
  {
   "cell_type": "markdown",
   "metadata": {},
   "source": [
    "##  Evaluate Baseline Models"
   ]
  },
  {
   "cell_type": "code",
   "execution_count": 28,
   "metadata": {},
   "outputs": [],
   "source": [
    "scaler = StandardScaler()\n",
    "X_train_scaled = scaler.fit_transform(X_train)\n",
    "X_test_scaled = scaler.transform(X_test)\n"
   ]
  },
  {
   "cell_type": "code",
   "execution_count": 29,
   "metadata": {},
   "outputs": [],
   "source": [
    "lr_model = LogisticRegression(random_state=42)\n",
    "lr_model.fit(X_train_scaled, y_train)\n",
    "lr_pred = lr_model.predict(X_test_scaled)\n",
    "\n",
    "\n",
    "dt_model = DecisionTreeClassifier(random_state=42)\n",
    "dt_model.fit(X_train_scaled, y_train)\n",
    "dt_pred = dt_model.predict(X_test_scaled)\n"
   ]
  },
  {
   "cell_type": "code",
   "execution_count": 30,
   "metadata": {},
   "outputs": [
    {
     "name": "stdout",
     "output_type": "stream",
     "text": [
      "Logistic Regression AUC-ROC: 0.8484117652806321\n",
      "Logistic Regression Accuracy: 0.8103350369108461\n",
      "Decision Tree AUC-ROC: 0.7877891733623417\n",
      "Decision Tree Accuracy: 0.8319136854060193\n"
     ]
    }
   ],
   "source": [
    "print(\"Logistic Regression AUC-ROC:\", roc_auc_score(y_test, lr_model.predict_proba(X_test_scaled)[:, 1]))\n",
    "print(\"Logistic Regression Accuracy:\", accuracy_score(y_test, lr_pred))\n",
    "\n",
    "print(\"Decision Tree AUC-ROC:\", roc_auc_score(y_test, dt_model.predict_proba(X_test_scaled)[:, 1]))\n",
    "print(\"Decision Tree Accuracy:\", accuracy_score(y_test, dt_pred))\n"
   ]
  },
  {
   "cell_type": "markdown",
   "metadata": {},
   "source": [
    "This section, Evaluate Baseline Models, focuses on initializing, training, and evaluating baseline machine learning models. The first step involves scaling the dataset using StandardScaler to normalize the features in both training (X_train_scaled) and testing (X_test_scaled) datasets, ensuring that the models are not biased by feature magnitudes.\n",
    "\n",
    "Two baseline models are introduced: Logistic Regression and Decision Tree Classifier. These models are trained using the scaled training data (X_train_scaled) and the target variable (y_train). Predictions are then generated on the test dataset (X_test_scaled) to evaluate their performance.\n",
    "\n",
    "The evaluation metrics include AUC-ROC (Area Under the Receiver Operating Characteristic Curve) and Accuracy. For Logistic Regression, the AUC-ROC score is approximately 0.848, and the accuracy is 81.03%. For the Decision Tree Classifier, the AUC-ROC score is approximately 0.788, and the accuracy is 83.19%. These baseline results serve as a reference point for comparing the performance of more advanced models in subsequent steps."
   ]
  },
  {
   "cell_type": "markdown",
   "metadata": {},
   "source": [
    "## Advanced Model Training"
   ]
  },
  {
   "cell_type": "code",
   "execution_count": 31,
   "metadata": {},
   "outputs": [],
   "source": [
    "xgb_model = XGBClassifier(random_state=42, use_label_encoder=False, eval_metric='logloss')\n",
    "xgb_model.fit(X_train_scaled, y_train)\n",
    "\n",
    "xgb_pred = xgb_model.predict(X_test_scaled)\n"
   ]
  },
  {
   "cell_type": "code",
   "execution_count": 32,
   "metadata": {},
   "outputs": [
    {
     "data": {
      "image/png": "[encoded data removed]",
      "text/plain": [
       "<Figure size 640x480 with 2 Axes>"
      ]
     },
     "metadata": {},
     "output_type": "display_data"
    }
   ],
   "source": [
    "cm = confusion_matrix(y_test, xgb_pred)\n",
    "sns.heatmap(cm, annot=True, fmt='d', cmap='Blues')\n",
    "plt.xlabel('Predicted')\n",
    "plt.ylabel('Actual')\n",
    "plt.title('Confusion Matrix (XGBoost)')\n",
    "plt.show()\n"
   ]
  },
  {
   "cell_type": "markdown",
   "metadata": {},
   "source": [
    "Advanced Model Training, highlights the training of the XGBoost (Extreme Gradient Boosting) model, an advanced and robust machine learning algorithm. The XGBoost model is initialized with specified parameters, including random_state=42 for reproducibility, use_label_encoder=False to suppress warnings, and eval_metric='logloss' to optimize the log-loss function during training. The model is trained on the scaled training dataset (X_train_scaled) with the target variable (y_train).\n",
    "\n",
    "Once the training is complete, predictions are generated on the test dataset (X_test_scaled). To evaluate the model's performance, a confusion matrix is computed using the confusion_matrix function from sklearn.metrics. The matrix visualizes the actual vs. predicted outcomes for the two classes (e.g., churned and retained customers). The plot is enhanced using Seaborn's heatmap for better readability.\n",
    "\n",
    "The confusion matrix shows:\n",
    "\n",
    "True positives: 348\n",
    "True negatives: 1240\n",
    "False positives: 42\n",
    "False negatives: 131.\n",
    "\n",
    "This detailed evaluation aids in understanding the model's predictive capabilities and identifying areas for further optimization."
   ]
  },
  {
   "cell_type": "markdown",
   "metadata": {},
   "source": [
    "## Feature Importance Analysis"
   ]
  },
  {
   "cell_type": "code",
   "execution_count": 33,
   "metadata": {},
   "outputs": [
    {
     "data": {
      "image/png": "[encoded data removed]",
      "text/plain": [
       "<Figure size 640x480 with 1 Axes>"
      ]
     },
     "metadata": {},
     "output_type": "display_data"
    }
   ],
   "source": [
    "feature_importances = xgb_model.feature_importances_\n",
    "plt.barh(X_train.columns, feature_importances)\n",
    "plt.title(\"Feature Importances (XGBoost)\")\n",
    "plt.show()\n"
   ]
  },
  {
   "cell_type": "code",
   "execution_count": 34,
   "metadata": {},
   "outputs": [],
   "source": [
    "rf_model = RandomForestClassifier(random_state=42)\n",
    "rf_model.fit(X_train_scaled, y_train)\n",
    "rf_pred = rf_model.predict(X_test_scaled)\n",
    "\n",
    "xgb_model = XGBClassifier(random_state=42, use_label_encoder=False, eval_metric='logloss')\n",
    "xgb_model.fit(X_train_scaled, y_train)\n",
    "xgb_pred = xgb_model.predict(X_test_scaled)\n"
   ]
  },
  {
   "cell_type": "code",
   "execution_count": 35,
   "metadata": {},
   "outputs": [
    {
     "name": "stdout",
     "output_type": "stream",
     "text": [
      "Random Forest AUC-ROC: 0.8979616595937324\n",
      "Random Forest Accuracy: 0.8495173197047132\n",
      "XGBoost AUC-ROC: 0.942837880529835\n",
      "XGBoost Accuracy: 0.9017603634298694\n"
     ]
    }
   ],
   "source": [
    "print(\"Random Forest AUC-ROC:\", roc_auc_score(y_test, rf_model.predict_proba(X_test_scaled)[:, 1]))\n",
    "print(\"Random Forest Accuracy:\", accuracy_score(y_test, rf_pred))\n",
    "\n",
    "print(\"XGBoost AUC-ROC:\", roc_auc_score(y_test, xgb_model.predict_proba(X_test_scaled)[:, 1]))\n",
    "print(\"XGBoost Accuracy:\", accuracy_score(y_test, xgb_pred))\n"
   ]
  },
  {
   "cell_type": "markdown",
   "metadata": {},
   "source": [
    "This section focuses on evaluating feature importance and comparing the performance of two models: Random Forest and XGBoost.\n",
    "\n",
    "The feature importance analysis leverages XGBoost's built-in feature importance scores to visualize the impact of different variables on model predictions. A bar chart highlights features such as contract_duration_months and is_fiber_optic as the most influential factors, aiding interpretability.\n",
    "\n",
    "The model evaluation compares Random Forest and XGBoost on the test set. Key metrics, AUC-ROC and accuracy, are computed for both models. Random Forest achieves an AUC-ROC of 0.898 and an accuracy of 84.95%, while XGBoost outperforms it with an AUC-ROC of 0.943 and an accuracy of 90.18%. These results underscore XGBoost's superior predictive performance in this task."
   ]
  },
  {
   "cell_type": "markdown",
   "metadata": {},
   "source": [
    "## Comparison of Model Performance"
   ]
  },
  {
   "cell_type": "code",
   "execution_count": 36,
   "metadata": {},
   "outputs": [
    {
     "name": "stdout",
     "output_type": "stream",
     "text": [
      "                 Model   AUC-ROC  Accuracy\n",
      "0  Logistic Regression  0.848412  0.810335\n",
      "1        Decision Tree  0.787789  0.831914\n",
      "2        Random Forest  0.897962  0.849517\n",
      "3              XGBoost  0.942838  0.901760\n"
     ]
    }
   ],
   "source": [
    "results = pd.DataFrame({\n",
    "    'Model': ['Logistic Regression', 'Decision Tree', 'Random Forest', 'XGBoost'],\n",
    "    'AUC-ROC': [\n",
    "        roc_auc_score(y_test, lr_model.predict_proba(X_test_scaled)[:, 1]),\n",
    "        roc_auc_score(y_test, dt_model.predict_proba(X_test_scaled)[:, 1]),\n",
    "        roc_auc_score(y_test, rf_model.predict_proba(X_test_scaled)[:, 1]),\n",
    "        roc_auc_score(y_test, xgb_model.predict_proba(X_test_scaled)[:, 1])\n",
    "    ],\n",
    "    'Accuracy': [\n",
    "        accuracy_score(y_test, lr_pred),\n",
    "        accuracy_score(y_test, dt_pred),\n",
    "        accuracy_score(y_test, rf_pred),\n",
    "        accuracy_score(y_test, xgb_pred)\n",
    "    ]\n",
    "})\n",
    "\n",
    "print(results)\n"
   ]
  },
  {
   "cell_type": "markdown",
   "metadata": {},
   "source": [
    "This section consolidates the performance metrics of four models—Logistic Regression, Decision Tree, Random Forest, and XGBoost—into a single DataFrame for easy comparison.\n",
    "\n",
    "The metrics include the AUC-ROC score, which measures the area under the receiver operating characteristic curve, and accuracy, the proportion of correct predictions. The results highlight the performance differences:\n",
    "\n",
    "Logistic Regression: AUC-ROC of 0.848 and accuracy of 81.03%.\n",
    "Decision Tree: AUC-ROC of 0.788 and accuracy of 83.19%.\n",
    "Random Forest: AUC-ROC of 0.898 and accuracy of 84.95%.\n",
    "XGBoost: AUC-ROC of 0.943 and accuracy of 90.18%.\n",
    "XGBoost emerges as the best-performing model, significantly surpassing the others in both metrics, indicating its suitability for this classification task.\n",
    "\n",
    "\n",
    "\n",
    "\n",
    "\n",
    "\n"
   ]
  },
  {
   "cell_type": "markdown",
   "metadata": {},
   "source": [
    "## Save the Best Model"
   ]
  },
  {
   "cell_type": "code",
   "execution_count": 37,
   "metadata": {},
   "outputs": [
    {
     "name": "stdout",
     "output_type": "stream",
     "text": [
      "Best model saved successfully!\n"
     ]
    }
   ],
   "source": [
    "joblib.dump(xgb_model, 'best_churn_model.pkl')\n",
    "print(\"Best model saved successfully!\")\n"
   ]
  },
  {
   "cell_type": "markdown",
   "metadata": {},
   "source": [
    "This section finalizes the project by saving the best-performing model, XGBoost, for future use. The model is serialized and stored using the joblib library, which is well-suited for saving large machine learning models efficiently. The file is named best_churn_model.pkl, and a confirmation message is printed to indicate successful completion. This step ensures the saved model can be loaded later for deployment or further analysis without retraining."
   ]
  },
  {
   "cell_type": "markdown",
   "metadata": {},
   "source": [
    "##  Conclusion\n",
    "The project effectively addressed the challenge of predicting customer churn for the telecom operator through a systematic approach to data preparation, feature engineering, and model development. The key highlights are as follows:\n",
    "\n",
    "Target Transformation: The EndDate column was successfully transformed into a binary Churn column, providing a clear target variable for modeling.\n",
    "\n",
    "Data Consistency and Integrity: The consistency of customerID across datasets was verified. Missing values were handled by filling non-subscribed service features with \"No\" to ensure analytical integrity.\n",
    "\n",
    "Feature Engineering: Meaningful features were engineered to enhance the model's predictive power:\n",
    "\n",
    "is_fiber_optic: Indicates customers using fiber optic internet.\n",
    "is_electronic_check: Identifies customers paying via electronic checks.\n",
    "has_tech_support: Flags customers subscribed to technical support.\n",
    "contract_duration_months: Captures the contract duration in months, distinguishing between monthly, one-year, and two-year contracts.\n",
    "Class Imbalance: The class imbalance issue in the target variable was resolved using oversampling, ensuring equal representation of churned and retained customers for unbiased model training.\n",
    "\n",
    "Visual Insights: Key patterns were uncovered through data visualizations:\n",
    "\n",
    "Fiber optic users and customers using electronic checks had higher churn rates.\n",
    "Month-to-month contracts and lack of technical support were strongly associated with increased churn.\n",
    "Higher monthly charges were linked to churn, emphasizing the need for cost-sensitive retention strategies.\n",
    "Model Development and Performance:\n",
    "\n",
    "Baseline models (Logistic Regression and Decision Tree) established initial performance benchmarks.\n",
    "Advanced models (Random Forest and XGBoost) significantly improved predictive performance, with XGBoost achieving the highest AUC-ROC (0.943) and accuracy (90.18%).\n",
    "Feature Importance: XGBoost's feature importance analysis revealed that contract duration, fiber optic usage, and technical support were the most influential predictors of churn.\n",
    "\n",
    "Model Deployment: The XGBoost model, as the best-performing algorithm, was saved for future use, ready to be deployed for real-world applications.\n",
    "\n",
    "Next Steps\n",
    "With the model trained and evaluated, the following steps are recommended:\n",
    "\n",
    "Deployment and Monitoring: Deploy the XGBoost model and monitor its performance on live data. Update the model periodically to reflect evolving customer behavior.\n",
    "Actionable Insights: Use the insights gained (e.g., the importance of contract type and technical support) to design targeted retention strategies.\n",
    "Model Optimization: Explore additional hyperparameter tuning or ensemble techniques to further refine model performance.\n",
    "Customer Retention Programs: Leverage the model's predictions to proactively address at-risk customers and offer tailored incentives to reduce churn.\n",
    "This project lays a robust foundation for leveraging machine learning to predict churn and drive data-driven business decisions. The processed dataset, enriched features, and top-performing model align with business objectives, offering actionable insights to retain customers and enhance profitability.\n",
    "\n",
    "\n",
    "\n"
   ]
  },
  {
   "cell_type": "markdown",
   "metadata": {},
   "source": [
    "## Questions to consider:\n",
    "Could we leverage customer feedback or complaint logs to identify early indicators of churn for fiber optic users?\n",
    "\n",
    "\n",
    "What thresholds in churn probability should trigger specific retention campaigns, such as promotional offers or plan adjustments?\n",
    "\n",
    "\n",
    "Beyond AUC-ROC, how might metrics like precision and recall help identify customers at the highest risk of churn while minimizing false positives?\n",
    "\n",
    "\n"
   ]
  },
  {
   "cell_type": "markdown",
   "metadata": {},
   "source": [
    "## Solution Report"
   ]
  },
  {
   "cell_type": "markdown",
   "metadata": {},
   "source": [
    "### What steps of the plan were performed, and what steps were skipped (explain why)?\n",
    "\n",
    "\n",
    "Performed Steps:\n",
    "*Data Exploration: Inspected all datasets for missing values, duplicates, and inconsistencies. Verified customerID consistency across datasets.\n",
    "\n",
    "Feature Engineering: Created meaningful features such as is_fiber_optic, has_tech_support, and contract_duration_months.\n",
    "\n",
    "*Data Cleaning: Handled missing values in TotalCharges and filled missing service features with \"No.\"\n",
    "\n",
    "*Handling Class Imbalance: Balanced the dataset using oversampling to address churn class imbalance.\n",
    "\n",
    "*Model Training and Evaluation: Developed baseline models (Logistic Regression, Decision Tree) and advanced models (Random \n",
    "Forest, XGBoost).\n",
    "\n",
    "*Visualization: Visualized churn patterns across features for better insights.\n",
    "\n",
    "*Feature Scaling: Scaled numerical features to improve model performance.\n",
    "\n",
    "*Model Comparison: Compared models based on AUC-ROC and accuracy.\n",
    "\n",
    "*Model Saving: Saved the best model (XGBoost) for future use.\n",
    "\n",
    "*Skipped Steps:\n",
    "\n",
    "*Customer Feedback Analysis: No data on customer feedback or complaint logs was available.\n",
    "\n",
    "*Profit Analysis or Business-Specific Metrics: The task primarily required AUC-ROC and accuracy evaluation, so business-\n",
    "specific metrics were not included.\n",
    "\n",
    "\n",
    "\n",
    "### What difficulties did you encounter, and how did you manage to solve them?\n",
    "\n",
    "*Class Imbalance: The churn dataset was imbalanced, with fewer churned customers. This was resolved using manual oversampling to balance the classes.\n",
    "\n",
    "*Missing Values in TotalCharges: Encountered missing values in a key numerical column. Solved by imputing the median to retain data integrity.\n",
    "\n",
    "*Multiple Datasets: Merging and ensuring consistency across datasets required careful alignment. Consistency checks and exploratory analysis ensured proper integration.\n",
    "\n",
    "\n",
    "\n",
    "### What were some of the key steps to solving the task?\n",
    "*Feature Engineering: Creating domain-relevant features such as contract_duration_months and indicators for fiber optic and electronic check usage provided the model with strong predictors.\n",
    "\n",
    "*Data Balancing: Oversampling was essential to ensure the model learned patterns from both churned and retained customers equally.\n",
    "\n",
    "*Advanced Modeling: Training XGBoost, which outperformed other models, was a critical step to achieving high-quality predictions.\n",
    "\n",
    "*Exploratory Data Analysis (EDA): EDA uncovered key insights, such as the higher churn rate among fiber optic users and those with electronic check payment methods.\n",
    "\n",
    "\n",
    "\n",
    "### What is your final model, and what quality score does it have?\n",
    "*Final Model: XGBoost\n",
    "*Performance Metrics:\n",
    "*AUC-ROC: 0.9428\n",
    "*Accuracy: 90.18%\n",
    "These scores exceed the project's benchmark, demonstrating excellent predictive performance.\n"
   ]
  },
  {
   "cell_type": "code",
   "execution_count": null,
   "metadata": {},
   "outputs": [],
   "source": []
  }
 ],
 "metadata": {
  "ExecuteTimeLog": [
   {
    "duration": 376,
    "start_time": "2024-11-25T18:15:59.957Z"
   },
   {
    "duration": 61,
    "start_time": "2024-11-25T18:16:52.156Z"
   },
   {
    "duration": 12,
    "start_time": "2024-11-25T18:17:16.756Z"
   },
   {
    "duration": 17,
    "start_time": "2024-11-25T18:20:03.243Z"
   },
   {
    "duration": 9,
    "start_time": "2024-11-25T18:20:25.131Z"
   },
   {
    "duration": 27,
    "start_time": "2024-11-25T18:20:35.445Z"
   },
   {
    "duration": 29,
    "start_time": "2024-11-25T18:20:53.225Z"
   },
   {
    "duration": 108,
    "start_time": "2024-11-25T18:21:11.294Z"
   },
   {
    "duration": 43,
    "start_time": "2024-11-25T18:21:21.854Z"
   },
   {
    "duration": 6358,
    "start_time": "2024-11-25T18:21:46.173Z"
   },
   {
    "duration": 6,
    "start_time": "2024-11-25T18:43:17.160Z"
   },
   {
    "duration": 440,
    "start_time": "2024-11-25T19:02:52.879Z"
   },
   {
    "duration": 20,
    "start_time": "2024-11-25T19:02:53.321Z"
   },
   {
    "duration": 22,
    "start_time": "2024-11-25T19:02:53.343Z"
   },
   {
    "duration": 8,
    "start_time": "2024-11-25T19:02:53.367Z"
   },
   {
    "duration": 55,
    "start_time": "2024-11-25T19:02:53.378Z"
   },
   {
    "duration": 125,
    "start_time": "2024-11-25T19:02:53.435Z"
   },
   {
    "duration": 7396,
    "start_time": "2024-11-25T19:02:53.562Z"
   },
   {
    "duration": 3,
    "start_time": "2024-11-25T19:05:43.825Z"
   },
   {
    "duration": 58,
    "start_time": "2024-11-25T19:05:57.150Z"
   },
   {
    "duration": 183,
    "start_time": "2024-11-25T19:07:21.276Z"
   },
   {
    "duration": 2556,
    "start_time": "2024-11-25T19:08:02.665Z"
   },
   {
    "duration": 63,
    "start_time": "2024-11-25T19:08:05.223Z"
   },
   {
    "duration": 12,
    "start_time": "2024-11-25T19:08:05.288Z"
   },
   {
    "duration": 36,
    "start_time": "2024-11-25T19:08:05.302Z"
   },
   {
    "duration": 9,
    "start_time": "2024-11-25T19:08:05.341Z"
   },
   {
    "duration": 30,
    "start_time": "2024-11-25T19:08:05.351Z"
   },
   {
    "duration": 239,
    "start_time": "2024-11-25T19:08:05.382Z"
   },
   {
    "duration": 0,
    "start_time": "2024-11-25T19:08:05.623Z"
   },
   {
    "duration": 0,
    "start_time": "2024-11-25T19:08:05.624Z"
   },
   {
    "duration": 0,
    "start_time": "2024-11-25T19:08:05.631Z"
   },
   {
    "duration": 0,
    "start_time": "2024-11-25T19:08:05.632Z"
   },
   {
    "duration": 2,
    "start_time": "2024-11-25T19:08:22.809Z"
   },
   {
    "duration": 803,
    "start_time": "2024-11-25T19:08:31.768Z"
   },
   {
    "duration": 70,
    "start_time": "2024-11-25T19:08:32.573Z"
   },
   {
    "duration": 13,
    "start_time": "2024-11-25T19:08:32.645Z"
   },
   {
    "duration": 16,
    "start_time": "2024-11-25T19:08:32.660Z"
   },
   {
    "duration": 9,
    "start_time": "2024-11-25T19:08:32.677Z"
   },
   {
    "duration": 58,
    "start_time": "2024-11-25T19:08:32.688Z"
   },
   {
    "duration": 108,
    "start_time": "2024-11-25T19:08:32.748Z"
   },
   {
    "duration": 109,
    "start_time": "2024-11-25T19:08:32.858Z"
   },
   {
    "duration": 128,
    "start_time": "2024-11-25T19:08:32.969Z"
   },
   {
    "duration": 169,
    "start_time": "2024-11-25T19:08:33.100Z"
   },
   {
    "duration": 6750,
    "start_time": "2024-11-25T19:08:33.271Z"
   },
   {
    "duration": 624,
    "start_time": "2024-11-25T19:08:55.500Z"
   },
   {
    "duration": 812,
    "start_time": "2024-11-25T19:09:03.146Z"
   },
   {
    "duration": 57,
    "start_time": "2024-11-25T19:09:03.961Z"
   },
   {
    "duration": 13,
    "start_time": "2024-11-25T19:09:04.030Z"
   },
   {
    "duration": 18,
    "start_time": "2024-11-25T19:09:04.045Z"
   },
   {
    "duration": 9,
    "start_time": "2024-11-25T19:09:04.065Z"
   },
   {
    "duration": 59,
    "start_time": "2024-11-25T19:09:04.076Z"
   },
   {
    "duration": 110,
    "start_time": "2024-11-25T19:09:04.137Z"
   },
   {
    "duration": 106,
    "start_time": "2024-11-25T19:09:04.248Z"
   },
   {
    "duration": 131,
    "start_time": "2024-11-25T19:09:04.355Z"
   },
   {
    "duration": 204,
    "start_time": "2024-11-25T19:09:04.488Z"
   },
   {
    "duration": 119,
    "start_time": "2024-11-25T19:09:04.694Z"
   },
   {
    "duration": 7029,
    "start_time": "2024-11-25T19:09:04.815Z"
   },
   {
    "duration": 5,
    "start_time": "2024-11-25T19:09:30.768Z"
   },
   {
    "duration": 807,
    "start_time": "2024-11-26T00:44:43.139Z"
   },
   {
    "duration": 66,
    "start_time": "2024-11-26T00:44:43.948Z"
   },
   {
    "duration": 22,
    "start_time": "2024-11-26T00:44:44.015Z"
   },
   {
    "duration": 15,
    "start_time": "2024-11-26T00:44:44.039Z"
   },
   {
    "duration": 11,
    "start_time": "2024-11-26T00:44:44.056Z"
   },
   {
    "duration": 63,
    "start_time": "2024-11-26T00:44:44.068Z"
   },
   {
    "duration": 108,
    "start_time": "2024-11-26T00:44:44.133Z"
   },
   {
    "duration": 115,
    "start_time": "2024-11-26T00:44:44.242Z"
   },
   {
    "duration": 133,
    "start_time": "2024-11-26T00:44:44.359Z"
   },
   {
    "duration": 197,
    "start_time": "2024-11-26T00:44:44.494Z"
   },
   {
    "duration": 119,
    "start_time": "2024-11-26T00:44:44.693Z"
   },
   {
    "duration": 6990,
    "start_time": "2024-11-26T00:44:44.814Z"
   },
   {
    "duration": 790,
    "start_time": "2024-11-26T00:51:31.780Z"
   },
   {
    "duration": 66,
    "start_time": "2024-11-26T00:51:32.572Z"
   },
   {
    "duration": 13,
    "start_time": "2024-11-26T00:51:32.640Z"
   },
   {
    "duration": 16,
    "start_time": "2024-11-26T00:51:32.654Z"
   },
   {
    "duration": 9,
    "start_time": "2024-11-26T00:51:32.672Z"
   },
   {
    "duration": 64,
    "start_time": "2024-11-26T00:51:32.682Z"
   },
   {
    "duration": 105,
    "start_time": "2024-11-26T00:51:32.749Z"
   },
   {
    "duration": 108,
    "start_time": "2024-11-26T00:51:32.856Z"
   },
   {
    "duration": 128,
    "start_time": "2024-11-26T00:51:32.966Z"
   },
   {
    "duration": 208,
    "start_time": "2024-11-26T00:51:33.096Z"
   },
   {
    "duration": 114,
    "start_time": "2024-11-26T00:51:33.306Z"
   },
   {
    "duration": 6299,
    "start_time": "2024-11-26T00:51:33.421Z"
   },
   {
    "duration": 2588,
    "start_time": "2024-11-27T09:16:05.163Z"
   },
   {
    "duration": 85,
    "start_time": "2024-11-27T09:16:07.753Z"
   },
   {
    "duration": 13,
    "start_time": "2024-11-27T09:16:07.840Z"
   },
   {
    "duration": 23,
    "start_time": "2024-11-27T09:16:07.856Z"
   },
   {
    "duration": 9,
    "start_time": "2024-11-27T09:16:07.881Z"
   },
   {
    "duration": 35,
    "start_time": "2024-11-27T09:16:07.891Z"
   },
   {
    "duration": 123,
    "start_time": "2024-11-27T09:16:07.927Z"
   },
   {
    "duration": 105,
    "start_time": "2024-11-27T09:16:08.052Z"
   },
   {
    "duration": 137,
    "start_time": "2024-11-27T09:16:08.160Z"
   },
   {
    "duration": 153,
    "start_time": "2024-11-27T09:16:08.299Z"
   },
   {
    "duration": 25,
    "start_time": "2024-11-27T09:16:08.454Z"
   },
   {
    "duration": 211,
    "start_time": "2024-11-27T09:17:24.887Z"
   },
   {
    "duration": 9,
    "start_time": "2024-11-27T09:17:33.951Z"
   },
   {
    "duration": 108,
    "start_time": "2024-11-27T09:31:11.862Z"
   },
   {
    "duration": 16,
    "start_time": "2024-11-27T09:31:24.403Z"
   },
   {
    "duration": 4,
    "start_time": "2024-11-27T09:31:28.832Z"
   },
   {
    "duration": 4,
    "start_time": "2024-11-27T09:31:40.762Z"
   },
   {
    "duration": 2,
    "start_time": "2024-11-27T09:50:39.870Z"
   },
   {
    "duration": 61,
    "start_time": "2024-11-27T09:50:39.875Z"
   },
   {
    "duration": 34,
    "start_time": "2024-11-27T09:50:39.938Z"
   },
   {
    "duration": 16,
    "start_time": "2024-11-27T09:50:39.974Z"
   },
   {
    "duration": 8,
    "start_time": "2024-11-27T09:50:39.992Z"
   },
   {
    "duration": 31,
    "start_time": "2024-11-27T09:50:40.003Z"
   },
   {
    "duration": 115,
    "start_time": "2024-11-27T09:50:40.036Z"
   },
   {
    "duration": 109,
    "start_time": "2024-11-27T09:50:40.153Z"
   },
   {
    "duration": 198,
    "start_time": "2024-11-27T09:50:40.264Z"
   },
   {
    "duration": 154,
    "start_time": "2024-11-27T09:50:40.464Z"
   },
   {
    "duration": 10,
    "start_time": "2024-11-27T09:50:40.620Z"
   },
   {
    "duration": 2712,
    "start_time": "2024-11-27T22:57:44.489Z"
   },
   {
    "duration": 89,
    "start_time": "2024-11-27T22:57:47.205Z"
   },
   {
    "duration": 14,
    "start_time": "2024-11-27T22:57:47.296Z"
   },
   {
    "duration": 17,
    "start_time": "2024-11-27T22:57:47.312Z"
   },
   {
    "duration": 10,
    "start_time": "2024-11-27T22:57:47.344Z"
   },
   {
    "duration": 31,
    "start_time": "2024-11-27T22:57:47.355Z"
   },
   {
    "duration": 122,
    "start_time": "2024-11-27T22:57:47.388Z"
   },
   {
    "duration": 125,
    "start_time": "2024-11-27T22:57:47.512Z"
   },
   {
    "duration": 137,
    "start_time": "2024-11-27T22:57:47.643Z"
   },
   {
    "duration": 163,
    "start_time": "2024-11-27T22:57:47.782Z"
   },
   {
    "duration": 10,
    "start_time": "2024-11-27T22:57:47.947Z"
   },
   {
    "duration": 130,
    "start_time": "2024-11-27T22:57:47.959Z"
   },
   {
    "duration": 5,
    "start_time": "2024-11-27T22:57:48.091Z"
   },
   {
    "duration": 7313,
    "start_time": "2024-11-27T22:57:48.099Z"
   },
   {
    "duration": 846,
    "start_time": "2024-11-27T23:02:15.355Z"
   },
   {
    "duration": 63,
    "start_time": "2024-11-27T23:02:16.203Z"
   },
   {
    "duration": 16,
    "start_time": "2024-11-27T23:02:16.268Z"
   },
   {
    "duration": 17,
    "start_time": "2024-11-27T23:02:16.285Z"
   },
   {
    "duration": 44,
    "start_time": "2024-11-27T23:02:16.306Z"
   },
   {
    "duration": 32,
    "start_time": "2024-11-27T23:02:16.351Z"
   },
   {
    "duration": 128,
    "start_time": "2024-11-27T23:02:16.384Z"
   },
   {
    "duration": 113,
    "start_time": "2024-11-27T23:02:16.513Z"
   },
   {
    "duration": 139,
    "start_time": "2024-11-27T23:02:16.628Z"
   },
   {
    "duration": 207,
    "start_time": "2024-11-27T23:02:16.769Z"
   },
   {
    "duration": 10,
    "start_time": "2024-11-27T23:02:16.978Z"
   },
   {
    "duration": 15,
    "start_time": "2024-11-27T23:02:16.990Z"
   },
   {
    "duration": 137,
    "start_time": "2024-11-27T23:02:17.006Z"
   },
   {
    "duration": 4,
    "start_time": "2024-11-27T23:02:17.147Z"
   },
   {
    "duration": 662,
    "start_time": "2024-11-27T23:02:17.153Z"
   },
   {
    "duration": 0,
    "start_time": "2024-11-27T23:02:17.817Z"
   },
   {
    "duration": 0,
    "start_time": "2024-11-27T23:02:17.818Z"
   },
   {
    "duration": 873,
    "start_time": "2024-11-27T23:09:38.284Z"
   },
   {
    "duration": 61,
    "start_time": "2024-11-27T23:09:39.159Z"
   },
   {
    "duration": 31,
    "start_time": "2024-11-27T23:09:39.221Z"
   },
   {
    "duration": 18,
    "start_time": "2024-11-27T23:09:39.254Z"
   },
   {
    "duration": 10,
    "start_time": "2024-11-27T23:09:39.275Z"
   },
   {
    "duration": 57,
    "start_time": "2024-11-27T23:09:39.287Z"
   },
   {
    "duration": 107,
    "start_time": "2024-11-27T23:09:39.345Z"
   },
   {
    "duration": 117,
    "start_time": "2024-11-27T23:09:39.454Z"
   },
   {
    "duration": 136,
    "start_time": "2024-11-27T23:09:39.573Z"
   },
   {
    "duration": 211,
    "start_time": "2024-11-27T23:09:39.711Z"
   },
   {
    "duration": 19,
    "start_time": "2024-11-27T23:09:39.924Z"
   },
   {
    "duration": 240,
    "start_time": "2024-11-27T23:09:39.945Z"
   },
   {
    "duration": 0,
    "start_time": "2024-11-27T23:09:40.187Z"
   },
   {
    "duration": 0,
    "start_time": "2024-11-27T23:09:40.188Z"
   },
   {
    "duration": 0,
    "start_time": "2024-11-27T23:09:40.189Z"
   },
   {
    "duration": 0,
    "start_time": "2024-11-27T23:09:40.190Z"
   },
   {
    "duration": 0,
    "start_time": "2024-11-27T23:09:40.191Z"
   },
   {
    "duration": 863,
    "start_time": "2024-11-27T23:10:55.173Z"
   },
   {
    "duration": 69,
    "start_time": "2024-11-27T23:10:56.038Z"
   },
   {
    "duration": 34,
    "start_time": "2024-11-27T23:10:56.109Z"
   },
   {
    "duration": 17,
    "start_time": "2024-11-27T23:10:56.147Z"
   },
   {
    "duration": 10,
    "start_time": "2024-11-27T23:10:56.168Z"
   },
   {
    "duration": 63,
    "start_time": "2024-11-27T23:10:56.180Z"
   },
   {
    "duration": 108,
    "start_time": "2024-11-27T23:10:56.245Z"
   },
   {
    "duration": 118,
    "start_time": "2024-11-27T23:10:56.354Z"
   },
   {
    "duration": 201,
    "start_time": "2024-11-27T23:10:56.474Z"
   },
   {
    "duration": 162,
    "start_time": "2024-11-27T23:10:56.676Z"
   },
   {
    "duration": 10,
    "start_time": "2024-11-27T23:10:56.843Z"
   },
   {
    "duration": 18,
    "start_time": "2024-11-27T23:10:56.855Z"
   },
   {
    "duration": 131,
    "start_time": "2024-11-27T23:10:56.875Z"
   },
   {
    "duration": 5,
    "start_time": "2024-11-27T23:10:57.009Z"
   },
   {
    "duration": 684,
    "start_time": "2024-11-27T23:10:57.016Z"
   },
   {
    "duration": 0,
    "start_time": "2024-11-27T23:10:57.702Z"
   },
   {
    "duration": 0,
    "start_time": "2024-11-27T23:10:57.703Z"
   },
   {
    "duration": 895,
    "start_time": "2024-11-27T23:27:53.457Z"
   },
   {
    "duration": 64,
    "start_time": "2024-11-27T23:27:54.354Z"
   },
   {
    "duration": 28,
    "start_time": "2024-11-27T23:27:54.420Z"
   },
   {
    "duration": 17,
    "start_time": "2024-11-27T23:27:54.450Z"
   },
   {
    "duration": 9,
    "start_time": "2024-11-27T23:27:54.469Z"
   },
   {
    "duration": 29,
    "start_time": "2024-11-27T23:27:54.481Z"
   },
   {
    "duration": 122,
    "start_time": "2024-11-27T23:27:54.512Z"
   },
   {
    "duration": 111,
    "start_time": "2024-11-27T23:27:54.636Z"
   },
   {
    "duration": 137,
    "start_time": "2024-11-27T23:27:54.748Z"
   },
   {
    "duration": 207,
    "start_time": "2024-11-27T23:27:54.889Z"
   },
   {
    "duration": 10,
    "start_time": "2024-11-27T23:27:55.098Z"
   },
   {
    "duration": 34,
    "start_time": "2024-11-27T23:27:55.110Z"
   },
   {
    "duration": 121,
    "start_time": "2024-11-27T23:27:55.146Z"
   },
   {
    "duration": 5,
    "start_time": "2024-11-27T23:27:55.269Z"
   },
   {
    "duration": 3,
    "start_time": "2024-11-27T23:27:55.276Z"
   },
   {
    "duration": 248,
    "start_time": "2024-11-27T23:27:55.281Z"
   },
   {
    "duration": 0,
    "start_time": "2024-11-27T23:27:55.531Z"
   },
   {
    "duration": 9253,
    "start_time": "2024-11-27T23:37:32.957Z"
   },
   {
    "duration": 1140,
    "start_time": "2024-11-27T23:37:42.213Z"
   },
   {
    "duration": 0,
    "start_time": "2024-11-27T23:37:43.355Z"
   },
   {
    "duration": 0,
    "start_time": "2024-11-27T23:37:43.357Z"
   },
   {
    "duration": 0,
    "start_time": "2024-11-27T23:37:43.358Z"
   },
   {
    "duration": 0,
    "start_time": "2024-11-27T23:37:43.360Z"
   },
   {
    "duration": 0,
    "start_time": "2024-11-27T23:37:43.361Z"
   },
   {
    "duration": 0,
    "start_time": "2024-11-27T23:37:43.362Z"
   },
   {
    "duration": 0,
    "start_time": "2024-11-27T23:37:43.363Z"
   },
   {
    "duration": 0,
    "start_time": "2024-11-27T23:37:43.365Z"
   },
   {
    "duration": 0,
    "start_time": "2024-11-27T23:37:43.366Z"
   },
   {
    "duration": 0,
    "start_time": "2024-11-27T23:37:43.368Z"
   },
   {
    "duration": 0,
    "start_time": "2024-11-27T23:37:43.369Z"
   },
   {
    "duration": 0,
    "start_time": "2024-11-27T23:37:43.370Z"
   },
   {
    "duration": 0,
    "start_time": "2024-11-27T23:37:43.371Z"
   },
   {
    "duration": 0,
    "start_time": "2024-11-27T23:37:43.371Z"
   },
   {
    "duration": 0,
    "start_time": "2024-11-27T23:37:43.372Z"
   },
   {
    "duration": 0,
    "start_time": "2024-11-27T23:37:43.374Z"
   },
   {
    "duration": 1194,
    "start_time": "2024-11-27T23:41:04.697Z"
   },
   {
    "duration": 0,
    "start_time": "2024-11-27T23:41:05.894Z"
   },
   {
    "duration": 0,
    "start_time": "2024-11-27T23:41:05.895Z"
   },
   {
    "duration": 0,
    "start_time": "2024-11-27T23:41:05.897Z"
   },
   {
    "duration": 0,
    "start_time": "2024-11-27T23:41:05.899Z"
   },
   {
    "duration": 0,
    "start_time": "2024-11-27T23:41:05.900Z"
   },
   {
    "duration": 0,
    "start_time": "2024-11-27T23:41:05.902Z"
   },
   {
    "duration": 0,
    "start_time": "2024-11-27T23:41:05.904Z"
   },
   {
    "duration": 0,
    "start_time": "2024-11-27T23:41:05.905Z"
   },
   {
    "duration": 0,
    "start_time": "2024-11-27T23:41:05.906Z"
   },
   {
    "duration": 0,
    "start_time": "2024-11-27T23:41:05.907Z"
   },
   {
    "duration": 0,
    "start_time": "2024-11-27T23:41:05.908Z"
   },
   {
    "duration": 1,
    "start_time": "2024-11-27T23:41:05.909Z"
   },
   {
    "duration": 0,
    "start_time": "2024-11-27T23:41:05.911Z"
   },
   {
    "duration": 0,
    "start_time": "2024-11-27T23:41:05.912Z"
   },
   {
    "duration": 0,
    "start_time": "2024-11-27T23:41:05.913Z"
   },
   {
    "duration": 0,
    "start_time": "2024-11-27T23:41:05.943Z"
   },
   {
    "duration": 1389,
    "start_time": "2024-11-27T23:41:34.178Z"
   },
   {
    "duration": 1212,
    "start_time": "2024-11-27T23:41:35.570Z"
   },
   {
    "duration": 0,
    "start_time": "2024-11-27T23:41:36.785Z"
   },
   {
    "duration": 0,
    "start_time": "2024-11-27T23:41:36.786Z"
   },
   {
    "duration": 0,
    "start_time": "2024-11-27T23:41:36.787Z"
   },
   {
    "duration": 0,
    "start_time": "2024-11-27T23:41:36.788Z"
   },
   {
    "duration": 0,
    "start_time": "2024-11-27T23:41:36.789Z"
   },
   {
    "duration": 0,
    "start_time": "2024-11-27T23:41:36.790Z"
   },
   {
    "duration": 0,
    "start_time": "2024-11-27T23:41:36.791Z"
   },
   {
    "duration": 0,
    "start_time": "2024-11-27T23:41:36.792Z"
   },
   {
    "duration": 0,
    "start_time": "2024-11-27T23:41:36.793Z"
   },
   {
    "duration": 0,
    "start_time": "2024-11-27T23:41:36.794Z"
   },
   {
    "duration": 0,
    "start_time": "2024-11-27T23:41:36.796Z"
   },
   {
    "duration": 0,
    "start_time": "2024-11-27T23:41:36.797Z"
   },
   {
    "duration": 0,
    "start_time": "2024-11-27T23:41:36.798Z"
   },
   {
    "duration": 0,
    "start_time": "2024-11-27T23:41:36.799Z"
   },
   {
    "duration": 0,
    "start_time": "2024-11-27T23:41:36.801Z"
   },
   {
    "duration": 0,
    "start_time": "2024-11-27T23:41:36.802Z"
   },
   {
    "duration": 1347,
    "start_time": "2024-11-27T23:42:06.765Z"
   },
   {
    "duration": 4,
    "start_time": "2024-11-27T23:42:08.114Z"
   },
   {
    "duration": 1077,
    "start_time": "2024-11-27T23:42:08.119Z"
   },
   {
    "duration": 0,
    "start_time": "2024-11-27T23:42:09.198Z"
   },
   {
    "duration": 0,
    "start_time": "2024-11-27T23:42:09.200Z"
   },
   {
    "duration": 0,
    "start_time": "2024-11-27T23:42:09.201Z"
   },
   {
    "duration": 0,
    "start_time": "2024-11-27T23:42:09.203Z"
   },
   {
    "duration": 0,
    "start_time": "2024-11-27T23:42:09.204Z"
   },
   {
    "duration": 0,
    "start_time": "2024-11-27T23:42:09.205Z"
   },
   {
    "duration": 0,
    "start_time": "2024-11-27T23:42:09.207Z"
   },
   {
    "duration": 0,
    "start_time": "2024-11-27T23:42:09.209Z"
   },
   {
    "duration": 0,
    "start_time": "2024-11-27T23:42:09.210Z"
   },
   {
    "duration": 0,
    "start_time": "2024-11-27T23:42:09.212Z"
   },
   {
    "duration": 0,
    "start_time": "2024-11-27T23:42:09.213Z"
   },
   {
    "duration": 0,
    "start_time": "2024-11-27T23:42:09.214Z"
   },
   {
    "duration": 0,
    "start_time": "2024-11-27T23:42:09.215Z"
   },
   {
    "duration": 0,
    "start_time": "2024-11-27T23:42:09.216Z"
   },
   {
    "duration": 0,
    "start_time": "2024-11-27T23:42:09.217Z"
   },
   {
    "duration": 0,
    "start_time": "2024-11-27T23:42:09.243Z"
   },
   {
    "duration": 1371,
    "start_time": "2024-11-27T23:44:16.878Z"
   },
   {
    "duration": 4,
    "start_time": "2024-11-27T23:44:18.251Z"
   },
   {
    "duration": 44865,
    "start_time": "2024-11-27T23:44:18.256Z"
   },
   {
    "duration": 1172,
    "start_time": "2024-11-27T23:45:03.123Z"
   },
   {
    "duration": 0,
    "start_time": "2024-11-27T23:45:04.298Z"
   },
   {
    "duration": 0,
    "start_time": "2024-11-27T23:45:04.299Z"
   },
   {
    "duration": 0,
    "start_time": "2024-11-27T23:45:04.300Z"
   },
   {
    "duration": 0,
    "start_time": "2024-11-27T23:45:04.302Z"
   },
   {
    "duration": 0,
    "start_time": "2024-11-27T23:45:04.303Z"
   },
   {
    "duration": 0,
    "start_time": "2024-11-27T23:45:04.304Z"
   },
   {
    "duration": 0,
    "start_time": "2024-11-27T23:45:04.306Z"
   },
   {
    "duration": 0,
    "start_time": "2024-11-27T23:45:04.307Z"
   },
   {
    "duration": 0,
    "start_time": "2024-11-27T23:45:04.308Z"
   },
   {
    "duration": 0,
    "start_time": "2024-11-27T23:45:04.309Z"
   },
   {
    "duration": 0,
    "start_time": "2024-11-27T23:45:04.311Z"
   },
   {
    "duration": 0,
    "start_time": "2024-11-27T23:45:04.312Z"
   },
   {
    "duration": 0,
    "start_time": "2024-11-27T23:45:04.313Z"
   },
   {
    "duration": 0,
    "start_time": "2024-11-27T23:45:04.314Z"
   },
   {
    "duration": 0,
    "start_time": "2024-11-27T23:45:04.343Z"
   },
   {
    "duration": 0,
    "start_time": "2024-11-27T23:45:04.344Z"
   },
   {
    "duration": 1030,
    "start_time": "2024-11-27T23:49:45.390Z"
   },
   {
    "duration": 1439,
    "start_time": "2024-11-27T23:49:58.468Z"
   },
   {
    "duration": 3,
    "start_time": "2024-11-27T23:49:59.910Z"
   },
   {
    "duration": 1096,
    "start_time": "2024-11-27T23:49:59.915Z"
   },
   {
    "duration": 10517,
    "start_time": "2024-11-27T23:50:01.013Z"
   },
   {
    "duration": 1208,
    "start_time": "2024-11-27T23:50:11.533Z"
   },
   {
    "duration": 0,
    "start_time": "2024-11-27T23:50:12.743Z"
   },
   {
    "duration": 0,
    "start_time": "2024-11-27T23:50:12.745Z"
   },
   {
    "duration": 0,
    "start_time": "2024-11-27T23:50:12.747Z"
   },
   {
    "duration": 0,
    "start_time": "2024-11-27T23:50:12.748Z"
   },
   {
    "duration": 0,
    "start_time": "2024-11-27T23:50:12.750Z"
   },
   {
    "duration": 0,
    "start_time": "2024-11-27T23:50:12.751Z"
   },
   {
    "duration": 0,
    "start_time": "2024-11-27T23:50:12.753Z"
   },
   {
    "duration": 0,
    "start_time": "2024-11-27T23:50:12.754Z"
   },
   {
    "duration": 0,
    "start_time": "2024-11-27T23:50:12.756Z"
   },
   {
    "duration": 0,
    "start_time": "2024-11-27T23:50:12.757Z"
   },
   {
    "duration": 0,
    "start_time": "2024-11-27T23:50:12.759Z"
   },
   {
    "duration": 0,
    "start_time": "2024-11-27T23:50:12.761Z"
   },
   {
    "duration": 0,
    "start_time": "2024-11-27T23:50:12.762Z"
   },
   {
    "duration": 0,
    "start_time": "2024-11-27T23:50:12.764Z"
   },
   {
    "duration": 0,
    "start_time": "2024-11-27T23:50:12.765Z"
   },
   {
    "duration": 0,
    "start_time": "2024-11-27T23:50:12.767Z"
   },
   {
    "duration": 1448,
    "start_time": "2024-11-27T23:51:06.014Z"
   },
   {
    "duration": 3,
    "start_time": "2024-11-27T23:51:07.465Z"
   },
   {
    "duration": 1052,
    "start_time": "2024-11-27T23:51:07.469Z"
   },
   {
    "duration": 2569,
    "start_time": "2024-11-27T23:51:08.524Z"
   },
   {
    "duration": 1116,
    "start_time": "2024-11-27T23:51:11.096Z"
   },
   {
    "duration": 0,
    "start_time": "2024-11-27T23:51:12.214Z"
   },
   {
    "duration": 0,
    "start_time": "2024-11-27T23:51:12.215Z"
   },
   {
    "duration": 0,
    "start_time": "2024-11-27T23:51:12.216Z"
   },
   {
    "duration": 0,
    "start_time": "2024-11-27T23:51:12.217Z"
   },
   {
    "duration": 0,
    "start_time": "2024-11-27T23:51:12.219Z"
   },
   {
    "duration": 0,
    "start_time": "2024-11-27T23:51:12.221Z"
   },
   {
    "duration": 0,
    "start_time": "2024-11-27T23:51:12.223Z"
   },
   {
    "duration": 0,
    "start_time": "2024-11-27T23:51:12.224Z"
   },
   {
    "duration": 0,
    "start_time": "2024-11-27T23:51:12.226Z"
   },
   {
    "duration": 0,
    "start_time": "2024-11-27T23:51:12.243Z"
   },
   {
    "duration": 0,
    "start_time": "2024-11-27T23:51:12.245Z"
   },
   {
    "duration": 0,
    "start_time": "2024-11-27T23:51:12.247Z"
   },
   {
    "duration": 0,
    "start_time": "2024-11-27T23:51:12.248Z"
   },
   {
    "duration": 0,
    "start_time": "2024-11-27T23:51:12.250Z"
   },
   {
    "duration": 0,
    "start_time": "2024-11-27T23:51:12.251Z"
   },
   {
    "duration": 0,
    "start_time": "2024-11-27T23:51:12.252Z"
   },
   {
    "duration": 1392,
    "start_time": "2024-11-27T23:55:31.209Z"
   },
   {
    "duration": 8965,
    "start_time": "2024-11-27T23:55:41.561Z"
   },
   {
    "duration": 1022,
    "start_time": "2024-11-27T23:56:36.159Z"
   },
   {
    "duration": 12298,
    "start_time": "2024-11-27T23:57:14.715Z"
   },
   {
    "duration": 7,
    "start_time": "2024-11-27T23:58:07.281Z"
   },
   {
    "duration": 10509,
    "start_time": "2024-11-27T23:58:07.290Z"
   },
   {
    "duration": 1020,
    "start_time": "2024-11-27T23:58:17.801Z"
   },
   {
    "duration": 10159,
    "start_time": "2024-11-27T23:58:18.823Z"
   },
   {
    "duration": 2481,
    "start_time": "2024-11-27T23:58:28.985Z"
   },
   {
    "duration": 1210,
    "start_time": "2024-11-27T23:58:31.468Z"
   },
   {
    "duration": 1,
    "start_time": "2024-11-27T23:58:32.680Z"
   },
   {
    "duration": 0,
    "start_time": "2024-11-27T23:58:32.682Z"
   },
   {
    "duration": 0,
    "start_time": "2024-11-27T23:58:32.683Z"
   },
   {
    "duration": 0,
    "start_time": "2024-11-27T23:58:32.684Z"
   },
   {
    "duration": 0,
    "start_time": "2024-11-27T23:58:32.685Z"
   },
   {
    "duration": 1,
    "start_time": "2024-11-27T23:58:32.686Z"
   },
   {
    "duration": 0,
    "start_time": "2024-11-27T23:58:32.687Z"
   },
   {
    "duration": 0,
    "start_time": "2024-11-27T23:58:32.689Z"
   },
   {
    "duration": 0,
    "start_time": "2024-11-27T23:58:32.690Z"
   },
   {
    "duration": 0,
    "start_time": "2024-11-27T23:58:32.691Z"
   },
   {
    "duration": 0,
    "start_time": "2024-11-27T23:58:32.692Z"
   },
   {
    "duration": 0,
    "start_time": "2024-11-27T23:58:32.693Z"
   },
   {
    "duration": 0,
    "start_time": "2024-11-27T23:58:32.694Z"
   },
   {
    "duration": 0,
    "start_time": "2024-11-27T23:58:32.695Z"
   },
   {
    "duration": 0,
    "start_time": "2024-11-27T23:58:32.696Z"
   },
   {
    "duration": 0,
    "start_time": "2024-11-27T23:58:32.697Z"
   },
   {
    "duration": 1279,
    "start_time": "2024-11-28T00:03:47.910Z"
   },
   {
    "duration": 3,
    "start_time": "2024-11-28T00:05:07.784Z"
   },
   {
    "duration": 9,
    "start_time": "2024-11-28T00:05:32.506Z"
   },
   {
    "duration": 1301,
    "start_time": "2024-11-28T00:05:32.517Z"
   },
   {
    "duration": 3,
    "start_time": "2024-11-28T00:05:33.820Z"
   },
   {
    "duration": 1346,
    "start_time": "2024-11-28T00:05:33.825Z"
   },
   {
    "duration": 0,
    "start_time": "2024-11-28T00:05:35.174Z"
   },
   {
    "duration": 0,
    "start_time": "2024-11-28T00:05:35.175Z"
   },
   {
    "duration": 0,
    "start_time": "2024-11-28T00:05:35.178Z"
   },
   {
    "duration": 0,
    "start_time": "2024-11-28T00:05:35.179Z"
   },
   {
    "duration": 0,
    "start_time": "2024-11-28T00:05:35.180Z"
   },
   {
    "duration": 0,
    "start_time": "2024-11-28T00:05:35.181Z"
   },
   {
    "duration": 0,
    "start_time": "2024-11-28T00:05:35.182Z"
   },
   {
    "duration": 0,
    "start_time": "2024-11-28T00:05:35.182Z"
   },
   {
    "duration": 0,
    "start_time": "2024-11-28T00:05:35.183Z"
   },
   {
    "duration": 0,
    "start_time": "2024-11-28T00:05:35.184Z"
   },
   {
    "duration": 0,
    "start_time": "2024-11-28T00:05:35.184Z"
   },
   {
    "duration": 0,
    "start_time": "2024-11-28T00:05:35.185Z"
   },
   {
    "duration": 0,
    "start_time": "2024-11-28T00:05:35.186Z"
   },
   {
    "duration": 0,
    "start_time": "2024-11-28T00:05:35.188Z"
   },
   {
    "duration": 0,
    "start_time": "2024-11-28T00:05:35.189Z"
   },
   {
    "duration": 0,
    "start_time": "2024-11-28T00:05:35.189Z"
   },
   {
    "duration": 1622,
    "start_time": "2024-11-28T00:07:42.572Z"
   },
   {
    "duration": 2670,
    "start_time": "2024-11-28T00:08:38.442Z"
   },
   {
    "duration": 6,
    "start_time": "2024-11-28T00:09:13.639Z"
   },
   {
    "duration": 1332,
    "start_time": "2024-11-28T00:09:13.649Z"
   },
   {
    "duration": 2,
    "start_time": "2024-11-28T00:09:14.984Z"
   },
   {
    "duration": 1533,
    "start_time": "2024-11-28T00:09:14.988Z"
   },
   {
    "duration": 2566,
    "start_time": "2024-11-28T00:09:16.523Z"
   },
   {
    "duration": 1252,
    "start_time": "2024-11-28T00:09:19.092Z"
   },
   {
    "duration": 0,
    "start_time": "2024-11-28T00:09:20.347Z"
   },
   {
    "duration": 0,
    "start_time": "2024-11-28T00:09:20.349Z"
   },
   {
    "duration": 0,
    "start_time": "2024-11-28T00:09:20.350Z"
   },
   {
    "duration": 0,
    "start_time": "2024-11-28T00:09:20.352Z"
   },
   {
    "duration": 1,
    "start_time": "2024-11-28T00:09:20.353Z"
   },
   {
    "duration": 0,
    "start_time": "2024-11-28T00:09:20.354Z"
   },
   {
    "duration": 0,
    "start_time": "2024-11-28T00:09:20.356Z"
   },
   {
    "duration": 0,
    "start_time": "2024-11-28T00:09:20.357Z"
   },
   {
    "duration": 0,
    "start_time": "2024-11-28T00:09:20.358Z"
   },
   {
    "duration": 0,
    "start_time": "2024-11-28T00:09:20.359Z"
   },
   {
    "duration": 0,
    "start_time": "2024-11-28T00:09:20.360Z"
   },
   {
    "duration": 0,
    "start_time": "2024-11-28T00:09:20.361Z"
   },
   {
    "duration": 0,
    "start_time": "2024-11-28T00:09:20.362Z"
   },
   {
    "duration": 0,
    "start_time": "2024-11-28T00:09:20.364Z"
   },
   {
    "duration": 0,
    "start_time": "2024-11-28T00:09:20.365Z"
   },
   {
    "duration": 0,
    "start_time": "2024-11-28T00:09:20.366Z"
   },
   {
    "duration": 7,
    "start_time": "2024-11-28T00:11:50.071Z"
   },
   {
    "duration": 7,
    "start_time": "2024-11-28T00:12:23.857Z"
   },
   {
    "duration": 4,
    "start_time": "2024-11-28T00:12:23.876Z"
   },
   {
    "duration": 0,
    "start_time": "2024-11-28T00:12:23.883Z"
   },
   {
    "duration": 0,
    "start_time": "2024-11-28T00:12:23.885Z"
   },
   {
    "duration": 0,
    "start_time": "2024-11-28T00:12:23.886Z"
   },
   {
    "duration": 0,
    "start_time": "2024-11-28T00:12:23.888Z"
   },
   {
    "duration": 1,
    "start_time": "2024-11-28T00:12:23.889Z"
   },
   {
    "duration": 0,
    "start_time": "2024-11-28T00:12:23.891Z"
   },
   {
    "duration": 0,
    "start_time": "2024-11-28T00:12:23.893Z"
   },
   {
    "duration": 0,
    "start_time": "2024-11-28T00:12:23.894Z"
   },
   {
    "duration": 0,
    "start_time": "2024-11-28T00:12:23.896Z"
   },
   {
    "duration": 0,
    "start_time": "2024-11-28T00:12:23.897Z"
   },
   {
    "duration": 0,
    "start_time": "2024-11-28T00:12:23.899Z"
   },
   {
    "duration": 0,
    "start_time": "2024-11-28T00:12:23.900Z"
   },
   {
    "duration": 0,
    "start_time": "2024-11-28T00:12:23.902Z"
   },
   {
    "duration": 0,
    "start_time": "2024-11-28T00:12:23.903Z"
   },
   {
    "duration": 0,
    "start_time": "2024-11-28T00:12:23.905Z"
   },
   {
    "duration": 0,
    "start_time": "2024-11-28T00:12:23.907Z"
   },
   {
    "duration": 225,
    "start_time": "2024-11-28T00:12:23.910Z"
   },
   {
    "duration": 0,
    "start_time": "2024-11-28T00:12:24.137Z"
   },
   {
    "duration": 8,
    "start_time": "2024-11-28T00:18:23.856Z"
   },
   {
    "duration": 3,
    "start_time": "2024-11-28T00:18:23.866Z"
   },
   {
    "duration": 1340,
    "start_time": "2024-11-28T00:18:23.870Z"
   },
   {
    "duration": 0,
    "start_time": "2024-11-28T00:18:25.213Z"
   },
   {
    "duration": 0,
    "start_time": "2024-11-28T00:18:25.214Z"
   },
   {
    "duration": 0,
    "start_time": "2024-11-28T00:18:25.215Z"
   },
   {
    "duration": 0,
    "start_time": "2024-11-28T00:18:25.216Z"
   },
   {
    "duration": 0,
    "start_time": "2024-11-28T00:18:25.218Z"
   },
   {
    "duration": 0,
    "start_time": "2024-11-28T00:18:25.219Z"
   },
   {
    "duration": 0,
    "start_time": "2024-11-28T00:18:25.220Z"
   },
   {
    "duration": 0,
    "start_time": "2024-11-28T00:18:25.220Z"
   },
   {
    "duration": 0,
    "start_time": "2024-11-28T00:18:25.222Z"
   },
   {
    "duration": 0,
    "start_time": "2024-11-28T00:18:25.223Z"
   },
   {
    "duration": 0,
    "start_time": "2024-11-28T00:18:25.225Z"
   },
   {
    "duration": 0,
    "start_time": "2024-11-28T00:18:25.245Z"
   },
   {
    "duration": 0,
    "start_time": "2024-11-28T00:18:25.246Z"
   },
   {
    "duration": 0,
    "start_time": "2024-11-28T00:18:25.247Z"
   },
   {
    "duration": 0,
    "start_time": "2024-11-28T00:18:25.248Z"
   },
   {
    "duration": 0,
    "start_time": "2024-11-28T00:18:25.250Z"
   },
   {
    "duration": 900,
    "start_time": "2024-11-28T00:19:58.994Z"
   },
   {
    "duration": 64,
    "start_time": "2024-11-28T00:19:59.896Z"
   },
   {
    "duration": 14,
    "start_time": "2024-11-28T00:19:59.962Z"
   },
   {
    "duration": 15,
    "start_time": "2024-11-28T00:19:59.978Z"
   },
   {
    "duration": 9,
    "start_time": "2024-11-28T00:19:59.995Z"
   },
   {
    "duration": 59,
    "start_time": "2024-11-28T00:20:00.006Z"
   },
   {
    "duration": 110,
    "start_time": "2024-11-28T00:20:00.067Z"
   },
   {
    "duration": 119,
    "start_time": "2024-11-28T00:20:00.179Z"
   },
   {
    "duration": 136,
    "start_time": "2024-11-28T00:20:00.301Z"
   },
   {
    "duration": 226,
    "start_time": "2024-11-28T00:20:00.444Z"
   },
   {
    "duration": 10,
    "start_time": "2024-11-28T00:20:00.672Z"
   },
   {
    "duration": 18,
    "start_time": "2024-11-28T00:20:00.684Z"
   },
   {
    "duration": 136,
    "start_time": "2024-11-28T00:20:00.704Z"
   },
   {
    "duration": 7,
    "start_time": "2024-11-28T00:20:00.842Z"
   },
   {
    "duration": 4,
    "start_time": "2024-11-28T00:20:00.851Z"
   },
   {
    "duration": 242,
    "start_time": "2024-11-28T00:20:00.859Z"
   },
   {
    "duration": 0,
    "start_time": "2024-11-28T00:20:01.103Z"
   },
   {
    "duration": 778,
    "start_time": "2024-11-28T00:23:04.198Z"
   },
   {
    "duration": 67,
    "start_time": "2024-11-28T00:23:04.978Z"
   },
   {
    "duration": 14,
    "start_time": "2024-11-28T00:23:05.047Z"
   },
   {
    "duration": 16,
    "start_time": "2024-11-28T00:23:05.063Z"
   },
   {
    "duration": 9,
    "start_time": "2024-11-28T00:23:05.080Z"
   },
   {
    "duration": 62,
    "start_time": "2024-11-28T00:23:05.091Z"
   },
   {
    "duration": 117,
    "start_time": "2024-11-28T00:23:05.155Z"
   },
   {
    "duration": 109,
    "start_time": "2024-11-28T00:23:05.274Z"
   },
   {
    "duration": 142,
    "start_time": "2024-11-28T00:23:05.385Z"
   },
   {
    "duration": 232,
    "start_time": "2024-11-28T00:23:05.530Z"
   },
   {
    "duration": 10,
    "start_time": "2024-11-28T00:23:05.764Z"
   },
   {
    "duration": 19,
    "start_time": "2024-11-28T00:23:05.776Z"
   },
   {
    "duration": 138,
    "start_time": "2024-11-28T00:23:05.797Z"
   },
   {
    "duration": 8,
    "start_time": "2024-11-28T00:23:05.937Z"
   },
   {
    "duration": 3,
    "start_time": "2024-11-28T00:23:05.947Z"
   },
   {
    "duration": 592,
    "start_time": "2024-11-28T00:23:05.951Z"
   },
   {
    "duration": 6174,
    "start_time": "2024-11-28T00:23:06.545Z"
   },
   {
    "duration": 3,
    "start_time": "2024-11-28T16:06:37.992Z"
   },
   {
    "duration": 2702,
    "start_time": "2024-11-28T16:06:42.227Z"
   },
   {
    "duration": 82,
    "start_time": "2024-11-28T16:06:44.932Z"
   },
   {
    "duration": 15,
    "start_time": "2024-11-28T16:06:45.016Z"
   },
   {
    "duration": 17,
    "start_time": "2024-11-28T16:06:45.033Z"
   },
   {
    "duration": 9,
    "start_time": "2024-11-28T16:06:45.052Z"
   },
   {
    "duration": 63,
    "start_time": "2024-11-28T16:06:45.063Z"
   },
   {
    "duration": 106,
    "start_time": "2024-11-28T16:06:45.128Z"
   },
   {
    "duration": 113,
    "start_time": "2024-11-28T16:06:45.236Z"
   },
   {
    "duration": 139,
    "start_time": "2024-11-28T16:06:45.351Z"
   },
   {
    "duration": 162,
    "start_time": "2024-11-28T16:06:45.492Z"
   },
   {
    "duration": 10,
    "start_time": "2024-11-28T16:06:45.656Z"
   },
   {
    "duration": 18,
    "start_time": "2024-11-28T16:06:45.668Z"
   },
   {
    "duration": 134,
    "start_time": "2024-11-28T16:06:45.687Z"
   },
   {
    "duration": 4,
    "start_time": "2024-11-28T16:08:39.624Z"
   },
   {
    "duration": 3,
    "start_time": "2024-11-28T16:09:35.433Z"
   },
   {
    "duration": 3005,
    "start_time": "2024-11-30T01:27:57.968Z"
   },
   {
    "duration": 122,
    "start_time": "2024-11-30T01:28:00.975Z"
   },
   {
    "duration": 25,
    "start_time": "2024-11-30T01:28:01.099Z"
   },
   {
    "duration": 26,
    "start_time": "2024-11-30T01:28:01.130Z"
   },
   {
    "duration": 13,
    "start_time": "2024-11-30T01:28:01.158Z"
   },
   {
    "duration": 42,
    "start_time": "2024-11-30T01:28:01.174Z"
   },
   {
    "duration": 143,
    "start_time": "2024-11-30T01:28:01.218Z"
   },
   {
    "duration": 126,
    "start_time": "2024-11-30T01:28:01.363Z"
   },
   {
    "duration": 180,
    "start_time": "2024-11-30T01:28:01.492Z"
   },
   {
    "duration": 189,
    "start_time": "2024-11-30T01:28:01.674Z"
   },
   {
    "duration": 10,
    "start_time": "2024-11-30T01:28:01.866Z"
   },
   {
    "duration": 19,
    "start_time": "2024-11-30T01:28:01.877Z"
   },
   {
    "duration": 136,
    "start_time": "2024-11-30T01:28:01.898Z"
   },
   {
    "duration": 7,
    "start_time": "2024-11-30T01:28:02.035Z"
   },
   {
    "duration": 3,
    "start_time": "2024-11-30T01:28:02.044Z"
   },
   {
    "duration": 7994,
    "start_time": "2024-11-30T01:28:02.048Z"
   },
   {
    "duration": 745,
    "start_time": "2024-11-30T01:28:10.043Z"
   },
   {
    "duration": 920,
    "start_time": "2024-11-30T01:40:29.834Z"
   },
   {
    "duration": 97,
    "start_time": "2024-11-30T01:40:30.756Z"
   },
   {
    "duration": 14,
    "start_time": "2024-11-30T01:40:30.855Z"
   },
   {
    "duration": 16,
    "start_time": "2024-11-30T01:40:30.871Z"
   },
   {
    "duration": 39,
    "start_time": "2024-11-30T01:40:30.889Z"
   },
   {
    "duration": 33,
    "start_time": "2024-11-30T01:40:30.931Z"
   },
   {
    "duration": 120,
    "start_time": "2024-11-30T01:40:30.966Z"
   },
   {
    "duration": 141,
    "start_time": "2024-11-30T01:40:31.089Z"
   },
   {
    "duration": 155,
    "start_time": "2024-11-30T01:40:31.233Z"
   },
   {
    "duration": 257,
    "start_time": "2024-11-30T01:40:31.392Z"
   },
   {
    "duration": 10,
    "start_time": "2024-11-30T01:40:31.651Z"
   },
   {
    "duration": 18,
    "start_time": "2024-11-30T01:40:31.663Z"
   },
   {
    "duration": 158,
    "start_time": "2024-11-30T01:40:31.683Z"
   },
   {
    "duration": 4,
    "start_time": "2024-11-30T01:40:31.843Z"
   },
   {
    "duration": 4,
    "start_time": "2024-11-30T01:40:31.848Z"
   },
   {
    "duration": 8227,
    "start_time": "2024-11-30T01:40:31.853Z"
   },
   {
    "duration": 662,
    "start_time": "2024-11-30T01:40:40.082Z"
   },
   {
    "duration": 2606,
    "start_time": "2024-11-30T02:42:42.158Z"
   },
   {
    "duration": 93,
    "start_time": "2024-11-30T02:42:44.766Z"
   },
   {
    "duration": 13,
    "start_time": "2024-11-30T02:42:44.861Z"
   },
   {
    "duration": 15,
    "start_time": "2024-11-30T02:42:44.876Z"
   },
   {
    "duration": 37,
    "start_time": "2024-11-30T02:42:44.894Z"
   },
   {
    "duration": 28,
    "start_time": "2024-11-30T02:42:44.933Z"
   },
   {
    "duration": 113,
    "start_time": "2024-11-30T02:42:44.963Z"
   },
   {
    "duration": 108,
    "start_time": "2024-11-30T02:42:45.078Z"
   },
   {
    "duration": 125,
    "start_time": "2024-11-30T02:42:45.188Z"
   },
   {
    "duration": 152,
    "start_time": "2024-11-30T02:42:45.316Z"
   },
   {
    "duration": 9,
    "start_time": "2024-11-30T02:42:45.470Z"
   },
   {
    "duration": 17,
    "start_time": "2024-11-30T02:42:45.481Z"
   },
   {
    "duration": 131,
    "start_time": "2024-11-30T02:42:45.500Z"
   },
   {
    "duration": 4,
    "start_time": "2024-11-30T02:42:45.635Z"
   },
   {
    "duration": 3,
    "start_time": "2024-11-30T02:42:45.641Z"
   },
   {
    "duration": 6760,
    "start_time": "2024-11-30T02:42:45.647Z"
   },
   {
    "duration": 560,
    "start_time": "2024-11-30T02:42:52.409Z"
   },
   {
    "duration": 859,
    "start_time": "2024-11-30T02:48:42.615Z"
   },
   {
    "duration": 71,
    "start_time": "2024-11-30T02:48:43.476Z"
   },
   {
    "duration": 12,
    "start_time": "2024-11-30T02:48:43.549Z"
   },
   {
    "duration": 16,
    "start_time": "2024-11-30T02:48:43.563Z"
   },
   {
    "duration": 9,
    "start_time": "2024-11-30T02:48:43.581Z"
   },
   {
    "duration": 63,
    "start_time": "2024-11-30T02:48:43.591Z"
   },
   {
    "duration": 102,
    "start_time": "2024-11-30T02:48:43.655Z"
   },
   {
    "duration": 113,
    "start_time": "2024-11-30T02:48:43.759Z"
   },
   {
    "duration": 141,
    "start_time": "2024-11-30T02:48:43.874Z"
   },
   {
    "duration": 217,
    "start_time": "2024-11-30T02:48:44.017Z"
   },
   {
    "duration": 9,
    "start_time": "2024-11-30T02:48:44.237Z"
   },
   {
    "duration": 17,
    "start_time": "2024-11-30T02:48:44.248Z"
   },
   {
    "duration": 30,
    "start_time": "2024-11-30T02:48:44.267Z"
   },
   {
    "duration": 3,
    "start_time": "2024-11-30T02:48:44.299Z"
   },
   {
    "duration": 2,
    "start_time": "2024-11-30T02:48:44.332Z"
   },
   {
    "duration": 99,
    "start_time": "2024-11-30T02:48:44.336Z"
   },
   {
    "duration": 120,
    "start_time": "2024-11-30T02:48:44.437Z"
   },
   {
    "duration": 827,
    "start_time": "2024-11-30T03:39:36.635Z"
   },
   {
    "duration": 73,
    "start_time": "2024-11-30T03:39:37.464Z"
   },
   {
    "duration": 14,
    "start_time": "2024-11-30T03:39:37.539Z"
   },
   {
    "duration": 15,
    "start_time": "2024-11-30T03:39:37.555Z"
   },
   {
    "duration": 9,
    "start_time": "2024-11-30T03:39:37.572Z"
   },
   {
    "duration": 60,
    "start_time": "2024-11-30T03:39:37.583Z"
   },
   {
    "duration": 319,
    "start_time": "2024-11-30T03:39:37.644Z"
   },
   {
    "duration": 991,
    "start_time": "2024-11-30T03:39:37.965Z"
   },
   {
    "duration": 0,
    "start_time": "2024-11-30T03:39:38.958Z"
   },
   {
    "duration": 0,
    "start_time": "2024-11-30T03:39:38.959Z"
   },
   {
    "duration": 0,
    "start_time": "2024-11-30T03:39:38.960Z"
   },
   {
    "duration": 0,
    "start_time": "2024-11-30T03:39:38.962Z"
   },
   {
    "duration": 0,
    "start_time": "2024-11-30T03:39:38.964Z"
   },
   {
    "duration": 0,
    "start_time": "2024-11-30T03:39:38.965Z"
   },
   {
    "duration": 0,
    "start_time": "2024-11-30T03:39:38.967Z"
   },
   {
    "duration": 0,
    "start_time": "2024-11-30T03:39:38.968Z"
   },
   {
    "duration": 0,
    "start_time": "2024-11-30T03:39:38.969Z"
   },
   {
    "duration": 0,
    "start_time": "2024-11-30T03:39:38.970Z"
   },
   {
    "duration": 0,
    "start_time": "2024-11-30T03:39:38.971Z"
   },
   {
    "duration": 154,
    "start_time": "2024-11-30T22:27:11.856Z"
   },
   {
    "duration": 2457,
    "start_time": "2024-11-30T22:27:19.632Z"
   },
   {
    "duration": 103,
    "start_time": "2024-11-30T22:27:22.091Z"
   },
   {
    "duration": 13,
    "start_time": "2024-11-30T22:27:22.196Z"
   },
   {
    "duration": 15,
    "start_time": "2024-11-30T22:27:22.211Z"
   },
   {
    "duration": 42,
    "start_time": "2024-11-30T22:27:22.228Z"
   },
   {
    "duration": 30,
    "start_time": "2024-11-30T22:27:22.272Z"
   },
   {
    "duration": 3,
    "start_time": "2024-11-30T22:27:22.304Z"
   },
   {
    "duration": 299,
    "start_time": "2024-11-30T22:27:22.308Z"
   },
   {
    "duration": 868,
    "start_time": "2024-11-30T22:27:22.608Z"
   },
   {
    "duration": 0,
    "start_time": "2024-11-30T22:27:23.478Z"
   },
   {
    "duration": 0,
    "start_time": "2024-11-30T22:27:23.479Z"
   },
   {
    "duration": 0,
    "start_time": "2024-11-30T22:27:23.480Z"
   },
   {
    "duration": 0,
    "start_time": "2024-11-30T22:27:23.481Z"
   },
   {
    "duration": 0,
    "start_time": "2024-11-30T22:27:23.482Z"
   },
   {
    "duration": 0,
    "start_time": "2024-11-30T22:27:23.483Z"
   },
   {
    "duration": 0,
    "start_time": "2024-11-30T22:27:23.485Z"
   },
   {
    "duration": 0,
    "start_time": "2024-11-30T22:27:23.486Z"
   },
   {
    "duration": 0,
    "start_time": "2024-11-30T22:27:23.487Z"
   },
   {
    "duration": 0,
    "start_time": "2024-11-30T22:27:23.489Z"
   },
   {
    "duration": 0,
    "start_time": "2024-11-30T22:27:23.490Z"
   },
   {
    "duration": 800,
    "start_time": "2024-11-30T22:29:34.423Z"
   },
   {
    "duration": 69,
    "start_time": "2024-11-30T22:29:35.225Z"
   },
   {
    "duration": 14,
    "start_time": "2024-11-30T22:29:35.297Z"
   },
   {
    "duration": 16,
    "start_time": "2024-11-30T22:29:35.314Z"
   },
   {
    "duration": 44,
    "start_time": "2024-11-30T22:29:35.332Z"
   },
   {
    "duration": 36,
    "start_time": "2024-11-30T22:29:35.378Z"
   },
   {
    "duration": 3,
    "start_time": "2024-11-30T22:29:35.416Z"
   },
   {
    "duration": 336,
    "start_time": "2024-11-30T22:29:35.421Z"
   },
   {
    "duration": 538,
    "start_time": "2024-11-30T22:29:35.758Z"
   },
   {
    "duration": 99,
    "start_time": "2024-11-30T22:29:36.299Z"
   },
   {
    "duration": 106,
    "start_time": "2024-11-30T22:29:36.400Z"
   },
   {
    "duration": 146,
    "start_time": "2024-11-30T22:29:36.508Z"
   },
   {
    "duration": 165,
    "start_time": "2024-11-30T22:29:36.656Z"
   },
   {
    "duration": 9,
    "start_time": "2024-11-30T22:29:36.823Z"
   },
   {
    "duration": 17,
    "start_time": "2024-11-30T22:29:36.833Z"
   },
   {
    "duration": 50,
    "start_time": "2024-11-30T22:29:36.852Z"
   },
   {
    "duration": 4,
    "start_time": "2024-11-30T22:29:36.904Z"
   },
   {
    "duration": 4,
    "start_time": "2024-11-30T22:29:36.909Z"
   },
   {
    "duration": 81,
    "start_time": "2024-11-30T22:29:36.915Z"
   },
   {
    "duration": 126,
    "start_time": "2024-11-30T22:29:36.998Z"
   },
   {
    "duration": 2484,
    "start_time": "2024-11-30T23:48:51.149Z"
   },
   {
    "duration": 80,
    "start_time": "2024-11-30T23:48:53.635Z"
   },
   {
    "duration": 13,
    "start_time": "2024-11-30T23:48:53.716Z"
   },
   {
    "duration": 16,
    "start_time": "2024-11-30T23:48:53.732Z"
   },
   {
    "duration": 38,
    "start_time": "2024-11-30T23:48:53.749Z"
   },
   {
    "duration": 31,
    "start_time": "2024-11-30T23:48:53.790Z"
   },
   {
    "duration": 3,
    "start_time": "2024-11-30T23:48:53.823Z"
   },
   {
    "duration": 311,
    "start_time": "2024-11-30T23:48:53.828Z"
   },
   {
    "duration": 470,
    "start_time": "2024-11-30T23:48:54.141Z"
   },
   {
    "duration": 93,
    "start_time": "2024-11-30T23:48:54.615Z"
   },
   {
    "duration": 105,
    "start_time": "2024-11-30T23:48:54.710Z"
   },
   {
    "duration": 132,
    "start_time": "2024-11-30T23:48:54.816Z"
   },
   {
    "duration": 155,
    "start_time": "2024-11-30T23:48:54.950Z"
   },
   {
    "duration": 9,
    "start_time": "2024-11-30T23:48:55.107Z"
   },
   {
    "duration": 17,
    "start_time": "2024-11-30T23:48:55.118Z"
   },
   {
    "duration": 12,
    "start_time": "2024-11-30T23:48:55.137Z"
   },
   {
    "duration": 53,
    "start_time": "2024-11-30T23:48:55.150Z"
   },
   {
    "duration": 4,
    "start_time": "2024-11-30T23:48:55.204Z"
   },
   {
    "duration": 3,
    "start_time": "2024-11-30T23:48:55.210Z"
   },
   {
    "duration": 68,
    "start_time": "2024-11-30T23:48:55.214Z"
   },
   {
    "duration": 120,
    "start_time": "2024-11-30T23:48:55.283Z"
   },
   {
    "duration": 2513,
    "start_time": "2024-12-01T10:09:05.663Z"
   },
   {
    "duration": 100,
    "start_time": "2024-12-01T10:09:08.179Z"
   },
   {
    "duration": 13,
    "start_time": "2024-12-01T10:09:08.280Z"
   },
   {
    "duration": 16,
    "start_time": "2024-12-01T10:09:08.295Z"
   },
   {
    "duration": 10,
    "start_time": "2024-12-01T10:09:08.313Z"
   },
   {
    "duration": 29,
    "start_time": "2024-12-01T10:09:08.325Z"
   },
   {
    "duration": 3,
    "start_time": "2024-12-01T10:09:08.356Z"
   },
   {
    "duration": 324,
    "start_time": "2024-12-01T10:09:08.361Z"
   },
   {
    "duration": 488,
    "start_time": "2024-12-01T10:09:08.687Z"
   },
   {
    "duration": 96,
    "start_time": "2024-12-01T10:09:09.178Z"
   },
   {
    "duration": 114,
    "start_time": "2024-12-01T10:09:09.276Z"
   },
   {
    "duration": 132,
    "start_time": "2024-12-01T10:09:09.391Z"
   },
   {
    "duration": 148,
    "start_time": "2024-12-01T10:09:09.526Z"
   },
   {
    "duration": 9,
    "start_time": "2024-12-01T10:09:09.676Z"
   },
   {
    "duration": 33,
    "start_time": "2024-12-01T10:09:09.688Z"
   },
   {
    "duration": 11,
    "start_time": "2024-12-01T10:09:09.723Z"
   },
   {
    "duration": 28,
    "start_time": "2024-12-01T10:09:09.736Z"
   },
   {
    "duration": 9,
    "start_time": "2024-12-01T10:09:09.767Z"
   },
   {
    "duration": 3,
    "start_time": "2024-12-01T10:09:09.778Z"
   },
   {
    "duration": 74,
    "start_time": "2024-12-01T10:09:09.782Z"
   },
   {
    "duration": 191,
    "start_time": "2024-12-01T10:09:09.858Z"
   },
   {
    "duration": 4,
    "start_time": "2024-12-01T10:09:53.143Z"
   },
   {
    "duration": 2496,
    "start_time": "2024-12-02T17:34:55.400Z"
   },
   {
    "duration": 78,
    "start_time": "2024-12-02T17:34:57.899Z"
   },
   {
    "duration": 12,
    "start_time": "2024-12-02T17:34:57.979Z"
   },
   {
    "duration": 34,
    "start_time": "2024-12-02T17:34:57.992Z"
   },
   {
    "duration": 11,
    "start_time": "2024-12-02T17:34:58.029Z"
   },
   {
    "duration": 29,
    "start_time": "2024-12-02T17:34:58.042Z"
   },
   {
    "duration": 3,
    "start_time": "2024-12-02T17:34:58.072Z"
   },
   {
    "duration": 334,
    "start_time": "2024-12-02T17:34:58.077Z"
   },
   {
    "duration": 476,
    "start_time": "2024-12-02T17:34:58.413Z"
   },
   {
    "duration": 94,
    "start_time": "2024-12-02T17:34:58.891Z"
   },
   {
    "duration": 107,
    "start_time": "2024-12-02T17:34:58.986Z"
   },
   {
    "duration": 130,
    "start_time": "2024-12-02T17:34:59.094Z"
   },
   {
    "duration": 148,
    "start_time": "2024-12-02T17:34:59.226Z"
   },
   {
    "duration": 9,
    "start_time": "2024-12-02T17:34:59.377Z"
   },
   {
    "duration": 18,
    "start_time": "2024-12-02T17:34:59.388Z"
   },
   {
    "duration": 11,
    "start_time": "2024-12-02T17:34:59.423Z"
   },
   {
    "duration": 24,
    "start_time": "2024-12-02T17:34:59.436Z"
   },
   {
    "duration": 4,
    "start_time": "2024-12-02T17:34:59.462Z"
   },
   {
    "duration": 3,
    "start_time": "2024-12-02T17:34:59.468Z"
   },
   {
    "duration": 83,
    "start_time": "2024-12-02T17:34:59.473Z"
   },
   {
    "duration": 125,
    "start_time": "2024-12-02T17:34:59.558Z"
   },
   {
    "duration": 20,
    "start_time": "2024-12-02T17:34:59.685Z"
   },
   {
    "duration": 8,
    "start_time": "2024-12-02T17:34:59.706Z"
   },
   {
    "duration": 488,
    "start_time": "2024-12-02T17:34:59.723Z"
   },
   {
    "duration": 0,
    "start_time": "2024-12-02T17:35:00.213Z"
   },
   {
    "duration": 0,
    "start_time": "2024-12-02T17:35:00.215Z"
   },
   {
    "duration": 0,
    "start_time": "2024-12-02T17:35:00.224Z"
   },
   {
    "duration": 0,
    "start_time": "2024-12-02T17:35:00.225Z"
   },
   {
    "duration": 0,
    "start_time": "2024-12-02T17:35:00.226Z"
   },
   {
    "duration": 15,
    "start_time": "2024-12-02T17:49:55.518Z"
   },
   {
    "duration": 757,
    "start_time": "2024-12-02T17:50:00.686Z"
   },
   {
    "duration": 69,
    "start_time": "2024-12-02T17:50:01.445Z"
   },
   {
    "duration": 13,
    "start_time": "2024-12-02T17:50:01.524Z"
   },
   {
    "duration": 14,
    "start_time": "2024-12-02T17:50:01.540Z"
   },
   {
    "duration": 9,
    "start_time": "2024-12-02T17:50:01.556Z"
   },
   {
    "duration": 57,
    "start_time": "2024-12-02T17:50:01.567Z"
   },
   {
    "duration": 4,
    "start_time": "2024-12-02T17:50:01.626Z"
   },
   {
    "duration": 310,
    "start_time": "2024-12-02T17:50:01.632Z"
   },
   {
    "duration": 470,
    "start_time": "2024-12-02T17:50:01.943Z"
   },
   {
    "duration": 90,
    "start_time": "2024-12-02T17:50:02.417Z"
   },
   {
    "duration": 105,
    "start_time": "2024-12-02T17:50:02.509Z"
   },
   {
    "duration": 134,
    "start_time": "2024-12-02T17:50:02.616Z"
   },
   {
    "duration": 153,
    "start_time": "2024-12-02T17:50:02.752Z"
   },
   {
    "duration": 19,
    "start_time": "2024-12-02T17:50:02.907Z"
   },
   {
    "duration": 16,
    "start_time": "2024-12-02T17:50:02.928Z"
   },
   {
    "duration": 11,
    "start_time": "2024-12-02T17:50:02.946Z"
   },
   {
    "duration": 24,
    "start_time": "2024-12-02T17:50:02.959Z"
   },
   {
    "duration": 4,
    "start_time": "2024-12-02T17:50:02.985Z"
   },
   {
    "duration": 35,
    "start_time": "2024-12-02T17:50:02.990Z"
   },
   {
    "duration": 70,
    "start_time": "2024-12-02T17:50:03.027Z"
   },
   {
    "duration": 122,
    "start_time": "2024-12-02T17:50:03.099Z"
   },
   {
    "duration": 281,
    "start_time": "2024-12-02T17:50:03.223Z"
   },
   {
    "duration": 0,
    "start_time": "2024-12-02T17:50:03.506Z"
   },
   {
    "duration": 0,
    "start_time": "2024-12-02T17:50:03.508Z"
   },
   {
    "duration": 0,
    "start_time": "2024-12-02T17:50:03.509Z"
   },
   {
    "duration": 0,
    "start_time": "2024-12-02T17:50:03.510Z"
   },
   {
    "duration": 0,
    "start_time": "2024-12-02T17:50:03.511Z"
   },
   {
    "duration": 0,
    "start_time": "2024-12-02T17:50:03.524Z"
   },
   {
    "duration": 0,
    "start_time": "2024-12-02T17:50:03.525Z"
   },
   {
    "duration": 0,
    "start_time": "2024-12-02T17:50:03.526Z"
   },
   {
    "duration": 784,
    "start_time": "2024-12-02T17:52:02.153Z"
   },
   {
    "duration": 62,
    "start_time": "2024-12-02T17:52:02.939Z"
   },
   {
    "duration": 33,
    "start_time": "2024-12-02T17:52:03.003Z"
   },
   {
    "duration": 15,
    "start_time": "2024-12-02T17:52:03.038Z"
   },
   {
    "duration": 10,
    "start_time": "2024-12-02T17:52:03.055Z"
   },
   {
    "duration": 30,
    "start_time": "2024-12-02T17:52:03.066Z"
   },
   {
    "duration": 28,
    "start_time": "2024-12-02T17:52:03.097Z"
   },
   {
    "duration": 316,
    "start_time": "2024-12-02T17:52:03.126Z"
   },
   {
    "duration": 468,
    "start_time": "2024-12-02T17:52:03.444Z"
   },
   {
    "duration": 84,
    "start_time": "2024-12-02T17:52:03.923Z"
   },
   {
    "duration": 105,
    "start_time": "2024-12-02T17:52:04.009Z"
   },
   {
    "duration": 128,
    "start_time": "2024-12-02T17:52:04.116Z"
   },
   {
    "duration": 151,
    "start_time": "2024-12-02T17:52:04.245Z"
   },
   {
    "duration": 11,
    "start_time": "2024-12-02T17:52:04.397Z"
   },
   {
    "duration": 31,
    "start_time": "2024-12-02T17:52:04.410Z"
   },
   {
    "duration": 14,
    "start_time": "2024-12-02T17:52:04.443Z"
   },
   {
    "duration": 26,
    "start_time": "2024-12-02T17:52:04.459Z"
   },
   {
    "duration": 5,
    "start_time": "2024-12-02T17:52:04.487Z"
   },
   {
    "duration": 3,
    "start_time": "2024-12-02T17:52:04.493Z"
   },
   {
    "duration": 97,
    "start_time": "2024-12-02T17:52:04.497Z"
   },
   {
    "duration": 115,
    "start_time": "2024-12-02T17:52:04.596Z"
   },
   {
    "duration": 279,
    "start_time": "2024-12-02T17:52:04.713Z"
   },
   {
    "duration": 0,
    "start_time": "2024-12-02T17:52:04.994Z"
   },
   {
    "duration": 0,
    "start_time": "2024-12-02T17:52:04.995Z"
   },
   {
    "duration": 0,
    "start_time": "2024-12-02T17:52:04.996Z"
   },
   {
    "duration": 0,
    "start_time": "2024-12-02T17:52:04.997Z"
   },
   {
    "duration": 0,
    "start_time": "2024-12-02T17:52:04.999Z"
   },
   {
    "duration": 0,
    "start_time": "2024-12-02T17:52:05.000Z"
   },
   {
    "duration": 0,
    "start_time": "2024-12-02T17:52:05.001Z"
   },
   {
    "duration": 0,
    "start_time": "2024-12-02T17:52:05.002Z"
   },
   {
    "duration": 751,
    "start_time": "2024-12-02T18:05:14.389Z"
   },
   {
    "duration": 67,
    "start_time": "2024-12-02T18:05:15.142Z"
   },
   {
    "duration": 25,
    "start_time": "2024-12-02T18:05:15.210Z"
   },
   {
    "duration": 15,
    "start_time": "2024-12-02T18:05:15.237Z"
   },
   {
    "duration": 9,
    "start_time": "2024-12-02T18:05:15.254Z"
   },
   {
    "duration": 30,
    "start_time": "2024-12-02T18:05:15.265Z"
   },
   {
    "duration": 3,
    "start_time": "2024-12-02T18:05:15.324Z"
   },
   {
    "duration": 316,
    "start_time": "2024-12-02T18:05:15.329Z"
   },
   {
    "duration": 479,
    "start_time": "2024-12-02T18:05:15.646Z"
   },
   {
    "duration": 84,
    "start_time": "2024-12-02T18:05:16.127Z"
   },
   {
    "duration": 115,
    "start_time": "2024-12-02T18:05:16.212Z"
   },
   {
    "duration": 131,
    "start_time": "2024-12-02T18:05:16.328Z"
   },
   {
    "duration": 150,
    "start_time": "2024-12-02T18:05:16.461Z"
   },
   {
    "duration": 14,
    "start_time": "2024-12-02T18:05:16.615Z"
   },
   {
    "duration": 17,
    "start_time": "2024-12-02T18:05:16.630Z"
   },
   {
    "duration": 11,
    "start_time": "2024-12-02T18:05:16.648Z"
   },
   {
    "duration": 24,
    "start_time": "2024-12-02T18:05:16.661Z"
   },
   {
    "duration": 3,
    "start_time": "2024-12-02T18:05:16.687Z"
   },
   {
    "duration": 3,
    "start_time": "2024-12-02T18:05:16.724Z"
   },
   {
    "duration": 80,
    "start_time": "2024-12-02T18:05:16.728Z"
   },
   {
    "duration": 123,
    "start_time": "2024-12-02T18:05:16.810Z"
   },
   {
    "duration": 25,
    "start_time": "2024-12-02T18:05:16.936Z"
   },
   {
    "duration": 4,
    "start_time": "2024-12-02T18:05:16.963Z"
   },
   {
    "duration": 5,
    "start_time": "2024-12-02T18:05:16.969Z"
   },
   {
    "duration": 7,
    "start_time": "2024-12-02T18:05:16.976Z"
   },
   {
    "duration": 509,
    "start_time": "2024-12-02T18:05:16.985Z"
   },
   {
    "duration": 0,
    "start_time": "2024-12-02T18:05:17.496Z"
   },
   {
    "duration": 0,
    "start_time": "2024-12-02T18:05:17.498Z"
   },
   {
    "duration": 0,
    "start_time": "2024-12-02T18:05:17.499Z"
   },
   {
    "duration": 0,
    "start_time": "2024-12-02T18:05:17.501Z"
   },
   {
    "duration": 0,
    "start_time": "2024-12-02T18:05:17.502Z"
   },
   {
    "duration": 7,
    "start_time": "2024-12-02T20:08:07.932Z"
   },
   {
    "duration": 10,
    "start_time": "2024-12-02T20:11:51.424Z"
   },
   {
    "duration": 865,
    "start_time": "2024-12-02T20:12:13.799Z"
   },
   {
    "duration": 69,
    "start_time": "2024-12-02T20:12:14.667Z"
   },
   {
    "duration": 14,
    "start_time": "2024-12-02T20:12:14.738Z"
   },
   {
    "duration": 17,
    "start_time": "2024-12-02T20:12:14.754Z"
   },
   {
    "duration": 9,
    "start_time": "2024-12-02T20:12:14.773Z"
   },
   {
    "duration": 63,
    "start_time": "2024-12-02T20:12:14.784Z"
   },
   {
    "duration": 3,
    "start_time": "2024-12-02T20:12:14.848Z"
   },
   {
    "duration": 377,
    "start_time": "2024-12-02T20:12:14.853Z"
   },
   {
    "duration": 432,
    "start_time": "2024-12-02T20:12:15.232Z"
   },
   {
    "duration": 97,
    "start_time": "2024-12-02T20:12:15.665Z"
   },
   {
    "duration": 103,
    "start_time": "2024-12-02T20:12:15.764Z"
   },
   {
    "duration": 130,
    "start_time": "2024-12-02T20:12:15.868Z"
   },
   {
    "duration": 153,
    "start_time": "2024-12-02T20:12:15.999Z"
   },
   {
    "duration": 10,
    "start_time": "2024-12-02T20:12:16.155Z"
   },
   {
    "duration": 18,
    "start_time": "2024-12-02T20:12:16.166Z"
   },
   {
    "duration": 12,
    "start_time": "2024-12-02T20:12:16.185Z"
   },
   {
    "duration": 46,
    "start_time": "2024-12-02T20:12:16.199Z"
   },
   {
    "duration": 3,
    "start_time": "2024-12-02T20:12:16.247Z"
   },
   {
    "duration": 3,
    "start_time": "2024-12-02T20:12:16.252Z"
   },
   {
    "duration": 74,
    "start_time": "2024-12-02T20:12:16.256Z"
   },
   {
    "duration": 12,
    "start_time": "2024-12-02T20:12:16.331Z"
   },
   {
    "duration": 22,
    "start_time": "2024-12-02T20:12:16.345Z"
   },
   {
    "duration": 5,
    "start_time": "2024-12-02T20:12:16.369Z"
   },
   {
    "duration": 6,
    "start_time": "2024-12-02T20:12:16.375Z"
   },
   {
    "duration": 54,
    "start_time": "2024-12-02T20:12:16.383Z"
   },
   {
    "duration": 8,
    "start_time": "2024-12-02T20:12:16.439Z"
   },
   {
    "duration": 8,
    "start_time": "2024-12-02T20:12:16.449Z"
   },
   {
    "duration": 481,
    "start_time": "2024-12-02T20:12:16.459Z"
   },
   {
    "duration": 0,
    "start_time": "2024-12-02T20:12:16.942Z"
   },
   {
    "duration": 0,
    "start_time": "2024-12-02T20:12:16.943Z"
   },
   {
    "duration": 0,
    "start_time": "2024-12-02T20:12:16.944Z"
   },
   {
    "duration": 0,
    "start_time": "2024-12-02T20:12:16.945Z"
   },
   {
    "duration": 0,
    "start_time": "2024-12-02T20:12:16.946Z"
   },
   {
    "duration": 12,
    "start_time": "2024-12-02T20:13:14.806Z"
   },
   {
    "duration": 868,
    "start_time": "2024-12-02T20:13:22.381Z"
   },
   {
    "duration": 75,
    "start_time": "2024-12-02T20:13:23.251Z"
   },
   {
    "duration": 14,
    "start_time": "2024-12-02T20:13:23.328Z"
   },
   {
    "duration": 17,
    "start_time": "2024-12-02T20:13:23.344Z"
   },
   {
    "duration": 10,
    "start_time": "2024-12-02T20:13:23.363Z"
   },
   {
    "duration": 60,
    "start_time": "2024-12-02T20:13:23.375Z"
   },
   {
    "duration": 3,
    "start_time": "2024-12-02T20:13:23.436Z"
   },
   {
    "duration": 382,
    "start_time": "2024-12-02T20:13:23.442Z"
   },
   {
    "duration": 436,
    "start_time": "2024-12-02T20:13:23.825Z"
   },
   {
    "duration": 90,
    "start_time": "2024-12-02T20:13:24.264Z"
   },
   {
    "duration": 107,
    "start_time": "2024-12-02T20:13:24.356Z"
   },
   {
    "duration": 131,
    "start_time": "2024-12-02T20:13:24.465Z"
   },
   {
    "duration": 153,
    "start_time": "2024-12-02T20:13:24.598Z"
   },
   {
    "duration": 9,
    "start_time": "2024-12-02T20:13:24.754Z"
   },
   {
    "duration": 17,
    "start_time": "2024-12-02T20:13:24.764Z"
   },
   {
    "duration": 11,
    "start_time": "2024-12-02T20:13:24.782Z"
   },
   {
    "duration": 46,
    "start_time": "2024-12-02T20:13:24.794Z"
   },
   {
    "duration": 4,
    "start_time": "2024-12-02T20:13:24.841Z"
   },
   {
    "duration": 3,
    "start_time": "2024-12-02T20:13:24.846Z"
   },
   {
    "duration": 67,
    "start_time": "2024-12-02T20:13:24.851Z"
   },
   {
    "duration": 12,
    "start_time": "2024-12-02T20:13:24.919Z"
   },
   {
    "duration": 23,
    "start_time": "2024-12-02T20:13:24.933Z"
   },
   {
    "duration": 4,
    "start_time": "2024-12-02T20:13:24.957Z"
   },
   {
    "duration": 6,
    "start_time": "2024-12-02T20:13:24.962Z"
   },
   {
    "duration": 55,
    "start_time": "2024-12-02T20:13:24.970Z"
   },
   {
    "duration": 6,
    "start_time": "2024-12-02T20:13:25.027Z"
   },
   {
    "duration": 8,
    "start_time": "2024-12-02T20:13:25.034Z"
   },
   {
    "duration": 510,
    "start_time": "2024-12-02T20:13:25.043Z"
   },
   {
    "duration": 0,
    "start_time": "2024-12-02T20:13:25.555Z"
   },
   {
    "duration": 0,
    "start_time": "2024-12-02T20:13:25.556Z"
   },
   {
    "duration": 0,
    "start_time": "2024-12-02T20:13:25.557Z"
   },
   {
    "duration": 0,
    "start_time": "2024-12-02T20:13:25.558Z"
   },
   {
    "duration": 0,
    "start_time": "2024-12-02T20:13:25.559Z"
   },
   {
    "duration": 11,
    "start_time": "2024-12-02T20:14:31.946Z"
   },
   {
    "duration": 885,
    "start_time": "2024-12-02T20:14:39.912Z"
   },
   {
    "duration": 69,
    "start_time": "2024-12-02T20:14:40.799Z"
   },
   {
    "duration": 14,
    "start_time": "2024-12-02T20:14:40.870Z"
   },
   {
    "duration": 42,
    "start_time": "2024-12-02T20:14:40.885Z"
   },
   {
    "duration": 9,
    "start_time": "2024-12-02T20:14:40.929Z"
   },
   {
    "duration": 29,
    "start_time": "2024-12-02T20:14:40.939Z"
   },
   {
    "duration": 3,
    "start_time": "2024-12-02T20:14:40.970Z"
   },
   {
    "duration": 360,
    "start_time": "2024-12-02T20:14:40.974Z"
   },
   {
    "duration": 432,
    "start_time": "2024-12-02T20:14:41.336Z"
   },
   {
    "duration": 94,
    "start_time": "2024-12-02T20:14:41.770Z"
   },
   {
    "duration": 108,
    "start_time": "2024-12-02T20:14:41.865Z"
   },
   {
    "duration": 131,
    "start_time": "2024-12-02T20:14:41.975Z"
   },
   {
    "duration": 150,
    "start_time": "2024-12-02T20:14:42.107Z"
   },
   {
    "duration": 9,
    "start_time": "2024-12-02T20:14:42.261Z"
   },
   {
    "duration": 18,
    "start_time": "2024-12-02T20:14:42.271Z"
   },
   {
    "duration": 33,
    "start_time": "2024-12-02T20:14:42.291Z"
   },
   {
    "duration": 25,
    "start_time": "2024-12-02T20:14:42.325Z"
   },
   {
    "duration": 5,
    "start_time": "2024-12-02T20:14:42.352Z"
   },
   {
    "duration": 3,
    "start_time": "2024-12-02T20:14:42.358Z"
   },
   {
    "duration": 68,
    "start_time": "2024-12-02T20:14:42.363Z"
   },
   {
    "duration": 11,
    "start_time": "2024-12-02T20:14:42.432Z"
   },
   {
    "duration": 22,
    "start_time": "2024-12-02T20:14:42.445Z"
   },
   {
    "duration": 5,
    "start_time": "2024-12-02T20:14:42.468Z"
   },
   {
    "duration": 6,
    "start_time": "2024-12-02T20:14:42.475Z"
   },
   {
    "duration": 50,
    "start_time": "2024-12-02T20:14:42.483Z"
   },
   {
    "duration": 6,
    "start_time": "2024-12-02T20:14:42.535Z"
   },
   {
    "duration": 8,
    "start_time": "2024-12-02T20:14:42.542Z"
   },
   {
    "duration": 518,
    "start_time": "2024-12-02T20:14:42.551Z"
   },
   {
    "duration": 0,
    "start_time": "2024-12-02T20:14:43.071Z"
   },
   {
    "duration": 0,
    "start_time": "2024-12-02T20:14:43.072Z"
   },
   {
    "duration": 0,
    "start_time": "2024-12-02T20:14:43.074Z"
   },
   {
    "duration": 0,
    "start_time": "2024-12-02T20:14:43.075Z"
   },
   {
    "duration": 0,
    "start_time": "2024-12-02T20:14:43.078Z"
   },
   {
    "duration": 944,
    "start_time": "2024-12-02T20:48:44.919Z"
   },
   {
    "duration": 83,
    "start_time": "2024-12-02T20:48:45.865Z"
   },
   {
    "duration": 17,
    "start_time": "2024-12-02T20:48:45.950Z"
   },
   {
    "duration": 22,
    "start_time": "2024-12-02T20:48:45.969Z"
   },
   {
    "duration": 35,
    "start_time": "2024-12-02T20:48:45.993Z"
   },
   {
    "duration": 33,
    "start_time": "2024-12-02T20:48:46.030Z"
   },
   {
    "duration": 3,
    "start_time": "2024-12-02T20:48:46.065Z"
   },
   {
    "duration": 381,
    "start_time": "2024-12-02T20:48:46.070Z"
   },
   {
    "duration": 442,
    "start_time": "2024-12-02T20:48:46.452Z"
   },
   {
    "duration": 110,
    "start_time": "2024-12-02T20:48:46.898Z"
   },
   {
    "duration": 104,
    "start_time": "2024-12-02T20:48:47.011Z"
   },
   {
    "duration": 145,
    "start_time": "2024-12-02T20:48:47.117Z"
   },
   {
    "duration": 153,
    "start_time": "2024-12-02T20:48:47.266Z"
   },
   {
    "duration": 10,
    "start_time": "2024-12-02T20:48:47.420Z"
   },
   {
    "duration": 19,
    "start_time": "2024-12-02T20:48:47.431Z"
   },
   {
    "duration": 15,
    "start_time": "2024-12-02T20:48:47.451Z"
   },
   {
    "duration": 25,
    "start_time": "2024-12-02T20:48:47.467Z"
   },
   {
    "duration": 18,
    "start_time": "2024-12-02T20:48:47.523Z"
   },
   {
    "duration": 3,
    "start_time": "2024-12-02T20:48:47.543Z"
   },
   {
    "duration": 73,
    "start_time": "2024-12-02T20:48:47.548Z"
   },
   {
    "duration": 16,
    "start_time": "2024-12-02T20:48:47.624Z"
   },
   {
    "duration": 25,
    "start_time": "2024-12-02T20:48:47.642Z"
   },
   {
    "duration": 6,
    "start_time": "2024-12-02T20:48:47.668Z"
   },
   {
    "duration": 6,
    "start_time": "2024-12-02T20:48:47.677Z"
   },
   {
    "duration": 54,
    "start_time": "2024-12-02T20:48:47.685Z"
   },
   {
    "duration": 7,
    "start_time": "2024-12-02T20:48:47.741Z"
   },
   {
    "duration": 8,
    "start_time": "2024-12-02T20:48:47.750Z"
   },
   {
    "duration": 563,
    "start_time": "2024-12-02T20:48:47.762Z"
   },
   {
    "duration": 0,
    "start_time": "2024-12-02T20:48:48.327Z"
   },
   {
    "duration": 0,
    "start_time": "2024-12-02T20:48:48.329Z"
   },
   {
    "duration": 0,
    "start_time": "2024-12-02T20:48:48.330Z"
   },
   {
    "duration": 0,
    "start_time": "2024-12-02T20:48:48.331Z"
   },
   {
    "duration": 0,
    "start_time": "2024-12-02T20:48:48.333Z"
   },
   {
    "duration": 892,
    "start_time": "2024-12-02T20:53:58.253Z"
   },
   {
    "duration": 80,
    "start_time": "2024-12-02T20:53:59.147Z"
   },
   {
    "duration": 13,
    "start_time": "2024-12-02T20:53:59.229Z"
   },
   {
    "duration": 17,
    "start_time": "2024-12-02T20:53:59.243Z"
   },
   {
    "duration": 9,
    "start_time": "2024-12-02T20:53:59.263Z"
   },
   {
    "duration": 58,
    "start_time": "2024-12-02T20:53:59.273Z"
   },
   {
    "duration": 4,
    "start_time": "2024-12-02T20:53:59.332Z"
   },
   {
    "duration": 343,
    "start_time": "2024-12-02T20:53:59.337Z"
   },
   {
    "duration": 426,
    "start_time": "2024-12-02T20:53:59.682Z"
   },
   {
    "duration": 89,
    "start_time": "2024-12-02T20:54:00.110Z"
   },
   {
    "duration": 108,
    "start_time": "2024-12-02T20:54:00.200Z"
   },
   {
    "duration": 130,
    "start_time": "2024-12-02T20:54:00.310Z"
   },
   {
    "duration": 166,
    "start_time": "2024-12-02T20:54:00.442Z"
   },
   {
    "duration": 15,
    "start_time": "2024-12-02T20:54:00.611Z"
   },
   {
    "duration": 18,
    "start_time": "2024-12-02T20:54:00.627Z"
   },
   {
    "duration": 11,
    "start_time": "2024-12-02T20:54:00.647Z"
   },
   {
    "duration": 24,
    "start_time": "2024-12-02T20:54:00.660Z"
   },
   {
    "duration": 4,
    "start_time": "2024-12-02T20:54:00.686Z"
   },
   {
    "duration": 33,
    "start_time": "2024-12-02T20:54:00.692Z"
   },
   {
    "duration": 65,
    "start_time": "2024-12-02T20:54:00.727Z"
   },
   {
    "duration": 11,
    "start_time": "2024-12-02T20:54:00.793Z"
   },
   {
    "duration": 24,
    "start_time": "2024-12-02T20:54:00.806Z"
   },
   {
    "duration": 4,
    "start_time": "2024-12-02T20:54:00.831Z"
   },
   {
    "duration": 6,
    "start_time": "2024-12-02T20:54:00.837Z"
   },
   {
    "duration": 29,
    "start_time": "2024-12-02T20:54:00.845Z"
   },
   {
    "duration": 7,
    "start_time": "2024-12-02T20:54:00.875Z"
   },
   {
    "duration": 6,
    "start_time": "2024-12-02T20:54:00.883Z"
   },
   {
    "duration": 39,
    "start_time": "2024-12-02T20:54:00.891Z"
   },
   {
    "duration": 480,
    "start_time": "2024-12-02T20:54:00.933Z"
   },
   {
    "duration": 0,
    "start_time": "2024-12-02T20:54:01.415Z"
   },
   {
    "duration": 0,
    "start_time": "2024-12-02T20:54:01.415Z"
   },
   {
    "duration": 0,
    "start_time": "2024-12-02T20:54:01.417Z"
   },
   {
    "duration": 0,
    "start_time": "2024-12-02T20:54:01.424Z"
   },
   {
    "duration": 0,
    "start_time": "2024-12-02T20:54:01.425Z"
   },
   {
    "duration": 972,
    "start_time": "2024-12-02T20:58:43.172Z"
   },
   {
    "duration": 82,
    "start_time": "2024-12-02T20:58:44.146Z"
   },
   {
    "duration": 13,
    "start_time": "2024-12-02T20:58:44.229Z"
   },
   {
    "duration": 15,
    "start_time": "2024-12-02T20:58:44.244Z"
   },
   {
    "duration": 11,
    "start_time": "2024-12-02T20:58:44.261Z"
   },
   {
    "duration": 60,
    "start_time": "2024-12-02T20:58:44.273Z"
   },
   {
    "duration": 3,
    "start_time": "2024-12-02T20:58:44.335Z"
   },
   {
    "duration": 362,
    "start_time": "2024-12-02T20:58:44.340Z"
   },
   {
    "duration": 424,
    "start_time": "2024-12-02T20:58:44.704Z"
   },
   {
    "duration": 99,
    "start_time": "2024-12-02T20:58:45.131Z"
   },
   {
    "duration": 123,
    "start_time": "2024-12-02T20:58:45.232Z"
   },
   {
    "duration": 131,
    "start_time": "2024-12-02T20:58:45.357Z"
   },
   {
    "duration": 158,
    "start_time": "2024-12-02T20:58:45.490Z"
   },
   {
    "duration": 11,
    "start_time": "2024-12-02T20:58:45.649Z"
   },
   {
    "duration": 17,
    "start_time": "2024-12-02T20:58:45.661Z"
   },
   {
    "duration": 11,
    "start_time": "2024-12-02T20:58:45.680Z"
   },
   {
    "duration": 51,
    "start_time": "2024-12-02T20:58:45.693Z"
   },
   {
    "duration": 4,
    "start_time": "2024-12-02T20:58:45.746Z"
   },
   {
    "duration": 3,
    "start_time": "2024-12-02T20:58:45.752Z"
   },
   {
    "duration": 77,
    "start_time": "2024-12-02T20:58:45.757Z"
   },
   {
    "duration": 11,
    "start_time": "2024-12-02T20:58:45.836Z"
   },
   {
    "duration": 24,
    "start_time": "2024-12-02T20:58:45.849Z"
   },
   {
    "duration": 5,
    "start_time": "2024-12-02T20:58:45.875Z"
   },
   {
    "duration": 6,
    "start_time": "2024-12-02T20:58:45.882Z"
   },
   {
    "duration": 47,
    "start_time": "2024-12-02T20:58:45.890Z"
   },
   {
    "duration": 6,
    "start_time": "2024-12-02T20:58:45.939Z"
   },
   {
    "duration": 7,
    "start_time": "2024-12-02T20:58:45.946Z"
   },
   {
    "duration": 7,
    "start_time": "2024-12-02T20:58:45.957Z"
   },
   {
    "duration": 550,
    "start_time": "2024-12-02T20:58:45.966Z"
   },
   {
    "duration": 0,
    "start_time": "2024-12-02T20:58:46.518Z"
   },
   {
    "duration": 0,
    "start_time": "2024-12-02T20:58:46.525Z"
   },
   {
    "duration": 0,
    "start_time": "2024-12-02T20:58:46.525Z"
   },
   {
    "duration": 0,
    "start_time": "2024-12-02T20:58:46.527Z"
   },
   {
    "duration": 0,
    "start_time": "2024-12-02T20:58:46.528Z"
   },
   {
    "duration": 886,
    "start_time": "2024-12-02T21:06:04.904Z"
   },
   {
    "duration": 67,
    "start_time": "2024-12-02T21:06:05.792Z"
   },
   {
    "duration": 13,
    "start_time": "2024-12-02T21:06:05.860Z"
   },
   {
    "duration": 21,
    "start_time": "2024-12-02T21:06:05.875Z"
   },
   {
    "duration": 38,
    "start_time": "2024-12-02T21:06:05.898Z"
   },
   {
    "duration": 29,
    "start_time": "2024-12-02T21:06:05.937Z"
   },
   {
    "duration": 3,
    "start_time": "2024-12-02T21:06:05.967Z"
   },
   {
    "duration": 372,
    "start_time": "2024-12-02T21:06:05.972Z"
   },
   {
    "duration": 419,
    "start_time": "2024-12-02T21:06:06.346Z"
   },
   {
    "duration": 96,
    "start_time": "2024-12-02T21:06:06.768Z"
   },
   {
    "duration": 107,
    "start_time": "2024-12-02T21:06:06.866Z"
   },
   {
    "duration": 130,
    "start_time": "2024-12-02T21:06:06.975Z"
   },
   {
    "duration": 148,
    "start_time": "2024-12-02T21:06:07.107Z"
   },
   {
    "duration": 10,
    "start_time": "2024-12-02T21:06:07.257Z"
   },
   {
    "duration": 17,
    "start_time": "2024-12-02T21:06:07.269Z"
   },
   {
    "duration": 36,
    "start_time": "2024-12-02T21:06:07.288Z"
   },
   {
    "duration": 26,
    "start_time": "2024-12-02T21:06:07.326Z"
   },
   {
    "duration": 3,
    "start_time": "2024-12-02T21:06:07.354Z"
   },
   {
    "duration": 3,
    "start_time": "2024-12-02T21:06:07.359Z"
   },
   {
    "duration": 78,
    "start_time": "2024-12-02T21:06:07.364Z"
   },
   {
    "duration": 14,
    "start_time": "2024-12-02T21:06:07.443Z"
   },
   {
    "duration": 25,
    "start_time": "2024-12-02T21:06:07.459Z"
   },
   {
    "duration": 6,
    "start_time": "2024-12-02T21:06:07.486Z"
   },
   {
    "duration": 6,
    "start_time": "2024-12-02T21:06:07.494Z"
   },
   {
    "duration": 48,
    "start_time": "2024-12-02T21:06:07.501Z"
   },
   {
    "duration": 5,
    "start_time": "2024-12-02T21:06:07.551Z"
   },
   {
    "duration": 9,
    "start_time": "2024-12-02T21:06:07.558Z"
   },
   {
    "duration": 7,
    "start_time": "2024-12-02T21:06:07.570Z"
   },
   {
    "duration": 508,
    "start_time": "2024-12-02T21:06:07.579Z"
   },
   {
    "duration": 0,
    "start_time": "2024-12-02T21:06:08.089Z"
   },
   {
    "duration": 0,
    "start_time": "2024-12-02T21:06:08.090Z"
   },
   {
    "duration": 0,
    "start_time": "2024-12-02T21:06:08.091Z"
   },
   {
    "duration": 0,
    "start_time": "2024-12-02T21:06:08.092Z"
   },
   {
    "duration": 0,
    "start_time": "2024-12-02T21:06:08.093Z"
   },
   {
    "duration": 897,
    "start_time": "2024-12-02T21:09:19.055Z"
   },
   {
    "duration": 77,
    "start_time": "2024-12-02T21:09:19.954Z"
   },
   {
    "duration": 13,
    "start_time": "2024-12-02T21:09:20.033Z"
   },
   {
    "duration": 16,
    "start_time": "2024-12-02T21:09:20.050Z"
   },
   {
    "duration": 9,
    "start_time": "2024-12-02T21:09:20.068Z"
   },
   {
    "duration": 57,
    "start_time": "2024-12-02T21:09:20.078Z"
   },
   {
    "duration": 3,
    "start_time": "2024-12-02T21:09:20.137Z"
   },
   {
    "duration": 349,
    "start_time": "2024-12-02T21:09:20.142Z"
   },
   {
    "duration": 434,
    "start_time": "2024-12-02T21:09:20.493Z"
   },
   {
    "duration": 94,
    "start_time": "2024-12-02T21:09:20.930Z"
   },
   {
    "duration": 111,
    "start_time": "2024-12-02T21:09:21.026Z"
   },
   {
    "duration": 138,
    "start_time": "2024-12-02T21:09:21.139Z"
   },
   {
    "duration": 149,
    "start_time": "2024-12-02T21:09:21.279Z"
   },
   {
    "duration": 11,
    "start_time": "2024-12-02T21:09:21.430Z"
   },
   {
    "duration": 17,
    "start_time": "2024-12-02T21:09:21.443Z"
   },
   {
    "duration": 11,
    "start_time": "2024-12-02T21:09:21.462Z"
   },
   {
    "duration": 53,
    "start_time": "2024-12-02T21:09:21.475Z"
   },
   {
    "duration": 4,
    "start_time": "2024-12-02T21:09:21.529Z"
   },
   {
    "duration": 3,
    "start_time": "2024-12-02T21:09:21.534Z"
   },
   {
    "duration": 77,
    "start_time": "2024-12-02T21:09:21.539Z"
   },
   {
    "duration": 12,
    "start_time": "2024-12-02T21:09:21.618Z"
   },
   {
    "duration": 23,
    "start_time": "2024-12-02T21:09:21.631Z"
   },
   {
    "duration": 4,
    "start_time": "2024-12-02T21:09:21.656Z"
   },
   {
    "duration": 6,
    "start_time": "2024-12-02T21:09:21.661Z"
   },
   {
    "duration": 32,
    "start_time": "2024-12-02T21:09:21.668Z"
   },
   {
    "duration": 8,
    "start_time": "2024-12-02T21:09:21.725Z"
   },
   {
    "duration": 9,
    "start_time": "2024-12-02T21:09:21.735Z"
   },
   {
    "duration": 9,
    "start_time": "2024-12-02T21:09:21.748Z"
   },
   {
    "duration": 516,
    "start_time": "2024-12-02T21:09:21.759Z"
   },
   {
    "duration": 0,
    "start_time": "2024-12-02T21:09:22.277Z"
   },
   {
    "duration": 0,
    "start_time": "2024-12-02T21:09:22.278Z"
   },
   {
    "duration": 0,
    "start_time": "2024-12-02T21:09:22.279Z"
   },
   {
    "duration": 0,
    "start_time": "2024-12-02T21:09:22.281Z"
   },
   {
    "duration": 0,
    "start_time": "2024-12-02T21:09:22.282Z"
   },
   {
    "duration": 903,
    "start_time": "2024-12-02T21:12:47.909Z"
   },
   {
    "duration": 66,
    "start_time": "2024-12-02T21:12:48.814Z"
   },
   {
    "duration": 13,
    "start_time": "2024-12-02T21:12:48.882Z"
   },
   {
    "duration": 40,
    "start_time": "2024-12-02T21:12:48.898Z"
   },
   {
    "duration": 10,
    "start_time": "2024-12-02T21:12:48.940Z"
   },
   {
    "duration": 30,
    "start_time": "2024-12-02T21:12:48.952Z"
   },
   {
    "duration": 2,
    "start_time": "2024-12-02T21:12:48.984Z"
   },
   {
    "duration": 355,
    "start_time": "2024-12-02T21:12:48.988Z"
   },
   {
    "duration": 438,
    "start_time": "2024-12-02T21:12:49.345Z"
   },
   {
    "duration": 90,
    "start_time": "2024-12-02T21:12:49.787Z"
   },
   {
    "duration": 112,
    "start_time": "2024-12-02T21:12:49.879Z"
   },
   {
    "duration": 131,
    "start_time": "2024-12-02T21:12:49.993Z"
   },
   {
    "duration": 154,
    "start_time": "2024-12-02T21:12:50.125Z"
   },
   {
    "duration": 9,
    "start_time": "2024-12-02T21:12:50.281Z"
   },
   {
    "duration": 32,
    "start_time": "2024-12-02T21:12:50.292Z"
   },
   {
    "duration": 11,
    "start_time": "2024-12-02T21:12:50.326Z"
   },
   {
    "duration": 25,
    "start_time": "2024-12-02T21:12:50.339Z"
   },
   {
    "duration": 5,
    "start_time": "2024-12-02T21:12:50.366Z"
   },
   {
    "duration": 3,
    "start_time": "2024-12-02T21:12:50.373Z"
   },
   {
    "duration": 82,
    "start_time": "2024-12-02T21:12:50.377Z"
   },
   {
    "duration": 12,
    "start_time": "2024-12-02T21:12:50.461Z"
   },
   {
    "duration": 27,
    "start_time": "2024-12-02T21:12:50.475Z"
   },
   {
    "duration": 6,
    "start_time": "2024-12-02T21:12:50.504Z"
   },
   {
    "duration": 6,
    "start_time": "2024-12-02T21:12:50.512Z"
   },
   {
    "duration": 34,
    "start_time": "2024-12-02T21:12:50.520Z"
   },
   {
    "duration": 5,
    "start_time": "2024-12-02T21:12:50.556Z"
   },
   {
    "duration": 6,
    "start_time": "2024-12-02T21:12:50.563Z"
   },
   {
    "duration": 9,
    "start_time": "2024-12-02T21:12:50.573Z"
   },
   {
    "duration": 144,
    "start_time": "2024-12-02T21:12:50.583Z"
   },
   {
    "duration": 11,
    "start_time": "2024-12-02T21:12:50.729Z"
   },
   {
    "duration": 2307,
    "start_time": "2024-12-02T21:12:50.742Z"
   },
   {
    "duration": 97,
    "start_time": "2024-12-02T21:12:53.050Z"
   },
   {
    "duration": 181,
    "start_time": "2024-12-02T21:12:53.150Z"
   },
   {
    "duration": 50,
    "start_time": "2024-12-02T21:12:53.332Z"
   },
   {
    "duration": 857,
    "start_time": "2024-12-02T21:26:25.195Z"
   },
   {
    "duration": 72,
    "start_time": "2024-12-02T21:26:26.056Z"
   },
   {
    "duration": 13,
    "start_time": "2024-12-02T21:26:26.130Z"
   },
   {
    "duration": 16,
    "start_time": "2024-12-02T21:26:26.145Z"
   },
   {
    "duration": 8,
    "start_time": "2024-12-02T21:26:26.162Z"
   },
   {
    "duration": 57,
    "start_time": "2024-12-02T21:26:26.172Z"
   },
   {
    "duration": 3,
    "start_time": "2024-12-02T21:26:26.230Z"
   },
   {
    "duration": 337,
    "start_time": "2024-12-02T21:26:26.235Z"
   },
   {
    "duration": 426,
    "start_time": "2024-12-02T21:26:26.573Z"
   },
   {
    "duration": 98,
    "start_time": "2024-12-02T21:26:27.002Z"
   },
   {
    "duration": 123,
    "start_time": "2024-12-02T21:26:27.102Z"
   },
   {
    "duration": 131,
    "start_time": "2024-12-02T21:26:27.227Z"
   },
   {
    "duration": 155,
    "start_time": "2024-12-02T21:26:27.360Z"
   },
   {
    "duration": 14,
    "start_time": "2024-12-02T21:26:27.524Z"
   },
   {
    "duration": 16,
    "start_time": "2024-12-02T21:26:27.540Z"
   },
   {
    "duration": 11,
    "start_time": "2024-12-02T21:26:27.558Z"
   },
   {
    "duration": 26,
    "start_time": "2024-12-02T21:26:27.570Z"
   },
   {
    "duration": 30,
    "start_time": "2024-12-02T21:26:27.597Z"
   },
   {
    "duration": 3,
    "start_time": "2024-12-02T21:26:27.630Z"
   },
   {
    "duration": 69,
    "start_time": "2024-12-02T21:26:27.635Z"
   },
   {
    "duration": 11,
    "start_time": "2024-12-02T21:26:27.706Z"
   },
   {
    "duration": 24,
    "start_time": "2024-12-02T21:26:27.718Z"
   },
   {
    "duration": 5,
    "start_time": "2024-12-02T21:26:27.744Z"
   },
   {
    "duration": 5,
    "start_time": "2024-12-02T21:26:27.751Z"
   },
   {
    "duration": 33,
    "start_time": "2024-12-02T21:26:27.758Z"
   },
   {
    "duration": 5,
    "start_time": "2024-12-02T21:26:27.792Z"
   },
   {
    "duration": 29,
    "start_time": "2024-12-02T21:26:27.799Z"
   },
   {
    "duration": 8,
    "start_time": "2024-12-02T21:26:27.833Z"
   },
   {
    "duration": 108,
    "start_time": "2024-12-02T21:26:27.842Z"
   },
   {
    "duration": 90,
    "start_time": "2024-12-02T21:26:27.953Z"
   },
   {
    "duration": 396,
    "start_time": "2024-12-02T21:26:28.045Z"
   },
   {
    "duration": 0,
    "start_time": "2024-12-02T21:26:28.443Z"
   },
   {
    "duration": 0,
    "start_time": "2024-12-02T21:26:28.444Z"
   },
   {
    "duration": 0,
    "start_time": "2024-12-02T21:26:28.445Z"
   },
   {
    "duration": 0,
    "start_time": "2024-12-02T21:26:28.446Z"
   },
   {
    "duration": 0,
    "start_time": "2024-12-02T21:26:28.447Z"
   },
   {
    "duration": 912,
    "start_time": "2024-12-02T21:28:02.366Z"
   },
   {
    "duration": 67,
    "start_time": "2024-12-02T21:28:03.280Z"
   },
   {
    "duration": 12,
    "start_time": "2024-12-02T21:28:03.349Z"
   },
   {
    "duration": 17,
    "start_time": "2024-12-02T21:28:03.362Z"
   },
   {
    "duration": 9,
    "start_time": "2024-12-02T21:28:03.381Z"
   },
   {
    "duration": 60,
    "start_time": "2024-12-02T21:28:03.391Z"
   },
   {
    "duration": 2,
    "start_time": "2024-12-02T21:28:03.453Z"
   },
   {
    "duration": 371,
    "start_time": "2024-12-02T21:28:03.457Z"
   },
   {
    "duration": 434,
    "start_time": "2024-12-02T21:28:03.830Z"
   },
   {
    "duration": 103,
    "start_time": "2024-12-02T21:28:04.267Z"
   },
   {
    "duration": 110,
    "start_time": "2024-12-02T21:28:04.372Z"
   },
   {
    "duration": 135,
    "start_time": "2024-12-02T21:28:04.486Z"
   },
   {
    "duration": 154,
    "start_time": "2024-12-02T21:28:04.623Z"
   },
   {
    "duration": 9,
    "start_time": "2024-12-02T21:28:04.781Z"
   },
   {
    "duration": 17,
    "start_time": "2024-12-02T21:28:04.792Z"
   },
   {
    "duration": 12,
    "start_time": "2024-12-02T21:28:04.823Z"
   },
   {
    "duration": 24,
    "start_time": "2024-12-02T21:28:04.838Z"
   },
   {
    "duration": 4,
    "start_time": "2024-12-02T21:28:04.863Z"
   },
   {
    "duration": 3,
    "start_time": "2024-12-02T21:28:04.869Z"
   },
   {
    "duration": 73,
    "start_time": "2024-12-02T21:28:04.873Z"
   },
   {
    "duration": 11,
    "start_time": "2024-12-02T21:28:04.948Z"
   },
   {
    "duration": 23,
    "start_time": "2024-12-02T21:28:04.961Z"
   },
   {
    "duration": 4,
    "start_time": "2024-12-02T21:28:04.985Z"
   },
   {
    "duration": 5,
    "start_time": "2024-12-02T21:28:04.991Z"
   },
   {
    "duration": 38,
    "start_time": "2024-12-02T21:28:04.998Z"
   },
   {
    "duration": 5,
    "start_time": "2024-12-02T21:28:05.038Z"
   },
   {
    "duration": 8,
    "start_time": "2024-12-02T21:28:05.045Z"
   },
   {
    "duration": 8,
    "start_time": "2024-12-02T21:28:05.055Z"
   },
   {
    "duration": 159,
    "start_time": "2024-12-02T21:28:05.065Z"
   },
   {
    "duration": 10,
    "start_time": "2024-12-02T21:28:05.226Z"
   },
   {
    "duration": 1786,
    "start_time": "2024-12-02T21:28:05.239Z"
   },
   {
    "duration": 248,
    "start_time": "2024-12-02T21:28:07.029Z"
   },
   {
    "duration": 175,
    "start_time": "2024-12-02T21:28:07.279Z"
   },
   {
    "duration": 2169,
    "start_time": "2024-12-02T21:28:07.456Z"
   },
   {
    "duration": 41,
    "start_time": "2024-12-02T21:28:09.626Z"
   },
   {
    "duration": 171,
    "start_time": "2024-12-02T21:28:09.669Z"
   },
   {
    "duration": 64,
    "start_time": "2024-12-02T21:28:09.842Z"
   },
   {
    "duration": 878,
    "start_time": "2024-12-02T22:36:46.210Z"
   },
   {
    "duration": 70,
    "start_time": "2024-12-02T22:36:47.091Z"
   },
   {
    "duration": 12,
    "start_time": "2024-12-02T22:36:47.163Z"
   },
   {
    "duration": 16,
    "start_time": "2024-12-02T22:36:47.176Z"
   },
   {
    "duration": 29,
    "start_time": "2024-12-02T22:36:47.195Z"
   },
   {
    "duration": 29,
    "start_time": "2024-12-02T22:36:47.226Z"
   },
   {
    "duration": 2,
    "start_time": "2024-12-02T22:36:47.257Z"
   },
   {
    "duration": 390,
    "start_time": "2024-12-02T22:36:47.261Z"
   },
   {
    "duration": 427,
    "start_time": "2024-12-02T22:36:47.653Z"
   },
   {
    "duration": 93,
    "start_time": "2024-12-02T22:36:48.082Z"
   },
   {
    "duration": 113,
    "start_time": "2024-12-02T22:36:48.177Z"
   },
   {
    "duration": 128,
    "start_time": "2024-12-02T22:36:48.292Z"
   },
   {
    "duration": 149,
    "start_time": "2024-12-02T22:36:48.424Z"
   },
   {
    "duration": 9,
    "start_time": "2024-12-02T22:36:48.577Z"
   },
   {
    "duration": 17,
    "start_time": "2024-12-02T22:36:48.587Z"
   },
   {
    "duration": 12,
    "start_time": "2024-12-02T22:36:48.623Z"
   },
   {
    "duration": 24,
    "start_time": "2024-12-02T22:36:48.637Z"
   },
   {
    "duration": 4,
    "start_time": "2024-12-02T22:36:48.663Z"
   },
   {
    "duration": 3,
    "start_time": "2024-12-02T22:36:48.668Z"
   },
   {
    "duration": 83,
    "start_time": "2024-12-02T22:36:48.673Z"
   },
   {
    "duration": 10,
    "start_time": "2024-12-02T22:36:48.757Z"
   },
   {
    "duration": 23,
    "start_time": "2024-12-02T22:36:48.769Z"
   },
   {
    "duration": 4,
    "start_time": "2024-12-02T22:36:48.794Z"
   },
   {
    "duration": 7,
    "start_time": "2024-12-02T22:36:48.799Z"
   },
   {
    "duration": 33,
    "start_time": "2024-12-02T22:36:48.808Z"
   },
   {
    "duration": 5,
    "start_time": "2024-12-02T22:36:48.843Z"
   },
   {
    "duration": 5,
    "start_time": "2024-12-02T22:36:48.850Z"
   },
   {
    "duration": 8,
    "start_time": "2024-12-02T22:36:48.856Z"
   },
   {
    "duration": 82,
    "start_time": "2024-12-02T22:36:48.866Z"
   },
   {
    "duration": 10,
    "start_time": "2024-12-02T22:36:49.023Z"
   },
   {
    "duration": 1794,
    "start_time": "2024-12-02T22:36:49.035Z"
   },
   {
    "duration": 247,
    "start_time": "2024-12-02T22:36:50.831Z"
   },
   {
    "duration": 170,
    "start_time": "2024-12-02T22:36:51.080Z"
   },
   {
    "duration": 2103,
    "start_time": "2024-12-02T22:36:51.253Z"
   },
   {
    "duration": 38,
    "start_time": "2024-12-02T22:36:53.425Z"
   },
   {
    "duration": 169,
    "start_time": "2024-12-02T22:36:53.465Z"
   },
   {
    "duration": 61,
    "start_time": "2024-12-02T22:36:53.636Z"
   },
   {
    "duration": 930,
    "start_time": "2024-12-02T23:18:38.645Z"
   },
   {
    "duration": 85,
    "start_time": "2024-12-02T23:18:39.577Z"
   },
   {
    "duration": 14,
    "start_time": "2024-12-02T23:18:39.664Z"
   },
   {
    "duration": 45,
    "start_time": "2024-12-02T23:18:39.680Z"
   },
   {
    "duration": 9,
    "start_time": "2024-12-02T23:18:39.727Z"
   },
   {
    "duration": 44,
    "start_time": "2024-12-02T23:18:39.739Z"
   },
   {
    "duration": 3,
    "start_time": "2024-12-02T23:18:39.785Z"
   },
   {
    "duration": 370,
    "start_time": "2024-12-02T23:18:39.790Z"
   },
   {
    "duration": 450,
    "start_time": "2024-12-02T23:18:40.162Z"
   },
   {
    "duration": 136,
    "start_time": "2024-12-02T23:18:40.616Z"
   },
   {
    "duration": 108,
    "start_time": "2024-12-02T23:18:40.754Z"
   },
   {
    "duration": 154,
    "start_time": "2024-12-02T23:18:40.864Z"
   },
   {
    "duration": 158,
    "start_time": "2024-12-02T23:18:41.020Z"
   },
   {
    "duration": 9,
    "start_time": "2024-12-02T23:18:41.181Z"
   },
   {
    "duration": 22,
    "start_time": "2024-12-02T23:18:41.192Z"
   },
   {
    "duration": 12,
    "start_time": "2024-12-02T23:18:41.223Z"
   },
   {
    "duration": 32,
    "start_time": "2024-12-02T23:18:41.237Z"
   },
   {
    "duration": 4,
    "start_time": "2024-12-02T23:18:41.271Z"
   },
   {
    "duration": 4,
    "start_time": "2024-12-02T23:18:41.276Z"
   },
   {
    "duration": 88,
    "start_time": "2024-12-02T23:18:41.282Z"
   },
   {
    "duration": 12,
    "start_time": "2024-12-02T23:18:41.372Z"
   },
   {
    "duration": 28,
    "start_time": "2024-12-02T23:18:41.386Z"
   },
   {
    "duration": 4,
    "start_time": "2024-12-02T23:18:41.418Z"
   },
   {
    "duration": 6,
    "start_time": "2024-12-02T23:18:41.424Z"
   },
   {
    "duration": 40,
    "start_time": "2024-12-02T23:18:41.432Z"
   },
   {
    "duration": 9,
    "start_time": "2024-12-02T23:18:41.474Z"
   },
   {
    "duration": 6,
    "start_time": "2024-12-02T23:18:41.484Z"
   },
   {
    "duration": 8,
    "start_time": "2024-12-02T23:18:41.494Z"
   },
   {
    "duration": 107,
    "start_time": "2024-12-02T23:18:41.524Z"
   },
   {
    "duration": 10,
    "start_time": "2024-12-02T23:18:41.633Z"
   },
   {
    "duration": 51786,
    "start_time": "2024-12-02T23:18:41.648Z"
   },
   {
    "duration": 234,
    "start_time": "2024-12-02T23:19:33.435Z"
   },
   {
    "duration": 166,
    "start_time": "2024-12-02T23:19:33.671Z"
   },
   {
    "duration": 2106,
    "start_time": "2024-12-02T23:19:33.839Z"
   },
   {
    "duration": 77,
    "start_time": "2024-12-02T23:19:35.947Z"
   },
   {
    "duration": 113,
    "start_time": "2024-12-02T23:19:36.027Z"
   },
   {
    "duration": 72,
    "start_time": "2024-12-02T23:19:36.143Z"
   },
   {
    "duration": 1018,
    "start_time": "2024-12-02T23:32:06.706Z"
   },
   {
    "duration": 74,
    "start_time": "2024-12-02T23:32:07.726Z"
   },
   {
    "duration": 27,
    "start_time": "2024-12-02T23:32:07.802Z"
   },
   {
    "duration": 16,
    "start_time": "2024-12-02T23:32:07.832Z"
   },
   {
    "duration": 9,
    "start_time": "2024-12-02T23:32:07.851Z"
   },
   {
    "duration": 29,
    "start_time": "2024-12-02T23:32:07.861Z"
   },
   {
    "duration": 3,
    "start_time": "2024-12-02T23:32:07.892Z"
   },
   {
    "duration": 318,
    "start_time": "2024-12-02T23:32:07.924Z"
   },
   {
    "duration": 430,
    "start_time": "2024-12-02T23:32:08.244Z"
   },
   {
    "duration": 95,
    "start_time": "2024-12-02T23:32:08.677Z"
   },
   {
    "duration": 102,
    "start_time": "2024-12-02T23:32:08.774Z"
   },
   {
    "duration": 133,
    "start_time": "2024-12-02T23:32:08.878Z"
   },
   {
    "duration": 156,
    "start_time": "2024-12-02T23:32:09.013Z"
   },
   {
    "duration": 10,
    "start_time": "2024-12-02T23:32:09.173Z"
   },
   {
    "duration": 18,
    "start_time": "2024-12-02T23:32:09.184Z"
   },
   {
    "duration": 29,
    "start_time": "2024-12-02T23:32:09.203Z"
   },
   {
    "duration": 26,
    "start_time": "2024-12-02T23:32:09.233Z"
   },
   {
    "duration": 4,
    "start_time": "2024-12-02T23:32:09.260Z"
   },
   {
    "duration": 3,
    "start_time": "2024-12-02T23:32:09.265Z"
   },
   {
    "duration": 78,
    "start_time": "2024-12-02T23:32:09.270Z"
   },
   {
    "duration": 11,
    "start_time": "2024-12-02T23:32:09.351Z"
   },
   {
    "duration": 10,
    "start_time": "2024-12-02T23:32:09.363Z"
   },
   {
    "duration": 3,
    "start_time": "2024-12-02T23:32:09.375Z"
   },
   {
    "duration": 6,
    "start_time": "2024-12-02T23:32:09.380Z"
   },
   {
    "duration": 11,
    "start_time": "2024-12-02T23:32:09.387Z"
   },
   {
    "duration": 6,
    "start_time": "2024-12-02T23:32:09.400Z"
   },
   {
    "duration": 18,
    "start_time": "2024-12-02T23:32:09.407Z"
   },
   {
    "duration": 7,
    "start_time": "2024-12-02T23:32:09.427Z"
   },
   {
    "duration": 100,
    "start_time": "2024-12-02T23:32:09.436Z"
   },
   {
    "duration": 86,
    "start_time": "2024-12-02T23:32:09.538Z"
   },
   {
    "duration": 1706,
    "start_time": "2024-12-02T23:32:09.626Z"
   },
   {
    "duration": 242,
    "start_time": "2024-12-02T23:32:11.334Z"
   },
   {
    "duration": 240,
    "start_time": "2024-12-02T23:32:11.577Z"
   },
   {
    "duration": 2006,
    "start_time": "2024-12-02T23:32:11.819Z"
   },
   {
    "duration": 44,
    "start_time": "2024-12-02T23:32:13.826Z"
   },
   {
    "duration": 164,
    "start_time": "2024-12-02T23:32:13.873Z"
   },
   {
    "duration": 58,
    "start_time": "2024-12-02T23:32:14.039Z"
   }
  ],
  "kernelspec": {
   "display_name": "Python 3 (ipykernel)",
   "language": "python",
   "name": "python3"
  },
  "language_info": {
   "codemirror_mode": {
    "name": "ipython",
    "version": 3
   },
   "file_extension": ".py",
   "mimetype": "text/x-python",
   "name": "python",
   "nbconvert_exporter": "python",
   "pygments_lexer": "ipython3",
   "version": "3.9.19"
  },
  "toc": {
   "base_numbering": 1,
   "nav_menu": {
    "height": "278px",
    "width": "246px"
   },
   "number_sections": true,
   "sideBar": true,
   "skip_h1_title": true,
   "title_cell": "Table of Contents",
   "title_sidebar": "Contents",
   "toc_cell": false,
   "toc_position": {},
   "toc_section_display": true,
   "toc_window_display": false
  }
 },
 "nbformat": 4,
 "nbformat_minor": 2
}
