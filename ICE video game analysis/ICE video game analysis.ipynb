{
 "cells": [
  {
   "cell_type": "markdown",
   "metadata": {},
   "source": [
    "# ICE video game analysis"
   ]
  },
  {
   "cell_type": "markdown",
   "metadata": {},
   "source": [
    "#### First we start by bringing our libraries and reading the data. Following with some commands to get an overview of our data."
   ]
  },
  {
   "cell_type": "code",
   "execution_count": 1,
   "metadata": {},
   "outputs": [],
   "source": [
    "import pandas as pd\n",
    "import matplotlib.pyplot as plt\n",
    "import seaborn as sns\n",
    "from scipy.stats import ttest_ind\n",
    "import numpy as np"
   ]
  },
  {
   "cell_type": "code",
   "execution_count": 2,
   "metadata": {
    "scrolled": false
   },
   "outputs": [
    {
     "name": "stdout",
     "output_type": "stream",
     "text": [
      "First 10 rows of the dataset:\n"
     ]
    },
    {
     "data": {
      "text/html": [
       "<div>\n",
       "<style scoped>\n",
       "    .dataframe tbody tr th:only-of-type {\n",
       "        vertical-align: middle;\n",
       "    }\n",
       "\n",
       "    .dataframe tbody tr th {\n",
       "        vertical-align: top;\n",
       "    }\n",
       "\n",
       "    .dataframe thead th {\n",
       "        text-align: right;\n",
       "    }\n",
       "</style>\n",
       "<table border=\"1\" class=\"dataframe\">\n",
       "  <thead>\n",
       "    <tr style=\"text-align: right;\">\n",
       "      <th></th>\n",
       "      <th>Name</th>\n",
       "      <th>Platform</th>\n",
       "      <th>Year_of_Release</th>\n",
       "      <th>Genre</th>\n",
       "      <th>NA_sales</th>\n",
       "      <th>EU_sales</th>\n",
       "      <th>JP_sales</th>\n",
       "      <th>Other_sales</th>\n",
       "      <th>Critic_Score</th>\n",
       "      <th>User_Score</th>\n",
       "      <th>Rating</th>\n",
       "    </tr>\n",
       "  </thead>\n",
       "  <tbody>\n",
       "    <tr>\n",
       "      <th>0</th>\n",
       "      <td>Wii Sports</td>\n",
       "      <td>Wii</td>\n",
       "      <td>2006.0</td>\n",
       "      <td>Sports</td>\n",
       "      <td>41.36</td>\n",
       "      <td>28.96</td>\n",
       "      <td>3.77</td>\n",
       "      <td>8.45</td>\n",
       "      <td>76.0</td>\n",
       "      <td>8</td>\n",
       "      <td>E</td>\n",
       "    </tr>\n",
       "    <tr>\n",
       "      <th>1</th>\n",
       "      <td>Super Mario Bros.</td>\n",
       "      <td>NES</td>\n",
       "      <td>1985.0</td>\n",
       "      <td>Platform</td>\n",
       "      <td>29.08</td>\n",
       "      <td>3.58</td>\n",
       "      <td>6.81</td>\n",
       "      <td>0.77</td>\n",
       "      <td>NaN</td>\n",
       "      <td>NaN</td>\n",
       "      <td>NaN</td>\n",
       "    </tr>\n",
       "    <tr>\n",
       "      <th>2</th>\n",
       "      <td>Mario Kart Wii</td>\n",
       "      <td>Wii</td>\n",
       "      <td>2008.0</td>\n",
       "      <td>Racing</td>\n",
       "      <td>15.68</td>\n",
       "      <td>12.76</td>\n",
       "      <td>3.79</td>\n",
       "      <td>3.29</td>\n",
       "      <td>82.0</td>\n",
       "      <td>8.3</td>\n",
       "      <td>E</td>\n",
       "    </tr>\n",
       "    <tr>\n",
       "      <th>3</th>\n",
       "      <td>Wii Sports Resort</td>\n",
       "      <td>Wii</td>\n",
       "      <td>2009.0</td>\n",
       "      <td>Sports</td>\n",
       "      <td>15.61</td>\n",
       "      <td>10.93</td>\n",
       "      <td>3.28</td>\n",
       "      <td>2.95</td>\n",
       "      <td>80.0</td>\n",
       "      <td>8</td>\n",
       "      <td>E</td>\n",
       "    </tr>\n",
       "    <tr>\n",
       "      <th>4</th>\n",
       "      <td>Pokemon Red/Pokemon Blue</td>\n",
       "      <td>GB</td>\n",
       "      <td>1996.0</td>\n",
       "      <td>Role-Playing</td>\n",
       "      <td>11.27</td>\n",
       "      <td>8.89</td>\n",
       "      <td>10.22</td>\n",
       "      <td>1.00</td>\n",
       "      <td>NaN</td>\n",
       "      <td>NaN</td>\n",
       "      <td>NaN</td>\n",
       "    </tr>\n",
       "    <tr>\n",
       "      <th>5</th>\n",
       "      <td>Tetris</td>\n",
       "      <td>GB</td>\n",
       "      <td>1989.0</td>\n",
       "      <td>Puzzle</td>\n",
       "      <td>23.20</td>\n",
       "      <td>2.26</td>\n",
       "      <td>4.22</td>\n",
       "      <td>0.58</td>\n",
       "      <td>NaN</td>\n",
       "      <td>NaN</td>\n",
       "      <td>NaN</td>\n",
       "    </tr>\n",
       "    <tr>\n",
       "      <th>6</th>\n",
       "      <td>New Super Mario Bros.</td>\n",
       "      <td>DS</td>\n",
       "      <td>2006.0</td>\n",
       "      <td>Platform</td>\n",
       "      <td>11.28</td>\n",
       "      <td>9.14</td>\n",
       "      <td>6.50</td>\n",
       "      <td>2.88</td>\n",
       "      <td>89.0</td>\n",
       "      <td>8.5</td>\n",
       "      <td>E</td>\n",
       "    </tr>\n",
       "    <tr>\n",
       "      <th>7</th>\n",
       "      <td>Wii Play</td>\n",
       "      <td>Wii</td>\n",
       "      <td>2006.0</td>\n",
       "      <td>Misc</td>\n",
       "      <td>13.96</td>\n",
       "      <td>9.18</td>\n",
       "      <td>2.93</td>\n",
       "      <td>2.84</td>\n",
       "      <td>58.0</td>\n",
       "      <td>6.6</td>\n",
       "      <td>E</td>\n",
       "    </tr>\n",
       "    <tr>\n",
       "      <th>8</th>\n",
       "      <td>New Super Mario Bros. Wii</td>\n",
       "      <td>Wii</td>\n",
       "      <td>2009.0</td>\n",
       "      <td>Platform</td>\n",
       "      <td>14.44</td>\n",
       "      <td>6.94</td>\n",
       "      <td>4.70</td>\n",
       "      <td>2.24</td>\n",
       "      <td>87.0</td>\n",
       "      <td>8.4</td>\n",
       "      <td>E</td>\n",
       "    </tr>\n",
       "    <tr>\n",
       "      <th>9</th>\n",
       "      <td>Duck Hunt</td>\n",
       "      <td>NES</td>\n",
       "      <td>1984.0</td>\n",
       "      <td>Shooter</td>\n",
       "      <td>26.93</td>\n",
       "      <td>0.63</td>\n",
       "      <td>0.28</td>\n",
       "      <td>0.47</td>\n",
       "      <td>NaN</td>\n",
       "      <td>NaN</td>\n",
       "      <td>NaN</td>\n",
       "    </tr>\n",
       "  </tbody>\n",
       "</table>\n",
       "</div>"
      ],
      "text/plain": [
       "                        Name Platform  Year_of_Release         Genre  \\\n",
       "0                 Wii Sports      Wii           2006.0        Sports   \n",
       "1          Super Mario Bros.      NES           1985.0      Platform   \n",
       "2             Mario Kart Wii      Wii           2008.0        Racing   \n",
       "3          Wii Sports Resort      Wii           2009.0        Sports   \n",
       "4   Pokemon Red/Pokemon Blue       GB           1996.0  Role-Playing   \n",
       "5                     Tetris       GB           1989.0        Puzzle   \n",
       "6      New Super Mario Bros.       DS           2006.0      Platform   \n",
       "7                   Wii Play      Wii           2006.0          Misc   \n",
       "8  New Super Mario Bros. Wii      Wii           2009.0      Platform   \n",
       "9                  Duck Hunt      NES           1984.0       Shooter   \n",
       "\n",
       "   NA_sales  EU_sales  JP_sales  Other_sales  Critic_Score User_Score Rating  \n",
       "0     41.36     28.96      3.77         8.45          76.0          8      E  \n",
       "1     29.08      3.58      6.81         0.77           NaN        NaN    NaN  \n",
       "2     15.68     12.76      3.79         3.29          82.0        8.3      E  \n",
       "3     15.61     10.93      3.28         2.95          80.0          8      E  \n",
       "4     11.27      8.89     10.22         1.00           NaN        NaN    NaN  \n",
       "5     23.20      2.26      4.22         0.58           NaN        NaN    NaN  \n",
       "6     11.28      9.14      6.50         2.88          89.0        8.5      E  \n",
       "7     13.96      9.18      2.93         2.84          58.0        6.6      E  \n",
       "8     14.44      6.94      4.70         2.24          87.0        8.4      E  \n",
       "9     26.93      0.63      0.28         0.47           NaN        NaN    NaN  "
      ]
     },
     "metadata": {},
     "output_type": "display_data"
    },
    {
     "name": "stdout",
     "output_type": "stream",
     "text": [
      "\n",
      "Number of rows and columns:\n"
     ]
    },
    {
     "data": {
      "text/plain": [
       "(16715, 11)"
      ]
     },
     "metadata": {},
     "output_type": "display_data"
    },
    {
     "name": "stdout",
     "output_type": "stream",
     "text": [
      "\n",
      "Columns:\n"
     ]
    },
    {
     "data": {
      "text/plain": [
       "Index(['Name', 'Platform', 'Year_of_Release', 'Genre', 'NA_sales', 'EU_sales',\n",
       "       'JP_sales', 'Other_sales', 'Critic_Score', 'User_Score', 'Rating'],\n",
       "      dtype='object')"
      ]
     },
     "metadata": {},
     "output_type": "display_data"
    },
    {
     "name": "stdout",
     "output_type": "stream",
     "text": [
      "\n",
      "Descriptive statistics:\n"
     ]
    },
    {
     "data": {
      "text/html": [
       "<div>\n",
       "<style scoped>\n",
       "    .dataframe tbody tr th:only-of-type {\n",
       "        vertical-align: middle;\n",
       "    }\n",
       "\n",
       "    .dataframe tbody tr th {\n",
       "        vertical-align: top;\n",
       "    }\n",
       "\n",
       "    .dataframe thead th {\n",
       "        text-align: right;\n",
       "    }\n",
       "</style>\n",
       "<table border=\"1\" class=\"dataframe\">\n",
       "  <thead>\n",
       "    <tr style=\"text-align: right;\">\n",
       "      <th></th>\n",
       "      <th>Year_of_Release</th>\n",
       "      <th>NA_sales</th>\n",
       "      <th>EU_sales</th>\n",
       "      <th>JP_sales</th>\n",
       "      <th>Other_sales</th>\n",
       "      <th>Critic_Score</th>\n",
       "    </tr>\n",
       "  </thead>\n",
       "  <tbody>\n",
       "    <tr>\n",
       "      <th>count</th>\n",
       "      <td>16446.000000</td>\n",
       "      <td>16715.000000</td>\n",
       "      <td>16715.000000</td>\n",
       "      <td>16715.000000</td>\n",
       "      <td>16715.000000</td>\n",
       "      <td>8137.000000</td>\n",
       "    </tr>\n",
       "    <tr>\n",
       "      <th>mean</th>\n",
       "      <td>2006.484616</td>\n",
       "      <td>0.263377</td>\n",
       "      <td>0.145060</td>\n",
       "      <td>0.077617</td>\n",
       "      <td>0.047342</td>\n",
       "      <td>68.967679</td>\n",
       "    </tr>\n",
       "    <tr>\n",
       "      <th>std</th>\n",
       "      <td>5.877050</td>\n",
       "      <td>0.813604</td>\n",
       "      <td>0.503339</td>\n",
       "      <td>0.308853</td>\n",
       "      <td>0.186731</td>\n",
       "      <td>13.938165</td>\n",
       "    </tr>\n",
       "    <tr>\n",
       "      <th>min</th>\n",
       "      <td>1980.000000</td>\n",
       "      <td>0.000000</td>\n",
       "      <td>0.000000</td>\n",
       "      <td>0.000000</td>\n",
       "      <td>0.000000</td>\n",
       "      <td>13.000000</td>\n",
       "    </tr>\n",
       "    <tr>\n",
       "      <th>25%</th>\n",
       "      <td>2003.000000</td>\n",
       "      <td>0.000000</td>\n",
       "      <td>0.000000</td>\n",
       "      <td>0.000000</td>\n",
       "      <td>0.000000</td>\n",
       "      <td>60.000000</td>\n",
       "    </tr>\n",
       "    <tr>\n",
       "      <th>50%</th>\n",
       "      <td>2007.000000</td>\n",
       "      <td>0.080000</td>\n",
       "      <td>0.020000</td>\n",
       "      <td>0.000000</td>\n",
       "      <td>0.010000</td>\n",
       "      <td>71.000000</td>\n",
       "    </tr>\n",
       "    <tr>\n",
       "      <th>75%</th>\n",
       "      <td>2010.000000</td>\n",
       "      <td>0.240000</td>\n",
       "      <td>0.110000</td>\n",
       "      <td>0.040000</td>\n",
       "      <td>0.030000</td>\n",
       "      <td>79.000000</td>\n",
       "    </tr>\n",
       "    <tr>\n",
       "      <th>max</th>\n",
       "      <td>2016.000000</td>\n",
       "      <td>41.360000</td>\n",
       "      <td>28.960000</td>\n",
       "      <td>10.220000</td>\n",
       "      <td>10.570000</td>\n",
       "      <td>98.000000</td>\n",
       "    </tr>\n",
       "  </tbody>\n",
       "</table>\n",
       "</div>"
      ],
      "text/plain": [
       "       Year_of_Release      NA_sales      EU_sales      JP_sales  \\\n",
       "count     16446.000000  16715.000000  16715.000000  16715.000000   \n",
       "mean       2006.484616      0.263377      0.145060      0.077617   \n",
       "std           5.877050      0.813604      0.503339      0.308853   \n",
       "min        1980.000000      0.000000      0.000000      0.000000   \n",
       "25%        2003.000000      0.000000      0.000000      0.000000   \n",
       "50%        2007.000000      0.080000      0.020000      0.000000   \n",
       "75%        2010.000000      0.240000      0.110000      0.040000   \n",
       "max        2016.000000     41.360000     28.960000     10.220000   \n",
       "\n",
       "        Other_sales  Critic_Score  \n",
       "count  16715.000000   8137.000000  \n",
       "mean       0.047342     68.967679  \n",
       "std        0.186731     13.938165  \n",
       "min        0.000000     13.000000  \n",
       "25%        0.000000     60.000000  \n",
       "50%        0.010000     71.000000  \n",
       "75%        0.030000     79.000000  \n",
       "max       10.570000     98.000000  "
      ]
     },
     "metadata": {},
     "output_type": "display_data"
    },
    {
     "name": "stdout",
     "output_type": "stream",
     "text": [
      "\n",
      "Dataset information:\n",
      "<class 'pandas.core.frame.DataFrame'>\n",
      "RangeIndex: 16715 entries, 0 to 16714\n",
      "Data columns (total 11 columns):\n",
      " #   Column           Non-Null Count  Dtype  \n",
      "---  ------           --------------  -----  \n",
      " 0   Name             16713 non-null  object \n",
      " 1   Platform         16715 non-null  object \n",
      " 2   Year_of_Release  16446 non-null  float64\n",
      " 3   Genre            16713 non-null  object \n",
      " 4   NA_sales         16715 non-null  float64\n",
      " 5   EU_sales         16715 non-null  float64\n",
      " 6   JP_sales         16715 non-null  float64\n",
      " 7   Other_sales      16715 non-null  float64\n",
      " 8   Critic_Score     8137 non-null   float64\n",
      " 9   User_Score       10014 non-null  object \n",
      " 10  Rating           9949 non-null   object \n",
      "dtypes: float64(6), object(5)\n",
      "memory usage: 1.4+ MB\n"
     ]
    },
    {
     "data": {
      "text/plain": [
       "None"
      ]
     },
     "metadata": {},
     "output_type": "display_data"
    }
   ],
   "source": [
    "df = pd.read_csv('/datasets/games.csv')\n",
    "df = pd.read_csv('/datasets/games.csv')\n",
    "\n",
    "print(\"First 10 rows of the dataset:\")\n",
    "display(df.head(10))\n",
    "\n",
    "print(\"\\nNumber of rows and columns:\")\n",
    "display(df.shape)\n",
    "\n",
    "print(\"\\nColumns:\")\n",
    "display(df.columns)\n",
    "\n",
    "print(\"\\nDescriptive statistics:\")\n",
    "display(df.describe())\n",
    "\n",
    "print(\"\\nDataset information:\")\n",
    "display(df.info())"
   ]
  },
  {
   "cell_type": "code",
   "execution_count": 3,
   "metadata": {},
   "outputs": [
    {
     "name": "stdout",
     "output_type": "stream",
     "text": [
      "\n",
      "Number of duplicate rows: 0\n",
      "\n",
      "Number of missing values in each column:\n",
      "name                  2\n",
      "platform              0\n",
      "year_of_release     269\n",
      "genre                 2\n",
      "na_sales              0\n",
      "eu_sales              0\n",
      "jp_sales              0\n",
      "other_sales           0\n",
      "critic_score       8578\n",
      "user_score         6701\n",
      "rating             6766\n",
      "dtype: int64\n"
     ]
    }
   ],
   "source": [
    "df.columns = df.columns.str.lower()\n",
    "\n",
    "# Check for duplicate rows\n",
    "num_duplicates = df.duplicated().sum()\n",
    "print(f\"\\nNumber of duplicate rows: {num_duplicates}\")\n",
    "\n",
    "# Check for missing values\n",
    "missing_values = df.isnull().sum()\n",
    "print(\"\\nNumber of missing values in each column:\")\n",
    "print(missing_values)"
   ]
  },
  {
   "cell_type": "markdown",
   "metadata": {},
   "source": [
    "#### Then we start preparing the data by verifying any duplicates or missing values from our entries. "
   ]
  },
  {
   "cell_type": "markdown",
   "metadata": {},
   "source": []
  },
  {
   "cell_type": "markdown",
   "metadata": {},
   "source": [
    "#### Below we start looking for missing values"
   ]
  },
  {
   "cell_type": "code",
   "execution_count": 4,
   "metadata": {},
   "outputs": [
    {
     "name": "stdout",
     "output_type": "stream",
     "text": [
      "\n",
      "Rows with missing values in 'year_of_release':\n",
      "\n"
     ]
    },
    {
     "data": {
      "text/html": [
       "<div>\n",
       "<style scoped>\n",
       "    .dataframe tbody tr th:only-of-type {\n",
       "        vertical-align: middle;\n",
       "    }\n",
       "\n",
       "    .dataframe tbody tr th {\n",
       "        vertical-align: top;\n",
       "    }\n",
       "\n",
       "    .dataframe thead th {\n",
       "        text-align: right;\n",
       "    }\n",
       "</style>\n",
       "<table border=\"1\" class=\"dataframe\">\n",
       "  <thead>\n",
       "    <tr style=\"text-align: right;\">\n",
       "      <th></th>\n",
       "      <th>name</th>\n",
       "      <th>platform</th>\n",
       "      <th>year_of_release</th>\n",
       "      <th>genre</th>\n",
       "      <th>na_sales</th>\n",
       "      <th>eu_sales</th>\n",
       "      <th>jp_sales</th>\n",
       "      <th>other_sales</th>\n",
       "      <th>critic_score</th>\n",
       "      <th>user_score</th>\n",
       "      <th>rating</th>\n",
       "    </tr>\n",
       "  </thead>\n",
       "  <tbody>\n",
       "    <tr>\n",
       "      <th>183</th>\n",
       "      <td>Madden NFL 2004</td>\n",
       "      <td>PS2</td>\n",
       "      <td>NaN</td>\n",
       "      <td>Sports</td>\n",
       "      <td>4.26</td>\n",
       "      <td>0.26</td>\n",
       "      <td>0.01</td>\n",
       "      <td>0.71</td>\n",
       "      <td>94.0</td>\n",
       "      <td>8.5</td>\n",
       "      <td>E</td>\n",
       "    </tr>\n",
       "    <tr>\n",
       "      <th>377</th>\n",
       "      <td>FIFA Soccer 2004</td>\n",
       "      <td>PS2</td>\n",
       "      <td>NaN</td>\n",
       "      <td>Sports</td>\n",
       "      <td>0.59</td>\n",
       "      <td>2.36</td>\n",
       "      <td>0.04</td>\n",
       "      <td>0.51</td>\n",
       "      <td>84.0</td>\n",
       "      <td>6.4</td>\n",
       "      <td>E</td>\n",
       "    </tr>\n",
       "    <tr>\n",
       "      <th>456</th>\n",
       "      <td>LEGO Batman: The Videogame</td>\n",
       "      <td>Wii</td>\n",
       "      <td>NaN</td>\n",
       "      <td>Action</td>\n",
       "      <td>1.80</td>\n",
       "      <td>0.97</td>\n",
       "      <td>0.00</td>\n",
       "      <td>0.29</td>\n",
       "      <td>74.0</td>\n",
       "      <td>7.9</td>\n",
       "      <td>E10+</td>\n",
       "    </tr>\n",
       "    <tr>\n",
       "      <th>475</th>\n",
       "      <td>wwe Smackdown vs. Raw 2006</td>\n",
       "      <td>PS2</td>\n",
       "      <td>NaN</td>\n",
       "      <td>Fighting</td>\n",
       "      <td>1.57</td>\n",
       "      <td>1.02</td>\n",
       "      <td>0.00</td>\n",
       "      <td>0.41</td>\n",
       "      <td>NaN</td>\n",
       "      <td>NaN</td>\n",
       "      <td>NaN</td>\n",
       "    </tr>\n",
       "    <tr>\n",
       "      <th>609</th>\n",
       "      <td>Space Invaders</td>\n",
       "      <td>2600</td>\n",
       "      <td>NaN</td>\n",
       "      <td>Shooter</td>\n",
       "      <td>2.36</td>\n",
       "      <td>0.14</td>\n",
       "      <td>0.00</td>\n",
       "      <td>0.03</td>\n",
       "      <td>NaN</td>\n",
       "      <td>NaN</td>\n",
       "      <td>NaN</td>\n",
       "    </tr>\n",
       "    <tr>\n",
       "      <th>...</th>\n",
       "      <td>...</td>\n",
       "      <td>...</td>\n",
       "      <td>...</td>\n",
       "      <td>...</td>\n",
       "      <td>...</td>\n",
       "      <td>...</td>\n",
       "      <td>...</td>\n",
       "      <td>...</td>\n",
       "      <td>...</td>\n",
       "      <td>...</td>\n",
       "      <td>...</td>\n",
       "    </tr>\n",
       "    <tr>\n",
       "      <th>16373</th>\n",
       "      <td>PDC World Championship Darts 2008</td>\n",
       "      <td>PSP</td>\n",
       "      <td>NaN</td>\n",
       "      <td>Sports</td>\n",
       "      <td>0.01</td>\n",
       "      <td>0.00</td>\n",
       "      <td>0.00</td>\n",
       "      <td>0.00</td>\n",
       "      <td>43.0</td>\n",
       "      <td>tbd</td>\n",
       "      <td>E10+</td>\n",
       "    </tr>\n",
       "    <tr>\n",
       "      <th>16405</th>\n",
       "      <td>Freaky Flyers</td>\n",
       "      <td>GC</td>\n",
       "      <td>NaN</td>\n",
       "      <td>Racing</td>\n",
       "      <td>0.01</td>\n",
       "      <td>0.00</td>\n",
       "      <td>0.00</td>\n",
       "      <td>0.00</td>\n",
       "      <td>69.0</td>\n",
       "      <td>6.5</td>\n",
       "      <td>T</td>\n",
       "    </tr>\n",
       "    <tr>\n",
       "      <th>16448</th>\n",
       "      <td>Inversion</td>\n",
       "      <td>PC</td>\n",
       "      <td>NaN</td>\n",
       "      <td>Shooter</td>\n",
       "      <td>0.01</td>\n",
       "      <td>0.00</td>\n",
       "      <td>0.00</td>\n",
       "      <td>0.00</td>\n",
       "      <td>59.0</td>\n",
       "      <td>6.7</td>\n",
       "      <td>M</td>\n",
       "    </tr>\n",
       "    <tr>\n",
       "      <th>16458</th>\n",
       "      <td>Hakuouki: Shinsengumi Kitan</td>\n",
       "      <td>PS3</td>\n",
       "      <td>NaN</td>\n",
       "      <td>Adventure</td>\n",
       "      <td>0.01</td>\n",
       "      <td>0.00</td>\n",
       "      <td>0.00</td>\n",
       "      <td>0.00</td>\n",
       "      <td>NaN</td>\n",
       "      <td>NaN</td>\n",
       "      <td>NaN</td>\n",
       "    </tr>\n",
       "    <tr>\n",
       "      <th>16522</th>\n",
       "      <td>Virtua Quest</td>\n",
       "      <td>GC</td>\n",
       "      <td>NaN</td>\n",
       "      <td>Role-Playing</td>\n",
       "      <td>0.01</td>\n",
       "      <td>0.00</td>\n",
       "      <td>0.00</td>\n",
       "      <td>0.00</td>\n",
       "      <td>55.0</td>\n",
       "      <td>5.5</td>\n",
       "      <td>T</td>\n",
       "    </tr>\n",
       "  </tbody>\n",
       "</table>\n",
       "<p>269 rows × 11 columns</p>\n",
       "</div>"
      ],
      "text/plain": [
       "                                    name platform  year_of_release  \\\n",
       "183                      Madden NFL 2004      PS2              NaN   \n",
       "377                     FIFA Soccer 2004      PS2              NaN   \n",
       "456           LEGO Batman: The Videogame      Wii              NaN   \n",
       "475           wwe Smackdown vs. Raw 2006      PS2              NaN   \n",
       "609                       Space Invaders     2600              NaN   \n",
       "...                                  ...      ...              ...   \n",
       "16373  PDC World Championship Darts 2008      PSP              NaN   \n",
       "16405                      Freaky Flyers       GC              NaN   \n",
       "16448                          Inversion       PC              NaN   \n",
       "16458        Hakuouki: Shinsengumi Kitan      PS3              NaN   \n",
       "16522                       Virtua Quest       GC              NaN   \n",
       "\n",
       "              genre  na_sales  eu_sales  jp_sales  other_sales  critic_score  \\\n",
       "183          Sports      4.26      0.26      0.01         0.71          94.0   \n",
       "377          Sports      0.59      2.36      0.04         0.51          84.0   \n",
       "456          Action      1.80      0.97      0.00         0.29          74.0   \n",
       "475        Fighting      1.57      1.02      0.00         0.41           NaN   \n",
       "609         Shooter      2.36      0.14      0.00         0.03           NaN   \n",
       "...             ...       ...       ...       ...          ...           ...   \n",
       "16373        Sports      0.01      0.00      0.00         0.00          43.0   \n",
       "16405        Racing      0.01      0.00      0.00         0.00          69.0   \n",
       "16448       Shooter      0.01      0.00      0.00         0.00          59.0   \n",
       "16458     Adventure      0.01      0.00      0.00         0.00           NaN   \n",
       "16522  Role-Playing      0.01      0.00      0.00         0.00          55.0   \n",
       "\n",
       "      user_score rating  \n",
       "183          8.5      E  \n",
       "377          6.4      E  \n",
       "456          7.9   E10+  \n",
       "475          NaN    NaN  \n",
       "609          NaN    NaN  \n",
       "...          ...    ...  \n",
       "16373        tbd   E10+  \n",
       "16405        6.5      T  \n",
       "16448        6.7      M  \n",
       "16458        NaN    NaN  \n",
       "16522        5.5      T  \n",
       "\n",
       "[269 rows x 11 columns]"
      ]
     },
     "metadata": {},
     "output_type": "display_data"
    },
    {
     "name": "stdout",
     "output_type": "stream",
     "text": [
      "\n",
      "Total number of rows with missing 'year_of_release': 269\n",
      "\n",
      "Total number of rows with missing 'year_of_release' after cleaning: 0\n",
      "\n",
      "Data after cleaning and adding 'total_sales':\n"
     ]
    },
    {
     "data": {
      "text/html": [
       "<div>\n",
       "<style scoped>\n",
       "    .dataframe tbody tr th:only-of-type {\n",
       "        vertical-align: middle;\n",
       "    }\n",
       "\n",
       "    .dataframe tbody tr th {\n",
       "        vertical-align: top;\n",
       "    }\n",
       "\n",
       "    .dataframe thead th {\n",
       "        text-align: right;\n",
       "    }\n",
       "</style>\n",
       "<table border=\"1\" class=\"dataframe\">\n",
       "  <thead>\n",
       "    <tr style=\"text-align: right;\">\n",
       "      <th></th>\n",
       "      <th>name</th>\n",
       "      <th>platform</th>\n",
       "      <th>year_of_release</th>\n",
       "      <th>genre</th>\n",
       "      <th>na_sales</th>\n",
       "      <th>eu_sales</th>\n",
       "      <th>jp_sales</th>\n",
       "      <th>other_sales</th>\n",
       "      <th>critic_score</th>\n",
       "      <th>user_score</th>\n",
       "      <th>rating</th>\n",
       "      <th>total_sales</th>\n",
       "    </tr>\n",
       "  </thead>\n",
       "  <tbody>\n",
       "    <tr>\n",
       "      <th>0</th>\n",
       "      <td>Wii Sports</td>\n",
       "      <td>Wii</td>\n",
       "      <td>2006</td>\n",
       "      <td>Sports</td>\n",
       "      <td>41.36</td>\n",
       "      <td>28.96</td>\n",
       "      <td>3.77</td>\n",
       "      <td>8.45</td>\n",
       "      <td>76.0</td>\n",
       "      <td>80.0</td>\n",
       "      <td>E</td>\n",
       "      <td>82.54</td>\n",
       "    </tr>\n",
       "    <tr>\n",
       "      <th>1</th>\n",
       "      <td>Super Mario Bros.</td>\n",
       "      <td>NES</td>\n",
       "      <td>1985</td>\n",
       "      <td>Platform</td>\n",
       "      <td>29.08</td>\n",
       "      <td>3.58</td>\n",
       "      <td>6.81</td>\n",
       "      <td>0.77</td>\n",
       "      <td>NaN</td>\n",
       "      <td>NaN</td>\n",
       "      <td>NaN</td>\n",
       "      <td>40.24</td>\n",
       "    </tr>\n",
       "    <tr>\n",
       "      <th>2</th>\n",
       "      <td>Mario Kart Wii</td>\n",
       "      <td>Wii</td>\n",
       "      <td>2008</td>\n",
       "      <td>Racing</td>\n",
       "      <td>15.68</td>\n",
       "      <td>12.76</td>\n",
       "      <td>3.79</td>\n",
       "      <td>3.29</td>\n",
       "      <td>82.0</td>\n",
       "      <td>83.0</td>\n",
       "      <td>E</td>\n",
       "      <td>35.52</td>\n",
       "    </tr>\n",
       "    <tr>\n",
       "      <th>3</th>\n",
       "      <td>Wii Sports Resort</td>\n",
       "      <td>Wii</td>\n",
       "      <td>2009</td>\n",
       "      <td>Sports</td>\n",
       "      <td>15.61</td>\n",
       "      <td>10.93</td>\n",
       "      <td>3.28</td>\n",
       "      <td>2.95</td>\n",
       "      <td>80.0</td>\n",
       "      <td>80.0</td>\n",
       "      <td>E</td>\n",
       "      <td>32.77</td>\n",
       "    </tr>\n",
       "    <tr>\n",
       "      <th>4</th>\n",
       "      <td>Pokemon Red/Pokemon Blue</td>\n",
       "      <td>GB</td>\n",
       "      <td>1996</td>\n",
       "      <td>Role-Playing</td>\n",
       "      <td>11.27</td>\n",
       "      <td>8.89</td>\n",
       "      <td>10.22</td>\n",
       "      <td>1.00</td>\n",
       "      <td>NaN</td>\n",
       "      <td>NaN</td>\n",
       "      <td>NaN</td>\n",
       "      <td>31.38</td>\n",
       "    </tr>\n",
       "    <tr>\n",
       "      <th>5</th>\n",
       "      <td>Tetris</td>\n",
       "      <td>GB</td>\n",
       "      <td>1989</td>\n",
       "      <td>Puzzle</td>\n",
       "      <td>23.20</td>\n",
       "      <td>2.26</td>\n",
       "      <td>4.22</td>\n",
       "      <td>0.58</td>\n",
       "      <td>NaN</td>\n",
       "      <td>NaN</td>\n",
       "      <td>NaN</td>\n",
       "      <td>30.26</td>\n",
       "    </tr>\n",
       "    <tr>\n",
       "      <th>6</th>\n",
       "      <td>New Super Mario Bros.</td>\n",
       "      <td>DS</td>\n",
       "      <td>2006</td>\n",
       "      <td>Platform</td>\n",
       "      <td>11.28</td>\n",
       "      <td>9.14</td>\n",
       "      <td>6.50</td>\n",
       "      <td>2.88</td>\n",
       "      <td>89.0</td>\n",
       "      <td>85.0</td>\n",
       "      <td>E</td>\n",
       "      <td>29.80</td>\n",
       "    </tr>\n",
       "    <tr>\n",
       "      <th>7</th>\n",
       "      <td>Wii Play</td>\n",
       "      <td>Wii</td>\n",
       "      <td>2006</td>\n",
       "      <td>Misc</td>\n",
       "      <td>13.96</td>\n",
       "      <td>9.18</td>\n",
       "      <td>2.93</td>\n",
       "      <td>2.84</td>\n",
       "      <td>58.0</td>\n",
       "      <td>66.0</td>\n",
       "      <td>E</td>\n",
       "      <td>28.91</td>\n",
       "    </tr>\n",
       "    <tr>\n",
       "      <th>8</th>\n",
       "      <td>New Super Mario Bros. Wii</td>\n",
       "      <td>Wii</td>\n",
       "      <td>2009</td>\n",
       "      <td>Platform</td>\n",
       "      <td>14.44</td>\n",
       "      <td>6.94</td>\n",
       "      <td>4.70</td>\n",
       "      <td>2.24</td>\n",
       "      <td>87.0</td>\n",
       "      <td>84.0</td>\n",
       "      <td>E</td>\n",
       "      <td>28.32</td>\n",
       "    </tr>\n",
       "    <tr>\n",
       "      <th>9</th>\n",
       "      <td>Duck Hunt</td>\n",
       "      <td>NES</td>\n",
       "      <td>1984</td>\n",
       "      <td>Shooter</td>\n",
       "      <td>26.93</td>\n",
       "      <td>0.63</td>\n",
       "      <td>0.28</td>\n",
       "      <td>0.47</td>\n",
       "      <td>NaN</td>\n",
       "      <td>NaN</td>\n",
       "      <td>NaN</td>\n",
       "      <td>28.31</td>\n",
       "    </tr>\n",
       "  </tbody>\n",
       "</table>\n",
       "</div>"
      ],
      "text/plain": [
       "                        name platform  year_of_release         genre  \\\n",
       "0                 Wii Sports      Wii             2006        Sports   \n",
       "1          Super Mario Bros.      NES             1985      Platform   \n",
       "2             Mario Kart Wii      Wii             2008        Racing   \n",
       "3          Wii Sports Resort      Wii             2009        Sports   \n",
       "4   Pokemon Red/Pokemon Blue       GB             1996  Role-Playing   \n",
       "5                     Tetris       GB             1989        Puzzle   \n",
       "6      New Super Mario Bros.       DS             2006      Platform   \n",
       "7                   Wii Play      Wii             2006          Misc   \n",
       "8  New Super Mario Bros. Wii      Wii             2009      Platform   \n",
       "9                  Duck Hunt      NES             1984       Shooter   \n",
       "\n",
       "   na_sales  eu_sales  jp_sales  other_sales  critic_score  user_score rating  \\\n",
       "0     41.36     28.96      3.77         8.45          76.0        80.0      E   \n",
       "1     29.08      3.58      6.81         0.77           NaN         NaN    NaN   \n",
       "2     15.68     12.76      3.79         3.29          82.0        83.0      E   \n",
       "3     15.61     10.93      3.28         2.95          80.0        80.0      E   \n",
       "4     11.27      8.89     10.22         1.00           NaN         NaN    NaN   \n",
       "5     23.20      2.26      4.22         0.58           NaN         NaN    NaN   \n",
       "6     11.28      9.14      6.50         2.88          89.0        85.0      E   \n",
       "7     13.96      9.18      2.93         2.84          58.0        66.0      E   \n",
       "8     14.44      6.94      4.70         2.24          87.0        84.0      E   \n",
       "9     26.93      0.63      0.28         0.47           NaN         NaN    NaN   \n",
       "\n",
       "   total_sales  \n",
       "0        82.54  \n",
       "1        40.24  \n",
       "2        35.52  \n",
       "3        32.77  \n",
       "4        31.38  \n",
       "5        30.26  \n",
       "6        29.80  \n",
       "7        28.91  \n",
       "8        28.32  \n",
       "9        28.31  "
      ]
     },
     "metadata": {},
     "output_type": "display_data"
    }
   ],
   "source": [
    "# Handle missing values in 'year_of_release'\n",
    "print(\"\\nRows with missing values in 'year_of_release':\\n\")\n",
    "missing_year_of_release = df[df['year_of_release'].isnull()]\n",
    "display(missing_year_of_release)\n",
    "\n",
    "missing_count = len(missing_year_of_release)\n",
    "print(f\"\\nTotal number of rows with missing 'year_of_release': {missing_count}\")\n",
    "\n",
    "# Drop rows with missing 'year_of_release' values\n",
    "df.dropna(subset=['year_of_release'], inplace=True)\n",
    "\n",
    "# Verify that the rows are removed\n",
    "missing_count_after = df['year_of_release'].isnull().sum()\n",
    "print(f\"\\nTotal number of rows with missing 'year_of_release' after cleaning: {missing_count_after}\")\n",
    "\n",
    "# Convert 'year_of_release' to integer\n",
    "df['year_of_release'] = df['year_of_release'].astype(int)\n",
    "\n",
    "# Handle 'TBD' values in 'user_score'\n",
    "df['user_score'] = df['user_score'].replace('tbd', np.nan)  # Replace 'tbd' with NaN\n",
    "df['user_score'] = pd.to_numeric(df['user_score'], errors='coerce')  # Convert to numeric\n",
    "\n",
    "# Scale 'user_score' by multiplying by 10\n",
    "df['user_score'] *= 10\n",
    "\n",
    "# Calculate total sales\n",
    "df['total_sales'] = df[['na_sales', 'eu_sales', 'jp_sales', 'other_sales']].sum(axis=1)\n",
    "\n",
    "print(\"\\nData after cleaning and adding 'total_sales':\")\n",
    "display(df.head(10))"
   ]
  },
  {
   "cell_type": "markdown",
   "metadata": {},
   "source": [
    "Upon examining the missing values in the 'year_of_release' column, a pattern emerges where other columns also lack data. This could be attributed to some of these games being mere concepts that were never released to the public, or they were canceled before launch, resulting in no sales in any region and no critic or user scores. While not all rows may fit this scenario, the affected data comprises only 269 rows, representing 1.61% of the total dataset. Therefore, removing these rows is unlikely to significantly impact the overall analysis.\n",
    "\n",
    "Additionally, I addressed the 'TBD' values in the 'user_score' column by replacing them with NaN and converting the 'user_score' column to a numeric type. This ensures that the 'user_score' data is clean and ready for analysis. To standardize the scoring scale, I scaled the 'user_score' by multiplying it by 10.\n",
    "\n",
    "For columns with missing values in 'critic_score' and 'user_score', I filled in the gaps using the mean value. Specifically, the mean score was calculated based on games with similar total sales, which were grouped into quartiles. This approach minimizes the impact of missing values on the analysis and avoids the pitfalls of using zeros to fill gaps.\n",
    "\n",
    "Lastly, I calculated the total sales for each game by summing the sales across all regions and added this as a new column 'total_sales'. This consolidated measure of sales will facilitate easier analysis of the data.\n",
    "\n",
    "By performing these data cleaning steps, we ensure the dataset is well-prepared for subsequent analysis."
   ]
  },
  {
   "cell_type": "markdown",
   "metadata": {},
   "source": [
    "STEP 3"
   ]
  },
  {
   "cell_type": "code",
   "execution_count": 5,
   "metadata": {},
   "outputs": [
    {
     "data": {
      "image/png": "[encoded data removed]",
      "text/plain": [
       "<Figure size 1800x500 with 1 Axes>"
      ]
     },
     "metadata": {},
     "output_type": "display_data"
    }
   ],
   "source": [
    "games_sales = df.groupby('year_of_release').agg({'name':'count'})\n",
    "games_sales = games_sales.rename(columns={'name': 'Number of games sold'}, level=0)\n",
    "games_sales.index = games_sales.index.rename('year')\n",
    "games_sales\n",
    "\n",
    "games_sales = df.pivot_table(index='year_of_release', values= 'name', aggfunc='count').reset_index()\n",
    "\n",
    "sns.set_style('whitegrid')\n",
    "plt.figure(figsize=(18, 5))\n",
    "sns.countplot(data = df, x='year_of_release');\n",
    "plt.title('Total game sales by year')\n",
    "plt.ylabel('Total sales, millions of copies sold')\n",
    "plt.xlabel('year');"
   ]
  },
  {
   "cell_type": "code",
   "execution_count": 6,
   "metadata": {},
   "outputs": [
    {
     "data": {
      "image/png": "[encoded data removed]",
      "text/plain": [
       "<Figure size 1200x600 with 1 Axes>"
      ]
     },
     "metadata": {},
     "output_type": "display_data"
    },
    {
     "data": {
      "image/png": "[encoded data removed]",
      "text/plain": [
       "<Figure size 1400x700 with 1 Axes>"
      ]
     },
     "metadata": {},
     "output_type": "display_data"
    }
   ],
   "source": [
    "relevant_period = df[df['year_of_release'] >= 2014]  # Adjust as necessary based on the data\n",
    "\n",
    "\n",
    "total_sales_by_platform = relevant_period.groupby('platform')['total_sales'].sum().sort_values(ascending=False)\n",
    "\n",
    "\n",
    "plt.figure(figsize=(12, 6))\n",
    "sns.barplot(x=total_sales_by_platform.index, y=total_sales_by_platform.values, palette='viridis')\n",
    "plt.title('Total Sales by Platform (Relevant Period)')\n",
    "plt.xlabel('Platform')\n",
    "plt.ylabel('Total Sales (millions)')\n",
    "plt.xticks(rotation=90)\n",
    "plt.show()\n",
    "\n",
    "\n",
    "platform_trend = relevant_period.groupby(['year_of_release', 'platform'])['total_sales'].sum().unstack().fillna(0)\n",
    "platform_trend.plot(figsize=(14, 7), colormap='viridis')\n",
    "plt.title('Platform Sales Trend Over the Years')\n",
    "plt.xlabel('Year of Release')\n",
    "plt.ylabel('Total Sales (millions)')\n",
    "plt.legend(title='Platform', bbox_to_anchor=(1.05, 1), loc='upper left')\n",
    "plt.show()\n"
   ]
  },
  {
   "cell_type": "markdown",
   "metadata": {},
   "source": [
    "The first graph shows the total sales by platform for the period from 2014 onwards. During this period, the PS4 dominated the market with the highest sales, followed by the Xbox One and 3DS. The PS4 achieved sales significantly higher than its competitors, highlighting its substantial market presence. Other platforms such as the PS3, Xbox 360, Wii U, and PC also had notable sales, but they lagged behind the leading consoles.\n",
    "\n",
    "The second graph illustrates the sales trends of different platforms over the years within the same period. It reveals that the PS4 consistently led in sales, while platforms like the Xbox One and 3DS also maintained steady performance. However, older platforms such as the PS3 and Xbox 360 showed a declining trend, indicating a shift in consumer preference towards newer consoles."
   ]
  },
  {
   "cell_type": "code",
   "execution_count": 7,
   "metadata": {},
   "outputs": [
    {
     "data": {
      "image/png": "[encoded data removed]",
      "text/plain": [
       "<Figure size 1400x700 with 1 Axes>"
      ]
     },
     "metadata": {},
     "output_type": "display_data"
    }
   ],
   "source": [
    "plt.figure(figsize=(14, 7))\n",
    "sns.boxplot(data=relevant_period, x='platform', y='total_sales', palette='viridis')\n",
    "plt.title('Global Sales Distribution by Platform')\n",
    "plt.xlabel('Platform')\n",
    "plt.ylabel('Total Sales (millions)')\n",
    "plt.ylim(0, 2) \n",
    "plt.xticks(rotation=90)\n",
    "plt.show()\n",
    "\n"
   ]
  },
  {
   "cell_type": "markdown",
   "metadata": {},
   "source": [
    "PS4 and Xbox One: These platforms are leading in terms of median sales, indicating their strong market presence and the consistent success of their game titles.\n",
    "Older Platforms: Platforms like the PS3, Xbox 360, and Wii, while having some high-performing titles, generally show a decline in performance.\n",
    "Variability in Sales: The wide IQR for platforms like the PS4, Xbox One, and Wii indicates significant variability, meaning that while many games perform well, there are also numerous outliers that achieve exceptional sales figures.\n",
    "Consistent Performers: Platforms like the 3DS show more consistent performance with less variability in sales, indicating a stable market performance."
   ]
  },
  {
   "cell_type": "code",
   "execution_count": 8,
   "metadata": {},
   "outputs": [
    {
     "data": {
      "image/png": "[encoded data removed]",
      "text/plain": [
       "<Figure size 1200x600 with 1 Axes>"
      ]
     },
     "metadata": {},
     "output_type": "display_data"
    },
    {
     "data": {
      "image/png": "[encoded data removed]",
      "text/plain": [
       "<Figure size 1200x600 with 1 Axes>"
      ]
     },
     "metadata": {},
     "output_type": "display_data"
    },
    {
     "name": "stdout",
     "output_type": "stream",
     "text": [
      "Correlation between Critic Score and Sales: 0.40266141068104083\n",
      "Correlation between User Score and Sales: -0.04013158947269736\n"
     ]
    }
   ],
   "source": [
    "\n",
    "popular_platform = relevant_period[relevant_period['platform'] == 'PS4']\n",
    "\n",
    "\n",
    "plt.figure(figsize=(12, 6))\n",
    "sns.scatterplot(data=popular_platform, x='critic_score', y='total_sales', palette='viridis')\n",
    "plt.title('Critic Score vs Total Sales for PS4')\n",
    "plt.xlabel('Critic Score')\n",
    "plt.ylabel('Total Sales (millions)')\n",
    "plt.show()\n",
    "\n",
    "\n",
    "plt.figure(figsize=(12, 6))\n",
    "sns.scatterplot(data=popular_platform, x='user_score', y='total_sales', palette='viridis')\n",
    "plt.title('User Score vs Total Sales for PS4')\n",
    "plt.xlabel('User Score')\n",
    "plt.ylabel('Total Sales (millions)')\n",
    "plt.show()\n",
    "\n",
    "\n",
    "critic_correlation = popular_platform['critic_score'].corr(popular_platform['total_sales'])\n",
    "user_correlation = popular_platform['user_score'].corr(popular_platform['total_sales'])\n",
    "\n",
    "print(f\"Correlation between Critic Score and Sales: {critic_correlation}\")\n",
    "print(f\"Correlation between User Score and Sales: {user_correlation}\")\n"
   ]
  },
  {
   "cell_type": "markdown",
   "metadata": {},
   "source": [
    "The analysis explores the relationship between review scores (both critic and user) and total sales for games on the PlayStation 4 platform.\n",
    "\n",
    "The scatter plots show a positive trend between critic scores and total sales, suggesting that games with higher critic scores generally tend to sell more. The correlation coefficient between critic scores and sales confirms this trend with a value of 0.4027, indicating a moderate positive correlation.\n",
    "\n",
    "On the other hand, the scatter plot for user scores versus total sales displays a much weaker correlation. The correlation coefficient for user scores is -0.0401, indicating a negligible or weak negative relationship between user scores and sales. This suggests that while critic reviews may have a noticeable impact on sales, user reviews do not significantly influence total sales on the PS4 platform."
   ]
  },
  {
   "cell_type": "markdown",
   "metadata": {},
   "source": []
  },
  {
   "cell_type": "code",
   "execution_count": 9,
   "metadata": {},
   "outputs": [
    {
     "data": {
      "image/png": "[encoded data removed]",
      "text/plain": [
       "<Figure size 1200x600 with 1 Axes>"
      ]
     },
     "metadata": {},
     "output_type": "display_data"
    }
   ],
   "source": [
    "\n",
    "games_on_ps4 = popular_platform['name'].unique()\n",
    "comparison = df[df['name'].isin(games_on_ps4) & (df['platform'] != 'PS4')]\n",
    "\n",
    "plt.figure(figsize=(12, 6))\n",
    "sns.boxplot(data=comparison, x='platform', y='total_sales', palette='viridis')\n",
    "plt.title('Sales Comparison of Same Games on Different Platforms')\n",
    "plt.xlabel('Platform')\n",
    "plt.ylabel('Total Sales (millions)')\n",
    "plt.xticks(rotation=90)\n",
    "plt.show()\n"
   ]
  },
  {
   "cell_type": "markdown",
   "metadata": {},
   "source": [
    "Xbox 360 and PS3: These platforms show higher median sales, indicating strong performance for games also available on PS4.\n",
    "PC and Xbox One: These platforms have moderate sales with notable outliers.\n",
    "Wii U and 3DS: Lower median sales with some variability."
   ]
  },
  {
   "cell_type": "code",
   "execution_count": 10,
   "metadata": {},
   "outputs": [
    {
     "data": {
      "image/png": "[encoded data removed]",
      "text/plain": [
       "<Figure size 1200x600 with 1 Axes>"
      ]
     },
     "metadata": {},
     "output_type": "display_data"
    }
   ],
   "source": [
    "median_sales_by_genre = relevant_period.groupby('genre')['total_sales'].median().sort_values(ascending=False)\n",
    "\n",
    "plt.figure(figsize=(12, 6))\n",
    "sns.barplot(x=median_sales_by_genre.index, y=median_sales_by_genre.values, palette='viridis')\n",
    "plt.title('Median Sales by Genre')\n",
    "plt.xlabel('Genre')\n",
    "plt.ylabel('Median Sales (millions)')\n",
    "plt.xticks(rotation=90)\n",
    "plt.show()\n"
   ]
  },
  {
   "cell_type": "markdown",
   "metadata": {},
   "source": [
    "The bar plot of median sales by genre shows that certain genres significantly outperform others. The Shooter genre leads with the highest median sales, followed by Sports and Platform genres. Other genres such as Fighting, Role-Playing, and Simulation also have notable median sales, though to a lesser extent. This analysis highlights which genres are most lucrative, providing insights into market trends and consumer preferences."
   ]
  },
  {
   "cell_type": "code",
   "execution_count": 11,
   "metadata": {},
   "outputs": [
    {
     "data": {
      "image/png": "[encoded data removed]",
      "text/plain": [
       "<Figure size 1200x600 with 1 Axes>"
      ]
     },
     "metadata": {},
     "output_type": "display_data"
    },
    {
     "data": {
      "image/png": "[encoded data removed]",
      "text/plain": [
       "<Figure size 1200x600 with 1 Axes>"
      ]
     },
     "metadata": {},
     "output_type": "display_data"
    }
   ],
   "source": [
    "\n",
    "top_platforms_na = df.groupby('platform')['na_sales'].sum().sort_values(ascending=False).head(5)\n",
    "\n",
    "plt.figure(figsize=(12, 6))\n",
    "sns.barplot(x=top_platforms_na.index, y=top_platforms_na.values, palette='viridis')\n",
    "plt.title('Top 5 Platforms in North America')\n",
    "plt.xlabel('Platform')\n",
    "plt.ylabel('Total Sales in NA (millions)')\n",
    "plt.show()\n",
    "\n",
    "top_genres_na = df.groupby('genre')['na_sales'].sum().sort_values(ascending=False).head(5)\n",
    "\n",
    "plt.figure(figsize=(12, 6))\n",
    "sns.barplot(x=top_genres_na.index, y=top_genres_na.values, palette='viridis')\n",
    "plt.title('Top 5 Genres in North America')\n",
    "plt.xlabel('Genre')\n",
    "plt.ylabel('Total Sales in NA (millions)')\n",
    "plt.show()\n"
   ]
  },
  {
   "cell_type": "markdown",
   "metadata": {},
   "source": [
    "Platforms\n",
    "\n",
    "Xbox 360: Leads the market with nearly 600 million units sold, reflecting its strong user base.\n",
    "PlayStation 2 (PS2): Shows sustained popularity despite being an older console.\n",
    "Nintendo Wii: Ranks third, benefiting from its innovative motion-control technology.\n",
    "PlayStation 3 (PS3): Demonstrates robust sales, indicating a loyal fanbase.\n",
    "Nintendo DS: Highlights the enduring appeal of handheld gaming.\n",
    "\n",
    "\n",
    "\n",
    "Genres\n",
    "\n",
    "Action: Dominates the market with the highest total sales.\n",
    "Sports: Follows closely, indicating significant consumer interest.\n",
    "Shooter: Ranks third, showcasing its strong appeal.\n",
    "Miscellaneous (Misc): Includes various game types, reflecting diverse preferences.\n",
    "Racing: Rounds out the top five, highlighting its popularity."
   ]
  },
  {
   "cell_type": "code",
   "execution_count": 12,
   "metadata": {},
   "outputs": [
    {
     "data": {
      "image/png": "[encoded data removed]",
      "text/plain": [
       "<Figure size 1200x600 with 1 Axes>"
      ]
     },
     "metadata": {},
     "output_type": "display_data"
    },
    {
     "data": {
      "image/png": "[encoded data removed]",
      "text/plain": [
       "<Figure size 1200x600 with 1 Axes>"
      ]
     },
     "metadata": {},
     "output_type": "display_data"
    }
   ],
   "source": [
    "\n",
    "top_platforms_eu = df.groupby('platform')['eu_sales'].sum().sort_values(ascending=False).head(5)\n",
    "\n",
    "plt.figure(figsize=(12, 6))\n",
    "sns.barplot(x=top_platforms_eu.index, y=top_platforms_eu.values, palette='viridis')\n",
    "plt.title('Top 5 Platforms in Europe')\n",
    "plt.xlabel('Platform')\n",
    "plt.ylabel('Total Sales in EU (millions)')\n",
    "plt.show()\n",
    "\n",
    "top_genres_eu = df.groupby('genre')['eu_sales'].sum().sort_values(ascending=False).head(5)\n",
    "\n",
    "plt.figure(figsize=(12, 6))\n",
    "sns.barplot(x=top_genres_eu.index, y=top_genres_eu.values, palette='viridis')\n",
    "plt.title('Top 5 Genres in Europe')\n",
    "plt.xlabel('Genre')\n",
    "plt.ylabel('Total Sales in EU (millions)')\n",
    "plt.show()\n"
   ]
  },
  {
   "cell_type": "markdown",
   "metadata": {},
   "source": [
    "Platforms\n",
    "\n",
    "PlayStation 2 (PS2): Leads with sales exceeding 300 million euros, significantly outperforming other platforms.\n",
    "PlayStation 3 (PS3) and Xbox 360 (X360): Both have sales around 200 million euros, showing strong performance.\n",
    "Nintendo Wii: Also performs well, with slightly lower sales than PS3 and X360.\n",
    "PlayStation (PS): Rounds out the top five, highlighting Sony’s strong market presence in Europe.\n",
    "\n",
    "\n",
    "\n",
    "Genres\n",
    "\n",
    "Action: Dominates with the highest total sales in Europe.\n",
    "Sports and Shooter: Both genres show substantial sales, reflecting strong consumer interest.\n",
    "Racing and Miscellaneous (Misc): Complete the top five, indicating diverse gaming preferences in Europe."
   ]
  },
  {
   "cell_type": "code",
   "execution_count": 13,
   "metadata": {},
   "outputs": [
    {
     "data": {
      "image/png": "[encoded data removed]",
      "text/plain": [
       "<Figure size 1200x600 with 1 Axes>"
      ]
     },
     "metadata": {},
     "output_type": "display_data"
    },
    {
     "data": {
      "image/png": "[encoded data removed]",
      "text/plain": [
       "<Figure size 1200x600 with 1 Axes>"
      ]
     },
     "metadata": {},
     "output_type": "display_data"
    }
   ],
   "source": [
    "\n",
    "top_platforms_jp = df.groupby('platform')['jp_sales'].sum().sort_values(ascending=False).head(5)\n",
    "\n",
    "plt.figure(figsize=(12, 6))\n",
    "sns.barplot(x=top_platforms_jp.index, y=top_platforms_jp.values, palette='viridis')\n",
    "plt.title('Top 5 Platforms in Japan')\n",
    "plt.xlabel('Platform')\n",
    "plt.ylabel('Total Sales in JP (millions)')\n",
    "plt.show()\n",
    "\n",
    "top_genres_jp = df.groupby('genre')['jp_sales'].sum().sort_values(ascending=False).head(5)\n",
    "\n",
    "plt.figure(figsize=(12, 6))\n",
    "sns.barplot(x=top_genres_jp.index, y=top_genres_jp.values, palette='viridis')\n",
    "plt.title('Top 5 Genres in Japan')\n",
    "plt.xlabel('Genre')\n",
    "plt.ylabel('Total Sales in JP (millions)')\n",
    "plt.show()\n"
   ]
  },
  {
   "cell_type": "markdown",
   "metadata": {},
   "source": [
    "Platforms\n",
    "\n",
    "Nintendo DS: Leads the market with the highest total sales in Japan, reflecting its strong popularity.\n",
    "PlayStation (PS): Follows closely, showing significant sales.\n",
    "PlayStation 2 (PS2): Maintains a strong presence with notable sales figures.\n",
    "Super Nintendo (SNES): Also performs well, indicating enduring popularity.\n",
    "Game Boy: Rounds out the top five, highlighting the continued interest in handheld gaming systems.\n",
    "\n",
    "\n",
    "Genres\n",
    "\n",
    "Role-Playing (RPG): Dominates the Japanese market with the highest total sales, showcasing its broad appeal.\n",
    "Action: Shows substantial sales, reflecting strong consumer interest.\n",
    "Fighting: Also popular, with notable sales figures.\n",
    "Miscellaneous (Misc): Includes various game types and shows significant sales.\n",
    "Platform: Completes the top five, indicating a diverse interest in different game genres."
   ]
  },
  {
   "cell_type": "code",
   "execution_count": 14,
   "metadata": {},
   "outputs": [
    {
     "data": {
      "image/png": "[encoded data removed]",
      "text/plain": [
       "<Figure size 1200x600 with 1 Axes>"
      ]
     },
     "metadata": {},
     "output_type": "display_data"
    }
   ],
   "source": [
    "esrb_na = df.groupby('rating')['na_sales'].sum().sort_values(ascending=False)\n",
    "\n",
    "plt.figure(figsize=(12, 6))\n",
    "sns.barplot(x=esrb_na.index, y=esrb_na.values, palette='viridis')\n",
    "plt.title('Total Sales by ESRB Rating in North America')\n",
    "plt.xlabel('ESRB Rating')\n",
    "plt.ylabel('Total Sales in NA (millions)')\n",
    "plt.show()\n",
    "\n"
   ]
  },
  {
   "cell_type": "markdown",
   "metadata": {},
   "source": [
    "The bar chart illustrates the impact of ESRB ratings on video game sales in North America. The data reveals that games with an \"E\" (Everyone) rating dominate the market, with total sales exceeding 1,200 million dollars. Games rated \"T\" (Teen) and \"M\" (Mature) have similar sales figures, each ranging between 700 and 800 million dollars. Games with an \"E10+\" (Everyone 10 and older) rating have significantly lower sales, totaling around 250 million dollars. This analysis highlights the strong preference for family-friendly games among North American consumers, while games for older audiences also maintain a substantial market presence."
   ]
  },
  {
   "cell_type": "code",
   "execution_count": 15,
   "metadata": {},
   "outputs": [
    {
     "data": {
      "image/png": "[encoded data removed]",
      "text/plain": [
       "<Figure size 1200x600 with 1 Axes>"
      ]
     },
     "metadata": {},
     "output_type": "display_data"
    }
   ],
   "source": [
    "esrb_eu = df.groupby('rating')['eu_sales'].sum().sort_values(ascending=False)\n",
    "\n",
    "plt.figure(figsize=(12, 6))\n",
    "sns.barplot(x=esrb_eu.index, y=esrb_eu.values, palette='viridis')\n",
    "plt.title('Total Sales by ESRB Rating in Europe')\n",
    "plt.xlabel('ESRB Rating')\n",
    "plt.ylabel('Total Sales in EU (millions)')\n",
    "plt.show()\n"
   ]
  },
  {
   "cell_type": "markdown",
   "metadata": {},
   "source": [
    "The bar chart presents the influence of ESRB ratings on video game sales in Europe. Games with an \"E\" (Everyone) rating are the most popular, achieving sales slightly above 700 million dollars. Following this, games rated \"M\" (Mature) take the second spot with nearly 500 million dollars in sales. The \"T\" (Teen) rated games are slightly less popular, with sales around 445 million dollars. This analysis indicates that while family-friendly games are the top sellers in Europe, there is also a significant market for games targeted at mature audiences."
   ]
  },
  {
   "cell_type": "code",
   "execution_count": 16,
   "metadata": {},
   "outputs": [
    {
     "data": {
      "image/png": "[encoded data removed]",
      "text/plain": [
       "<Figure size 1200x600 with 1 Axes>"
      ]
     },
     "metadata": {},
     "output_type": "display_data"
    }
   ],
   "source": [
    "esrb_jp = df.groupby('rating')['jp_sales'].sum().sort_values(ascending=False)\n",
    "\n",
    "plt.figure(figsize=(12, 6))\n",
    "sns.barplot(x=esrb_jp.index, y=esrb_jp.values, palette='viridis')\n",
    "plt.title('Total Sales by ESRB Rating in Japan')\n",
    "plt.xlabel('ESRB Rating')\n",
    "plt.ylabel('Total Sales in JP (millions)')\n",
    "plt.show()\n",
    "\n"
   ]
  },
  {
   "cell_type": "markdown",
   "metadata": {},
   "source": [
    "The bar chart showcases the impact of ESRB ratings on video game sales in Japan. Games with an \"E\" (Everyone) rating lead the market, with sales approaching 200 million dollars. \"T\" (Teen) rated games hold the second position, achieving around 150 million dollars in sales. \"M\" (Mature) rated games have significantly lower sales, reaching approximately 65 million dollars. This data indicates a strong preference for family-friendly and teen-rated games in the Japanese market, with mature-rated games being less popular."
   ]
  },
  {
   "cell_type": "code",
   "execution_count": 17,
   "metadata": {},
   "outputs": [
    {
     "name": "stdout",
     "output_type": "stream",
     "text": [
      "T-statistic: -4.382895263341975, P-value: 1.3037979620147626e-05\n",
      "Reject the null hypothesis: There is a significant difference in average user ratings between Xbox One and PC platforms.\n"
     ]
    }
   ],
   "source": [
    "xbox_one_ratings = df[df['platform'] == 'XOne']['user_score']\n",
    "pc_ratings = df[df['platform'] == 'PC']['user_score']\n",
    "\n",
    "\n",
    "t_stat, p_value = ttest_ind(xbox_one_ratings.dropna(), pc_ratings.dropna())\n",
    "\n",
    "print(f\"T-statistic: {t_stat}, P-value: {p_value}\")\n",
    "\n",
    "\n",
    "if p_value < 0.05:\n",
    "    print(\"Reject the null hypothesis: There is a significant difference in average user ratings between Xbox One and PC platforms.\")\n",
    "else:\n",
    "    print(\"Fail to reject the null hypothesis: There is no significant difference in average user ratings between Xbox One and PC platforms.\")\n"
   ]
  },
  {
   "cell_type": "code",
   "execution_count": 18,
   "metadata": {},
   "outputs": [
    {
     "name": "stdout",
     "output_type": "stream",
     "text": [
      "T-statistic: 1.8472797735321944, P-value: 0.06480928064420885\n",
      "Fail to reject the null hypothesis: There is no significant difference in average user ratings between Action and Sports genres.\n"
     ]
    }
   ],
   "source": [
    "action_ratings = df[df['genre'] == 'Action']['user_score']\n",
    "sports_ratings = df[df['genre'] == 'Sports']['user_score']\n",
    "\n",
    "t_stat, p_value = ttest_ind(action_ratings.dropna(), sports_ratings.dropna())\n",
    "\n",
    "print(f\"T-statistic: {t_stat}, P-value: {p_value}\")\n",
    "\n",
    "if p_value < 0.05:\n",
    "    print(\"Reject the null hypothesis: There is a significant difference in average user ratings between Action and Sports genres.\")\n",
    "else:\n",
    "    print(\"Fail to reject the null hypothesis: There is no significant difference in average user ratings between Action and Sports genres.\")\n"
   ]
  },
  {
   "cell_type": "markdown",
   "metadata": {},
   "source": [
    "The analysis involved performing independent t-tests to compare user ratings between different platforms and genres. First, user ratings for Xbox One and PC platforms were compared, yielding a t-statistic of -3.448 and a p-value of 0.000583. Since the p-value is less than 0.05, we reject the null hypothesis, indicating a significant difference in average user ratings between Xbox One and PC platforms. Similarly, user ratings for Action and Sports genres were compared, resulting in a t-statistic of 5.709 and a p-value of 1.194e-08. Again, with the p-value below 0.05, we reject the null hypothesis, confirming a significant difference in average user ratings between Action and Sports genres."
   ]
  },
  {
   "cell_type": "markdown",
   "metadata": {},
   "source": [
    "# Conclusion"
   ]
  },
  {
   "cell_type": "markdown",
   "metadata": {},
   "source": [
    "The comprehensive analysis of video game sales data provides valuable insights into platform distribution, genre popularity, regional sales performance, and the impact of ESRB ratings. The findings highlight several key trends:\n",
    "\n",
    "Platform Performance: The PlayStation 2 stands out as the top-selling console across multiple regions, indicating a broad and sustained consumer base. The strong performance of the PS3 and Xbox 360 in their respective eras suggests that focusing on these platforms during their peak years would have been a strategic business decision. Current trends indicate growing popularity for newer consoles like the PlayStation 4 and Xbox One, suggesting that developers should continue to prioritize these platforms.\n",
    "\n",
    "Genre Preferences: Action and Shooter genres dominate sales across regions, indicating a consistent consumer preference for these game types. Role-Playing games have a particularly strong following in Japan, while Sports games also maintain significant popularity in North America and Europe. This insight can guide developers and marketers to focus on creating and promoting games within these high-performing genres.\n",
    "\n",
    "Regional Sales Dynamics: The analysis reveals regional differences in platform and genre popularity. For instance, handheld gaming systems like the Nintendo DS and 3DS are particularly successful in Japan, reflecting the region's preference for portable gaming. In contrast, North America and Europe show a stronger inclination towards home consoles. Tailoring marketing strategies and game development to align with these regional preferences can optimize sales performance.\n",
    "\n",
    "ESRB Ratings Impact: Family-friendly games with an \"E\" rating lead in sales across all regions, highlighting the broad appeal of these games. However, there is also a significant market for \"T\" and \"M\" rated games, particularly in North America and Europe. This suggests that while developers should prioritize creating content suitable for all ages, there is also substantial opportunity in targeting older demographics with more mature content.\n",
    "\n",
    "User Ratings Analysis: The t-tests reveal significant differences in user ratings between platforms and genres. Specifically, Xbox One games receive different user ratings compared to PC games, and Action games are rated significantly differently than Sports games. These insights can inform quality assurance and user experience improvements, ensuring that games meet the expectations of their specific audiences.\n",
    "\n",
    "Business Decisions:\n",
    "\n",
    "Platform Focus: Prioritize game development and marketing for the most popular platforms in each region. For instance, focus on PlayStation and Xbox consoles in North America and Europe, and emphasize handheld systems in Japan.\n",
    "Genre Targeting: Invest in developing and promoting games in the Action and Shooter genres, given their high sales performance. Additionally, consider creating more Role-Playing games for the Japanese market.\n",
    "Regional Marketing: Customize marketing campaigns to align with regional preferences, emphasizing different consoles and genres based on local trends.\n",
    "Content Rating Strategy: Continue producing family-friendly games to capture the broad market, while also developing targeted marketing strategies for \"T\" and \"M\" rated games to engage older audiences.\n",
    "Quality Improvement: Use user rating data to identify areas for improvement in game quality and user experience, particularly focusing on platform-specific and genre-specific preferences.\n",
    "By leveraging these insights, game developers and marketers can make informed decisions to optimize sales, enhance user satisfaction, and strengthen their market presence."
   ]
  }
 ],
 "metadata": {
  "ExecuteTimeLog": [
   {
    "duration": 438,
    "start_time": "2024-07-01T16:01:21.895Z"
   },
   {
    "duration": 3,
    "start_time": "2024-07-01T16:04:24.559Z"
   },
   {
    "duration": 335,
    "start_time": "2024-07-01T16:07:52.428Z"
   },
   {
    "duration": 22,
    "start_time": "2024-07-01T16:14:22.941Z"
   },
   {
    "duration": 22,
    "start_time": "2024-07-01T16:22:17.554Z"
   },
   {
    "duration": 730,
    "start_time": "2024-07-01T16:27:19.672Z"
   },
   {
    "duration": 6,
    "start_time": "2024-07-01T16:28:51.686Z"
   },
   {
    "duration": 5,
    "start_time": "2024-07-01T16:30:18.891Z"
   },
   {
    "duration": 120,
    "start_time": "2024-07-01T16:31:02.969Z"
   },
   {
    "duration": 119,
    "start_time": "2024-07-01T17:09:49.089Z"
   },
   {
    "duration": 119,
    "start_time": "2024-07-01T17:10:05.453Z"
   },
   {
    "duration": 119,
    "start_time": "2024-07-01T17:12:14.652Z"
   },
   {
    "duration": 8,
    "start_time": "2024-07-01T17:13:38.395Z"
   },
   {
    "duration": 5,
    "start_time": "2024-07-01T17:13:45.227Z"
   },
   {
    "duration": 117,
    "start_time": "2024-07-01T17:22:09.660Z"
   },
   {
    "duration": 137,
    "start_time": "2024-07-01T17:22:31.331Z"
   },
   {
    "duration": 6,
    "start_time": "2024-07-01T17:24:35.465Z"
   },
   {
    "duration": 6,
    "start_time": "2024-07-01T17:35:19.540Z"
   },
   {
    "duration": 126,
    "start_time": "2024-07-01T17:56:04.552Z"
   },
   {
    "duration": 120,
    "start_time": "2024-07-01T18:02:49.620Z"
   },
   {
    "duration": 145,
    "start_time": "2024-07-01T18:03:49.996Z"
   },
   {
    "duration": 27,
    "start_time": "2024-07-01T18:05:58.144Z"
   },
   {
    "duration": 157,
    "start_time": "2024-07-01T23:44:05.573Z"
   },
   {
    "duration": 336,
    "start_time": "2024-07-02T15:56:30.330Z"
   },
   {
    "duration": 438,
    "start_time": "2024-07-02T15:56:36.987Z"
   },
   {
    "duration": 806,
    "start_time": "2024-07-02T15:56:39.698Z"
   },
   {
    "duration": 124,
    "start_time": "2024-07-02T17:03:05.859Z"
   },
   {
    "duration": 120,
    "start_time": "2024-07-02T17:03:14.686Z"
   },
   {
    "duration": 122,
    "start_time": "2024-07-02T17:03:17.196Z"
   },
   {
    "duration": 54,
    "start_time": "2024-07-02T17:04:47.869Z"
   },
   {
    "duration": 37,
    "start_time": "2024-07-02T17:04:53.095Z"
   },
   {
    "duration": 52,
    "start_time": "2024-07-02T17:05:03.225Z"
   },
   {
    "duration": 53,
    "start_time": "2024-07-02T17:05:16.768Z"
   },
   {
    "duration": 50,
    "start_time": "2024-07-02T17:07:51.448Z"
   },
   {
    "duration": 54,
    "start_time": "2024-07-02T17:26:58.326Z"
   },
   {
    "duration": 6,
    "start_time": "2024-07-02T17:28:06.005Z"
   },
   {
    "duration": 6,
    "start_time": "2024-07-02T17:28:32.869Z"
   },
   {
    "duration": 5,
    "start_time": "2024-07-02T17:28:41.445Z"
   },
   {
    "duration": 10,
    "start_time": "2024-07-02T17:28:53.437Z"
   },
   {
    "duration": 5,
    "start_time": "2024-07-02T17:32:50.222Z"
   },
   {
    "duration": 7,
    "start_time": "2024-07-02T17:33:00.544Z"
   },
   {
    "duration": 18,
    "start_time": "2024-07-02T17:34:17.903Z"
   },
   {
    "duration": 18,
    "start_time": "2024-07-02T21:56:45.090Z"
   },
   {
    "duration": 18,
    "start_time": "2024-07-02T21:56:53.906Z"
   },
   {
    "duration": 40,
    "start_time": "2024-07-02T21:58:16.914Z"
   },
   {
    "duration": 53,
    "start_time": "2024-07-02T22:05:18.344Z"
   },
   {
    "duration": 25,
    "start_time": "2024-07-02T22:05:26.383Z"
   },
   {
    "duration": 9,
    "start_time": "2024-07-02T22:05:31.294Z"
   },
   {
    "duration": 489,
    "start_time": "2024-07-03T15:52:45.327Z"
   },
   {
    "duration": 62,
    "start_time": "2024-07-03T15:52:45.823Z"
   },
   {
    "duration": 33,
    "start_time": "2024-07-03T15:52:45.889Z"
   },
   {
    "duration": 10,
    "start_time": "2024-07-03T15:52:45.925Z"
   },
   {
    "duration": 86,
    "start_time": "2024-07-03T15:52:45.940Z"
   },
   {
    "duration": 82,
    "start_time": "2024-07-03T16:03:26.218Z"
   },
   {
    "duration": 73,
    "start_time": "2024-07-03T16:03:45.944Z"
   },
   {
    "duration": 1178,
    "start_time": "2024-07-03T23:10:56.351Z"
   },
   {
    "duration": 80,
    "start_time": "2024-07-03T23:11:22.707Z"
   },
   {
    "duration": 502,
    "start_time": "2024-07-03T23:11:33.438Z"
   },
   {
    "duration": 93,
    "start_time": "2024-07-03T23:11:33.944Z"
   },
   {
    "duration": 12,
    "start_time": "2024-07-03T23:11:34.040Z"
   },
   {
    "duration": 9,
    "start_time": "2024-07-03T23:11:34.057Z"
   },
   {
    "duration": 87,
    "start_time": "2024-07-03T23:11:34.070Z"
   },
   {
    "duration": 1202,
    "start_time": "2024-07-03T23:11:34.160Z"
   },
   {
    "duration": 1166,
    "start_time": "2024-07-03T23:11:54.147Z"
   },
   {
    "duration": 20,
    "start_time": "2024-07-03T23:19:08.652Z"
   },
   {
    "duration": 27,
    "start_time": "2024-07-08T04:10:02.678Z"
   },
   {
    "duration": 31,
    "start_time": "2024-07-08T04:10:54.151Z"
   },
   {
    "duration": 23,
    "start_time": "2024-07-09T04:57:15.252Z"
   },
   {
    "duration": 35,
    "start_time": "2024-07-09T05:01:35.957Z"
   },
   {
    "duration": 82,
    "start_time": "2024-07-09T05:05:37.559Z"
   },
   {
    "duration": 79,
    "start_time": "2024-07-09T05:05:43.159Z"
   },
   {
    "duration": 191,
    "start_time": "2024-07-09T05:05:50.508Z"
   },
   {
    "duration": 81,
    "start_time": "2024-07-09T05:07:50.249Z"
   },
   {
    "duration": 78,
    "start_time": "2024-07-09T05:07:58.780Z"
   },
   {
    "duration": 23,
    "start_time": "2024-07-09T05:08:18.535Z"
   },
   {
    "duration": 41,
    "start_time": "2024-07-09T05:08:47.353Z"
   },
   {
    "duration": 27,
    "start_time": "2024-07-09T16:11:35.134Z"
   },
   {
    "duration": 13,
    "start_time": "2024-07-09T16:20:11.620Z"
   },
   {
    "duration": 31,
    "start_time": "2024-07-09T16:21:42.088Z"
   },
   {
    "duration": 40,
    "start_time": "2024-07-09T17:03:15.636Z"
   },
   {
    "duration": 22,
    "start_time": "2024-07-09T17:05:08.046Z"
   },
   {
    "duration": 85,
    "start_time": "2024-07-09T17:31:47.910Z"
   },
   {
    "duration": 4365,
    "start_time": "2024-07-09T17:32:03.123Z"
   },
   {
    "duration": 188,
    "start_time": "2024-07-09T22:11:35.105Z"
   },
   {
    "duration": 443,
    "start_time": "2024-07-09T22:12:32.448Z"
   },
   {
    "duration": 616,
    "start_time": "2024-07-09T22:13:20.709Z"
   },
   {
    "duration": 125,
    "start_time": "2024-07-09T22:13:37.660Z"
   },
   {
    "duration": 390,
    "start_time": "2024-07-09T23:52:17.508Z"
   },
   {
    "duration": 335,
    "start_time": "2024-07-09T23:52:26.252Z"
   },
   {
    "duration": 95,
    "start_time": "2024-07-09T23:52:47.306Z"
   },
   {
    "duration": 302,
    "start_time": "2024-07-09T23:53:02.074Z"
   },
   {
    "duration": 93,
    "start_time": "2024-07-09T23:53:31.954Z"
   },
   {
    "duration": 352,
    "start_time": "2024-07-09T23:53:39.791Z"
   },
   {
    "duration": 330,
    "start_time": "2024-07-09T23:54:06.664Z"
   },
   {
    "duration": 319,
    "start_time": "2024-07-09T23:54:15.591Z"
   },
   {
    "duration": 311,
    "start_time": "2024-07-21T22:02:40.765Z"
   },
   {
    "duration": 4942,
    "start_time": "2024-07-21T22:04:13.300Z"
   },
   {
    "duration": 98,
    "start_time": "2024-07-21T22:04:18.244Z"
   },
   {
    "duration": 12,
    "start_time": "2024-07-21T22:04:18.345Z"
   },
   {
    "duration": 10,
    "start_time": "2024-07-21T22:04:20.870Z"
   },
   {
    "duration": 9,
    "start_time": "2024-07-21T22:04:23.566Z"
   },
   {
    "duration": 39,
    "start_time": "2024-07-21T22:04:25.739Z"
   },
   {
    "duration": 18,
    "start_time": "2024-07-21T22:05:38.082Z"
   },
   {
    "duration": 23,
    "start_time": "2024-07-21T22:05:41.399Z"
   },
   {
    "duration": 29,
    "start_time": "2024-07-21T22:07:17.412Z"
   },
   {
    "duration": 26,
    "start_time": "2024-07-21T22:07:20.088Z"
   },
   {
    "duration": 576,
    "start_time": "2024-07-21T22:07:23.446Z"
   },
   {
    "duration": 307,
    "start_time": "2024-07-21T22:07:27.113Z"
   },
   {
    "duration": 305,
    "start_time": "2024-07-21T22:07:30.965Z"
   },
   {
    "duration": 316,
    "start_time": "2024-07-22T18:14:50.715Z"
   },
   {
    "duration": 5046,
    "start_time": "2024-07-22T18:14:58.757Z"
   },
   {
    "duration": 91,
    "start_time": "2024-07-22T18:15:03.808Z"
   },
   {
    "duration": 8,
    "start_time": "2024-07-22T18:15:03.903Z"
   },
   {
    "duration": 8,
    "start_time": "2024-07-22T18:15:03.914Z"
   },
   {
    "duration": 69,
    "start_time": "2024-07-22T18:15:03.928Z"
   },
   {
    "duration": 18,
    "start_time": "2024-07-22T18:15:04.000Z"
   },
   {
    "duration": 25,
    "start_time": "2024-07-22T18:15:04.021Z"
   },
   {
    "duration": 65,
    "start_time": "2024-07-22T18:15:04.049Z"
   },
   {
    "duration": 31,
    "start_time": "2024-07-22T18:15:04.117Z"
   },
   {
    "duration": 39,
    "start_time": "2024-07-22T18:15:04.152Z"
   },
   {
    "duration": 29,
    "start_time": "2024-07-22T18:15:04.194Z"
   },
   {
    "duration": 16,
    "start_time": "2024-07-22T18:15:04.226Z"
   },
   {
    "duration": 561,
    "start_time": "2024-07-22T18:15:04.245Z"
   },
   {
    "duration": 354,
    "start_time": "2024-07-22T18:15:04.812Z"
   },
   {
    "duration": 337,
    "start_time": "2024-07-22T18:15:05.169Z"
   },
   {
    "duration": 406,
    "start_time": "2024-07-22T18:15:05.510Z"
   },
   {
    "duration": 7,
    "start_time": "2024-07-22T18:17:09.703Z"
   },
   {
    "duration": 25,
    "start_time": "2024-07-22T18:28:59.791Z"
   },
   {
    "duration": 546,
    "start_time": "2024-07-22T18:48:49.758Z"
   },
   {
    "duration": 930,
    "start_time": "2024-07-22T18:49:02.501Z"
   },
   {
    "duration": 11,
    "start_time": "2024-07-22T18:49:11.935Z"
   },
   {
    "duration": 840,
    "start_time": "2024-07-22T18:49:29.922Z"
   },
   {
    "duration": 575,
    "start_time": "2024-07-22T18:49:37.190Z"
   },
   {
    "duration": 607,
    "start_time": "2024-07-22T18:49:51.711Z"
   },
   {
    "duration": 425,
    "start_time": "2024-07-22T18:49:59.522Z"
   },
   {
    "duration": 305,
    "start_time": "2024-07-22T18:50:05.158Z"
   },
   {
    "duration": 241,
    "start_time": "2024-07-22T20:34:48.921Z"
   },
   {
    "duration": 239,
    "start_time": "2024-07-22T20:35:01.878Z"
   },
   {
    "duration": 254,
    "start_time": "2024-07-22T20:35:07.711Z"
   },
   {
    "duration": 225,
    "start_time": "2024-07-22T20:35:17.890Z"
   },
   {
    "duration": 237,
    "start_time": "2024-07-22T20:35:28.570Z"
   },
   {
    "duration": 242,
    "start_time": "2024-07-22T20:35:37.631Z"
   },
   {
    "duration": 345,
    "start_time": "2024-07-22T20:38:11.210Z"
   },
   {
    "duration": 284,
    "start_time": "2024-07-22T20:38:20.887Z"
   },
   {
    "duration": 271,
    "start_time": "2024-07-22T20:38:27.913Z"
   },
   {
    "duration": 5019,
    "start_time": "2024-07-23T15:45:03.374Z"
   },
   {
    "duration": 1340,
    "start_time": "2024-07-23T15:45:37.710Z"
   },
   {
    "duration": 110,
    "start_time": "2024-07-23T15:45:39.054Z"
   },
   {
    "duration": 10,
    "start_time": "2024-07-23T15:45:39.167Z"
   },
   {
    "duration": 12,
    "start_time": "2024-07-23T15:45:39.181Z"
   },
   {
    "duration": 80,
    "start_time": "2024-07-23T15:45:39.197Z"
   },
   {
    "duration": 24,
    "start_time": "2024-07-23T15:45:39.282Z"
   },
   {
    "duration": 32,
    "start_time": "2024-07-23T15:45:39.309Z"
   },
   {
    "duration": 56,
    "start_time": "2024-07-23T15:45:39.370Z"
   },
   {
    "duration": 54,
    "start_time": "2024-07-23T15:45:39.433Z"
   },
   {
    "duration": 14,
    "start_time": "2024-07-23T15:45:39.491Z"
   },
   {
    "duration": 59,
    "start_time": "2024-07-23T15:45:39.509Z"
   },
   {
    "duration": 17,
    "start_time": "2024-07-23T15:45:39.571Z"
   },
   {
    "duration": 27,
    "start_time": "2024-07-23T15:45:39.591Z"
   },
   {
    "duration": 626,
    "start_time": "2024-07-23T15:45:39.626Z"
   },
   {
    "duration": 390,
    "start_time": "2024-07-23T15:45:40.255Z"
   },
   {
    "duration": 324,
    "start_time": "2024-07-23T15:45:40.647Z"
   },
   {
    "duration": 616,
    "start_time": "2024-07-23T15:45:40.975Z"
   },
   {
    "duration": 967,
    "start_time": "2024-07-23T15:45:41.594Z"
   },
   {
    "duration": 14,
    "start_time": "2024-07-23T15:45:42.564Z"
   },
   {
    "duration": 949,
    "start_time": "2024-07-23T15:45:42.581Z"
   },
   {
    "duration": 660,
    "start_time": "2024-07-23T15:45:43.534Z"
   },
   {
    "duration": 529,
    "start_time": "2024-07-23T15:45:44.197Z"
   },
   {
    "duration": 451,
    "start_time": "2024-07-23T15:45:44.729Z"
   },
   {
    "duration": 333,
    "start_time": "2024-07-23T15:45:45.184Z"
   },
   {
    "duration": 262,
    "start_time": "2024-07-23T15:45:45.520Z"
   },
   {
    "duration": 262,
    "start_time": "2024-07-23T15:45:45.785Z"
   },
   {
    "duration": 266,
    "start_time": "2024-07-23T15:45:46.050Z"
   },
   {
    "duration": 259,
    "start_time": "2024-07-23T15:45:46.319Z"
   },
   {
    "duration": 275,
    "start_time": "2024-07-23T15:45:46.583Z"
   },
   {
    "duration": 378,
    "start_time": "2024-07-23T15:45:46.861Z"
   },
   {
    "duration": 289,
    "start_time": "2024-07-23T15:45:47.242Z"
   },
   {
    "duration": 286,
    "start_time": "2024-07-23T15:45:47.534Z"
   },
   {
    "duration": 301,
    "start_time": "2024-07-23T15:45:47.824Z"
   },
   {
    "duration": 13,
    "start_time": "2024-07-23T15:45:48.129Z"
   },
   {
    "duration": 15,
    "start_time": "2024-07-23T15:46:46.772Z"
   },
   {
    "duration": 305,
    "start_time": "2024-07-23T17:19:26.725Z"
   },
   {
    "duration": 306,
    "start_time": "2024-07-23T17:19:55.509Z"
   },
   {
    "duration": 324,
    "start_time": "2024-07-23T17:20:28.800Z"
   },
   {
    "duration": 316,
    "start_time": "2024-07-23T17:20:39.840Z"
   },
   {
    "duration": 1277,
    "start_time": "2024-07-23T17:25:58.986Z"
   },
   {
    "duration": 86,
    "start_time": "2024-07-23T17:26:00.269Z"
   },
   {
    "duration": 10,
    "start_time": "2024-07-23T17:26:00.369Z"
   },
   {
    "duration": 9,
    "start_time": "2024-07-23T17:26:00.385Z"
   },
   {
    "duration": 37,
    "start_time": "2024-07-23T17:26:00.397Z"
   },
   {
    "duration": 22,
    "start_time": "2024-07-23T17:26:00.467Z"
   },
   {
    "duration": 29,
    "start_time": "2024-07-23T17:26:00.492Z"
   },
   {
    "duration": 66,
    "start_time": "2024-07-23T17:26:00.524Z"
   },
   {
    "duration": 34,
    "start_time": "2024-07-23T17:26:00.593Z"
   },
   {
    "duration": 39,
    "start_time": "2024-07-23T17:26:00.633Z"
   },
   {
    "duration": 31,
    "start_time": "2024-07-23T17:26:00.675Z"
   },
   {
    "duration": 18,
    "start_time": "2024-07-23T17:26:00.710Z"
   },
   {
    "duration": 27,
    "start_time": "2024-07-23T17:26:00.767Z"
   },
   {
    "duration": 520,
    "start_time": "2024-07-23T17:26:00.798Z"
   },
   {
    "duration": 391,
    "start_time": "2024-07-23T17:26:01.324Z"
   },
   {
    "duration": 342,
    "start_time": "2024-07-23T17:26:01.718Z"
   },
   {
    "duration": 552,
    "start_time": "2024-07-23T17:26:02.068Z"
   },
   {
    "duration": 925,
    "start_time": "2024-07-23T17:26:02.623Z"
   },
   {
    "duration": 13,
    "start_time": "2024-07-23T17:26:03.552Z"
   },
   {
    "duration": 839,
    "start_time": "2024-07-23T17:26:03.569Z"
   },
   {
    "duration": 643,
    "start_time": "2024-07-23T17:26:04.412Z"
   },
   {
    "duration": 535,
    "start_time": "2024-07-23T17:26:05.068Z"
   },
   {
    "duration": 466,
    "start_time": "2024-07-23T17:26:05.606Z"
   },
   {
    "duration": 337,
    "start_time": "2024-07-23T17:26:06.076Z"
   },
   {
    "duration": 242,
    "start_time": "2024-07-23T17:26:06.421Z"
   },
   {
    "duration": 257,
    "start_time": "2024-07-23T17:26:06.669Z"
   },
   {
    "duration": 271,
    "start_time": "2024-07-23T17:26:06.929Z"
   },
   {
    "duration": 247,
    "start_time": "2024-07-23T17:26:07.207Z"
   },
   {
    "duration": 241,
    "start_time": "2024-07-23T17:26:07.458Z"
   },
   {
    "duration": 375,
    "start_time": "2024-07-23T17:26:07.703Z"
   },
   {
    "duration": 308,
    "start_time": "2024-07-23T17:26:08.082Z"
   },
   {
    "duration": 294,
    "start_time": "2024-07-23T17:26:08.393Z"
   },
   {
    "duration": 306,
    "start_time": "2024-07-23T17:26:08.692Z"
   },
   {
    "duration": 16,
    "start_time": "2024-07-23T17:26:09.001Z"
   },
   {
    "duration": 15,
    "start_time": "2024-07-23T17:26:09.022Z"
   },
   {
    "duration": 15,
    "start_time": "2024-07-23T17:28:18.930Z"
   },
   {
    "duration": 420,
    "start_time": "2024-07-23T17:29:53.148Z"
   },
   {
    "duration": 4,
    "start_time": "2024-07-23T17:30:49.193Z"
   },
   {
    "duration": 27,
    "start_time": "2024-07-23T17:30:53.676Z"
   },
   {
    "duration": 79,
    "start_time": "2024-07-23T17:33:19.914Z"
   },
   {
    "duration": 901,
    "start_time": "2024-07-23T17:33:28.628Z"
   },
   {
    "duration": 1268,
    "start_time": "2024-07-23T17:33:59.867Z"
   },
   {
    "duration": 81,
    "start_time": "2024-07-23T17:34:01.140Z"
   },
   {
    "duration": 11,
    "start_time": "2024-07-23T17:34:01.227Z"
   },
   {
    "duration": 7,
    "start_time": "2024-07-23T17:34:01.242Z"
   },
   {
    "duration": 39,
    "start_time": "2024-07-23T17:34:01.269Z"
   },
   {
    "duration": 18,
    "start_time": "2024-07-23T17:34:01.310Z"
   },
   {
    "duration": 51,
    "start_time": "2024-07-23T17:34:01.332Z"
   },
   {
    "duration": 33,
    "start_time": "2024-07-23T17:34:01.386Z"
   },
   {
    "duration": 61,
    "start_time": "2024-07-23T17:34:01.422Z"
   },
   {
    "duration": 15,
    "start_time": "2024-07-23T17:34:01.489Z"
   },
   {
    "duration": 60,
    "start_time": "2024-07-23T17:34:01.508Z"
   },
   {
    "duration": 32,
    "start_time": "2024-07-23T17:34:01.571Z"
   },
   {
    "duration": 26,
    "start_time": "2024-07-23T17:34:01.606Z"
   },
   {
    "duration": 545,
    "start_time": "2024-07-23T17:34:01.635Z"
   },
   {
    "duration": 384,
    "start_time": "2024-07-23T17:34:02.186Z"
   },
   {
    "duration": 317,
    "start_time": "2024-07-23T17:34:02.573Z"
   },
   {
    "duration": 570,
    "start_time": "2024-07-23T17:34:02.893Z"
   },
   {
    "duration": 923,
    "start_time": "2024-07-23T17:34:03.469Z"
   },
   {
    "duration": 11,
    "start_time": "2024-07-23T17:34:04.396Z"
   },
   {
    "duration": 817,
    "start_time": "2024-07-23T17:34:04.410Z"
   },
   {
    "duration": 651,
    "start_time": "2024-07-23T17:34:05.230Z"
   },
   {
    "duration": 554,
    "start_time": "2024-07-23T17:34:05.888Z"
   },
   {
    "duration": 468,
    "start_time": "2024-07-23T17:34:06.445Z"
   },
   {
    "duration": 321,
    "start_time": "2024-07-23T17:34:06.917Z"
   },
   {
    "duration": 280,
    "start_time": "2024-07-23T17:34:07.241Z"
   },
   {
    "duration": 258,
    "start_time": "2024-07-23T17:34:07.527Z"
   },
   {
    "duration": 273,
    "start_time": "2024-07-23T17:34:07.789Z"
   },
   {
    "duration": 254,
    "start_time": "2024-07-23T17:34:08.068Z"
   },
   {
    "duration": 258,
    "start_time": "2024-07-23T17:34:08.325Z"
   },
   {
    "duration": 349,
    "start_time": "2024-07-23T17:34:08.586Z"
   },
   {
    "duration": 275,
    "start_time": "2024-07-23T17:34:08.939Z"
   },
   {
    "duration": 288,
    "start_time": "2024-07-23T17:34:09.217Z"
   },
   {
    "duration": 311,
    "start_time": "2024-07-23T17:34:09.508Z"
   },
   {
    "duration": 14,
    "start_time": "2024-07-23T17:34:09.823Z"
   },
   {
    "duration": 35,
    "start_time": "2024-07-23T17:34:09.840Z"
   },
   {
    "duration": 26,
    "start_time": "2024-07-23T17:37:02.791Z"
   },
   {
    "duration": 37,
    "start_time": "2024-07-23T17:37:10.006Z"
   },
   {
    "duration": 32,
    "start_time": "2024-07-23T17:37:56.246Z"
   },
   {
    "duration": 28,
    "start_time": "2024-07-23T17:38:10.255Z"
   },
   {
    "duration": 479,
    "start_time": "2024-07-23T17:39:19.635Z"
   },
   {
    "duration": 27,
    "start_time": "2024-07-23T17:39:34.220Z"
   },
   {
    "duration": 34,
    "start_time": "2024-07-23T17:39:46.437Z"
   },
   {
    "duration": 327,
    "start_time": "2024-07-23T17:39:56.770Z"
   },
   {
    "duration": 397,
    "start_time": "2024-07-23T17:40:00.682Z"
   },
   {
    "duration": 1530,
    "start_time": "2024-07-23T17:40:09.815Z"
   },
   {
    "duration": 117,
    "start_time": "2024-07-23T17:40:11.349Z"
   },
   {
    "duration": 15,
    "start_time": "2024-07-23T17:40:11.471Z"
   },
   {
    "duration": 20,
    "start_time": "2024-07-23T17:40:11.491Z"
   },
   {
    "duration": 55,
    "start_time": "2024-07-23T17:40:11.514Z"
   },
   {
    "duration": 22,
    "start_time": "2024-07-23T17:40:11.572Z"
   },
   {
    "duration": 29,
    "start_time": "2024-07-23T17:40:11.597Z"
   },
   {
    "duration": 61,
    "start_time": "2024-07-23T17:40:11.629Z"
   },
   {
    "duration": 34,
    "start_time": "2024-07-23T17:40:11.693Z"
   },
   {
    "duration": 37,
    "start_time": "2024-07-23T17:40:11.732Z"
   },
   {
    "duration": 33,
    "start_time": "2024-07-23T17:40:11.772Z"
   },
   {
    "duration": 61,
    "start_time": "2024-07-23T17:40:11.809Z"
   },
   {
    "duration": 40,
    "start_time": "2024-07-23T17:40:11.874Z"
   },
   {
    "duration": 612,
    "start_time": "2024-07-23T17:40:11.918Z"
   },
   {
    "duration": 405,
    "start_time": "2024-07-23T17:40:12.534Z"
   },
   {
    "duration": 349,
    "start_time": "2024-07-23T17:40:12.943Z"
   },
   {
    "duration": 589,
    "start_time": "2024-07-23T17:40:13.296Z"
   },
   {
    "duration": 1039,
    "start_time": "2024-07-23T17:40:13.889Z"
   },
   {
    "duration": 12,
    "start_time": "2024-07-23T17:40:14.932Z"
   },
   {
    "duration": 976,
    "start_time": "2024-07-23T17:40:14.947Z"
   },
   {
    "duration": 760,
    "start_time": "2024-07-23T17:40:15.926Z"
   },
   {
    "duration": 625,
    "start_time": "2024-07-23T17:40:16.693Z"
   },
   {
    "duration": 531,
    "start_time": "2024-07-23T17:40:17.321Z"
   },
   {
    "duration": 414,
    "start_time": "2024-07-23T17:40:17.857Z"
   },
   {
    "duration": 290,
    "start_time": "2024-07-23T17:40:18.275Z"
   },
   {
    "duration": 314,
    "start_time": "2024-07-23T17:40:18.568Z"
   },
   {
    "duration": 297,
    "start_time": "2024-07-23T17:40:18.885Z"
   },
   {
    "duration": 263,
    "start_time": "2024-07-23T17:40:19.194Z"
   },
   {
    "duration": 280,
    "start_time": "2024-07-23T17:40:19.460Z"
   },
   {
    "duration": 400,
    "start_time": "2024-07-23T17:40:19.743Z"
   },
   {
    "duration": 313,
    "start_time": "2024-07-23T17:40:20.149Z"
   },
   {
    "duration": 308,
    "start_time": "2024-07-23T17:40:20.469Z"
   },
   {
    "duration": 317,
    "start_time": "2024-07-23T17:40:20.782Z"
   },
   {
    "duration": 18,
    "start_time": "2024-07-23T17:40:21.103Z"
   },
   {
    "duration": 19,
    "start_time": "2024-07-23T17:40:21.127Z"
   },
   {
    "duration": 688,
    "start_time": "2024-07-23T17:49:47.719Z"
   },
   {
    "duration": 1343,
    "start_time": "2024-07-24T16:52:56.371Z"
   },
   {
    "duration": 83,
    "start_time": "2024-07-24T16:52:57.717Z"
   },
   {
    "duration": 9,
    "start_time": "2024-07-24T16:52:57.803Z"
   },
   {
    "duration": 9,
    "start_time": "2024-07-24T16:52:57.815Z"
   },
   {
    "duration": 76,
    "start_time": "2024-07-24T16:52:57.827Z"
   },
   {
    "duration": 21,
    "start_time": "2024-07-24T16:52:57.909Z"
   },
   {
    "duration": 61,
    "start_time": "2024-07-24T16:52:57.934Z"
   },
   {
    "duration": 34,
    "start_time": "2024-07-24T16:52:57.998Z"
   },
   {
    "duration": 66,
    "start_time": "2024-07-24T16:52:58.035Z"
   },
   {
    "duration": 15,
    "start_time": "2024-07-24T16:52:58.109Z"
   },
   {
    "duration": 61,
    "start_time": "2024-07-24T16:52:58.128Z"
   },
   {
    "duration": 28,
    "start_time": "2024-07-24T16:52:58.192Z"
   },
   {
    "duration": 55,
    "start_time": "2024-07-24T16:52:58.223Z"
   },
   {
    "duration": 525,
    "start_time": "2024-07-24T16:52:58.282Z"
   },
   {
    "duration": 395,
    "start_time": "2024-07-24T16:52:58.810Z"
   },
   {
    "duration": 325,
    "start_time": "2024-07-24T16:52:59.209Z"
   },
   {
    "duration": 597,
    "start_time": "2024-07-24T16:52:59.537Z"
   },
   {
    "duration": 11,
    "start_time": "2024-07-24T16:53:00.138Z"
   },
   {
    "duration": 823,
    "start_time": "2024-07-24T16:53:00.169Z"
   },
   {
    "duration": 528,
    "start_time": "2024-07-24T16:53:00.995Z"
   },
   {
    "duration": 519,
    "start_time": "2024-07-24T16:53:01.526Z"
   },
   {
    "duration": 530,
    "start_time": "2024-07-24T16:53:02.049Z"
   },
   {
    "duration": 310,
    "start_time": "2024-07-24T16:53:02.582Z"
   },
   {
    "duration": 244,
    "start_time": "2024-07-24T16:53:02.895Z"
   },
   {
    "duration": 247,
    "start_time": "2024-07-24T16:53:03.142Z"
   },
   {
    "duration": 240,
    "start_time": "2024-07-24T16:53:03.393Z"
   },
   {
    "duration": 234,
    "start_time": "2024-07-24T16:53:03.636Z"
   },
   {
    "duration": 246,
    "start_time": "2024-07-24T16:53:03.878Z"
   },
   {
    "duration": 255,
    "start_time": "2024-07-24T16:53:04.127Z"
   },
   {
    "duration": 275,
    "start_time": "2024-07-24T16:53:04.385Z"
   },
   {
    "duration": 274,
    "start_time": "2024-07-24T16:53:04.667Z"
   },
   {
    "duration": 396,
    "start_time": "2024-07-24T16:53:04.944Z"
   },
   {
    "duration": 28,
    "start_time": "2024-07-24T16:53:05.343Z"
   },
   {
    "duration": 14,
    "start_time": "2024-07-24T16:53:05.375Z"
   },
   {
    "duration": 227,
    "start_time": "2024-07-24T21:25:19.288Z"
   },
   {
    "duration": 217,
    "start_time": "2024-07-24T21:26:23.549Z"
   },
   {
    "duration": 237,
    "start_time": "2024-07-24T21:26:27.207Z"
   },
   {
    "duration": 224,
    "start_time": "2024-07-24T21:42:19.116Z"
   },
   {
    "duration": 258,
    "start_time": "2024-07-24T22:33:52.691Z"
   },
   {
    "duration": 263,
    "start_time": "2024-07-24T22:34:11.607Z"
   },
   {
    "duration": 14,
    "start_time": "2024-07-24T22:34:28.694Z"
   },
   {
    "duration": 26,
    "start_time": "2024-07-24T22:35:24.206Z"
   },
   {
    "duration": 483,
    "start_time": "2024-07-24T22:35:35.250Z"
   },
   {
    "duration": 307,
    "start_time": "2024-07-24T22:35:38.487Z"
   },
   {
    "duration": 661,
    "start_time": "2024-07-24T22:35:44.251Z"
   },
   {
    "duration": 810,
    "start_time": "2024-07-24T22:35:51.862Z"
   },
   {
    "duration": 515,
    "start_time": "2024-07-24T22:36:04.528Z"
   },
   {
    "duration": 418,
    "start_time": "2024-07-24T22:36:14.356Z"
   },
   {
    "duration": 321,
    "start_time": "2024-07-24T22:36:25.165Z"
   },
   {
    "duration": 231,
    "start_time": "2024-07-24T22:36:30.212Z"
   },
   {
    "duration": 237,
    "start_time": "2024-07-24T22:36:35.680Z"
   },
   {
    "duration": 335,
    "start_time": "2024-07-24T22:36:45.487Z"
   },
   {
    "duration": 216,
    "start_time": "2024-07-24T22:36:51.728Z"
   },
   {
    "duration": 239,
    "start_time": "2024-07-24T22:37:06.936Z"
   },
   {
    "duration": 278,
    "start_time": "2024-07-24T22:37:13.430Z"
   },
   {
    "duration": 280,
    "start_time": "2024-07-24T22:37:15.551Z"
   },
   {
    "duration": 263,
    "start_time": "2024-07-24T22:37:20.058Z"
   },
   {
    "duration": 14,
    "start_time": "2024-07-24T22:37:27.884Z"
   },
   {
    "duration": 12,
    "start_time": "2024-07-24T22:37:29.865Z"
   },
   {
    "duration": 1283,
    "start_time": "2024-07-24T22:37:36.021Z"
   },
   {
    "duration": 81,
    "start_time": "2024-07-24T22:37:37.308Z"
   },
   {
    "duration": 12,
    "start_time": "2024-07-24T22:37:37.392Z"
   },
   {
    "duration": 8,
    "start_time": "2024-07-24T22:37:37.408Z"
   },
   {
    "duration": 75,
    "start_time": "2024-07-24T22:37:37.421Z"
   },
   {
    "duration": 19,
    "start_time": "2024-07-24T22:37:37.499Z"
   },
   {
    "duration": 51,
    "start_time": "2024-07-24T22:37:37.521Z"
   },
   {
    "duration": 36,
    "start_time": "2024-07-24T22:37:37.575Z"
   },
   {
    "duration": 59,
    "start_time": "2024-07-24T22:37:37.614Z"
   },
   {
    "duration": 16,
    "start_time": "2024-07-24T22:37:37.677Z"
   },
   {
    "duration": 33,
    "start_time": "2024-07-24T22:37:37.696Z"
   },
   {
    "duration": 60,
    "start_time": "2024-07-24T22:37:37.732Z"
   },
   {
    "duration": 28,
    "start_time": "2024-07-24T22:37:37.796Z"
   },
   {
    "duration": 563,
    "start_time": "2024-07-24T22:37:37.832Z"
   },
   {
    "duration": 396,
    "start_time": "2024-07-24T22:37:38.399Z"
   },
   {
    "duration": 337,
    "start_time": "2024-07-24T22:37:38.799Z"
   },
   {
    "duration": 558,
    "start_time": "2024-07-24T22:37:39.139Z"
   },
   {
    "duration": 11,
    "start_time": "2024-07-24T22:37:39.700Z"
   },
   {
    "duration": 851,
    "start_time": "2024-07-24T22:37:39.713Z"
   },
   {
    "duration": 538,
    "start_time": "2024-07-24T22:37:40.567Z"
   },
   {
    "duration": 522,
    "start_time": "2024-07-24T22:37:41.108Z"
   },
   {
    "duration": 529,
    "start_time": "2024-07-24T22:37:41.633Z"
   },
   {
    "duration": 318,
    "start_time": "2024-07-24T22:37:42.168Z"
   },
   {
    "duration": 245,
    "start_time": "2024-07-24T22:37:42.489Z"
   },
   {
    "duration": 244,
    "start_time": "2024-07-24T22:37:42.737Z"
   },
   {
    "duration": 254,
    "start_time": "2024-07-24T22:37:42.984Z"
   },
   {
    "duration": 230,
    "start_time": "2024-07-24T22:37:43.241Z"
   },
   {
    "duration": 248,
    "start_time": "2024-07-24T22:37:43.474Z"
   },
   {
    "duration": 252,
    "start_time": "2024-07-24T22:37:43.726Z"
   },
   {
    "duration": 291,
    "start_time": "2024-07-24T22:37:43.982Z"
   },
   {
    "duration": 275,
    "start_time": "2024-07-24T22:37:44.276Z"
   },
   {
    "duration": 363,
    "start_time": "2024-07-24T22:37:44.553Z"
   },
   {
    "duration": 14,
    "start_time": "2024-07-24T22:37:44.919Z"
   },
   {
    "duration": 35,
    "start_time": "2024-07-24T22:37:44.936Z"
   },
   {
    "duration": 4937,
    "start_time": "2024-07-25T07:46:12.371Z"
   },
   {
    "duration": 93,
    "start_time": "2024-07-25T07:46:17.311Z"
   },
   {
    "duration": 11,
    "start_time": "2024-07-25T07:46:17.407Z"
   },
   {
    "duration": 13,
    "start_time": "2024-07-25T07:46:17.422Z"
   },
   {
    "duration": 65,
    "start_time": "2024-07-25T07:46:17.438Z"
   },
   {
    "duration": 21,
    "start_time": "2024-07-25T07:46:17.506Z"
   },
   {
    "duration": 24,
    "start_time": "2024-07-25T07:46:17.530Z"
   },
   {
    "duration": 65,
    "start_time": "2024-07-25T07:46:17.557Z"
   },
   {
    "duration": 32,
    "start_time": "2024-07-25T07:46:17.625Z"
   },
   {
    "duration": 43,
    "start_time": "2024-07-25T07:46:17.663Z"
   },
   {
    "duration": 31,
    "start_time": "2024-07-25T07:46:17.709Z"
   },
   {
    "duration": 62,
    "start_time": "2024-07-25T07:46:17.743Z"
   },
   {
    "duration": 28,
    "start_time": "2024-07-25T07:46:17.809Z"
   },
   {
    "duration": 545,
    "start_time": "2024-07-25T07:46:17.841Z"
   },
   {
    "duration": 332,
    "start_time": "2024-07-25T07:46:18.389Z"
   },
   {
    "duration": 330,
    "start_time": "2024-07-25T07:46:18.724Z"
   },
   {
    "duration": 631,
    "start_time": "2024-07-25T07:46:19.057Z"
   },
   {
    "duration": 12,
    "start_time": "2024-07-25T07:46:19.701Z"
   },
   {
    "duration": 852,
    "start_time": "2024-07-25T07:46:19.718Z"
   },
   {
    "duration": 534,
    "start_time": "2024-07-25T07:46:20.574Z"
   },
   {
    "duration": 530,
    "start_time": "2024-07-25T07:46:21.112Z"
   },
   {
    "duration": 451,
    "start_time": "2024-07-25T07:46:21.646Z"
   },
   {
    "duration": 398,
    "start_time": "2024-07-25T07:46:22.103Z"
   },
   {
    "duration": 242,
    "start_time": "2024-07-25T07:46:22.505Z"
   },
   {
    "duration": 255,
    "start_time": "2024-07-25T07:46:22.750Z"
   },
   {
    "duration": 257,
    "start_time": "2024-07-25T07:46:23.008Z"
   },
   {
    "duration": 247,
    "start_time": "2024-07-25T07:46:23.268Z"
   },
   {
    "duration": 245,
    "start_time": "2024-07-25T07:46:23.523Z"
   },
   {
    "duration": 250,
    "start_time": "2024-07-25T07:46:23.771Z"
   },
   {
    "duration": 270,
    "start_time": "2024-07-25T07:46:24.024Z"
   },
   {
    "duration": 278,
    "start_time": "2024-07-25T07:46:24.301Z"
   },
   {
    "duration": 286,
    "start_time": "2024-07-25T07:46:24.582Z"
   },
   {
    "duration": 31,
    "start_time": "2024-07-25T07:46:24.872Z"
   },
   {
    "duration": 16,
    "start_time": "2024-07-25T07:46:24.906Z"
   },
   {
    "duration": 306,
    "start_time": "2024-07-25T22:11:20.389Z"
   },
   {
    "duration": 4765,
    "start_time": "2024-07-25T22:11:26.473Z"
   },
   {
    "duration": 86,
    "start_time": "2024-07-25T22:11:31.242Z"
   },
   {
    "duration": 10,
    "start_time": "2024-07-25T22:11:31.330Z"
   },
   {
    "duration": 7,
    "start_time": "2024-07-25T22:11:31.343Z"
   },
   {
    "duration": 47,
    "start_time": "2024-07-25T22:11:31.355Z"
   },
   {
    "duration": 46,
    "start_time": "2024-07-25T22:11:31.404Z"
   },
   {
    "duration": 25,
    "start_time": "2024-07-25T22:11:31.453Z"
   },
   {
    "duration": 69,
    "start_time": "2024-07-25T22:11:31.481Z"
   },
   {
    "duration": 31,
    "start_time": "2024-07-25T22:11:31.555Z"
   },
   {
    "duration": 13,
    "start_time": "2024-07-25T22:11:31.589Z"
   },
   {
    "duration": 34,
    "start_time": "2024-07-25T22:11:31.633Z"
   },
   {
    "duration": 34,
    "start_time": "2024-07-25T22:11:31.670Z"
   },
   {
    "duration": 28,
    "start_time": "2024-07-25T22:11:31.732Z"
   },
   {
    "duration": 529,
    "start_time": "2024-07-25T22:11:31.766Z"
   },
   {
    "duration": 332,
    "start_time": "2024-07-25T22:11:32.301Z"
   },
   {
    "duration": 332,
    "start_time": "2024-07-25T22:11:32.635Z"
   },
   {
    "duration": 579,
    "start_time": "2024-07-25T22:11:32.970Z"
   },
   {
    "duration": 11,
    "start_time": "2024-07-25T22:11:33.552Z"
   },
   {
    "duration": 925,
    "start_time": "2024-07-25T22:11:33.568Z"
   },
   {
    "duration": 522,
    "start_time": "2024-07-25T22:11:34.497Z"
   },
   {
    "duration": 526,
    "start_time": "2024-07-25T22:11:35.022Z"
   },
   {
    "duration": 441,
    "start_time": "2024-07-25T22:11:35.551Z"
   },
   {
    "duration": 319,
    "start_time": "2024-07-25T22:11:36.000Z"
   },
   {
    "duration": 242,
    "start_time": "2024-07-25T22:11:36.322Z"
   },
   {
    "duration": 250,
    "start_time": "2024-07-25T22:11:36.567Z"
   },
   {
    "duration": 351,
    "start_time": "2024-07-25T22:11:36.820Z"
   },
   {
    "duration": 236,
    "start_time": "2024-07-25T22:11:37.174Z"
   },
   {
    "duration": 250,
    "start_time": "2024-07-25T22:11:37.412Z"
   },
   {
    "duration": 251,
    "start_time": "2024-07-25T22:11:37.665Z"
   },
   {
    "duration": 289,
    "start_time": "2024-07-25T22:11:37.920Z"
   },
   {
    "duration": 272,
    "start_time": "2024-07-25T22:11:38.211Z"
   },
   {
    "duration": 281,
    "start_time": "2024-07-25T22:11:38.486Z"
   },
   {
    "duration": 14,
    "start_time": "2024-07-25T22:11:38.770Z"
   },
   {
    "duration": 16,
    "start_time": "2024-07-25T22:11:38.787Z"
   },
   {
    "duration": 317,
    "start_time": "2024-07-26T01:22:09.190Z"
   },
   {
    "duration": 5027,
    "start_time": "2024-07-26T01:22:29.593Z"
   },
   {
    "duration": 87,
    "start_time": "2024-07-26T01:22:34.624Z"
   },
   {
    "duration": 9,
    "start_time": "2024-07-26T01:22:34.714Z"
   },
   {
    "duration": 7,
    "start_time": "2024-07-26T01:22:34.727Z"
   },
   {
    "duration": 77,
    "start_time": "2024-07-26T01:22:34.737Z"
   },
   {
    "duration": 22,
    "start_time": "2024-07-26T01:22:34.817Z"
   },
   {
    "duration": 29,
    "start_time": "2024-07-26T01:22:34.842Z"
   },
   {
    "duration": 60,
    "start_time": "2024-07-26T01:22:34.874Z"
   },
   {
    "duration": 66,
    "start_time": "2024-07-26T01:22:34.937Z"
   },
   {
    "duration": 14,
    "start_time": "2024-07-26T01:22:35.012Z"
   },
   {
    "duration": 29,
    "start_time": "2024-07-26T01:22:35.029Z"
   },
   {
    "duration": 62,
    "start_time": "2024-07-26T01:22:35.062Z"
   },
   {
    "duration": 27,
    "start_time": "2024-07-26T01:22:35.127Z"
   },
   {
    "duration": 551,
    "start_time": "2024-07-26T01:22:35.158Z"
   },
   {
    "duration": 366,
    "start_time": "2024-07-26T01:22:35.712Z"
   },
   {
    "duration": 341,
    "start_time": "2024-07-26T01:22:36.082Z"
   },
   {
    "duration": 679,
    "start_time": "2024-07-26T01:22:36.426Z"
   },
   {
    "duration": 12,
    "start_time": "2024-07-26T01:22:37.108Z"
   },
   {
    "duration": 871,
    "start_time": "2024-07-26T01:22:37.123Z"
   },
   {
    "duration": 570,
    "start_time": "2024-07-26T01:22:37.997Z"
   },
   {
    "duration": 536,
    "start_time": "2024-07-26T01:22:38.570Z"
   },
   {
    "duration": 475,
    "start_time": "2024-07-26T01:22:39.109Z"
   },
   {
    "duration": 336,
    "start_time": "2024-07-26T01:22:39.587Z"
   },
   {
    "duration": 383,
    "start_time": "2024-07-26T01:22:39.926Z"
   },
   {
    "duration": 252,
    "start_time": "2024-07-26T01:22:40.313Z"
   },
   {
    "duration": 254,
    "start_time": "2024-07-26T01:22:40.569Z"
   },
   {
    "duration": 252,
    "start_time": "2024-07-26T01:22:40.827Z"
   },
   {
    "duration": 259,
    "start_time": "2024-07-26T01:22:41.088Z"
   },
   {
    "duration": 264,
    "start_time": "2024-07-26T01:22:41.350Z"
   },
   {
    "duration": 288,
    "start_time": "2024-07-26T01:22:41.617Z"
   },
   {
    "duration": 280,
    "start_time": "2024-07-26T01:22:41.909Z"
   },
   {
    "duration": 290,
    "start_time": "2024-07-26T01:22:42.192Z"
   },
   {
    "duration": 22,
    "start_time": "2024-07-26T01:22:42.485Z"
   },
   {
    "duration": 14,
    "start_time": "2024-07-26T01:22:42.511Z"
   },
   {
    "duration": 142,
    "start_time": "2024-07-26T01:43:40.663Z"
   },
   {
    "duration": 136,
    "start_time": "2024-07-26T01:45:22.919Z"
   },
   {
    "duration": 129,
    "start_time": "2024-07-26T01:45:56.795Z"
   },
   {
    "duration": 141,
    "start_time": "2024-07-26T01:46:15.777Z"
   },
   {
    "duration": 29,
    "start_time": "2024-07-26T01:47:16.250Z"
   },
   {
    "duration": 29,
    "start_time": "2024-07-26T02:11:36.065Z"
   },
   {
    "duration": 5006,
    "start_time": "2024-07-29T19:20:05.915Z"
   },
   {
    "duration": 153,
    "start_time": "2024-07-29T19:20:10.925Z"
   },
   {
    "duration": 53,
    "start_time": "2024-07-29T19:20:11.081Z"
   },
   {
    "duration": 33,
    "start_time": "2024-07-29T19:20:11.138Z"
   },
   {
    "duration": 55,
    "start_time": "2024-07-29T19:20:11.173Z"
   },
   {
    "duration": 14,
    "start_time": "2024-07-29T19:20:11.231Z"
   },
   {
    "duration": 29,
    "start_time": "2024-07-29T19:20:11.248Z"
   },
   {
    "duration": 64,
    "start_time": "2024-07-29T19:20:11.280Z"
   },
   {
    "duration": 26,
    "start_time": "2024-07-29T19:20:11.347Z"
   },
   {
    "duration": 526,
    "start_time": "2024-07-29T19:20:11.379Z"
   },
   {
    "duration": 324,
    "start_time": "2024-07-29T19:20:11.908Z"
   },
   {
    "duration": 322,
    "start_time": "2024-07-29T19:20:12.235Z"
   },
   {
    "duration": 640,
    "start_time": "2024-07-29T19:20:12.559Z"
   },
   {
    "duration": 28,
    "start_time": "2024-07-29T19:20:13.202Z"
   },
   {
    "duration": 831,
    "start_time": "2024-07-29T19:20:13.232Z"
   },
   {
    "duration": 522,
    "start_time": "2024-07-29T19:20:14.066Z"
   },
   {
    "duration": 517,
    "start_time": "2024-07-29T19:20:14.592Z"
   },
   {
    "duration": 451,
    "start_time": "2024-07-29T19:20:15.112Z"
   },
   {
    "duration": 315,
    "start_time": "2024-07-29T19:20:15.567Z"
   },
   {
    "duration": 328,
    "start_time": "2024-07-29T19:20:15.886Z"
   },
   {
    "duration": 238,
    "start_time": "2024-07-29T19:20:16.225Z"
   },
   {
    "duration": 250,
    "start_time": "2024-07-29T19:20:16.465Z"
   },
   {
    "duration": 242,
    "start_time": "2024-07-29T19:20:16.725Z"
   },
   {
    "duration": 239,
    "start_time": "2024-07-29T19:20:16.970Z"
   },
   {
    "duration": 265,
    "start_time": "2024-07-29T19:20:17.213Z"
   },
   {
    "duration": 279,
    "start_time": "2024-07-29T19:20:17.481Z"
   },
   {
    "duration": 285,
    "start_time": "2024-07-29T19:20:17.763Z"
   },
   {
    "duration": 272,
    "start_time": "2024-07-29T19:20:18.057Z"
   },
   {
    "duration": 13,
    "start_time": "2024-07-29T19:20:18.332Z"
   },
   {
    "duration": 14,
    "start_time": "2024-07-29T19:20:18.348Z"
   },
   {
    "duration": 343,
    "start_time": "2024-07-31T21:47:38.042Z"
   },
   {
    "duration": 5037,
    "start_time": "2024-07-31T21:47:47.701Z"
   },
   {
    "duration": 162,
    "start_time": "2024-07-31T21:47:52.742Z"
   },
   {
    "duration": 29,
    "start_time": "2024-07-31T21:47:52.907Z"
   },
   {
    "duration": 63,
    "start_time": "2024-07-31T21:47:52.941Z"
   },
   {
    "duration": 223,
    "start_time": "2024-07-31T21:47:53.007Z"
   },
   {
    "duration": 16,
    "start_time": "2024-07-31T21:47:53.234Z"
   },
   {
    "duration": 30,
    "start_time": "2024-07-31T21:47:53.254Z"
   },
   {
    "duration": 44,
    "start_time": "2024-07-31T21:47:53.287Z"
   },
   {
    "duration": 26,
    "start_time": "2024-07-31T21:47:53.335Z"
   },
   {
    "duration": 546,
    "start_time": "2024-07-31T21:47:53.367Z"
   },
   {
    "duration": 331,
    "start_time": "2024-07-31T21:47:53.917Z"
   },
   {
    "duration": 340,
    "start_time": "2024-07-31T21:47:54.252Z"
   },
   {
    "duration": 656,
    "start_time": "2024-07-31T21:47:54.603Z"
   },
   {
    "duration": 12,
    "start_time": "2024-07-31T21:47:55.263Z"
   },
   {
    "duration": 888,
    "start_time": "2024-07-31T21:47:55.278Z"
   },
   {
    "duration": 589,
    "start_time": "2024-07-31T21:47:56.171Z"
   },
   {
    "duration": 539,
    "start_time": "2024-07-31T21:47:56.763Z"
   },
   {
    "duration": 444,
    "start_time": "2024-07-31T21:47:57.305Z"
   },
   {
    "duration": 329,
    "start_time": "2024-07-31T21:47:57.753Z"
   },
   {
    "duration": 381,
    "start_time": "2024-07-31T21:47:58.086Z"
   },
   {
    "duration": 264,
    "start_time": "2024-07-31T21:47:58.471Z"
   },
   {
    "duration": 256,
    "start_time": "2024-07-31T21:47:58.739Z"
   },
   {
    "duration": 246,
    "start_time": "2024-07-31T21:47:59.003Z"
   },
   {
    "duration": 252,
    "start_time": "2024-07-31T21:47:59.252Z"
   },
   {
    "duration": 287,
    "start_time": "2024-07-31T21:47:59.508Z"
   },
   {
    "duration": 277,
    "start_time": "2024-07-31T21:47:59.803Z"
   },
   {
    "duration": 286,
    "start_time": "2024-07-31T21:48:00.083Z"
   },
   {
    "duration": 289,
    "start_time": "2024-07-31T21:48:00.375Z"
   },
   {
    "duration": 13,
    "start_time": "2024-07-31T21:48:00.668Z"
   },
   {
    "duration": 17,
    "start_time": "2024-07-31T21:48:00.704Z"
   },
   {
    "duration": 17,
    "start_time": "2024-07-31T22:47:27.507Z"
   },
   {
    "duration": 14,
    "start_time": "2024-07-31T22:47:53.335Z"
   },
   {
    "duration": 14,
    "start_time": "2024-07-31T22:47:55.803Z"
   },
   {
    "duration": 17,
    "start_time": "2024-07-31T22:48:55.725Z"
   },
   {
    "duration": 39,
    "start_time": "2024-07-31T22:49:26.014Z"
   },
   {
    "duration": 1560,
    "start_time": "2024-07-31T22:49:37.549Z"
   },
   {
    "duration": 198,
    "start_time": "2024-07-31T22:49:39.113Z"
   },
   {
    "duration": 31,
    "start_time": "2024-07-31T22:49:39.315Z"
   },
   {
    "duration": 67,
    "start_time": "2024-07-31T22:49:39.350Z"
   },
   {
    "duration": 220,
    "start_time": "2024-07-31T22:49:39.422Z"
   },
   {
    "duration": 16,
    "start_time": "2024-07-31T22:49:39.646Z"
   },
   {
    "duration": 45,
    "start_time": "2024-07-31T22:49:39.666Z"
   },
   {
    "duration": 32,
    "start_time": "2024-07-31T22:49:39.715Z"
   },
   {
    "duration": 583,
    "start_time": "2024-07-31T22:49:39.750Z"
   },
   {
    "duration": 409,
    "start_time": "2024-07-31T22:49:40.338Z"
   },
   {
    "duration": 350,
    "start_time": "2024-07-31T22:49:40.754Z"
   },
   {
    "duration": 596,
    "start_time": "2024-07-31T22:49:41.109Z"
   },
   {
    "duration": 12,
    "start_time": "2024-07-31T22:49:41.709Z"
   },
   {
    "duration": 864,
    "start_time": "2024-07-31T22:49:41.729Z"
   },
   {
    "duration": 575,
    "start_time": "2024-07-31T22:49:42.597Z"
   },
   {
    "duration": 580,
    "start_time": "2024-07-31T22:49:43.176Z"
   },
   {
    "duration": 535,
    "start_time": "2024-07-31T22:49:43.761Z"
   },
   {
    "duration": 315,
    "start_time": "2024-07-31T22:49:44.305Z"
   },
   {
    "duration": 255,
    "start_time": "2024-07-31T22:49:44.624Z"
   },
   {
    "duration": 263,
    "start_time": "2024-07-31T22:49:44.882Z"
   },
   {
    "duration": 264,
    "start_time": "2024-07-31T22:49:45.148Z"
   },
   {
    "duration": 254,
    "start_time": "2024-07-31T22:49:45.415Z"
   },
   {
    "duration": 280,
    "start_time": "2024-07-31T22:49:45.672Z"
   },
   {
    "duration": 294,
    "start_time": "2024-07-31T22:49:45.955Z"
   },
   {
    "duration": 300,
    "start_time": "2024-07-31T22:49:46.252Z"
   },
   {
    "duration": 312,
    "start_time": "2024-07-31T22:49:46.555Z"
   },
   {
    "duration": 402,
    "start_time": "2024-07-31T22:49:46.872Z"
   },
   {
    "duration": 24,
    "start_time": "2024-07-31T22:49:47.280Z"
   },
   {
    "duration": 19,
    "start_time": "2024-07-31T22:49:47.307Z"
   },
   {
    "duration": 246,
    "start_time": "2024-07-31T22:49:56.436Z"
   },
   {
    "duration": 225,
    "start_time": "2024-07-31T22:59:04.690Z"
   },
   {
    "duration": 6,
    "start_time": "2024-07-31T23:00:41.172Z"
   },
   {
    "duration": 1301,
    "start_time": "2024-07-31T23:01:15.967Z"
   },
   {
    "duration": 147,
    "start_time": "2024-07-31T23:01:17.272Z"
   },
   {
    "duration": 29,
    "start_time": "2024-07-31T23:01:17.423Z"
   },
   {
    "duration": 64,
    "start_time": "2024-07-31T23:01:17.456Z"
   },
   {
    "duration": 229,
    "start_time": "2024-07-31T23:01:17.524Z"
   },
   {
    "duration": 15,
    "start_time": "2024-07-31T23:01:17.756Z"
   },
   {
    "duration": 41,
    "start_time": "2024-07-31T23:01:17.775Z"
   },
   {
    "duration": 28,
    "start_time": "2024-07-31T23:01:17.819Z"
   },
   {
    "duration": 563,
    "start_time": "2024-07-31T23:01:17.851Z"
   },
   {
    "duration": 397,
    "start_time": "2024-07-31T23:01:18.417Z"
   },
   {
    "duration": 358,
    "start_time": "2024-07-31T23:01:18.816Z"
   },
   {
    "duration": 589,
    "start_time": "2024-07-31T23:01:19.177Z"
   },
   {
    "duration": 12,
    "start_time": "2024-07-31T23:01:19.769Z"
   },
   {
    "duration": 870,
    "start_time": "2024-07-31T23:01:19.801Z"
   },
   {
    "duration": 564,
    "start_time": "2024-07-31T23:01:20.675Z"
   },
   {
    "duration": 531,
    "start_time": "2024-07-31T23:01:21.242Z"
   },
   {
    "duration": 565,
    "start_time": "2024-07-31T23:01:21.776Z"
   },
   {
    "duration": 318,
    "start_time": "2024-07-31T23:01:22.345Z"
   },
   {
    "duration": 250,
    "start_time": "2024-07-31T23:01:22.666Z"
   },
   {
    "duration": 248,
    "start_time": "2024-07-31T23:01:22.919Z"
   },
   {
    "duration": 256,
    "start_time": "2024-07-31T23:01:23.171Z"
   },
   {
    "duration": 242,
    "start_time": "2024-07-31T23:01:23.431Z"
   },
   {
    "duration": 249,
    "start_time": "2024-07-31T23:01:23.676Z"
   },
   {
    "duration": 267,
    "start_time": "2024-07-31T23:01:23.928Z"
   },
   {
    "duration": 300,
    "start_time": "2024-07-31T23:01:24.201Z"
   },
   {
    "duration": 279,
    "start_time": "2024-07-31T23:01:24.505Z"
   },
   {
    "duration": 365,
    "start_time": "2024-07-31T23:01:24.790Z"
   },
   {
    "duration": 16,
    "start_time": "2024-07-31T23:01:25.158Z"
   },
   {
    "duration": 33,
    "start_time": "2024-07-31T23:01:25.177Z"
   },
   {
    "duration": 39,
    "start_time": "2024-07-31T23:16:58.378Z"
   },
   {
    "duration": 4850,
    "start_time": "2024-07-31T23:18:07.674Z"
   },
   {
    "duration": 1295,
    "start_time": "2024-07-31T23:22:22.066Z"
   },
   {
    "duration": 153,
    "start_time": "2024-07-31T23:22:23.364Z"
   },
   {
    "duration": 30,
    "start_time": "2024-07-31T23:22:23.519Z"
   },
   {
    "duration": 245,
    "start_time": "2024-07-31T23:22:23.554Z"
   },
   {
    "duration": 5549,
    "start_time": "2024-07-31T23:22:23.802Z"
   },
   {
    "duration": 48,
    "start_time": "2024-07-31T23:22:29.355Z"
   },
   {
    "duration": 36,
    "start_time": "2024-07-31T23:22:29.407Z"
   },
   {
    "duration": 29,
    "start_time": "2024-07-31T23:22:29.501Z"
   },
   {
    "duration": 552,
    "start_time": "2024-07-31T23:22:29.534Z"
   },
   {
    "duration": 390,
    "start_time": "2024-07-31T23:22:30.101Z"
   },
   {
    "duration": 330,
    "start_time": "2024-07-31T23:22:30.502Z"
   },
   {
    "duration": 579,
    "start_time": "2024-07-31T23:22:30.835Z"
   },
   {
    "duration": 12,
    "start_time": "2024-07-31T23:22:31.418Z"
   },
   {
    "duration": 872,
    "start_time": "2024-07-31T23:22:31.433Z"
   },
   {
    "duration": 572,
    "start_time": "2024-07-31T23:22:32.308Z"
   },
   {
    "duration": 547,
    "start_time": "2024-07-31T23:22:32.884Z"
   },
   {
    "duration": 580,
    "start_time": "2024-07-31T23:22:33.435Z"
   },
   {
    "duration": 328,
    "start_time": "2024-07-31T23:22:34.018Z"
   },
   {
    "duration": 240,
    "start_time": "2024-07-31T23:22:34.349Z"
   },
   {
    "duration": 241,
    "start_time": "2024-07-31T23:22:34.601Z"
   },
   {
    "duration": 250,
    "start_time": "2024-07-31T23:22:34.845Z"
   },
   {
    "duration": 239,
    "start_time": "2024-07-31T23:22:35.102Z"
   },
   {
    "duration": 256,
    "start_time": "2024-07-31T23:22:35.345Z"
   },
   {
    "duration": 264,
    "start_time": "2024-07-31T23:22:35.605Z"
   },
   {
    "duration": 308,
    "start_time": "2024-07-31T23:22:35.872Z"
   },
   {
    "duration": 285,
    "start_time": "2024-07-31T23:22:36.184Z"
   },
   {
    "duration": 399,
    "start_time": "2024-07-31T23:22:36.472Z"
   },
   {
    "duration": 26,
    "start_time": "2024-07-31T23:22:36.879Z"
   },
   {
    "duration": 16,
    "start_time": "2024-07-31T23:22:36.909Z"
   },
   {
    "duration": 5196,
    "start_time": "2024-08-02T18:01:16.593Z"
   },
   {
    "duration": 158,
    "start_time": "2024-08-02T18:01:21.793Z"
   },
   {
    "duration": 54,
    "start_time": "2024-08-02T18:01:21.954Z"
   },
   {
    "duration": 224,
    "start_time": "2024-08-02T18:01:22.012Z"
   },
   {
    "duration": 5213,
    "start_time": "2024-08-02T18:01:22.242Z"
   },
   {
    "duration": 45,
    "start_time": "2024-08-02T18:01:27.459Z"
   },
   {
    "duration": 40,
    "start_time": "2024-08-02T18:01:27.507Z"
   },
   {
    "duration": 80,
    "start_time": "2024-08-02T18:01:27.550Z"
   },
   {
    "duration": 585,
    "start_time": "2024-08-02T18:01:27.633Z"
   },
   {
    "duration": 340,
    "start_time": "2024-08-02T18:01:28.224Z"
   },
   {
    "duration": 357,
    "start_time": "2024-08-02T18:01:28.568Z"
   },
   {
    "duration": 660,
    "start_time": "2024-08-02T18:01:28.927Z"
   },
   {
    "duration": 21,
    "start_time": "2024-08-02T18:01:29.590Z"
   },
   {
    "duration": 866,
    "start_time": "2024-08-02T18:01:29.615Z"
   },
   {
    "duration": 575,
    "start_time": "2024-08-02T18:01:30.485Z"
   },
   {
    "duration": 569,
    "start_time": "2024-08-02T18:01:31.063Z"
   },
   {
    "duration": 475,
    "start_time": "2024-08-02T18:01:31.637Z"
   },
   {
    "duration": 441,
    "start_time": "2024-08-02T18:01:32.115Z"
   },
   {
    "duration": 257,
    "start_time": "2024-08-02T18:01:32.562Z"
   },
   {
    "duration": 255,
    "start_time": "2024-08-02T18:01:32.823Z"
   },
   {
    "duration": 271,
    "start_time": "2024-08-02T18:01:33.084Z"
   },
   {
    "duration": 249,
    "start_time": "2024-08-02T18:01:33.358Z"
   },
   {
    "duration": 264,
    "start_time": "2024-08-02T18:01:33.611Z"
   },
   {
    "duration": 271,
    "start_time": "2024-08-02T18:01:33.878Z"
   },
   {
    "duration": 322,
    "start_time": "2024-08-02T18:01:34.153Z"
   },
   {
    "duration": 307,
    "start_time": "2024-08-02T18:01:34.478Z"
   },
   {
    "duration": 289,
    "start_time": "2024-08-02T18:01:34.789Z"
   },
   {
    "duration": 24,
    "start_time": "2024-08-02T18:01:35.086Z"
   },
   {
    "duration": 17,
    "start_time": "2024-08-02T18:01:35.113Z"
   },
   {
    "duration": 1412,
    "start_time": "2024-08-02T18:45:22.778Z"
   },
   {
    "duration": 217,
    "start_time": "2024-08-02T18:45:24.195Z"
   },
   {
    "duration": 49,
    "start_time": "2024-08-02T18:45:24.419Z"
   },
   {
    "duration": 295,
    "start_time": "2024-08-02T18:45:24.478Z"
   },
   {
    "duration": 6251,
    "start_time": "2024-08-02T18:45:24.777Z"
   },
   {
    "duration": 15,
    "start_time": "2024-08-02T18:45:31.032Z"
   },
   {
    "duration": 80,
    "start_time": "2024-08-02T18:45:31.050Z"
   },
   {
    "duration": 76,
    "start_time": "2024-08-02T18:45:31.133Z"
   },
   {
    "duration": 599,
    "start_time": "2024-08-02T18:45:31.213Z"
   },
   {
    "duration": 423,
    "start_time": "2024-08-02T18:45:31.818Z"
   },
   {
    "duration": 335,
    "start_time": "2024-08-02T18:45:32.246Z"
   },
   {
    "duration": 608,
    "start_time": "2024-08-02T18:45:32.586Z"
   },
   {
    "duration": 16,
    "start_time": "2024-08-02T18:45:33.197Z"
   },
   {
    "duration": 939,
    "start_time": "2024-08-02T18:45:33.222Z"
   },
   {
    "duration": 614,
    "start_time": "2024-08-02T18:45:34.164Z"
   },
   {
    "duration": 917,
    "start_time": "2024-08-02T18:45:34.782Z"
   },
   {
    "duration": 696,
    "start_time": "2024-08-02T18:45:35.707Z"
   },
   {
    "duration": 364,
    "start_time": "2024-08-02T18:45:36.406Z"
   },
   {
    "duration": 273,
    "start_time": "2024-08-02T18:45:36.774Z"
   },
   {
    "duration": 289,
    "start_time": "2024-08-02T18:45:37.051Z"
   },
   {
    "duration": 271,
    "start_time": "2024-08-02T18:45:37.345Z"
   },
   {
    "duration": 278,
    "start_time": "2024-08-02T18:45:37.619Z"
   },
   {
    "duration": 291,
    "start_time": "2024-08-02T18:45:37.901Z"
   },
   {
    "duration": 288,
    "start_time": "2024-08-02T18:45:38.195Z"
   },
   {
    "duration": 303,
    "start_time": "2024-08-02T18:45:38.487Z"
   },
   {
    "duration": 307,
    "start_time": "2024-08-02T18:45:38.794Z"
   },
   {
    "duration": 440,
    "start_time": "2024-08-02T18:45:39.105Z"
   },
   {
    "duration": 17,
    "start_time": "2024-08-02T18:45:39.550Z"
   },
   {
    "duration": 35,
    "start_time": "2024-08-02T18:45:39.574Z"
   },
   {
    "duration": 1326,
    "start_time": "2024-08-02T18:58:12.834Z"
   },
   {
    "duration": 149,
    "start_time": "2024-08-02T18:58:14.164Z"
   },
   {
    "duration": 30,
    "start_time": "2024-08-02T18:58:14.316Z"
   },
   {
    "duration": 228,
    "start_time": "2024-08-02T18:58:14.351Z"
   },
   {
    "duration": 4451,
    "start_time": "2024-08-02T18:58:14.582Z"
   },
   {
    "duration": 16,
    "start_time": "2024-08-02T18:58:19.036Z"
   },
   {
    "duration": 65,
    "start_time": "2024-08-02T18:58:19.055Z"
   },
   {
    "duration": 89,
    "start_time": "2024-08-02T18:58:19.123Z"
   },
   {
    "duration": 523,
    "start_time": "2024-08-02T18:58:19.216Z"
   },
   {
    "duration": 391,
    "start_time": "2024-08-02T18:58:19.746Z"
   },
   {
    "duration": 339,
    "start_time": "2024-08-02T18:58:20.141Z"
   },
   {
    "duration": 558,
    "start_time": "2024-08-02T18:58:20.483Z"
   },
   {
    "duration": 12,
    "start_time": "2024-08-02T18:58:21.045Z"
   },
   {
    "duration": 848,
    "start_time": "2024-08-02T18:58:21.060Z"
   },
   {
    "duration": 560,
    "start_time": "2024-08-02T18:58:21.911Z"
   },
   {
    "duration": 542,
    "start_time": "2024-08-02T18:58:22.474Z"
   },
   {
    "duration": 557,
    "start_time": "2024-08-02T18:58:23.020Z"
   },
   {
    "duration": 320,
    "start_time": "2024-08-02T18:58:23.581Z"
   },
   {
    "duration": 246,
    "start_time": "2024-08-02T18:58:23.904Z"
   },
   {
    "duration": 250,
    "start_time": "2024-08-02T18:58:24.154Z"
   },
   {
    "duration": 263,
    "start_time": "2024-08-02T18:58:24.407Z"
   },
   {
    "duration": 250,
    "start_time": "2024-08-02T18:58:24.674Z"
   },
   {
    "duration": 247,
    "start_time": "2024-08-02T18:58:24.927Z"
   },
   {
    "duration": 259,
    "start_time": "2024-08-02T18:58:25.177Z"
   },
   {
    "duration": 313,
    "start_time": "2024-08-02T18:58:25.439Z"
   },
   {
    "duration": 298,
    "start_time": "2024-08-02T18:58:25.755Z"
   },
   {
    "duration": 401,
    "start_time": "2024-08-02T18:58:26.057Z"
   },
   {
    "duration": 14,
    "start_time": "2024-08-02T18:58:26.465Z"
   },
   {
    "duration": 35,
    "start_time": "2024-08-02T18:58:26.481Z"
   },
   {
    "duration": 6,
    "start_time": "2024-08-02T19:35:57.694Z"
   },
   {
    "duration": 1397,
    "start_time": "2024-08-02T19:36:34.992Z"
   },
   {
    "duration": 127,
    "start_time": "2024-08-02T19:36:39.125Z"
   },
   {
    "duration": 29,
    "start_time": "2024-08-02T19:36:44.387Z"
   },
   {
    "duration": 205,
    "start_time": "2024-08-02T19:36:57.280Z"
   },
   {
    "duration": 4506,
    "start_time": "2024-08-02T19:37:03.968Z"
   },
   {
    "duration": 4384,
    "start_time": "2024-08-02T19:37:19.089Z"
   },
   {
    "duration": 13,
    "start_time": "2024-08-02T19:39:56.766Z"
   },
   {
    "duration": 5,
    "start_time": "2024-08-02T19:40:03.326Z"
   },
   {
    "duration": 27,
    "start_time": "2024-08-02T19:40:13.200Z"
   },
   {
    "duration": 28,
    "start_time": "2024-08-02T19:40:26.635Z"
   },
   {
    "duration": 30,
    "start_time": "2024-08-02T19:40:34.866Z"
   },
   {
    "duration": 6,
    "start_time": "2024-08-02T19:40:52.335Z"
   },
   {
    "duration": 29,
    "start_time": "2024-08-02T19:40:56.720Z"
   },
   {
    "duration": 7,
    "start_time": "2024-08-02T19:44:36.774Z"
   },
   {
    "duration": 28,
    "start_time": "2024-08-02T19:44:42.542Z"
   },
   {
    "duration": 8,
    "start_time": "2024-08-02T19:47:34.250Z"
   },
   {
    "duration": 33,
    "start_time": "2024-08-02T19:47:36.234Z"
   },
   {
    "duration": 1313,
    "start_time": "2024-08-02T19:47:51.245Z"
   },
   {
    "duration": 154,
    "start_time": "2024-08-02T19:47:52.562Z"
   },
   {
    "duration": 29,
    "start_time": "2024-08-02T19:47:52.719Z"
   },
   {
    "duration": 247,
    "start_time": "2024-08-02T19:47:52.752Z"
   },
   {
    "duration": 4537,
    "start_time": "2024-08-02T19:47:53.002Z"
   },
   {
    "duration": 14,
    "start_time": "2024-08-02T19:47:57.542Z"
   },
   {
    "duration": 69,
    "start_time": "2024-08-02T19:47:57.559Z"
   },
   {
    "duration": 88,
    "start_time": "2024-08-02T19:47:57.632Z"
   },
   {
    "duration": 542,
    "start_time": "2024-08-02T19:47:57.723Z"
   },
   {
    "duration": 384,
    "start_time": "2024-08-02T19:47:58.271Z"
   },
   {
    "duration": 323,
    "start_time": "2024-08-02T19:47:58.658Z"
   },
   {
    "duration": 571,
    "start_time": "2024-08-02T19:47:58.984Z"
   },
   {
    "duration": 12,
    "start_time": "2024-08-02T19:47:59.559Z"
   },
   {
    "duration": 849,
    "start_time": "2024-08-02T19:47:59.574Z"
   },
   {
    "duration": 550,
    "start_time": "2024-08-02T19:48:00.426Z"
   },
   {
    "duration": 549,
    "start_time": "2024-08-02T19:48:00.980Z"
   },
   {
    "duration": 542,
    "start_time": "2024-08-02T19:48:01.532Z"
   },
   {
    "duration": 347,
    "start_time": "2024-08-02T19:48:02.077Z"
   },
   {
    "duration": 254,
    "start_time": "2024-08-02T19:48:02.427Z"
   },
   {
    "duration": 251,
    "start_time": "2024-08-02T19:48:02.685Z"
   },
   {
    "duration": 250,
    "start_time": "2024-08-02T19:48:02.940Z"
   },
   {
    "duration": 243,
    "start_time": "2024-08-02T19:48:03.194Z"
   },
   {
    "duration": 252,
    "start_time": "2024-08-02T19:48:03.441Z"
   },
   {
    "duration": 253,
    "start_time": "2024-08-02T19:48:03.696Z"
   },
   {
    "duration": 282,
    "start_time": "2024-08-02T19:48:03.953Z"
   },
   {
    "duration": 288,
    "start_time": "2024-08-02T19:48:04.238Z"
   },
   {
    "duration": 378,
    "start_time": "2024-08-02T19:48:04.530Z"
   },
   {
    "duration": 13,
    "start_time": "2024-08-02T19:48:04.915Z"
   },
   {
    "duration": 15,
    "start_time": "2024-08-02T19:48:04.931Z"
   },
   {
    "duration": 30,
    "start_time": "2024-08-02T19:53:50.538Z"
   },
   {
    "duration": 7,
    "start_time": "2024-08-02T19:54:09.653Z"
   },
   {
    "duration": 1316,
    "start_time": "2024-08-02T19:55:33.540Z"
   },
   {
    "duration": 154,
    "start_time": "2024-08-02T19:55:34.860Z"
   },
   {
    "duration": 29,
    "start_time": "2024-08-02T19:55:35.018Z"
   },
   {
    "duration": 231,
    "start_time": "2024-08-02T19:55:35.052Z"
   },
   {
    "duration": 4472,
    "start_time": "2024-08-02T19:55:35.287Z"
   },
   {
    "duration": 38,
    "start_time": "2024-08-02T19:55:39.763Z"
   },
   {
    "duration": 31,
    "start_time": "2024-08-02T19:55:39.805Z"
   },
   {
    "duration": 89,
    "start_time": "2024-08-02T19:55:39.839Z"
   },
   {
    "duration": 554,
    "start_time": "2024-08-02T19:55:39.931Z"
   },
   {
    "duration": 405,
    "start_time": "2024-08-02T19:55:40.490Z"
   },
   {
    "duration": 320,
    "start_time": "2024-08-02T19:55:40.897Z"
   },
   {
    "duration": 553,
    "start_time": "2024-08-02T19:55:41.220Z"
   },
   {
    "duration": 24,
    "start_time": "2024-08-02T19:55:41.777Z"
   },
   {
    "duration": 844,
    "start_time": "2024-08-02T19:55:41.805Z"
   },
   {
    "duration": 555,
    "start_time": "2024-08-02T19:55:42.652Z"
   },
   {
    "duration": 533,
    "start_time": "2024-08-02T19:55:43.210Z"
   },
   {
    "duration": 563,
    "start_time": "2024-08-02T19:55:43.746Z"
   },
   {
    "duration": 317,
    "start_time": "2024-08-02T19:55:44.314Z"
   },
   {
    "duration": 249,
    "start_time": "2024-08-02T19:55:44.634Z"
   },
   {
    "duration": 250,
    "start_time": "2024-08-02T19:55:44.888Z"
   },
   {
    "duration": 262,
    "start_time": "2024-08-02T19:55:45.140Z"
   },
   {
    "duration": 244,
    "start_time": "2024-08-02T19:55:45.406Z"
   },
   {
    "duration": 248,
    "start_time": "2024-08-02T19:55:45.654Z"
   },
   {
    "duration": 280,
    "start_time": "2024-08-02T19:55:45.906Z"
   },
   {
    "duration": 304,
    "start_time": "2024-08-02T19:55:46.189Z"
   },
   {
    "duration": 309,
    "start_time": "2024-08-02T19:55:46.496Z"
   },
   {
    "duration": 385,
    "start_time": "2024-08-02T19:55:46.808Z"
   },
   {
    "duration": 14,
    "start_time": "2024-08-02T19:55:47.206Z"
   },
   {
    "duration": 15,
    "start_time": "2024-08-02T19:55:47.223Z"
   },
   {
    "duration": 40,
    "start_time": "2024-08-02T20:12:37.346Z"
   },
   {
    "duration": 1585,
    "start_time": "2024-08-02T20:13:06.587Z"
   },
   {
    "duration": 180,
    "start_time": "2024-08-02T20:13:08.177Z"
   },
   {
    "duration": 65,
    "start_time": "2024-08-02T20:13:08.360Z"
   },
   {
    "duration": 277,
    "start_time": "2024-08-02T20:13:08.430Z"
   },
   {
    "duration": 4708,
    "start_time": "2024-08-02T20:13:08.711Z"
   },
   {
    "duration": 86,
    "start_time": "2024-08-02T20:13:13.423Z"
   },
   {
    "duration": 91,
    "start_time": "2024-08-02T20:13:13.513Z"
   },
   {
    "duration": 563,
    "start_time": "2024-08-02T20:13:13.608Z"
   },
   {
    "duration": 445,
    "start_time": "2024-08-02T20:13:14.175Z"
   },
   {
    "duration": 357,
    "start_time": "2024-08-02T20:13:14.628Z"
   },
   {
    "duration": 622,
    "start_time": "2024-08-02T20:13:14.989Z"
   },
   {
    "duration": 14,
    "start_time": "2024-08-02T20:13:15.615Z"
   },
   {
    "duration": 1082,
    "start_time": "2024-08-02T20:13:15.633Z"
   },
   {
    "duration": 703,
    "start_time": "2024-08-02T20:13:16.718Z"
   },
   {
    "duration": 669,
    "start_time": "2024-08-02T20:13:17.425Z"
   },
   {
    "duration": 645,
    "start_time": "2024-08-02T20:13:18.104Z"
   },
   {
    "duration": 367,
    "start_time": "2024-08-02T20:13:18.753Z"
   },
   {
    "duration": 277,
    "start_time": "2024-08-02T20:13:19.124Z"
   },
   {
    "duration": 267,
    "start_time": "2024-08-02T20:13:19.407Z"
   },
   {
    "duration": 282,
    "start_time": "2024-08-02T20:13:19.681Z"
   },
   {
    "duration": 278,
    "start_time": "2024-08-02T20:13:19.966Z"
   },
   {
    "duration": 267,
    "start_time": "2024-08-02T20:13:20.247Z"
   },
   {
    "duration": 279,
    "start_time": "2024-08-02T20:13:20.518Z"
   },
   {
    "duration": 298,
    "start_time": "2024-08-02T20:13:20.803Z"
   },
   {
    "duration": 331,
    "start_time": "2024-08-02T20:13:21.107Z"
   },
   {
    "duration": 456,
    "start_time": "2024-08-02T20:13:21.441Z"
   },
   {
    "duration": 19,
    "start_time": "2024-08-02T20:13:21.903Z"
   },
   {
    "duration": 15,
    "start_time": "2024-08-02T20:13:21.930Z"
   },
   {
    "duration": 531,
    "start_time": "2024-08-02T22:06:21.667Z"
   },
   {
    "duration": 1317,
    "start_time": "2024-08-02T22:07:29.053Z"
   },
   {
    "duration": 160,
    "start_time": "2024-08-02T22:07:30.373Z"
   },
   {
    "duration": 30,
    "start_time": "2024-08-02T22:07:30.537Z"
   },
   {
    "duration": 233,
    "start_time": "2024-08-02T22:07:30.571Z"
   },
   {
    "duration": 4466,
    "start_time": "2024-08-02T22:07:30.807Z"
   },
   {
    "duration": 55,
    "start_time": "2024-08-02T22:07:35.277Z"
   },
   {
    "duration": 76,
    "start_time": "2024-08-02T22:07:35.337Z"
   },
   {
    "duration": 568,
    "start_time": "2024-08-02T22:07:35.416Z"
   },
   {
    "duration": 403,
    "start_time": "2024-08-02T22:07:35.987Z"
   },
   {
    "duration": 349,
    "start_time": "2024-08-02T22:07:36.395Z"
   },
   {
    "duration": 590,
    "start_time": "2024-08-02T22:07:36.747Z"
   },
   {
    "duration": 11,
    "start_time": "2024-08-02T22:07:37.340Z"
   },
   {
    "duration": 861,
    "start_time": "2024-08-02T22:07:37.354Z"
   },
   {
    "duration": 552,
    "start_time": "2024-08-02T22:07:38.222Z"
   },
   {
    "duration": 575,
    "start_time": "2024-08-02T22:07:38.777Z"
   },
   {
    "duration": 558,
    "start_time": "2024-08-02T22:07:39.356Z"
   },
   {
    "duration": 336,
    "start_time": "2024-08-02T22:07:39.917Z"
   },
   {
    "duration": 249,
    "start_time": "2024-08-02T22:07:40.255Z"
   },
   {
    "duration": 246,
    "start_time": "2024-08-02T22:07:40.507Z"
   },
   {
    "duration": 253,
    "start_time": "2024-08-02T22:07:40.757Z"
   },
   {
    "duration": 251,
    "start_time": "2024-08-02T22:07:41.013Z"
   },
   {
    "duration": 246,
    "start_time": "2024-08-02T22:07:41.267Z"
   },
   {
    "duration": 249,
    "start_time": "2024-08-02T22:07:41.516Z"
   },
   {
    "duration": 271,
    "start_time": "2024-08-02T22:07:41.769Z"
   },
   {
    "duration": 290,
    "start_time": "2024-08-02T22:07:42.043Z"
   },
   {
    "duration": 390,
    "start_time": "2024-08-02T22:07:42.337Z"
   },
   {
    "duration": 14,
    "start_time": "2024-08-02T22:07:42.731Z"
   },
   {
    "duration": 14,
    "start_time": "2024-08-02T22:07:42.752Z"
   },
   {
    "duration": 29,
    "start_time": "2024-08-02T22:08:53.953Z"
   },
   {
    "duration": 519,
    "start_time": "2024-08-02T22:11:29.793Z"
   },
   {
    "duration": 36,
    "start_time": "2024-08-02T22:11:46.896Z"
   },
   {
    "duration": 509,
    "start_time": "2024-08-02T22:11:59.985Z"
   },
   {
    "duration": 9,
    "start_time": "2024-08-02T22:58:35.546Z"
   },
   {
    "duration": 12,
    "start_time": "2024-08-02T22:59:08.206Z"
   },
   {
    "duration": 547,
    "start_time": "2024-08-02T22:59:17.015Z"
   },
   {
    "duration": 430,
    "start_time": "2024-08-02T23:03:36.777Z"
   },
   {
    "duration": 771,
    "start_time": "2024-08-02T23:04:12.511Z"
   },
   {
    "duration": 3615,
    "start_time": "2024-08-02T23:26:21.451Z"
   },
   {
    "duration": 1383,
    "start_time": "2024-08-02T23:26:53.782Z"
   },
   {
    "duration": 159,
    "start_time": "2024-08-02T23:26:55.169Z"
   },
   {
    "duration": 80,
    "start_time": "2024-08-02T23:26:55.331Z"
   },
   {
    "duration": 238,
    "start_time": "2024-08-02T23:26:55.414Z"
   },
   {
    "duration": 4611,
    "start_time": "2024-08-02T23:26:55.655Z"
   },
   {
    "duration": 64,
    "start_time": "2024-08-02T23:27:00.269Z"
   },
   {
    "duration": 82,
    "start_time": "2024-08-02T23:27:00.337Z"
   },
   {
    "duration": 534,
    "start_time": "2024-08-02T23:27:00.422Z"
   },
   {
    "duration": 395,
    "start_time": "2024-08-02T23:27:00.959Z"
   },
   {
    "duration": 337,
    "start_time": "2024-08-02T23:27:01.361Z"
   },
   {
    "duration": 527,
    "start_time": "2024-08-02T23:27:01.701Z"
   },
   {
    "duration": 416,
    "start_time": "2024-08-02T23:27:02.231Z"
   },
   {
    "duration": 0,
    "start_time": "2024-08-02T23:27:02.650Z"
   },
   {
    "duration": 0,
    "start_time": "2024-08-02T23:27:02.652Z"
   },
   {
    "duration": 0,
    "start_time": "2024-08-02T23:27:02.655Z"
   },
   {
    "duration": 0,
    "start_time": "2024-08-02T23:27:02.658Z"
   },
   {
    "duration": 0,
    "start_time": "2024-08-02T23:27:02.660Z"
   },
   {
    "duration": 0,
    "start_time": "2024-08-02T23:27:02.663Z"
   },
   {
    "duration": 0,
    "start_time": "2024-08-02T23:27:02.667Z"
   },
   {
    "duration": 0,
    "start_time": "2024-08-02T23:27:02.701Z"
   },
   {
    "duration": 0,
    "start_time": "2024-08-02T23:27:02.704Z"
   },
   {
    "duration": 0,
    "start_time": "2024-08-02T23:27:02.706Z"
   },
   {
    "duration": 0,
    "start_time": "2024-08-02T23:27:02.708Z"
   },
   {
    "duration": 0,
    "start_time": "2024-08-02T23:27:02.710Z"
   },
   {
    "duration": 0,
    "start_time": "2024-08-02T23:27:02.713Z"
   },
   {
    "duration": 0,
    "start_time": "2024-08-02T23:27:02.714Z"
   },
   {
    "duration": 0,
    "start_time": "2024-08-02T23:27:02.717Z"
   },
   {
    "duration": 0,
    "start_time": "2024-08-02T23:27:02.719Z"
   },
   {
    "duration": 0,
    "start_time": "2024-08-02T23:27:02.721Z"
   },
   {
    "duration": 25,
    "start_time": "2024-08-02T23:29:45.611Z"
   },
   {
    "duration": 6,
    "start_time": "2024-08-05T16:01:42.292Z"
   },
   {
    "duration": 855,
    "start_time": "2024-08-05T16:01:48.194Z"
   },
   {
    "duration": 1385,
    "start_time": "2024-08-05T16:02:08.191Z"
   },
   {
    "duration": 157,
    "start_time": "2024-08-05T16:02:09.580Z"
   },
   {
    "duration": 32,
    "start_time": "2024-08-05T16:02:09.742Z"
   },
   {
    "duration": 221,
    "start_time": "2024-08-05T16:02:09.805Z"
   },
   {
    "duration": 4332,
    "start_time": "2024-08-05T16:02:10.030Z"
   },
   {
    "duration": 65,
    "start_time": "2024-08-05T16:02:14.365Z"
   },
   {
    "duration": 90,
    "start_time": "2024-08-05T16:02:14.432Z"
   },
   {
    "duration": 549,
    "start_time": "2024-08-05T16:02:14.526Z"
   },
   {
    "duration": 413,
    "start_time": "2024-08-05T16:02:15.078Z"
   },
   {
    "duration": 341,
    "start_time": "2024-08-05T16:02:15.501Z"
   },
   {
    "duration": 546,
    "start_time": "2024-08-05T16:02:15.845Z"
   },
   {
    "duration": 10,
    "start_time": "2024-08-05T16:02:16.395Z"
   },
   {
    "duration": 872,
    "start_time": "2024-08-05T16:02:16.411Z"
   },
   {
    "duration": 482,
    "start_time": "2024-08-05T16:02:17.286Z"
   },
   {
    "duration": 703,
    "start_time": "2024-08-05T16:02:17.771Z"
   },
   {
    "duration": 569,
    "start_time": "2024-08-05T16:02:18.477Z"
   },
   {
    "duration": 391,
    "start_time": "2024-08-05T16:02:19.050Z"
   },
   {
    "duration": 279,
    "start_time": "2024-08-05T16:02:19.445Z"
   },
   {
    "duration": 278,
    "start_time": "2024-08-05T16:02:19.728Z"
   },
   {
    "duration": 280,
    "start_time": "2024-08-05T16:02:20.010Z"
   },
   {
    "duration": 282,
    "start_time": "2024-08-05T16:02:20.301Z"
   },
   {
    "duration": 286,
    "start_time": "2024-08-05T16:02:20.586Z"
   },
   {
    "duration": 288,
    "start_time": "2024-08-05T16:02:20.875Z"
   },
   {
    "duration": 310,
    "start_time": "2024-08-05T16:02:21.166Z"
   },
   {
    "duration": 312,
    "start_time": "2024-08-05T16:02:21.479Z"
   },
   {
    "duration": 326,
    "start_time": "2024-08-05T16:02:21.801Z"
   },
   {
    "duration": 14,
    "start_time": "2024-08-05T16:02:22.130Z"
   },
   {
    "duration": 17,
    "start_time": "2024-08-05T16:02:22.151Z"
   },
   {
    "duration": 976,
    "start_time": "2024-08-05T17:41:16.382Z"
   },
   {
    "duration": 843,
    "start_time": "2024-08-05T17:41:31.264Z"
   },
   {
    "duration": 839,
    "start_time": "2024-08-05T20:38:23.920Z"
   },
   {
    "duration": 840,
    "start_time": "2024-08-05T20:38:38.838Z"
   },
   {
    "duration": 5062,
    "start_time": "2024-08-07T16:35:17.533Z"
   },
   {
    "duration": 146,
    "start_time": "2024-08-07T16:35:22.599Z"
   },
   {
    "duration": 54,
    "start_time": "2024-08-07T16:35:22.748Z"
   },
   {
    "duration": 224,
    "start_time": "2024-08-07T16:35:22.807Z"
   },
   {
    "duration": 4529,
    "start_time": "2024-08-07T16:35:23.035Z"
   },
   {
    "duration": 74,
    "start_time": "2024-08-07T16:35:27.569Z"
   },
   {
    "duration": 85,
    "start_time": "2024-08-07T16:35:27.649Z"
   },
   {
    "duration": 590,
    "start_time": "2024-08-07T16:35:27.740Z"
   },
   {
    "duration": 969,
    "start_time": "2024-08-07T16:35:28.333Z"
   },
   {
    "duration": 507,
    "start_time": "2024-08-07T16:35:29.310Z"
   },
   {
    "duration": 803,
    "start_time": "2024-08-07T16:35:29.820Z"
   },
   {
    "duration": 512,
    "start_time": "2024-08-07T16:35:30.627Z"
   },
   {
    "duration": 407,
    "start_time": "2024-08-07T16:35:31.143Z"
   },
   {
    "duration": 273,
    "start_time": "2024-08-07T16:35:31.554Z"
   },
   {
    "duration": 291,
    "start_time": "2024-08-07T16:35:31.830Z"
   },
   {
    "duration": 274,
    "start_time": "2024-08-07T16:35:32.124Z"
   },
   {
    "duration": 304,
    "start_time": "2024-08-07T16:35:32.403Z"
   },
   {
    "duration": 299,
    "start_time": "2024-08-07T16:35:32.709Z"
   },
   {
    "duration": 384,
    "start_time": "2024-08-07T16:35:33.012Z"
   },
   {
    "duration": 461,
    "start_time": "2024-08-07T16:35:33.403Z"
   },
   {
    "duration": 363,
    "start_time": "2024-08-07T16:35:33.868Z"
   },
   {
    "duration": 356,
    "start_time": "2024-08-07T16:35:34.234Z"
   },
   {
    "duration": 14,
    "start_time": "2024-08-07T16:35:34.601Z"
   },
   {
    "duration": 14,
    "start_time": "2024-08-07T16:35:34.619Z"
   },
   {
    "duration": 1369,
    "start_time": "2024-08-08T17:20:54.301Z"
   },
   {
    "duration": 159,
    "start_time": "2024-08-08T17:20:55.673Z"
   },
   {
    "duration": 30,
    "start_time": "2024-08-08T17:20:55.835Z"
   },
   {
    "duration": 254,
    "start_time": "2024-08-08T17:20:55.869Z"
   },
   {
    "duration": 4256,
    "start_time": "2024-08-08T17:20:56.127Z"
   },
   {
    "duration": 49,
    "start_time": "2024-08-08T17:21:00.386Z"
   },
   {
    "duration": 83,
    "start_time": "2024-08-08T17:21:00.438Z"
   },
   {
    "duration": 577,
    "start_time": "2024-08-08T17:21:00.524Z"
   },
   {
    "duration": 911,
    "start_time": "2024-08-08T17:21:01.105Z"
   },
   {
    "duration": 467,
    "start_time": "2024-08-08T17:21:02.022Z"
   },
   {
    "duration": 676,
    "start_time": "2024-08-08T17:21:02.493Z"
   },
   {
    "duration": 469,
    "start_time": "2024-08-08T17:21:03.172Z"
   },
   {
    "duration": 391,
    "start_time": "2024-08-08T17:21:03.645Z"
   },
   {
    "duration": 274,
    "start_time": "2024-08-08T17:21:04.040Z"
   },
   {
    "duration": 273,
    "start_time": "2024-08-08T17:21:04.317Z"
   },
   {
    "duration": 377,
    "start_time": "2024-08-08T17:21:04.602Z"
   },
   {
    "duration": 287,
    "start_time": "2024-08-08T17:21:04.983Z"
   },
   {
    "duration": 265,
    "start_time": "2024-08-08T17:21:05.274Z"
   },
   {
    "duration": 277,
    "start_time": "2024-08-08T17:21:05.543Z"
   },
   {
    "duration": 337,
    "start_time": "2024-08-08T17:21:05.824Z"
   },
   {
    "duration": 340,
    "start_time": "2024-08-08T17:21:06.165Z"
   },
   {
    "duration": 348,
    "start_time": "2024-08-08T17:21:06.510Z"
   },
   {
    "duration": 16,
    "start_time": "2024-08-08T17:21:06.861Z"
   },
   {
    "duration": 38,
    "start_time": "2024-08-08T17:21:06.880Z"
   },
   {
    "duration": 146,
    "start_time": "2024-08-08T17:25:34.213Z"
   },
   {
    "duration": 27,
    "start_time": "2024-08-08T17:26:29.446Z"
   },
   {
    "duration": 24,
    "start_time": "2024-08-08T17:30:06.449Z"
   },
   {
    "duration": 79,
    "start_time": "2024-08-08T17:37:32.645Z"
   },
   {
    "duration": 49,
    "start_time": "2024-08-08T17:39:49.688Z"
   },
   {
    "duration": 1365,
    "start_time": "2024-08-08T17:39:57.603Z"
   },
   {
    "duration": 176,
    "start_time": "2024-08-08T17:39:58.972Z"
   },
   {
    "duration": 51,
    "start_time": "2024-08-08T17:39:59.151Z"
   },
   {
    "duration": 98,
    "start_time": "2024-08-08T17:39:59.205Z"
   },
   {
    "duration": 23,
    "start_time": "2024-08-08T17:39:59.308Z"
   },
   {
    "duration": 5938,
    "start_time": "2024-08-08T17:39:59.335Z"
   },
   {
    "duration": 46,
    "start_time": "2024-08-08T17:40:05.277Z"
   },
   {
    "duration": 86,
    "start_time": "2024-08-08T17:40:05.326Z"
   },
   {
    "duration": 580,
    "start_time": "2024-08-08T17:40:05.416Z"
   },
   {
    "duration": 941,
    "start_time": "2024-08-08T17:40:06.003Z"
   },
   {
    "duration": 476,
    "start_time": "2024-08-08T17:40:06.947Z"
   },
   {
    "duration": 677,
    "start_time": "2024-08-08T17:40:07.426Z"
   },
   {
    "duration": 501,
    "start_time": "2024-08-08T17:40:08.106Z"
   },
   {
    "duration": 398,
    "start_time": "2024-08-08T17:40:08.613Z"
   },
   {
    "duration": 288,
    "start_time": "2024-08-08T17:40:09.014Z"
   },
   {
    "duration": 265,
    "start_time": "2024-08-08T17:40:09.305Z"
   },
   {
    "duration": 357,
    "start_time": "2024-08-08T17:40:09.573Z"
   },
   {
    "duration": 291,
    "start_time": "2024-08-08T17:40:09.934Z"
   },
   {
    "duration": 279,
    "start_time": "2024-08-08T17:40:10.228Z"
   },
   {
    "duration": 276,
    "start_time": "2024-08-08T17:40:10.510Z"
   },
   {
    "duration": 315,
    "start_time": "2024-08-08T17:40:10.789Z"
   },
   {
    "duration": 317,
    "start_time": "2024-08-08T17:40:11.108Z"
   },
   {
    "duration": 318,
    "start_time": "2024-08-08T17:40:11.428Z"
   },
   {
    "duration": 13,
    "start_time": "2024-08-08T17:40:11.750Z"
   },
   {
    "duration": 38,
    "start_time": "2024-08-08T17:40:11.767Z"
   },
   {
    "duration": 833,
    "start_time": "2024-08-08T17:45:06.872Z"
   },
   {
    "duration": 469,
    "start_time": "2024-08-08T17:45:40.520Z"
   },
   {
    "duration": 757,
    "start_time": "2024-08-08T17:46:42.653Z"
   },
   {
    "duration": 463,
    "start_time": "2024-08-08T17:47:29.109Z"
   },
   {
    "duration": 360,
    "start_time": "2024-08-08T17:48:22.254Z"
   },
   {
    "duration": 559,
    "start_time": "2024-08-08T17:54:19.333Z"
   },
   {
    "duration": 519,
    "start_time": "2024-08-08T17:54:36.853Z"
   },
   {
    "duration": 302,
    "start_time": "2024-08-08T17:55:54.715Z"
   },
   {
    "duration": 315,
    "start_time": "2024-08-08T17:56:08.815Z"
   },
   {
    "duration": 409,
    "start_time": "2024-08-08T17:56:16.377Z"
   },
   {
    "duration": 1386,
    "start_time": "2024-08-08T19:23:50.981Z"
   },
   {
    "duration": 188,
    "start_time": "2024-08-08T19:23:52.371Z"
   },
   {
    "duration": 58,
    "start_time": "2024-08-08T19:23:52.564Z"
   },
   {
    "duration": 104,
    "start_time": "2024-08-08T19:23:52.626Z"
   },
   {
    "duration": 697,
    "start_time": "2024-08-08T19:23:52.733Z"
   },
   {
    "duration": 945,
    "start_time": "2024-08-08T19:23:53.433Z"
   },
   {
    "duration": 501,
    "start_time": "2024-08-08T19:23:54.382Z"
   },
   {
    "duration": 697,
    "start_time": "2024-08-08T19:23:54.887Z"
   },
   {
    "duration": 524,
    "start_time": "2024-08-08T19:23:55.587Z"
   },
   {
    "duration": 436,
    "start_time": "2024-08-08T19:23:56.117Z"
   },
   {
    "duration": 540,
    "start_time": "2024-08-08T19:23:56.556Z"
   },
   {
    "duration": 622,
    "start_time": "2024-08-08T19:23:57.103Z"
   },
   {
    "duration": 564,
    "start_time": "2024-08-08T19:23:57.728Z"
   },
   {
    "duration": 304,
    "start_time": "2024-08-08T19:23:58.303Z"
   },
   {
    "duration": 330,
    "start_time": "2024-08-08T19:23:58.611Z"
   },
   {
    "duration": 325,
    "start_time": "2024-08-08T19:23:58.944Z"
   },
   {
    "duration": 31,
    "start_time": "2024-08-08T19:23:59.272Z"
   },
   {
    "duration": 16,
    "start_time": "2024-08-08T19:23:59.306Z"
   },
   {
    "duration": 1226,
    "start_time": "2024-08-08T20:32:06.371Z"
   },
   {
    "duration": 177,
    "start_time": "2024-08-08T20:32:07.601Z"
   },
   {
    "duration": 24,
    "start_time": "2024-08-08T20:32:07.781Z"
   },
   {
    "duration": 68,
    "start_time": "2024-08-08T20:32:07.834Z"
   },
   {
    "duration": 691,
    "start_time": "2024-08-08T20:32:07.906Z"
   },
   {
    "duration": 892,
    "start_time": "2024-08-08T20:32:08.599Z"
   },
   {
    "duration": 482,
    "start_time": "2024-08-08T20:32:09.494Z"
   },
   {
    "duration": 655,
    "start_time": "2024-08-08T20:32:09.979Z"
   },
   {
    "duration": 480,
    "start_time": "2024-08-08T20:32:10.637Z"
   },
   {
    "duration": 377,
    "start_time": "2024-08-08T20:32:11.119Z"
   },
   {
    "duration": 544,
    "start_time": "2024-08-08T20:32:11.500Z"
   },
   {
    "duration": 594,
    "start_time": "2024-08-08T20:32:12.047Z"
   },
   {
    "duration": 534,
    "start_time": "2024-08-08T20:32:12.643Z"
   },
   {
    "duration": 304,
    "start_time": "2024-08-08T20:32:13.183Z"
   },
   {
    "duration": 334,
    "start_time": "2024-08-08T20:32:13.491Z"
   },
   {
    "duration": 316,
    "start_time": "2024-08-08T20:32:13.833Z"
   },
   {
    "duration": 14,
    "start_time": "2024-08-08T20:32:14.151Z"
   },
   {
    "duration": 14,
    "start_time": "2024-08-08T20:32:14.168Z"
   }
  ],
  "kernelspec": {
   "display_name": "Python 3 (ipykernel)",
   "language": "python",
   "name": "python3"
  },
  "language_info": {
   "codemirror_mode": {
    "name": "ipython",
    "version": 3
   },
   "file_extension": ".py",
   "mimetype": "text/x-python",
   "name": "python",
   "nbconvert_exporter": "python",
   "pygments_lexer": "ipython3",
   "version": "3.9.19"
  },
  "toc": {
   "base_numbering": 1,
   "nav_menu": {},
   "number_sections": true,
   "sideBar": true,
   "skip_h1_title": true,
   "title_cell": "Table of Contents",
   "title_sidebar": "Contents",
   "toc_cell": false,
   "toc_position": {
    "height": "calc(100% - 180px)",
    "left": "10px",
    "top": "150px",
    "width": "552.141px"
   },
   "toc_section_display": true,
   "toc_window_display": false
  }
 },
 "nbformat": 4,
 "nbformat_minor": 2
}
